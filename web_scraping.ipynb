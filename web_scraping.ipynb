{
 "cells": [
  {
   "cell_type": "code",
   "execution_count": 236,
   "metadata": {
    "ExecuteTime": {
     "end_time": "2021-10-08T20:08:04.909272Z",
     "start_time": "2021-10-08T20:07:54.791535Z"
    }
   },
   "outputs": [
    {
     "name": "stdout",
     "output_type": "stream",
     "text": [
      "Collecting selenium\n",
      "\u001b[?25l  Downloading https://files.pythonhosted.org/packages/80/d6/4294f0b4bce4de0abf13e17190289f9d0613b0a44e5dd6a7f5ca98459853/selenium-3.141.0-py2.py3-none-any.whl (904kB)\n",
      "\u001b[K     |████████████████████████████████| 911kB 209kB/s eta 0:00:01\n",
      "\u001b[?25hRequirement already satisfied, skipping upgrade: urllib3 in /opt/anaconda3/lib/python3.7/site-packages (from selenium) (1.24.2)\n",
      "Installing collected packages: selenium\n",
      "Successfully installed selenium-3.141.0\n"
     ]
    }
   ],
   "source": [
    "!pip install -U selenium"
   ]
  },
  {
   "cell_type": "code",
   "execution_count": 280,
   "metadata": {
    "ExecuteTime": {
     "end_time": "2021-10-08T21:07:56.920519Z",
     "start_time": "2021-10-08T21:07:56.020719Z"
    }
   },
   "outputs": [],
   "source": [
    "from bs4 import BeautifulSoup\n",
    "import requests\n",
    "import re\n",
    "from datetime import datetime\n",
    "import pickle\n",
    "from selenium import webdriver\n",
    "import pandas as pd"
   ]
  },
  {
   "cell_type": "code",
   "execution_count": 151,
   "metadata": {
    "ExecuteTime": {
     "end_time": "2021-10-07T06:40:03.973408Z",
     "start_time": "2021-10-07T06:39:58.764714Z"
    }
   },
   "outputs": [],
   "source": [
    "response = requests.get(\"https://www.goodreads.com/book/show/54226795-mine\")"
   ]
  },
  {
   "cell_type": "code",
   "execution_count": 152,
   "metadata": {
    "ExecuteTime": {
     "end_time": "2021-10-07T06:40:04.069487Z",
     "start_time": "2021-10-07T06:40:03.975894Z"
    }
   },
   "outputs": [],
   "source": [
    "soup = BeautifulSoup(response.text, \"lxml\")"
   ]
  },
  {
   "cell_type": "code",
   "execution_count": 186,
   "metadata": {
    "ExecuteTime": {
     "end_time": "2021-10-07T17:57:34.595247Z",
     "start_time": "2021-10-07T17:57:34.587709Z"
    }
   },
   "outputs": [],
   "source": [
    "def find_publisher(publishing_info):\n",
    "    for info in publishing_info:\n",
    "        try:\n",
    "            index = info.index(\"by\")\n",
    "            return info[index+3:].strip()\n",
    "        except:\n",
    "            continue\n",
    "            \n",
    "\n",
    "def find_publishing_year(publishing_info):\n",
    "    years = set()\n",
    "    for info in publishing_info:\n",
    "        years = years.union({int(x) for x in re.findall(r\"[1-2][0-9]{3}\", info)})\n",
    "        \n",
    "    return min(years)\n",
    "\n",
    "def get_book_list(url):\n",
    "    soup = BeautifulSoup(requests.get(url).text, \"lxml\")\n",
    "    book_list = []\n",
    "    pages_count = int(soup.find(\"div\", class_=\"pagination\").find_all(\"a\")[-2].text)\n",
    "    for p in range(1, page_count+1):\n",
    "        soup = BeautifulSoup(requests.get(\"{}?page={}\".format(url, p)).text, \"lxml\")\n",
    "        book_list.extend([x[\"href\"] for x in soup.find_all(\"a\", class_=\"bookTitle\", href=True)])\n",
    "        \n",
    "    return book_list\n",
    "\n",
    "            \n"
   ]
  },
  {
   "cell_type": "code",
   "execution_count": 213,
   "metadata": {
    "ExecuteTime": {
     "end_time": "2021-10-08T15:11:30.031208Z",
     "start_time": "2021-10-08T15:11:30.029080Z"
    }
   },
   "outputs": [],
   "source": [
    "# classics1 = get_book_list(\"https://www.goodreads.com/list/show/2522.Cult_Classics\")\n",
    "# popular = get_book_list(\"https://www.goodreads.com/list/show/264.Books_That_Everyone_Should_Read_At_Least_Once\")\n",
    "# ya = get_book_list(\"https://www.goodreads.com/list/show/43.Best_Young_Adult_Books\")\n",
    "# best_century = get_book_list(\"https://www.goodreads.com/list/show/6.Best_Books_of_the_20th_Century\")\n",
    "# random1 = get_book_list(\"https://www.goodreads.com/list/show/1938.What_To_Read_Next\")\n",
    "# random2 = get_book_list(\"https://www.goodreads.com/list/show/2491.Must_Read_Books_Different_Genres\")\n",
    "# book_clubs = get_book_list(\"https://www.goodreads.com/list/show/19.Best_for_Book_Clubs\")\n",
    "# non_fiction1 = get_book_list(\"https://www.goodreads.com/list/show/134.Best_Non_Fiction_no_biographies_\")\n",
    "# non_fiction2 = get_book_list(\"https://www.goodreads.com/list/show/735.Must_Read_Non_Fiction\")\n",
    "# non_fiction3 = get_book_list(\"https://www.goodreads.com/list/show/21995.Best_21st_Century_Non_Fiction\")"
   ]
  },
  {
   "cell_type": "code",
   "execution_count": 196,
   "metadata": {
    "ExecuteTime": {
     "end_time": "2021-10-08T14:39:02.887022Z",
     "start_time": "2021-10-08T11:52:42.402754Z"
    }
   },
   "outputs": [],
   "source": [
    "# little_known = get_book_list(\"https://www.goodreads.com/list/show/25529.Best_Unknown_but_must_be_Known_books_\")\n",
    "# memoirs = get_book_list(\"https://www.goodreads.com/list/show/281.Best_Memoir_Biography_Autobiography\")\n",
    "# thriller = get_book_list(\"https://www.goodreads.com/list/show/164293.Thrillers_Must_Reads_\")\n",
    "# depressing = get_book_list(\"https://www.goodreads.com/list/show/1154.Most_Depressing_Book_of_All_Time\")\n",
    "# science = get_book_list(\"https://www.goodreads.com/list/show/692.Best_Science_Books_Non_Fiction_Only\")\n",
    "# feminist = get_book_list(\"https://www.goodreads.com/list/show/62.Best_Feminist_Books\")\n",
    "# philosophical = get_book_list(\"https://www.goodreads.com/list/show/453.Best_Philosophical_Literature\")\n",
    "# japanese = get_book_list(\"https://www.goodreads.com/list/show/32.Best_Japanese_Books\")\n",
    "# scifi_fantasy = get_book_list(\"https://www.goodreads.com/list/show/3.Best_Science_Fiction_Fantasy_Books\")\n",
    "# history = get_book_list(\"https://www.goodreads.com/list/show/1362.Best_History_Books_\")\n",
    "# historical_fiction = get_book_list(\"https://www.goodreads.com/list/show/15.Best_Historical_Fiction\")"
   ]
  },
  {
   "cell_type": "code",
   "execution_count": 201,
   "metadata": {
    "ExecuteTime": {
     "end_time": "2021-10-08T15:06:56.241613Z",
     "start_time": "2021-10-08T15:06:56.170162Z"
    }
   },
   "outputs": [],
   "source": [
    "# all_books = set(classics+popular+ya+best_century+random1+random2+book_clubs+non_fiction1+non_fiction2+non_fiction3+little_known+memoirs+thriller+depressing+science+feminist+philosophical+japanese+scifi_fantasy+history+historical_fiction)"
   ]
  },
  {
   "cell_type": "code",
   "execution_count": 203,
   "metadata": {
    "ExecuteTime": {
     "end_time": "2021-10-08T15:07:08.650675Z",
     "start_time": "2021-10-08T15:07:08.646779Z"
    }
   },
   "outputs": [
    {
     "data": {
      "text/plain": [
       "67384"
      ]
     },
     "execution_count": 203,
     "metadata": {},
     "output_type": "execute_result"
    }
   ],
   "source": [
    "# len(all_books)"
   ]
  },
  {
   "cell_type": "code",
   "execution_count": 208,
   "metadata": {
    "ExecuteTime": {
     "end_time": "2021-10-08T15:10:23.808220Z",
     "start_time": "2021-10-08T15:10:23.783729Z"
    }
   },
   "outputs": [],
   "source": [
    "# # Save into file, as they took forever to get..\n",
    "# with open('book_urls.txt','wb') as f:\n",
    "#    pickle.dump(all_books, f)"
   ]
  },
  {
   "cell_type": "code",
   "execution_count": 211,
   "metadata": {
    "ExecuteTime": {
     "end_time": "2021-10-08T15:11:13.570275Z",
     "start_time": "2021-10-08T15:11:13.544785Z"
    }
   },
   "outputs": [],
   "source": [
    "##To read it again from file\n",
    "with open('book_urls.txt','rb') as f:\n",
    "   all_books = pickle.load(f)"
   ]
  },
  {
   "cell_type": "code",
   "execution_count": 217,
   "metadata": {
    "ExecuteTime": {
     "end_time": "2021-10-08T19:09:48.166500Z",
     "start_time": "2021-10-08T19:09:48.162522Z"
    }
   },
   "outputs": [],
   "source": [
    "all_books = list(all_books)"
   ]
  },
  {
   "cell_type": "code",
   "execution_count": 219,
   "metadata": {
    "ExecuteTime": {
     "end_time": "2021-10-08T19:09:57.451926Z",
     "start_time": "2021-10-08T19:09:57.448535Z"
    }
   },
   "outputs": [
    {
     "data": {
      "text/plain": [
       "['/book/show/18301603-the-strange-maid',\n",
       " '/book/show/2573867-a-darker-domain',\n",
       " '/book/show/25111005-a-thousand-naked-strangers',\n",
       " '/book/show/13550547-looking-back-with-a-smile',\n",
       " '/book/show/20549001-bargain-paradise',\n",
       " '/book/show/2399930.Hester_Roon',\n",
       " '/book/show/22817757-the-trouble-with-playing-cupid',\n",
       " '/book/show/17155071-suicide-watch',\n",
       " '/book/show/966098.Paul_Lafargue_and_the_Founding_of_French_Marxism_1842_1882',\n",
       " '/book/show/25842727-i-ll-walk-alone']"
      ]
     },
     "execution_count": 219,
     "metadata": {},
     "output_type": "execute_result"
    }
   ],
   "source": [
    "all_books[:10]"
   ]
  },
  {
   "cell_type": "code",
   "execution_count": null,
   "metadata": {},
   "outputs": [],
   "source": [
    "title = soup.find(\"h1\", id=\"bookTitle\").text.strip()\n",
    "authors = [x.find(\"span\", itemprop=\"name\").text for x in soup.find_all(\"a\", class_=\"authorName\")]\n",
    "description = soup.find(\"div\", id=\"descriptionContainer\").text.strip()\n",
    "publishing_info = [x.strip() for x in soup.find(\"div\", id=\"details\").find_all(class_=\"row\")[1].text.split(\"\\n\") if len(x.strip()) != 0]\n",
    "publisher = find_publisher(publishing_info)\n",
    "publishing_year = find_publishing_year(publishing_info)\n",
    "genres = [tag.text for tag in soup.find_all(\"a\", class_=\"actionLinkLite bookPageGenreLink\")]\n",
    "page_count = int(re.sub(\"[^0-9]\", \"\", soup.find(\"span\", itemprop=\"numberOfPages\").text))"
   ]
  },
  {
   "cell_type": "code",
   "execution_count": 286,
   "metadata": {
    "ExecuteTime": {
     "end_time": "2021-10-09T16:33:02.129932Z",
     "start_time": "2021-10-09T08:51:47.360377Z"
    }
   },
   "outputs": [],
   "source": [
    "driver = webdriver.Safari()\n",
    "dic = {\"Title\": [], \"Author\": [], \"Description\": [], \"Publisher\": [], \"Year Published\": [], \"Genres\": [], \"Page Count\": []}\n",
    "\n",
    "for book in all_books[:10000]:\n",
    "    driver.get(\"https://www.goodreads.com\"+book)\n",
    "    soup = BeautifulSoup(driver.page_source, \"lxml\")\n",
    "    try:\n",
    "        dic[\"Title\"].append(soup.find(\"h1\", id=\"bookTitle\").text.strip())\n",
    "    except: \n",
    "        dic[\"Title\"].append(None)\n",
    "        \n",
    "    try:\n",
    "        dic[\"Author\"].append([x.find(\"span\", itemprop=\"name\").text for x in soup.find_all(\"a\", class_=\"authorName\")])\n",
    "    except:\n",
    "        dic[\"Author\"].append(None)\n",
    "        \n",
    "    try:\n",
    "        dic[\"Description\"].append(soup.find(\"div\", id=\"descriptionContainer\").text.strip())\n",
    "    except:\n",
    "        dic[\"Description\"].append(None)\n",
    "        \n",
    "    try:\n",
    "        publishing_info = [x.strip() for x in soup.find(\"div\", id=\"details\").find_all(class_=\"row\")[1].text.split(\"\\n\") if len(x.strip()) != 0]\n",
    "    except:\n",
    "        pass\n",
    "    \n",
    "    try:\n",
    "        dic[\"Publisher\"].append(find_publisher(publishing_info))\n",
    "    except:\n",
    "        dic[\"Publisher\"].append(None)\n",
    "        \n",
    "    try:\n",
    "        dic[\"Year Published\"].append(find_publishing_year(publishing_info))\n",
    "    except:\n",
    "        dic[\"Year Published\"].append(None)\n",
    "       \n",
    "    try:\n",
    "        dic[\"Genres\"].append([tag.text for tag in soup.find_all(\"a\", class_=\"actionLinkLite bookPageGenreLink\")])\n",
    "    except:\n",
    "        dic[\"Genres\"].append(None)\n",
    "        \n",
    "    try:\n",
    "        dic[\"Page Count\"].append(int(re.sub(\"[^0-9]\", \"\", soup.find(\"span\", itemprop=\"numberOfPages\").text)))\n",
    "    except:\n",
    "        dic[\"Page Count\"].append(None)\n",
    "\n"
   ]
  },
  {
   "cell_type": "code",
   "execution_count": 287,
   "metadata": {
    "ExecuteTime": {
     "end_time": "2021-10-09T19:08:30.312192Z",
     "start_time": "2021-10-09T19:08:30.274050Z"
    }
   },
   "outputs": [],
   "source": [
    "df = pd.DataFrame(dic)"
   ]
  },
  {
   "cell_type": "code",
   "execution_count": 288,
   "metadata": {
    "ExecuteTime": {
     "end_time": "2021-10-09T19:08:31.017411Z",
     "start_time": "2021-10-09T19:08:30.991473Z"
    }
   },
   "outputs": [
    {
     "data": {
      "text/html": [
       "<div>\n",
       "<style scoped>\n",
       "    .dataframe tbody tr th:only-of-type {\n",
       "        vertical-align: middle;\n",
       "    }\n",
       "\n",
       "    .dataframe tbody tr th {\n",
       "        vertical-align: top;\n",
       "    }\n",
       "\n",
       "    .dataframe thead th {\n",
       "        text-align: right;\n",
       "    }\n",
       "</style>\n",
       "<table border=\"1\" class=\"dataframe\">\n",
       "  <thead>\n",
       "    <tr style=\"text-align: right;\">\n",
       "      <th></th>\n",
       "      <th>Title</th>\n",
       "      <th>Author</th>\n",
       "      <th>Description</th>\n",
       "      <th>Publisher</th>\n",
       "      <th>Year Published</th>\n",
       "      <th>Genres</th>\n",
       "      <th>Page Count</th>\n",
       "    </tr>\n",
       "  </thead>\n",
       "  <tbody>\n",
       "    <tr>\n",
       "      <td>0</td>\n",
       "      <td>The Strange Maid</td>\n",
       "      <td>[Tessa Gratton]</td>\n",
       "      <td>Fans of Neil Gaiman, Holly Black, and Maggie S...</td>\n",
       "      <td>Random House Books for Young Readers</td>\n",
       "      <td>2014.0</td>\n",
       "      <td>[Fantasy, Young Adult, Fantasy, Mythology, Fic...</td>\n",
       "      <td>400.0</td>\n",
       "    </tr>\n",
       "    <tr>\n",
       "      <td>1</td>\n",
       "      <td>A Darker Domain</td>\n",
       "      <td>[Val McDermid]</td>\n",
       "      <td>1984, Fife. Heiress Catriona Maclennan Grant &amp;...</td>\n",
       "      <td>HarperCollins Publishers</td>\n",
       "      <td>2008.0</td>\n",
       "      <td>[Mystery, Mystery, Crime, Fiction, Cultural, S...</td>\n",
       "      <td>371.0</td>\n",
       "    </tr>\n",
       "    <tr>\n",
       "      <td>2</td>\n",
       "      <td>A Thousand Naked Strangers: A Paramedic's Wild...</td>\n",
       "      <td>[Kevin Hazzard]</td>\n",
       "      <td>A former paramedic’s visceral, poignant, and m...</td>\n",
       "      <td>Scribner</td>\n",
       "      <td>2016.0</td>\n",
       "      <td>[Nonfiction, Autobiography, Memoir, Medical, B...</td>\n",
       "      <td>261.0</td>\n",
       "    </tr>\n",
       "    <tr>\n",
       "      <td>3</td>\n",
       "      <td>Looking Back with a Smile</td>\n",
       "      <td>[Edward B. Farber]</td>\n",
       "      <td>In Looking Back with a Smile, the author recol...</td>\n",
       "      <td>None</td>\n",
       "      <td>2012.0</td>\n",
       "      <td>[]</td>\n",
       "      <td>NaN</td>\n",
       "    </tr>\n",
       "    <tr>\n",
       "      <td>4</td>\n",
       "      <td>Bargain Paradise</td>\n",
       "      <td>[Darlene Blasing]</td>\n",
       "      <td>Bargain Paradise is a humorous tale of an obse...</td>\n",
       "      <td>Argon Press</td>\n",
       "      <td>2013.0</td>\n",
       "      <td>[]</td>\n",
       "      <td>49.0</td>\n",
       "    </tr>\n",
       "    <tr>\n",
       "      <td>...</td>\n",
       "      <td>...</td>\n",
       "      <td>...</td>\n",
       "      <td>...</td>\n",
       "      <td>...</td>\n",
       "      <td>...</td>\n",
       "      <td>...</td>\n",
       "      <td>...</td>\n",
       "    </tr>\n",
       "    <tr>\n",
       "      <td>9995</td>\n",
       "      <td>Cast in Sorrow</td>\n",
       "      <td>[Michelle Sagara]</td>\n",
       "      <td>THE END OF HER JOURNEY IS ONLY THE BEGINNING.....</td>\n",
       "      <td>Harlequin Luna</td>\n",
       "      <td>2013.0</td>\n",
       "      <td>[Fantasy, Fantasy, Magic, Fantasy, Urban Fanta...</td>\n",
       "      <td>480.0</td>\n",
       "    </tr>\n",
       "    <tr>\n",
       "      <td>9996</td>\n",
       "      <td>End of the Civil War</td>\n",
       "      <td>[E.E. Doc Murdock]</td>\n",
       "      <td>The End of the Civil War is a fast-paced weste...</td>\n",
       "      <td>H.O.T. Press</td>\n",
       "      <td>2013.0</td>\n",
       "      <td>[Historical, Historical Fiction]</td>\n",
       "      <td>296.0</td>\n",
       "    </tr>\n",
       "    <tr>\n",
       "      <td>9997</td>\n",
       "      <td>The Intermediaries: Beat &amp; Case</td>\n",
       "      <td>[Taylor Dye]</td>\n",
       "      <td>Angels. Spirits. Superheroes. Gods. Whatever t...</td>\n",
       "      <td>Samanedna Publishers</td>\n",
       "      <td>2014.0</td>\n",
       "      <td>[]</td>\n",
       "      <td>338.0</td>\n",
       "    </tr>\n",
       "    <tr>\n",
       "      <td>9998</td>\n",
       "      <td>Life Among the Savages</td>\n",
       "      <td>[Shirley Jackson]</td>\n",
       "      <td>Shirley Jackson, author of the classic short s...</td>\n",
       "      <td>Penguin Group</td>\n",
       "      <td>1953.0</td>\n",
       "      <td>[Nonfiction, Autobiography, Memoir, Humor, Bio...</td>\n",
       "      <td>256.0</td>\n",
       "    </tr>\n",
       "    <tr>\n",
       "      <td>9999</td>\n",
       "      <td>Retribution</td>\n",
       "      <td>[Kelsey  Miller]</td>\n",
       "      <td>Not all Vampires drink blood...More cunning an...</td>\n",
       "      <td>Miller Publishing</td>\n",
       "      <td>2011.0</td>\n",
       "      <td>[Paranormal, Vampires, Shapeshifters, Werewolv...</td>\n",
       "      <td>324.0</td>\n",
       "    </tr>\n",
       "  </tbody>\n",
       "</table>\n",
       "<p>10000 rows × 7 columns</p>\n",
       "</div>"
      ],
      "text/plain": [
       "                                                  Title              Author  \\\n",
       "0                                      The Strange Maid     [Tessa Gratton]   \n",
       "1                                       A Darker Domain      [Val McDermid]   \n",
       "2     A Thousand Naked Strangers: A Paramedic's Wild...     [Kevin Hazzard]   \n",
       "3                             Looking Back with a Smile  [Edward B. Farber]   \n",
       "4                                      Bargain Paradise   [Darlene Blasing]   \n",
       "...                                                 ...                 ...   \n",
       "9995                                     Cast in Sorrow   [Michelle Sagara]   \n",
       "9996                               End of the Civil War  [E.E. Doc Murdock]   \n",
       "9997                    The Intermediaries: Beat & Case        [Taylor Dye]   \n",
       "9998                             Life Among the Savages   [Shirley Jackson]   \n",
       "9999                                        Retribution    [Kelsey  Miller]   \n",
       "\n",
       "                                            Description  \\\n",
       "0     Fans of Neil Gaiman, Holly Black, and Maggie S...   \n",
       "1     1984, Fife. Heiress Catriona Maclennan Grant &...   \n",
       "2     A former paramedic’s visceral, poignant, and m...   \n",
       "3     In Looking Back with a Smile, the author recol...   \n",
       "4     Bargain Paradise is a humorous tale of an obse...   \n",
       "...                                                 ...   \n",
       "9995  THE END OF HER JOURNEY IS ONLY THE BEGINNING.....   \n",
       "9996  The End of the Civil War is a fast-paced weste...   \n",
       "9997  Angels. Spirits. Superheroes. Gods. Whatever t...   \n",
       "9998  Shirley Jackson, author of the classic short s...   \n",
       "9999  Not all Vampires drink blood...More cunning an...   \n",
       "\n",
       "                                 Publisher  Year Published  \\\n",
       "0     Random House Books for Young Readers          2014.0   \n",
       "1                 HarperCollins Publishers          2008.0   \n",
       "2                                 Scribner          2016.0   \n",
       "3                                     None          2012.0   \n",
       "4                              Argon Press          2013.0   \n",
       "...                                    ...             ...   \n",
       "9995                        Harlequin Luna          2013.0   \n",
       "9996                          H.O.T. Press          2013.0   \n",
       "9997                  Samanedna Publishers          2014.0   \n",
       "9998                         Penguin Group          1953.0   \n",
       "9999                     Miller Publishing          2011.0   \n",
       "\n",
       "                                                 Genres  Page Count  \n",
       "0     [Fantasy, Young Adult, Fantasy, Mythology, Fic...       400.0  \n",
       "1     [Mystery, Mystery, Crime, Fiction, Cultural, S...       371.0  \n",
       "2     [Nonfiction, Autobiography, Memoir, Medical, B...       261.0  \n",
       "3                                                    []         NaN  \n",
       "4                                                    []        49.0  \n",
       "...                                                 ...         ...  \n",
       "9995  [Fantasy, Fantasy, Magic, Fantasy, Urban Fanta...       480.0  \n",
       "9996                   [Historical, Historical Fiction]       296.0  \n",
       "9997                                                 []       338.0  \n",
       "9998  [Nonfiction, Autobiography, Memoir, Humor, Bio...       256.0  \n",
       "9999  [Paranormal, Vampires, Shapeshifters, Werewolv...       324.0  \n",
       "\n",
       "[10000 rows x 7 columns]"
      ]
     },
     "execution_count": 288,
     "metadata": {},
     "output_type": "execute_result"
    }
   ],
   "source": [
    "df"
   ]
  },
  {
   "cell_type": "code",
   "execution_count": 289,
   "metadata": {
    "ExecuteTime": {
     "end_time": "2021-10-09T19:08:50.947758Z",
     "start_time": "2021-10-09T19:08:50.553462Z"
    }
   },
   "outputs": [],
   "source": [
    "df.to_csv(\"data_10000.csv\")"
   ]
  },
  {
   "cell_type": "code",
   "execution_count": 276,
   "metadata": {
    "ExecuteTime": {
     "end_time": "2021-10-08T20:57:14.370375Z",
     "start_time": "2021-10-08T20:57:14.361713Z"
    }
   },
   "outputs": [
    {
     "data": {
      "text/plain": [
       "{'Title': ['The Strange Maid',\n",
       "  'A Darker Domain',\n",
       "  \"A Thousand Naked Strangers: A Paramedic's Wild Ride to the Edge and Back\",\n",
       "  'Looking Back with a Smile',\n",
       "  'Bargain Paradise',\n",
       "  'Hester Roon',\n",
       "  'The Trouble with Playing Cupid',\n",
       "  'Suicide Watch',\n",
       "  'Paul Lafargue and the Founding of French Marxism, 1842-1882',\n",
       "  'I´ll Walk Alone'],\n",
       " 'Author': [['Tessa Gratton'],\n",
       "  ['Val McDermid'],\n",
       "  ['Kevin Hazzard'],\n",
       "  ['Edward B. Farber'],\n",
       "  ['Darlene Blasing'],\n",
       "  ['Norah Lofts'],\n",
       "  ['Tamara Philip'],\n",
       "  ['Kelley York'],\n",
       "  ['Leslie Derfler'],\n",
       "  ['Mary Higgins Clark']],\n",
       " 'Description': ['Fans of Neil Gaiman, Holly Black, and Maggie Stiefvater will embrace the richly drawn, Norse-influenced alternate world of the United States of Asgard, where cell phones, rock bands, and evangelical preachers coexist with dragon slaying, rune casting, and sword training in schools. Where the president runs the country alongside a council of Valkyries, gods walk the red car\\nFans of Neil Gaiman, Holly Black, and Maggie Stiefvater will embrace the richly drawn, Norse-influenced alternate world of the United States of Asgard, where cell phones, rock bands, and evangelical preachers coexist with dragon slaying, rune casting, and sword training in schools. Where the president runs the country alongside a council of Valkyries, gods walk the red carpet with Hollywood starlets, and the U.S. military has a special battalion dedicated to eradicating Rocky Mountain trolls. Signy Valborn was seven years old when she climbed the New World Tree and met Odin Alfather, who declared that if she could solve a single riddle, he would make her one of his Valkyrie. For ten years Signy has trained in the arts of war, politics, and leadership, never dreaming that a Greater Mountain Troll might hold the answer to the riddle, but that’s exactly what Ned the Spiritless promises her. A mysterious troll hunter who talks in riddles and ancient poetry, Ned is a hard man to trust. Unfortunately, Signy is running out of time. Accompanied by an outcast berserker named Soren Bearstar, she and Ned take off across the ice sheets of Canadia to hunt the mother of trolls and claim Signy’s destiny.\\n...more',\n",
       "  \"1984, Fife. Heiress Catriona Maclennan Grant & her baby son are kidnapped. The ransom payoff goes horribly wrong. She is killed while her son disappears without trace. 2008, Tuscany. A jogger stumbles upon dramatic new evidence that re-opens the cold case. For Detective Sergeant Karen Pirie, it's an opportunity to make her mark.\\n1984, Fife. Heiress Catriona Maclennan Grant & her baby son are kidnapped. The ransom payoff goes horribly wrong. She is killed while her son disappears without trace. 2008, Tuscany. A jogger stumbles upon dramatic new evidence that re-opens the cold case. For Detective Sergeant Karen Pirie, it's an opportunity to make her mark.\\n...more\",\n",
       "  'A former paramedic’s visceral, poignant, and mordantly funny account of a decade spent on Atlanta’s mean streets saving lives and connecting with the drama and occasional beauty that lies inside catastrophe.In the aftermath of 9/11 Kevin Hazzard felt that something was missing from his life—his days were too safe, too routine. A failed salesman turned local reporter, he wa\\nA former paramedic’s visceral, poignant, and mordantly funny account of a decade spent on Atlanta’s mean streets saving lives and connecting with the drama and occasional beauty that lies inside catastrophe.In the aftermath of 9/11 Kevin Hazzard felt that something was missing from his life—his days were too safe, too routine. A failed salesman turned local reporter, he wanted to test himself, see how he might respond to pressure and danger. He signed up for emergency medical training and became, at age twenty-six, a newly minted EMT running calls in the worst sections of Atlanta. His life entered a different realm—one of blood, violence, and amazing grace.Thoroughly intimidated at first and frequently terrified, he experienced on a nightly basis the adrenaline rush of walking into chaos. But in his downtime, Kevin reflected on how people’s facades drop away when catastrophe strikes. As his hours on the job piled up, he realized he was beginning to see into the truth of things. There is no pretense five beats into a chest compression, or in an alley next to a crack den, or on a dimly lit highway where cars have collided. Eventually, what had at first seemed impossible happened: Kevin acquired mastery. And in the process he was able to discern the professional differences between his freewheeling peers, what marked each—as he termed them—as “a tourist,” “true believer,” or “killer.”Combining indelible scenes that remind us of life’s fragile beauty with laugh-out-loud moments that keep us smiling through the worst, A Thousand Naked Strangers is an absorbing read about one man’s journey of self-discovery—a trip that also teaches us about ourselves.\\n...more',\n",
       "  'In Looking Back with a Smile, the author recollects in brief but entertaining anecdotes (bits and pieces he calls them) of a life that has spanned seven decades. These are quick looks at what he calls an “ordinary” life, each served up with a chuckle. A sampling of the subtitle over each anecdote gives a little insight into Ed Farber’s humorous approach: A Wig in the Waste\\nIn Looking Back with a Smile, the author recollects in brief but entertaining anecdotes (bits and pieces he calls them) of a life that has spanned seven decades. These are quick looks at what he calls an “ordinary” life, each served up with a chuckle. A sampling of the subtitle over each anecdote gives a little insight into Ed Farber’s humorous approach: A Wig in the Waste Can; No Appreciation for Tenors; Hiding from Cousin Sophie; A Low Point at High School; Bill Haley vs. Beethoven; Las Vegas Was Cheap Back Then; Hot Fudge Sundae, Hold the Fudge; Teeth? Who Needs Teeth? Teenagers. A Whole New Brand of Kids; Lucky Ticks Me Off; What’s a Skink?; ESP on the Way to L.A.; An Instant Grandchild. \\tThese and other bits and pieces take the reader on a merry romp through growing up during the Depression and wartime 1940’s, the transitions from grade school to high school to college to the military and, finally, to marriage, kids and grandkids. On the way, there are humorous insights about pets, secretaries, bugs in the BOQ, being a canine midwife, and many more incidents and observations all dished out with warmth and wit. \\tThe author sums it up nicely when he writes: “I have to warn you ahead of time that there are no moments of historical importance, no stories of great deeds, no famous people, nothing sensational, sleazy or sexually arousing—but I’m certain that these bits and pieces, while totally mine, will give you a chuckle and remind you of your own, because we are all, millions of us, ordinary people. And there is absolutely nothing wrong with that.”\\n...more',\n",
       "  'Bargain Paradise is a humorous tale of an obsessive gardener and her neglected husband. As Jerry struggles to understand his wife’s failure to have his meals ready on time, Loretta longs for the day that Jerry will join her in transforming their property. It takes one really bad day to bring the two of them together to create their own little slice of paradise. Gardeners w\\nBargain Paradise is a humorous tale of an obsessive gardener and her neglected husband. As Jerry struggles to understand his wife’s failure to have his meals ready on time, Loretta longs for the day that Jerry will join her in transforming their property. It takes one really bad day to bring the two of them together to create their own little slice of paradise. Gardeners will see a bit of themselves here. Non-gardeners will finally learn what possesses someone to spend every daylight hour (and more) puttering around in the \"dirt\". I guarantee it will make you smile.\\n...more',\n",
       "  'The Fleece Inn stood where the three roads joined - the roads to London, to Norwich and to the sea. Its trade was prosperous, its hospitality famous and the host was jolly and generous. To his servants he was cruel and menacing, and to Ellie Roon, the most menial servant at the Fleece, he was a figure of terror. Ellie was used to being bullied, but when her illegitimate da\\nThe Fleece Inn stood where the three roads joined - the roads to London, to Norwich and to the sea. Its trade was prosperous, its hospitality famous and the host was jolly and generous. To his servants he was cruel and menacing, and to Ellie Roon, the most menial servant at the Fleece, he was a figure of terror. Ellie was used to being bullied, but when her illegitimate daughter was born - in a rat-ridden attic of the Fleece - she decided that Hester must have a different kind of life. And so, Hester Roon began her eventful progress in the harsh world of 18th century England. After fleeing from the inn, and the attentions of the owner, she became involved in the London underworld. From there she found herself in a world far beyond her imaginings..\\n...more',\n",
       "  \"One New Year's Eve, shy singer, December Brown drunkenly texts her talk show host pal, Trace Randall, about her long time crush on the aloof actor, Tom Elmswood. Thinking the two celebrities would make a cute couple, he unwisely decides to play matchmaker... in front of a live studio audience. Things start to go downhill when Tom admits he's never even heard of December be\\nOne New Year's Eve, shy singer, December Brown drunkenly texts her talk show host pal, Trace Randall, about her long time crush on the aloof actor, Tom Elmswood. Thinking the two celebrities would make a cute couple, he unwisely decides to play matchmaker... in front of a live studio audience. Things start to go downhill when Tom admits he's never even heard of December before. Now what seemed like a sure fire hit quickly becomes a flop. Will these two lonely hearts ever make a love connection or has this cupid's arrow missed its mark?\\n...more\",\n",
       "  \"18-year-old Vincent has spent his entire life being shuffled from one foster home to the next. His grades sucked. Making friends? Out of the question thanks to his nervous breakdowns and unpredictable moods. Still, Vince thought when Maggie Atkins took him in, he might've finally found a place to get his life--and his issues--in order.When Maggie dies, it all falls apart.A\\n18-year-old Vincent has spent his entire life being shuffled from one foster home to the next. His grades sucked. Making friends? Out of the question thanks to his nervous breakdowns and unpredictable moods. Still, Vince thought when Maggie Atkins took him in, he might've finally found a place to get his life--and his issues--in order.When Maggie dies, it all falls apart.A year ago, Vince watched a girl leap to her death off a bridge. He's starting to think she had the right idea.Through a pro-suicide forum, Vince meets others with the same debate regarding death: cancer-ridden Casper would rather off herself than slowly waste away, and there's quiet, withdrawn Adam, whose mother wouldn't notice if he fell off the face of the planet.As they gravitate toward each other, Vince searches for a reason to live while coping without Maggie, coming to terms with Casper's imminent death, and falling in love with a boy who doesn't plan on sticking around.\\n...more\",\n",
       "  \"Paul Lafargue, disciple and son-in-law of Karl Marx, was among the most important persons giving organized political expression to Marxism in France. He helped found both the first French collectivist party and the first French Marxist party. He was the first Marxist to sit in the French legislature and for three decades served as the chief theoretician and propagandist fo\\nPaul Lafargue, disciple and son-in-law of Karl Marx, was among the most important persons giving organized political expression to Marxism in France. He helped found both the first French collectivist party and the first French Marxist party. He was the first Marxist to sit in the French legislature and for three decades served as the chief theoretician and propagandist for Marxism in France. With his wife, Laura, he translated the Communist Manifesto and other works, introducing and applying Marxist thought in France.Demonstrating an almost seamless web between intellectual and family history, Leslie Derfler relates ideas and family identity in this account of the first forty years of Paul Lafargue's life. Lafargue, like his famous father-in-law, called for ideological purity and demanded total hostility to anarchists and reformists. He insisted on economic determinism, the primacy of the concept of the class struggle, and the theory of surplus value. But he made his own contributions as well, particularly in his insistence on rejecting the domination of bourgeois values. Lafargue's most famous pamphlet, The Right To Be Lazy, showed the advantages that labor could derive by rejecting the bourgeois work ethic. An intellectual of power, he pioneered in the application of Marxist methods of analysis to questions of anthropology, aesthetics, and literary criticism.Born in Cuba of mixed racial descent, Lafargue joined in demonstrations as a medical student in Paris in the 1860s and was forced into exile. Resuming his studies in London, he became a fixture in the Marx household until he married Laura Marx and moved to Paris. There he worked to expand the influence of the International Workingmen's Association, but fled to Spain following the general repression after the fall of the Paris Commune. He continued his efforts on behalf of Marxism in Spain and then for ten years in London before returning to France, where he helped to found the new Marxist Parti Ouvrier Francais, in 1882.\\n...more\",\n",
       "  \"The Queen Of Suspense Is Back!Mary Higgins Clark’s new novel—the thirtieth and most spine-chilling of her long career as America’s most beloved author of suspense fiction— is about the newest and most up-to-date of crimes: identity theft.Who has not read about—or experienced—with a sinking feeling the fear that someone else out there may be using your credit cards, accessi\\nThe Queen Of Suspense Is Back!Mary Higgins Clark’s new novel—the thirtieth and most spine-chilling of her long career as America’s most beloved author of suspense fiction— is about the newest and most up-to-date of crimes: identity theft.Who has not read about—or experienced—with a sinking feeling the fear that someone else out there may be using your credit cards, accessing your bank account, even stealing your identity. In I'll Walk Alone, Alexandra “Zan” Moreland, a gifted, beautiful interior designer on the threshold of a successful Manhattan career, is terrified to discover that somebody is not only using her credit cards and manipulating her financial accounts to bankrupt her and destroy her reputation, but may also be impersonating her in a scheme that may involve the much more brutal crimes of kidnapping and murder. Zan is already haunted by the disappearance of her own son, Matthew, kidnapped in broad daylight two years ago in Central Park—a tragedy that has left her torn between hope and despair.Now, on what would be Matthew’s fifth birthday, photos surface that seem to show Zan kidnapping her own child, followed by a chain of events that suggests somebody—but who? Zan asks herself desperately, and why?—has stolen her identity.Hounded by the press, under investigation by the police, attacked by both her angry ex-husband and a vindictive business rival, Zan, wracked by fear and pain and sustained only by her belief, which nobody else shares, that Matthew is still alive, sets out to discover who is behind this cruel hoax. What she does not realize is that with every step she takes toward the truth, she is putting herself— and those she loves most—in mortal danger from the person who has ingeniously plotted out her destruction.Even Zan’s supporters, who include Alvirah Meehan, the lottery winner and amateur detective, and Father Aiden O’Brien, who thinks that Zan may have confessed to him a secret he cannot reveal, believe she may have kidnapped little Matthew. Zan herself begins to doubt her own sanity, until, in the kind of fast-paced explosive ending that is Mary Higgins Clark’s trademark, the pieces of the puzzle fall into place with an unexpected and shocking revelation.Deeply satisfying, I'll Walk Alone is Mary Higgins Clark at the top of her form.\\n...more\"],\n",
       " 'Publisher': ['Random House Books for Young Readers',\n",
       "  'HarperCollins Publishers',\n",
       "  'Scribner',\n",
       "  None,\n",
       "  'Argon Press',\n",
       "  'Corgi',\n",
       "  'Vanilla Heart Publishing',\n",
       "  'Kelley York',\n",
       "  'Harvard University Press',\n",
       "  'Simon & Schuster'],\n",
       " 'Year Published': [2014,\n",
       "  2008,\n",
       "  2016,\n",
       "  2012,\n",
       "  2013,\n",
       "  1940,\n",
       "  2014,\n",
       "  2012,\n",
       "  1991,\n",
       "  2011],\n",
       " 'Genres': [['Fantasy',\n",
       "   'Young Adult',\n",
       "   'Fantasy',\n",
       "   'Mythology',\n",
       "   'Fiction',\n",
       "   'Fantasy',\n",
       "   'Urban Fantasy',\n",
       "   'Young Adult',\n",
       "   'Young Adult Fantasy',\n",
       "   'Science Fiction',\n",
       "   'Alternate History',\n",
       "   'Romance',\n",
       "   'Adventure',\n",
       "   'Science Fiction Fantasy'],\n",
       "  ['Mystery',\n",
       "   'Mystery',\n",
       "   'Crime',\n",
       "   'Fiction',\n",
       "   'Cultural',\n",
       "   'Scotland',\n",
       "   'Thriller',\n",
       "   'Thriller',\n",
       "   'Mystery Thriller',\n",
       "   'European Literature',\n",
       "   'British Literature',\n",
       "   'Suspense',\n",
       "   'Audiobook',\n",
       "   'Mystery',\n",
       "   'Detective'],\n",
       "  ['Nonfiction',\n",
       "   'Autobiography',\n",
       "   'Memoir',\n",
       "   'Medical',\n",
       "   'Biography',\n",
       "   'Health',\n",
       "   'Medicine',\n",
       "   'Biography Memoir',\n",
       "   'Audiobook',\n",
       "   'Humor',\n",
       "   'Biography',\n",
       "   'Autobiography',\n",
       "   'Health'],\n",
       "  [],\n",
       "  [],\n",
       "  ['Historical',\n",
       "   'Historical Fiction',\n",
       "   'Historical',\n",
       "   'Literature',\n",
       "   '18th Century',\n",
       "   'Fiction'],\n",
       "  ['Romance', 'Contemporary'],\n",
       "  ['Romance',\n",
       "   'M M Romance',\n",
       "   'Young Adult',\n",
       "   'LGBT',\n",
       "   'Contemporary',\n",
       "   'Romance',\n",
       "   'Health',\n",
       "   'Mental Health',\n",
       "   'Mental Health',\n",
       "   'Mental Illness',\n",
       "   'Dark',\n",
       "   'Fiction',\n",
       "   'Young Adult',\n",
       "   'Coming Of Age'],\n",
       "  [],\n",
       "  ['Mystery',\n",
       "   'Fiction',\n",
       "   'Suspense',\n",
       "   'Thriller',\n",
       "   'Mystery Thriller',\n",
       "   'Thriller',\n",
       "   'Mystery',\n",
       "   'Crime',\n",
       "   'Adult',\n",
       "   'Audiobook',\n",
       "   'Contemporary',\n",
       "   'Romance']],\n",
       " 'Page Count': [400, 371, 261, None, 49, 320, 176, 220, None, 354]}"
      ]
     },
     "execution_count": 276,
     "metadata": {},
     "output_type": "execute_result"
    }
   ],
   "source": [
    "dic"
   ]
  },
  {
   "cell_type": "code",
   "execution_count": 269,
   "metadata": {
    "ExecuteTime": {
     "end_time": "2021-10-08T20:46:17.077269Z",
     "start_time": "2021-10-08T20:46:17.072977Z"
    }
   },
   "outputs": [
    {
     "data": {
      "text/plain": [
       "['/book/show/18301603-the-strange-maid',\n",
       " '/book/show/2573867-a-darker-domain',\n",
       " '/book/show/25111005-a-thousand-naked-strangers',\n",
       " '/book/show/13550547-looking-back-with-a-smile',\n",
       " '/book/show/20549001-bargain-paradise',\n",
       " '/book/show/2399930.Hester_Roon',\n",
       " '/book/show/22817757-the-trouble-with-playing-cupid',\n",
       " '/book/show/17155071-suicide-watch',\n",
       " '/book/show/966098.Paul_Lafargue_and_the_Founding_of_French_Marxism_1842_1882',\n",
       " '/book/show/25842727-i-ll-walk-alone']"
      ]
     },
     "execution_count": 269,
     "metadata": {},
     "output_type": "execute_result"
    }
   ],
   "source": [
    "all_books[:10]"
   ]
  },
  {
   "cell_type": "code",
   "execution_count": 271,
   "metadata": {
    "ExecuteTime": {
     "end_time": "2021-10-08T20:48:37.909413Z",
     "start_time": "2021-10-08T20:47:03.795148Z"
    }
   },
   "outputs": [
    {
     "name": "stdout",
     "output_type": "stream",
     "text": [
      "The Strange Maid\n",
      "A Darker Domain\n"
     ]
    }
   ],
   "source": [
    "driver = webdriver.Safari()\n",
    "driver.get(\"https://www.goodreads.com/book/show/18301603-the-strange-maid\")\n",
    "soup = BeautifulSoup(driver.page_source, \"lxml\")\n",
    "print(soup.find(\"h1\", id=\"bookTitle\").text.strip())\n",
    "driver.get(\"https://www.goodreads.com/book/show/2573867-a-darker-domain\")\n",
    "soup = BeautifulSoup(driver.page_source, \"lxml\")\n",
    "print(soup.find(\"h1\", id=\"bookTitle\").text.strip())"
   ]
  },
  {
   "cell_type": "code",
   "execution_count": 267,
   "metadata": {
    "ExecuteTime": {
     "end_time": "2021-10-08T20:45:36.078842Z",
     "start_time": "2021-10-08T20:45:36.071524Z"
    }
   },
   "outputs": [
    {
     "data": {
      "text/plain": [
       "'I´ll Walk Alone'"
      ]
     },
     "execution_count": 267,
     "metadata": {},
     "output_type": "execute_result"
    }
   ],
   "source": []
  },
  {
   "cell_type": "code",
   "execution_count": null,
   "metadata": {},
   "outputs": [],
   "source": []
  },
  {
   "cell_type": "markdown",
   "metadata": {},
   "source": [
    "---"
   ]
  },
  {
   "cell_type": "markdown",
   "metadata": {},
   "source": [
    "### List of books\n",
    "I cannot use the Goodreads API as keys are not being given anymore.\n",
    "I will attempt to scrape a big list of books through the Goodreads lists using BeautifulSoup as well."
   ]
  },
  {
   "cell_type": "code",
   "execution_count": 184,
   "metadata": {
    "ExecuteTime": {
     "end_time": "2021-10-07T10:58:23.034924Z",
     "start_time": "2021-10-07T10:45:11.861680Z"
    }
   },
   "outputs": [],
   "source": []
  },
  {
   "cell_type": "code",
   "execution_count": null,
   "metadata": {},
   "outputs": [],
   "source": []
  }
 ],
 "metadata": {
  "kernelspec": {
   "display_name": "Python 3",
   "language": "python",
   "name": "python3"
  },
  "language_info": {
   "codemirror_mode": {
    "name": "ipython",
    "version": 3
   },
   "file_extension": ".py",
   "mimetype": "text/x-python",
   "name": "python",
   "nbconvert_exporter": "python",
   "pygments_lexer": "ipython3",
   "version": "3.7.4"
  }
 },
 "nbformat": 4,
 "nbformat_minor": 2
}
