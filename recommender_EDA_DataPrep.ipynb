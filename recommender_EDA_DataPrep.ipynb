{
 "cells": [
  {
   "cell_type": "code",
   "execution_count": 215,
   "metadata": {
    "ExecuteTime": {
     "end_time": "2021-10-18T06:52:35.812962Z",
     "start_time": "2021-10-18T06:52:35.810240Z"
    }
   },
   "outputs": [],
   "source": [
    "#!pip install transformers"
   ]
  },
  {
   "cell_type": "code",
   "execution_count": 216,
   "metadata": {
    "ExecuteTime": {
     "end_time": "2021-10-18T06:52:39.611970Z",
     "start_time": "2021-10-18T06:52:39.609773Z"
    }
   },
   "outputs": [],
   "source": [
    "#!pip install -U sentence-transformers"
   ]
  },
  {
   "cell_type": "code",
   "execution_count": 223,
   "metadata": {
    "ExecuteTime": {
     "end_time": "2021-10-18T07:27:43.645180Z",
     "start_time": "2021-10-18T07:27:43.638645Z"
    }
   },
   "outputs": [],
   "source": [
    "#!conda install pytorch torchvision -c pytorch"
   ]
  },
  {
   "cell_type": "code",
   "execution_count": 1,
   "metadata": {
    "ExecuteTime": {
     "end_time": "2021-10-18T07:37:06.988801Z",
     "start_time": "2021-10-18T07:36:51.985454Z"
    },
    "scrolled": true
   },
   "outputs": [
    {
     "name": "stderr",
     "output_type": "stream",
     "text": [
      "/opt/anaconda3/lib/python3.7/site-packages/gensim/similarities/__init__.py:15: UserWarning: The gensim.similarities.levenshtein submodule is disabled, because the optional Levenshtein package <https://pypi.org/project/python-Levenshtein/> is unavailable. Install Levenhstein (e.g. `pip install python-Levenshtein`) to suppress this warning.\n",
      "  warnings.warn(msg)\n"
     ]
    }
   ],
   "source": [
    "import pandas as pd\n",
    "import numpy as np\n",
    "from nltk.corpus import stopwords\n",
    "from nltk.util import ngrams\n",
    "from nltk.tokenize import word_tokenize\n",
    "import gensim.downloader as api\n",
    "from gensim.models.phrases import Phrases, ENGLISH_CONNECTOR_WORDS\n",
    "import gensim\n",
    "from sklearn.feature_extraction.text import TfidfVectorizer\n",
    "from sklearn.metrics.pairwise import cosine_similarity\n",
    "from sklearn.cluster import KMeans\n",
    "from sklearn.decomposition import PCA\n",
    "from sklearn.decomposition import TruncatedSVD\n",
    "from nltk.stem import WordNetLemmatizer, SnowballStemmer\n",
    "from sentence_transformers import SentenceTransformer"
   ]
  },
  {
   "cell_type": "code",
   "execution_count": 2,
   "metadata": {
    "ExecuteTime": {
     "end_time": "2021-10-18T07:38:19.230223Z",
     "start_time": "2021-10-18T07:38:19.228044Z"
    }
   },
   "outputs": [],
   "source": [
    "#!pip install packaging --upgrade"
   ]
  },
  {
   "cell_type": "code",
   "execution_count": 3,
   "metadata": {
    "ExecuteTime": {
     "end_time": "2021-10-18T07:38:25.027827Z",
     "start_time": "2021-10-18T07:38:24.636032Z"
    }
   },
   "outputs": [],
   "source": [
    "df1 = pd.read_csv(\"data_10000.csv\")\n",
    "df2 = pd.read_csv(\"data_20000.csv\")\n",
    "df3 = pd.read_csv(\"data_30000.csv\")\n",
    "#df4 = pd.read_csv(\"data_40000.csv\")\n",
    "#df5 = pd.read_csv(\"data_50000.csv\")"
   ]
  },
  {
   "cell_type": "code",
   "execution_count": 4,
   "metadata": {
    "ExecuteTime": {
     "end_time": "2021-10-18T07:38:25.505080Z",
     "start_time": "2021-10-18T07:38:25.373990Z"
    }
   },
   "outputs": [
    {
     "data": {
      "text/html": [
       "<div>\n",
       "<style scoped>\n",
       "    .dataframe tbody tr th:only-of-type {\n",
       "        vertical-align: middle;\n",
       "    }\n",
       "\n",
       "    .dataframe tbody tr th {\n",
       "        vertical-align: top;\n",
       "    }\n",
       "\n",
       "    .dataframe thead th {\n",
       "        text-align: right;\n",
       "    }\n",
       "</style>\n",
       "<table border=\"1\" class=\"dataframe\">\n",
       "  <thead>\n",
       "    <tr style=\"text-align: right;\">\n",
       "      <th></th>\n",
       "      <th>Unnamed: 0</th>\n",
       "      <th>Title</th>\n",
       "      <th>Author</th>\n",
       "      <th>Description</th>\n",
       "      <th>Publisher</th>\n",
       "      <th>Year Published</th>\n",
       "      <th>Genres</th>\n",
       "      <th>Page Count</th>\n",
       "    </tr>\n",
       "  </thead>\n",
       "  <tbody>\n",
       "    <tr>\n",
       "      <td>0</td>\n",
       "      <td>0</td>\n",
       "      <td>The Strange Maid</td>\n",
       "      <td>['Tessa Gratton']</td>\n",
       "      <td>Fans of Neil Gaiman, Holly Black, and Maggie S...</td>\n",
       "      <td>Random House Books for Young Readers</td>\n",
       "      <td>2014.0</td>\n",
       "      <td>['Fantasy', 'Young Adult', 'Fantasy', 'Mytholo...</td>\n",
       "      <td>400.0</td>\n",
       "    </tr>\n",
       "    <tr>\n",
       "      <td>1</td>\n",
       "      <td>1</td>\n",
       "      <td>A Darker Domain</td>\n",
       "      <td>['Val McDermid']</td>\n",
       "      <td>1984, Fife. Heiress Catriona Maclennan Grant &amp;...</td>\n",
       "      <td>HarperCollins Publishers</td>\n",
       "      <td>2008.0</td>\n",
       "      <td>['Mystery', 'Mystery', 'Crime', 'Fiction', 'Cu...</td>\n",
       "      <td>371.0</td>\n",
       "    </tr>\n",
       "    <tr>\n",
       "      <td>2</td>\n",
       "      <td>2</td>\n",
       "      <td>A Thousand Naked Strangers: A Paramedic's Wild...</td>\n",
       "      <td>['Kevin Hazzard']</td>\n",
       "      <td>A former paramedic’s visceral, poignant, and m...</td>\n",
       "      <td>Scribner</td>\n",
       "      <td>2016.0</td>\n",
       "      <td>['Nonfiction', 'Autobiography', 'Memoir', 'Med...</td>\n",
       "      <td>261.0</td>\n",
       "    </tr>\n",
       "    <tr>\n",
       "      <td>3</td>\n",
       "      <td>3</td>\n",
       "      <td>Looking Back with a Smile</td>\n",
       "      <td>['Edward B. Farber']</td>\n",
       "      <td>In Looking Back with a Smile, the author recol...</td>\n",
       "      <td>NaN</td>\n",
       "      <td>2012.0</td>\n",
       "      <td>[]</td>\n",
       "      <td>NaN</td>\n",
       "    </tr>\n",
       "    <tr>\n",
       "      <td>4</td>\n",
       "      <td>4</td>\n",
       "      <td>Bargain Paradise</td>\n",
       "      <td>['Darlene Blasing']</td>\n",
       "      <td>Bargain Paradise is a humorous tale of an obse...</td>\n",
       "      <td>Argon Press</td>\n",
       "      <td>2013.0</td>\n",
       "      <td>[]</td>\n",
       "      <td>49.0</td>\n",
       "    </tr>\n",
       "  </tbody>\n",
       "</table>\n",
       "</div>"
      ],
      "text/plain": [
       "   Unnamed: 0                                              Title  \\\n",
       "0           0                                   The Strange Maid   \n",
       "1           1                                    A Darker Domain   \n",
       "2           2  A Thousand Naked Strangers: A Paramedic's Wild...   \n",
       "3           3                          Looking Back with a Smile   \n",
       "4           4                                   Bargain Paradise   \n",
       "\n",
       "                 Author                                        Description  \\\n",
       "0     ['Tessa Gratton']  Fans of Neil Gaiman, Holly Black, and Maggie S...   \n",
       "1      ['Val McDermid']  1984, Fife. Heiress Catriona Maclennan Grant &...   \n",
       "2     ['Kevin Hazzard']  A former paramedic’s visceral, poignant, and m...   \n",
       "3  ['Edward B. Farber']  In Looking Back with a Smile, the author recol...   \n",
       "4   ['Darlene Blasing']  Bargain Paradise is a humorous tale of an obse...   \n",
       "\n",
       "                              Publisher  Year Published  \\\n",
       "0  Random House Books for Young Readers          2014.0   \n",
       "1              HarperCollins Publishers          2008.0   \n",
       "2                              Scribner          2016.0   \n",
       "3                                   NaN          2012.0   \n",
       "4                           Argon Press          2013.0   \n",
       "\n",
       "                                              Genres  Page Count  \n",
       "0  ['Fantasy', 'Young Adult', 'Fantasy', 'Mytholo...       400.0  \n",
       "1  ['Mystery', 'Mystery', 'Crime', 'Fiction', 'Cu...       371.0  \n",
       "2  ['Nonfiction', 'Autobiography', 'Memoir', 'Med...       261.0  \n",
       "3                                                 []         NaN  \n",
       "4                                                 []        49.0  "
      ]
     },
     "execution_count": 4,
     "metadata": {},
     "output_type": "execute_result"
    }
   ],
   "source": [
    "df = pd.concat([df1, df2, df3], ignore_index=True)\n",
    "df.head()"
   ]
  },
  {
   "cell_type": "code",
   "execution_count": 5,
   "metadata": {
    "ExecuteTime": {
     "end_time": "2021-10-18T07:38:25.723810Z",
     "start_time": "2021-10-18T07:38:25.718895Z"
    }
   },
   "outputs": [
    {
     "data": {
      "text/plain": [
       "(30000, 8)"
      ]
     },
     "execution_count": 5,
     "metadata": {},
     "output_type": "execute_result"
    }
   ],
   "source": [
    "df.shape"
   ]
  },
  {
   "cell_type": "code",
   "execution_count": 6,
   "metadata": {
    "ExecuteTime": {
     "end_time": "2021-10-18T07:38:25.912429Z",
     "start_time": "2021-10-18T07:38:25.893809Z"
    }
   },
   "outputs": [
    {
     "data": {
      "text/plain": [
       "Unnamed: 0                                                        0\n",
       "Title                                              The Strange Maid\n",
       "Author                                            ['Tessa Gratton']\n",
       "Description       Fans of Neil Gaiman, Holly Black, and Maggie S...\n",
       "Publisher                      Random House Books for Young Readers\n",
       "Year Published                                                 2014\n",
       "Genres            ['Fantasy', 'Young Adult', 'Fantasy', 'Mytholo...\n",
       "Page Count                                                      400\n",
       "Name: 0, dtype: object"
      ]
     },
     "execution_count": 6,
     "metadata": {},
     "output_type": "execute_result"
    }
   ],
   "source": [
    "df.loc[0]"
   ]
  },
  {
   "cell_type": "code",
   "execution_count": 7,
   "metadata": {
    "ExecuteTime": {
     "end_time": "2021-10-18T07:38:26.338186Z",
     "start_time": "2021-10-18T07:38:26.331359Z"
    }
   },
   "outputs": [],
   "source": [
    "df.drop(columns=['Unnamed: 0'], inplace=True)"
   ]
  },
  {
   "cell_type": "code",
   "execution_count": 8,
   "metadata": {
    "ExecuteTime": {
     "end_time": "2021-10-18T07:38:26.703734Z",
     "start_time": "2021-10-18T07:38:26.588069Z"
    }
   },
   "outputs": [
    {
     "data": {
      "text/plain": [
       "0        [Fantasy, Young Adult, Fantasy, Mythology, Fic...\n",
       "1        [Mystery, Mystery, Crime, Fiction, Cultural, S...\n",
       "2        [Nonfiction, Autobiography, Memoir, Medical, B...\n",
       "3                                                       []\n",
       "4                                                       []\n",
       "                               ...                        \n",
       "29995    [Mythology, Mermaids, Fantasy, Young Adult, Ro...\n",
       "29996    [Nonfiction, Feminism, Politics, Religion, Rel...\n",
       "29997    [Fiction, Fantasy, Short Stories, Magical Real...\n",
       "29998    [History, Nonfiction, Military, Military Histo...\n",
       "29999                                                   []\n",
       "Name: Genres, Length: 30000, dtype: object"
      ]
     },
     "execution_count": 8,
     "metadata": {},
     "output_type": "execute_result"
    }
   ],
   "source": [
    "df[\"Genres\"].apply(lambda x: [i for i in x[1:-1].replace(\"'\", \"\").split(\", \") if len(i) != 0])"
   ]
  },
  {
   "cell_type": "markdown",
   "metadata": {},
   "source": [
    "#### The lists were saved as strings"
   ]
  },
  {
   "cell_type": "code",
   "execution_count": 9,
   "metadata": {
    "ExecuteTime": {
     "end_time": "2021-10-18T07:38:27.136688Z",
     "start_time": "2021-10-18T07:38:27.028480Z"
    }
   },
   "outputs": [],
   "source": [
    "df[\"Genres\"] = df[\"Genres\"].apply(lambda x: [i for i in x[1:-1].replace(\"'\", \"\").split(\", \") if len(i) != 0])"
   ]
  },
  {
   "cell_type": "code",
   "execution_count": 10,
   "metadata": {
    "ExecuteTime": {
     "end_time": "2021-10-18T07:38:27.234777Z",
     "start_time": "2021-10-18T07:38:27.229770Z"
    }
   },
   "outputs": [
    {
     "data": {
      "text/plain": [
       "0                                      ['Tessa Gratton']\n",
       "1                                       ['Val McDermid']\n",
       "2                                      ['Kevin Hazzard']\n",
       "3                                   ['Edward B. Farber']\n",
       "4                                    ['Darlene Blasing']\n",
       "                              ...                       \n",
       "29995                                  ['Sarah  Porter']\n",
       "29996                                  ['Mona Eltahawy']\n",
       "29997    ['Haruki Murakami', 'Ted Goossen', 'Chip Kidd']\n",
       "29998                               ['Robert K. Massie']\n",
       "29999                                  ['Elijah Powell']\n",
       "Name: Author, Length: 30000, dtype: object"
      ]
     },
     "execution_count": 10,
     "metadata": {},
     "output_type": "execute_result"
    }
   ],
   "source": [
    "df[\"Author\"]"
   ]
  },
  {
   "cell_type": "code",
   "execution_count": 11,
   "metadata": {
    "ExecuteTime": {
     "end_time": "2021-10-18T07:38:27.426419Z",
     "start_time": "2021-10-18T07:38:27.421129Z"
    }
   },
   "outputs": [
    {
     "data": {
      "text/plain": [
       "2"
      ]
     },
     "execution_count": 11,
     "metadata": {},
     "output_type": "execute_result"
    }
   ],
   "source": [
    "df[\"Author\"].isna().sum()"
   ]
  },
  {
   "cell_type": "markdown",
   "metadata": {},
   "source": [
    "#### 2 authors is insignificant in comparison to the sample size. Therefore, the rows can safely be dropped"
   ]
  },
  {
   "cell_type": "code",
   "execution_count": 12,
   "metadata": {
    "ExecuteTime": {
     "end_time": "2021-10-18T07:38:27.915990Z",
     "start_time": "2021-10-18T07:38:27.906380Z"
    }
   },
   "outputs": [],
   "source": [
    "df.dropna(subset=[\"Author\"], axis=0, inplace=True)"
   ]
  },
  {
   "cell_type": "code",
   "execution_count": 13,
   "metadata": {
    "ExecuteTime": {
     "end_time": "2021-10-18T07:38:28.156922Z",
     "start_time": "2021-10-18T07:38:28.122771Z"
    }
   },
   "outputs": [],
   "source": [
    "df[\"Author\"] = df[\"Author\"].apply(lambda x: x[1:-1].replace(\"'\", \"\").split(\", \") if x is not None else None)"
   ]
  },
  {
   "cell_type": "markdown",
   "metadata": {},
   "source": [
    "### Missing values"
   ]
  },
  {
   "cell_type": "markdown",
   "metadata": {},
   "source": [
    "If we are missing genre's information, we would have an empty list instead of NaN. We need to count them as well"
   ]
  },
  {
   "cell_type": "code",
   "execution_count": 14,
   "metadata": {
    "ExecuteTime": {
     "end_time": "2021-10-18T07:38:28.898764Z",
     "start_time": "2021-10-18T07:38:28.867104Z"
    }
   },
   "outputs": [
    {
     "data": {
      "text/html": [
       "<div>\n",
       "<style scoped>\n",
       "    .dataframe tbody tr th:only-of-type {\n",
       "        vertical-align: middle;\n",
       "    }\n",
       "\n",
       "    .dataframe tbody tr th {\n",
       "        vertical-align: top;\n",
       "    }\n",
       "\n",
       "    .dataframe thead th {\n",
       "        text-align: right;\n",
       "    }\n",
       "</style>\n",
       "<table border=\"1\" class=\"dataframe\">\n",
       "  <thead>\n",
       "    <tr style=\"text-align: right;\">\n",
       "      <th></th>\n",
       "      <th>Title</th>\n",
       "      <th>Author</th>\n",
       "      <th>Description</th>\n",
       "      <th>Publisher</th>\n",
       "      <th>Year Published</th>\n",
       "      <th>Genres</th>\n",
       "      <th>Page Count</th>\n",
       "    </tr>\n",
       "  </thead>\n",
       "  <tbody>\n",
       "    <tr>\n",
       "      <td>0</td>\n",
       "      <td>The Strange Maid</td>\n",
       "      <td>[Tessa Gratton]</td>\n",
       "      <td>Fans of Neil Gaiman, Holly Black, and Maggie S...</td>\n",
       "      <td>Random House Books for Young Readers</td>\n",
       "      <td>2014.0</td>\n",
       "      <td>[Fantasy, Young Adult, Fantasy, Mythology, Fic...</td>\n",
       "      <td>400.0</td>\n",
       "    </tr>\n",
       "    <tr>\n",
       "      <td>1</td>\n",
       "      <td>A Darker Domain</td>\n",
       "      <td>[Val McDermid]</td>\n",
       "      <td>1984, Fife. Heiress Catriona Maclennan Grant &amp;...</td>\n",
       "      <td>HarperCollins Publishers</td>\n",
       "      <td>2008.0</td>\n",
       "      <td>[Mystery, Mystery, Crime, Fiction, Cultural, S...</td>\n",
       "      <td>371.0</td>\n",
       "    </tr>\n",
       "    <tr>\n",
       "      <td>2</td>\n",
       "      <td>A Thousand Naked Strangers: A Paramedic's Wild...</td>\n",
       "      <td>[Kevin Hazzard]</td>\n",
       "      <td>A former paramedic’s visceral, poignant, and m...</td>\n",
       "      <td>Scribner</td>\n",
       "      <td>2016.0</td>\n",
       "      <td>[Nonfiction, Autobiography, Memoir, Medical, B...</td>\n",
       "      <td>261.0</td>\n",
       "    </tr>\n",
       "    <tr>\n",
       "      <td>3</td>\n",
       "      <td>Looking Back with a Smile</td>\n",
       "      <td>[Edward B. Farber]</td>\n",
       "      <td>In Looking Back with a Smile, the author recol...</td>\n",
       "      <td>NaN</td>\n",
       "      <td>2012.0</td>\n",
       "      <td>[]</td>\n",
       "      <td>NaN</td>\n",
       "    </tr>\n",
       "    <tr>\n",
       "      <td>4</td>\n",
       "      <td>Bargain Paradise</td>\n",
       "      <td>[Darlene Blasing]</td>\n",
       "      <td>Bargain Paradise is a humorous tale of an obse...</td>\n",
       "      <td>Argon Press</td>\n",
       "      <td>2013.0</td>\n",
       "      <td>[]</td>\n",
       "      <td>49.0</td>\n",
       "    </tr>\n",
       "    <tr>\n",
       "      <td>...</td>\n",
       "      <td>...</td>\n",
       "      <td>...</td>\n",
       "      <td>...</td>\n",
       "      <td>...</td>\n",
       "      <td>...</td>\n",
       "      <td>...</td>\n",
       "      <td>...</td>\n",
       "    </tr>\n",
       "    <tr>\n",
       "      <td>29995</td>\n",
       "      <td>The Twice Lost</td>\n",
       "      <td>[Sarah  Porter]</td>\n",
       "      <td>Mermaids have been sinking ships and drowning ...</td>\n",
       "      <td>Houghton Mifflin Harcourt</td>\n",
       "      <td>2013.0</td>\n",
       "      <td>[Mythology, Mermaids, Fantasy, Young Adult, Ro...</td>\n",
       "      <td>480.0</td>\n",
       "    </tr>\n",
       "    <tr>\n",
       "      <td>29996</td>\n",
       "      <td>Headscarves and Hymens: Why the Middle East Ne...</td>\n",
       "      <td>[Mona Eltahawy]</td>\n",
       "      <td>A passionate manifesto decrying misogyny in th...</td>\n",
       "      <td>Farrar, Straus and Giroux</td>\n",
       "      <td>2015.0</td>\n",
       "      <td>[Nonfiction, Feminism, Politics, Religion, Rel...</td>\n",
       "      <td>240.0</td>\n",
       "    </tr>\n",
       "    <tr>\n",
       "      <td>29997</td>\n",
       "      <td>The Strange Library</td>\n",
       "      <td>[Haruki Murakami, Ted Goossen, Chip Kidd]</td>\n",
       "      <td>From internationally acclaimed author Haruki M...</td>\n",
       "      <td>Knopf</td>\n",
       "      <td>2001.0</td>\n",
       "      <td>[Fiction, Fantasy, Short Stories, Magical Real...</td>\n",
       "      <td>96.0</td>\n",
       "    </tr>\n",
       "    <tr>\n",
       "      <td>29998</td>\n",
       "      <td>Dreadnought</td>\n",
       "      <td>[Robert K. Massie]</td>\n",
       "      <td>Pulitzer Prize-winning author, Robert K. Massi...</td>\n",
       "      <td>Ballantine Books</td>\n",
       "      <td>1991.0</td>\n",
       "      <td>[History, Nonfiction, Military, Military Histo...</td>\n",
       "      <td>1040.0</td>\n",
       "    </tr>\n",
       "    <tr>\n",
       "      <td>29999</td>\n",
       "      <td>Awkward Black Girl: District 9: Enchanted Love</td>\n",
       "      <td>[Elijah Powell]</td>\n",
       "      <td>Gina is an Awkward Girl who doesn't fit in any...</td>\n",
       "      <td>NaN</td>\n",
       "      <td>2018.0</td>\n",
       "      <td>[]</td>\n",
       "      <td>122.0</td>\n",
       "    </tr>\n",
       "  </tbody>\n",
       "</table>\n",
       "<p>29998 rows × 7 columns</p>\n",
       "</div>"
      ],
      "text/plain": [
       "                                                   Title  \\\n",
       "0                                       The Strange Maid   \n",
       "1                                        A Darker Domain   \n",
       "2      A Thousand Naked Strangers: A Paramedic's Wild...   \n",
       "3                              Looking Back with a Smile   \n",
       "4                                       Bargain Paradise   \n",
       "...                                                  ...   \n",
       "29995                                     The Twice Lost   \n",
       "29996  Headscarves and Hymens: Why the Middle East Ne...   \n",
       "29997                                The Strange Library   \n",
       "29998                                        Dreadnought   \n",
       "29999     Awkward Black Girl: District 9: Enchanted Love   \n",
       "\n",
       "                                          Author  \\\n",
       "0                                [Tessa Gratton]   \n",
       "1                                 [Val McDermid]   \n",
       "2                                [Kevin Hazzard]   \n",
       "3                             [Edward B. Farber]   \n",
       "4                              [Darlene Blasing]   \n",
       "...                                          ...   \n",
       "29995                            [Sarah  Porter]   \n",
       "29996                            [Mona Eltahawy]   \n",
       "29997  [Haruki Murakami, Ted Goossen, Chip Kidd]   \n",
       "29998                         [Robert K. Massie]   \n",
       "29999                            [Elijah Powell]   \n",
       "\n",
       "                                             Description  \\\n",
       "0      Fans of Neil Gaiman, Holly Black, and Maggie S...   \n",
       "1      1984, Fife. Heiress Catriona Maclennan Grant &...   \n",
       "2      A former paramedic’s visceral, poignant, and m...   \n",
       "3      In Looking Back with a Smile, the author recol...   \n",
       "4      Bargain Paradise is a humorous tale of an obse...   \n",
       "...                                                  ...   \n",
       "29995  Mermaids have been sinking ships and drowning ...   \n",
       "29996  A passionate manifesto decrying misogyny in th...   \n",
       "29997  From internationally acclaimed author Haruki M...   \n",
       "29998  Pulitzer Prize-winning author, Robert K. Massi...   \n",
       "29999  Gina is an Awkward Girl who doesn't fit in any...   \n",
       "\n",
       "                                  Publisher  Year Published  \\\n",
       "0      Random House Books for Young Readers          2014.0   \n",
       "1                  HarperCollins Publishers          2008.0   \n",
       "2                                  Scribner          2016.0   \n",
       "3                                       NaN          2012.0   \n",
       "4                               Argon Press          2013.0   \n",
       "...                                     ...             ...   \n",
       "29995             Houghton Mifflin Harcourt          2013.0   \n",
       "29996             Farrar, Straus and Giroux          2015.0   \n",
       "29997                                 Knopf          2001.0   \n",
       "29998                      Ballantine Books          1991.0   \n",
       "29999                                   NaN          2018.0   \n",
       "\n",
       "                                                  Genres  Page Count  \n",
       "0      [Fantasy, Young Adult, Fantasy, Mythology, Fic...       400.0  \n",
       "1      [Mystery, Mystery, Crime, Fiction, Cultural, S...       371.0  \n",
       "2      [Nonfiction, Autobiography, Memoir, Medical, B...       261.0  \n",
       "3                                                     []         NaN  \n",
       "4                                                     []        49.0  \n",
       "...                                                  ...         ...  \n",
       "29995  [Mythology, Mermaids, Fantasy, Young Adult, Ro...       480.0  \n",
       "29996  [Nonfiction, Feminism, Politics, Religion, Rel...       240.0  \n",
       "29997  [Fiction, Fantasy, Short Stories, Magical Real...        96.0  \n",
       "29998  [History, Nonfiction, Military, Military Histo...      1040.0  \n",
       "29999                                                 []       122.0  \n",
       "\n",
       "[29998 rows x 7 columns]"
      ]
     },
     "execution_count": 14,
     "metadata": {},
     "output_type": "execute_result"
    }
   ],
   "source": [
    "df = df[df[\"Author\"].apply(lambda x: True if len(x) != 0 else False)]\n",
    "df"
   ]
  },
  {
   "cell_type": "code",
   "execution_count": 15,
   "metadata": {
    "ExecuteTime": {
     "end_time": "2021-10-18T07:38:29.256056Z",
     "start_time": "2021-10-18T07:38:29.243124Z"
    }
   },
   "outputs": [],
   "source": [
    "df = df[df[\"Genres\"].apply(lambda x: True if len(x) != 0 else False)]"
   ]
  },
  {
   "cell_type": "code",
   "execution_count": 16,
   "metadata": {
    "ExecuteTime": {
     "end_time": "2021-10-18T07:38:33.448210Z",
     "start_time": "2021-10-18T07:38:33.428675Z"
    }
   },
   "outputs": [
    {
     "data": {
      "text/html": [
       "<div>\n",
       "<style scoped>\n",
       "    .dataframe tbody tr th:only-of-type {\n",
       "        vertical-align: middle;\n",
       "    }\n",
       "\n",
       "    .dataframe tbody tr th {\n",
       "        vertical-align: top;\n",
       "    }\n",
       "\n",
       "    .dataframe thead th {\n",
       "        text-align: right;\n",
       "    }\n",
       "</style>\n",
       "<table border=\"1\" class=\"dataframe\">\n",
       "  <thead>\n",
       "    <tr style=\"text-align: right;\">\n",
       "      <th></th>\n",
       "      <th>Title</th>\n",
       "      <th>Author</th>\n",
       "      <th>Description</th>\n",
       "      <th>Publisher</th>\n",
       "      <th>Year Published</th>\n",
       "      <th>Genres</th>\n",
       "      <th>Page Count</th>\n",
       "    </tr>\n",
       "  </thead>\n",
       "  <tbody>\n",
       "    <tr>\n",
       "      <td>0</td>\n",
       "      <td>The Strange Maid</td>\n",
       "      <td>[Tessa Gratton]</td>\n",
       "      <td>Fans of Neil Gaiman, Holly Black, and Maggie S...</td>\n",
       "      <td>Random House Books for Young Readers</td>\n",
       "      <td>2014.0</td>\n",
       "      <td>[Fantasy, Young Adult, Fantasy, Mythology, Fic...</td>\n",
       "      <td>400.0</td>\n",
       "    </tr>\n",
       "    <tr>\n",
       "      <td>1</td>\n",
       "      <td>A Darker Domain</td>\n",
       "      <td>[Val McDermid]</td>\n",
       "      <td>1984, Fife. Heiress Catriona Maclennan Grant &amp;...</td>\n",
       "      <td>HarperCollins Publishers</td>\n",
       "      <td>2008.0</td>\n",
       "      <td>[Mystery, Mystery, Crime, Fiction, Cultural, S...</td>\n",
       "      <td>371.0</td>\n",
       "    </tr>\n",
       "    <tr>\n",
       "      <td>2</td>\n",
       "      <td>A Thousand Naked Strangers: A Paramedic's Wild...</td>\n",
       "      <td>[Kevin Hazzard]</td>\n",
       "      <td>A former paramedic’s visceral, poignant, and m...</td>\n",
       "      <td>Scribner</td>\n",
       "      <td>2016.0</td>\n",
       "      <td>[Nonfiction, Autobiography, Memoir, Medical, B...</td>\n",
       "      <td>261.0</td>\n",
       "    </tr>\n",
       "    <tr>\n",
       "      <td>5</td>\n",
       "      <td>Hester Roon</td>\n",
       "      <td>[Norah Lofts]</td>\n",
       "      <td>The Fleece Inn stood where the three roads joi...</td>\n",
       "      <td>Corgi</td>\n",
       "      <td>1940.0</td>\n",
       "      <td>[Historical, Historical Fiction, Historical, L...</td>\n",
       "      <td>320.0</td>\n",
       "    </tr>\n",
       "    <tr>\n",
       "      <td>6</td>\n",
       "      <td>The Trouble with Playing Cupid</td>\n",
       "      <td>[Tamara Philip]</td>\n",
       "      <td>One New Year's Eve, shy singer, December Brown...</td>\n",
       "      <td>Vanilla Heart Publishing</td>\n",
       "      <td>2014.0</td>\n",
       "      <td>[Romance, Contemporary]</td>\n",
       "      <td>176.0</td>\n",
       "    </tr>\n",
       "    <tr>\n",
       "      <td>...</td>\n",
       "      <td>...</td>\n",
       "      <td>...</td>\n",
       "      <td>...</td>\n",
       "      <td>...</td>\n",
       "      <td>...</td>\n",
       "      <td>...</td>\n",
       "      <td>...</td>\n",
       "    </tr>\n",
       "    <tr>\n",
       "      <td>29994</td>\n",
       "      <td>The Lonely Hunter: A Biography of Carson McCul...</td>\n",
       "      <td>[Virginia Spencer Carr, Tennessee Williams]</td>\n",
       "      <td>The Lonely Hunter is widely accepted as the st...</td>\n",
       "      <td>University of Georgia Press</td>\n",
       "      <td>1975.0</td>\n",
       "      <td>[Biography, Nonfiction, History, Race, Gothic,...</td>\n",
       "      <td>680.0</td>\n",
       "    </tr>\n",
       "    <tr>\n",
       "      <td>29995</td>\n",
       "      <td>The Twice Lost</td>\n",
       "      <td>[Sarah  Porter]</td>\n",
       "      <td>Mermaids have been sinking ships and drowning ...</td>\n",
       "      <td>Houghton Mifflin Harcourt</td>\n",
       "      <td>2013.0</td>\n",
       "      <td>[Mythology, Mermaids, Fantasy, Young Adult, Ro...</td>\n",
       "      <td>480.0</td>\n",
       "    </tr>\n",
       "    <tr>\n",
       "      <td>29996</td>\n",
       "      <td>Headscarves and Hymens: Why the Middle East Ne...</td>\n",
       "      <td>[Mona Eltahawy]</td>\n",
       "      <td>A passionate manifesto decrying misogyny in th...</td>\n",
       "      <td>Farrar, Straus and Giroux</td>\n",
       "      <td>2015.0</td>\n",
       "      <td>[Nonfiction, Feminism, Politics, Religion, Rel...</td>\n",
       "      <td>240.0</td>\n",
       "    </tr>\n",
       "    <tr>\n",
       "      <td>29997</td>\n",
       "      <td>The Strange Library</td>\n",
       "      <td>[Haruki Murakami, Ted Goossen, Chip Kidd]</td>\n",
       "      <td>From internationally acclaimed author Haruki M...</td>\n",
       "      <td>Knopf</td>\n",
       "      <td>2001.0</td>\n",
       "      <td>[Fiction, Fantasy, Short Stories, Magical Real...</td>\n",
       "      <td>96.0</td>\n",
       "    </tr>\n",
       "    <tr>\n",
       "      <td>29998</td>\n",
       "      <td>Dreadnought</td>\n",
       "      <td>[Robert K. Massie]</td>\n",
       "      <td>Pulitzer Prize-winning author, Robert K. Massi...</td>\n",
       "      <td>Ballantine Books</td>\n",
       "      <td>1991.0</td>\n",
       "      <td>[History, Nonfiction, Military, Military Histo...</td>\n",
       "      <td>1040.0</td>\n",
       "    </tr>\n",
       "  </tbody>\n",
       "</table>\n",
       "<p>25182 rows × 7 columns</p>\n",
       "</div>"
      ],
      "text/plain": [
       "                                                   Title  \\\n",
       "0                                       The Strange Maid   \n",
       "1                                        A Darker Domain   \n",
       "2      A Thousand Naked Strangers: A Paramedic's Wild...   \n",
       "5                                            Hester Roon   \n",
       "6                         The Trouble with Playing Cupid   \n",
       "...                                                  ...   \n",
       "29994  The Lonely Hunter: A Biography of Carson McCul...   \n",
       "29995                                     The Twice Lost   \n",
       "29996  Headscarves and Hymens: Why the Middle East Ne...   \n",
       "29997                                The Strange Library   \n",
       "29998                                        Dreadnought   \n",
       "\n",
       "                                            Author  \\\n",
       "0                                  [Tessa Gratton]   \n",
       "1                                   [Val McDermid]   \n",
       "2                                  [Kevin Hazzard]   \n",
       "5                                    [Norah Lofts]   \n",
       "6                                  [Tamara Philip]   \n",
       "...                                            ...   \n",
       "29994  [Virginia Spencer Carr, Tennessee Williams]   \n",
       "29995                              [Sarah  Porter]   \n",
       "29996                              [Mona Eltahawy]   \n",
       "29997    [Haruki Murakami, Ted Goossen, Chip Kidd]   \n",
       "29998                           [Robert K. Massie]   \n",
       "\n",
       "                                             Description  \\\n",
       "0      Fans of Neil Gaiman, Holly Black, and Maggie S...   \n",
       "1      1984, Fife. Heiress Catriona Maclennan Grant &...   \n",
       "2      A former paramedic’s visceral, poignant, and m...   \n",
       "5      The Fleece Inn stood where the three roads joi...   \n",
       "6      One New Year's Eve, shy singer, December Brown...   \n",
       "...                                                  ...   \n",
       "29994  The Lonely Hunter is widely accepted as the st...   \n",
       "29995  Mermaids have been sinking ships and drowning ...   \n",
       "29996  A passionate manifesto decrying misogyny in th...   \n",
       "29997  From internationally acclaimed author Haruki M...   \n",
       "29998  Pulitzer Prize-winning author, Robert K. Massi...   \n",
       "\n",
       "                                  Publisher  Year Published  \\\n",
       "0      Random House Books for Young Readers          2014.0   \n",
       "1                  HarperCollins Publishers          2008.0   \n",
       "2                                  Scribner          2016.0   \n",
       "5                                     Corgi          1940.0   \n",
       "6                  Vanilla Heart Publishing          2014.0   \n",
       "...                                     ...             ...   \n",
       "29994           University of Georgia Press          1975.0   \n",
       "29995             Houghton Mifflin Harcourt          2013.0   \n",
       "29996             Farrar, Straus and Giroux          2015.0   \n",
       "29997                                 Knopf          2001.0   \n",
       "29998                      Ballantine Books          1991.0   \n",
       "\n",
       "                                                  Genres  Page Count  \n",
       "0      [Fantasy, Young Adult, Fantasy, Mythology, Fic...       400.0  \n",
       "1      [Mystery, Mystery, Crime, Fiction, Cultural, S...       371.0  \n",
       "2      [Nonfiction, Autobiography, Memoir, Medical, B...       261.0  \n",
       "5      [Historical, Historical Fiction, Historical, L...       320.0  \n",
       "6                                [Romance, Contemporary]       176.0  \n",
       "...                                                  ...         ...  \n",
       "29994  [Biography, Nonfiction, History, Race, Gothic,...       680.0  \n",
       "29995  [Mythology, Mermaids, Fantasy, Young Adult, Ro...       480.0  \n",
       "29996  [Nonfiction, Feminism, Politics, Religion, Rel...       240.0  \n",
       "29997  [Fiction, Fantasy, Short Stories, Magical Real...        96.0  \n",
       "29998  [History, Nonfiction, Military, Military Histo...      1040.0  \n",
       "\n",
       "[25182 rows x 7 columns]"
      ]
     },
     "execution_count": 16,
     "metadata": {},
     "output_type": "execute_result"
    }
   ],
   "source": [
    "df"
   ]
  },
  {
   "cell_type": "code",
   "execution_count": 17,
   "metadata": {
    "ExecuteTime": {
     "end_time": "2021-10-18T07:38:33.976579Z",
     "start_time": "2021-10-18T07:38:33.964147Z"
    }
   },
   "outputs": [
    {
     "data": {
      "text/plain": [
       "Title                0\n",
       "Author               0\n",
       "Description        329\n",
       "Publisher         1423\n",
       "Year Published      33\n",
       "Genres               0\n",
       "Page Count        1126\n",
       "dtype: int64"
      ]
     },
     "execution_count": 17,
     "metadata": {},
     "output_type": "execute_result"
    }
   ],
   "source": [
    "df.isna().sum()"
   ]
  },
  {
   "cell_type": "markdown",
   "metadata": {},
   "source": [
    "### Categorical Data"
   ]
  },
  {
   "cell_type": "code",
   "execution_count": 18,
   "metadata": {
    "ExecuteTime": {
     "end_time": "2021-10-18T07:38:35.539987Z",
     "start_time": "2021-10-18T07:38:35.304117Z"
    }
   },
   "outputs": [
    {
     "data": {
      "text/plain": [
       "970"
      ]
     },
     "execution_count": 18,
     "metadata": {},
     "output_type": "execute_result"
    }
   ],
   "source": [
    "genres = set()\n",
    "for l in df[\"Genres\"].values:\n",
    "    genres = genres.union(set(l))\n",
    "    \n",
    "len(genres)"
   ]
  },
  {
   "cell_type": "code",
   "execution_count": 19,
   "metadata": {
    "ExecuteTime": {
     "end_time": "2021-10-18T07:42:54.760315Z",
     "start_time": "2021-10-18T07:38:35.771511Z"
    }
   },
   "outputs": [],
   "source": [
    "genres = {genre: [] for genre in genres}\n",
    "\n",
    "for book in df.iterrows():\n",
    "    for genre in genres.keys():\n",
    "        if(genre in book[1][\"Genres\"]):\n",
    "            genres[genre].append(1)\n",
    "        else:\n",
    "            genres[genre].append(0)\n"
   ]
  },
  {
   "cell_type": "code",
   "execution_count": 20,
   "metadata": {
    "ExecuteTime": {
     "end_time": "2021-10-18T07:42:59.417254Z",
     "start_time": "2021-10-18T07:42:54.762284Z"
    }
   },
   "outputs": [],
   "source": [
    "genres = pd.DataFrame(genres)"
   ]
  },
  {
   "cell_type": "code",
   "execution_count": 21,
   "metadata": {
    "ExecuteTime": {
     "end_time": "2021-10-18T07:42:59.424469Z",
     "start_time": "2021-10-18T07:42:59.419803Z"
    }
   },
   "outputs": [
    {
     "data": {
      "text/plain": [
       "0        0\n",
       "1        0\n",
       "2        0\n",
       "3        0\n",
       "4        0\n",
       "        ..\n",
       "25177    0\n",
       "25178    0\n",
       "25179    1\n",
       "25180    0\n",
       "25181    0\n",
       "Name: Feminism, Length: 25182, dtype: int64"
      ]
     },
     "execution_count": 21,
     "metadata": {},
     "output_type": "execute_result"
    }
   ],
   "source": [
    "genres[\"Feminism\"]"
   ]
  },
  {
   "cell_type": "code",
   "execution_count": 22,
   "metadata": {
    "ExecuteTime": {
     "end_time": "2021-10-18T07:42:59.445776Z",
     "start_time": "2021-10-18T07:42:59.426800Z"
    }
   },
   "outputs": [
    {
     "data": {
      "text/html": [
       "<div>\n",
       "<style scoped>\n",
       "    .dataframe tbody tr th:only-of-type {\n",
       "        vertical-align: middle;\n",
       "    }\n",
       "\n",
       "    .dataframe tbody tr th {\n",
       "        vertical-align: top;\n",
       "    }\n",
       "\n",
       "    .dataframe thead th {\n",
       "        text-align: right;\n",
       "    }\n",
       "</style>\n",
       "<table border=\"1\" class=\"dataframe\">\n",
       "  <thead>\n",
       "    <tr style=\"text-align: right;\">\n",
       "      <th></th>\n",
       "      <th>Banned Books</th>\n",
       "      <th>Skepticism</th>\n",
       "      <th>M M M</th>\n",
       "      <th>Asexual</th>\n",
       "      <th>Womens Fiction</th>\n",
       "      <th>Fractured Fairy Tales</th>\n",
       "      <th>Splatterpunk</th>\n",
       "      <th>Humanities</th>\n",
       "      <th>Planets</th>\n",
       "      <th>Theology</th>\n",
       "      <th>...</th>\n",
       "      <th>Southern</th>\n",
       "      <th>Juvenile</th>\n",
       "      <th>Historical Fantasy</th>\n",
       "      <th>Figure Skating</th>\n",
       "      <th>Queer Studies</th>\n",
       "      <th>Japanese History</th>\n",
       "      <th>Students</th>\n",
       "      <th>Anthologies</th>\n",
       "      <th>Biblical Fiction</th>\n",
       "      <th>Faith</th>\n",
       "    </tr>\n",
       "  </thead>\n",
       "  <tbody>\n",
       "    <tr>\n",
       "      <td>0</td>\n",
       "      <td>0</td>\n",
       "      <td>0</td>\n",
       "      <td>0</td>\n",
       "      <td>0</td>\n",
       "      <td>0</td>\n",
       "      <td>0</td>\n",
       "      <td>0</td>\n",
       "      <td>0</td>\n",
       "      <td>0</td>\n",
       "      <td>0</td>\n",
       "      <td>...</td>\n",
       "      <td>0</td>\n",
       "      <td>0</td>\n",
       "      <td>0</td>\n",
       "      <td>0</td>\n",
       "      <td>0</td>\n",
       "      <td>0</td>\n",
       "      <td>0</td>\n",
       "      <td>0</td>\n",
       "      <td>0</td>\n",
       "      <td>0</td>\n",
       "    </tr>\n",
       "    <tr>\n",
       "      <td>1</td>\n",
       "      <td>0</td>\n",
       "      <td>0</td>\n",
       "      <td>0</td>\n",
       "      <td>0</td>\n",
       "      <td>0</td>\n",
       "      <td>0</td>\n",
       "      <td>0</td>\n",
       "      <td>0</td>\n",
       "      <td>0</td>\n",
       "      <td>0</td>\n",
       "      <td>...</td>\n",
       "      <td>0</td>\n",
       "      <td>0</td>\n",
       "      <td>0</td>\n",
       "      <td>0</td>\n",
       "      <td>0</td>\n",
       "      <td>0</td>\n",
       "      <td>0</td>\n",
       "      <td>0</td>\n",
       "      <td>0</td>\n",
       "      <td>0</td>\n",
       "    </tr>\n",
       "    <tr>\n",
       "      <td>2</td>\n",
       "      <td>0</td>\n",
       "      <td>0</td>\n",
       "      <td>0</td>\n",
       "      <td>0</td>\n",
       "      <td>0</td>\n",
       "      <td>0</td>\n",
       "      <td>0</td>\n",
       "      <td>0</td>\n",
       "      <td>0</td>\n",
       "      <td>0</td>\n",
       "      <td>...</td>\n",
       "      <td>0</td>\n",
       "      <td>0</td>\n",
       "      <td>0</td>\n",
       "      <td>0</td>\n",
       "      <td>0</td>\n",
       "      <td>0</td>\n",
       "      <td>0</td>\n",
       "      <td>0</td>\n",
       "      <td>0</td>\n",
       "      <td>0</td>\n",
       "    </tr>\n",
       "    <tr>\n",
       "      <td>3</td>\n",
       "      <td>0</td>\n",
       "      <td>0</td>\n",
       "      <td>0</td>\n",
       "      <td>0</td>\n",
       "      <td>0</td>\n",
       "      <td>0</td>\n",
       "      <td>0</td>\n",
       "      <td>0</td>\n",
       "      <td>0</td>\n",
       "      <td>0</td>\n",
       "      <td>...</td>\n",
       "      <td>0</td>\n",
       "      <td>0</td>\n",
       "      <td>0</td>\n",
       "      <td>0</td>\n",
       "      <td>0</td>\n",
       "      <td>0</td>\n",
       "      <td>0</td>\n",
       "      <td>0</td>\n",
       "      <td>0</td>\n",
       "      <td>0</td>\n",
       "    </tr>\n",
       "    <tr>\n",
       "      <td>4</td>\n",
       "      <td>0</td>\n",
       "      <td>0</td>\n",
       "      <td>0</td>\n",
       "      <td>0</td>\n",
       "      <td>0</td>\n",
       "      <td>0</td>\n",
       "      <td>0</td>\n",
       "      <td>0</td>\n",
       "      <td>0</td>\n",
       "      <td>0</td>\n",
       "      <td>...</td>\n",
       "      <td>0</td>\n",
       "      <td>0</td>\n",
       "      <td>0</td>\n",
       "      <td>0</td>\n",
       "      <td>0</td>\n",
       "      <td>0</td>\n",
       "      <td>0</td>\n",
       "      <td>0</td>\n",
       "      <td>0</td>\n",
       "      <td>0</td>\n",
       "    </tr>\n",
       "    <tr>\n",
       "      <td>...</td>\n",
       "      <td>...</td>\n",
       "      <td>...</td>\n",
       "      <td>...</td>\n",
       "      <td>...</td>\n",
       "      <td>...</td>\n",
       "      <td>...</td>\n",
       "      <td>...</td>\n",
       "      <td>...</td>\n",
       "      <td>...</td>\n",
       "      <td>...</td>\n",
       "      <td>...</td>\n",
       "      <td>...</td>\n",
       "      <td>...</td>\n",
       "      <td>...</td>\n",
       "      <td>...</td>\n",
       "      <td>...</td>\n",
       "      <td>...</td>\n",
       "      <td>...</td>\n",
       "      <td>...</td>\n",
       "      <td>...</td>\n",
       "      <td>...</td>\n",
       "    </tr>\n",
       "    <tr>\n",
       "      <td>25177</td>\n",
       "      <td>0</td>\n",
       "      <td>0</td>\n",
       "      <td>0</td>\n",
       "      <td>0</td>\n",
       "      <td>0</td>\n",
       "      <td>0</td>\n",
       "      <td>0</td>\n",
       "      <td>0</td>\n",
       "      <td>0</td>\n",
       "      <td>0</td>\n",
       "      <td>...</td>\n",
       "      <td>0</td>\n",
       "      <td>0</td>\n",
       "      <td>0</td>\n",
       "      <td>0</td>\n",
       "      <td>0</td>\n",
       "      <td>0</td>\n",
       "      <td>0</td>\n",
       "      <td>0</td>\n",
       "      <td>0</td>\n",
       "      <td>0</td>\n",
       "    </tr>\n",
       "    <tr>\n",
       "      <td>25178</td>\n",
       "      <td>0</td>\n",
       "      <td>0</td>\n",
       "      <td>0</td>\n",
       "      <td>0</td>\n",
       "      <td>0</td>\n",
       "      <td>0</td>\n",
       "      <td>0</td>\n",
       "      <td>0</td>\n",
       "      <td>0</td>\n",
       "      <td>0</td>\n",
       "      <td>...</td>\n",
       "      <td>0</td>\n",
       "      <td>0</td>\n",
       "      <td>0</td>\n",
       "      <td>0</td>\n",
       "      <td>0</td>\n",
       "      <td>0</td>\n",
       "      <td>0</td>\n",
       "      <td>0</td>\n",
       "      <td>0</td>\n",
       "      <td>0</td>\n",
       "    </tr>\n",
       "    <tr>\n",
       "      <td>25179</td>\n",
       "      <td>0</td>\n",
       "      <td>0</td>\n",
       "      <td>0</td>\n",
       "      <td>0</td>\n",
       "      <td>0</td>\n",
       "      <td>0</td>\n",
       "      <td>0</td>\n",
       "      <td>0</td>\n",
       "      <td>0</td>\n",
       "      <td>0</td>\n",
       "      <td>...</td>\n",
       "      <td>0</td>\n",
       "      <td>0</td>\n",
       "      <td>0</td>\n",
       "      <td>0</td>\n",
       "      <td>0</td>\n",
       "      <td>0</td>\n",
       "      <td>0</td>\n",
       "      <td>0</td>\n",
       "      <td>0</td>\n",
       "      <td>0</td>\n",
       "    </tr>\n",
       "    <tr>\n",
       "      <td>25180</td>\n",
       "      <td>0</td>\n",
       "      <td>0</td>\n",
       "      <td>0</td>\n",
       "      <td>0</td>\n",
       "      <td>0</td>\n",
       "      <td>0</td>\n",
       "      <td>0</td>\n",
       "      <td>0</td>\n",
       "      <td>0</td>\n",
       "      <td>0</td>\n",
       "      <td>...</td>\n",
       "      <td>0</td>\n",
       "      <td>0</td>\n",
       "      <td>0</td>\n",
       "      <td>0</td>\n",
       "      <td>0</td>\n",
       "      <td>0</td>\n",
       "      <td>0</td>\n",
       "      <td>0</td>\n",
       "      <td>0</td>\n",
       "      <td>0</td>\n",
       "    </tr>\n",
       "    <tr>\n",
       "      <td>25181</td>\n",
       "      <td>0</td>\n",
       "      <td>0</td>\n",
       "      <td>0</td>\n",
       "      <td>0</td>\n",
       "      <td>0</td>\n",
       "      <td>0</td>\n",
       "      <td>0</td>\n",
       "      <td>0</td>\n",
       "      <td>0</td>\n",
       "      <td>0</td>\n",
       "      <td>...</td>\n",
       "      <td>0</td>\n",
       "      <td>0</td>\n",
       "      <td>0</td>\n",
       "      <td>0</td>\n",
       "      <td>0</td>\n",
       "      <td>0</td>\n",
       "      <td>0</td>\n",
       "      <td>0</td>\n",
       "      <td>0</td>\n",
       "      <td>0</td>\n",
       "    </tr>\n",
       "  </tbody>\n",
       "</table>\n",
       "<p>25182 rows × 970 columns</p>\n",
       "</div>"
      ],
      "text/plain": [
       "       Banned Books  Skepticism  M M M  Asexual  Womens Fiction  \\\n",
       "0                 0           0      0        0               0   \n",
       "1                 0           0      0        0               0   \n",
       "2                 0           0      0        0               0   \n",
       "3                 0           0      0        0               0   \n",
       "4                 0           0      0        0               0   \n",
       "...             ...         ...    ...      ...             ...   \n",
       "25177             0           0      0        0               0   \n",
       "25178             0           0      0        0               0   \n",
       "25179             0           0      0        0               0   \n",
       "25180             0           0      0        0               0   \n",
       "25181             0           0      0        0               0   \n",
       "\n",
       "       Fractured Fairy Tales  Splatterpunk  Humanities  Planets  Theology  \\\n",
       "0                          0             0           0        0         0   \n",
       "1                          0             0           0        0         0   \n",
       "2                          0             0           0        0         0   \n",
       "3                          0             0           0        0         0   \n",
       "4                          0             0           0        0         0   \n",
       "...                      ...           ...         ...      ...       ...   \n",
       "25177                      0             0           0        0         0   \n",
       "25178                      0             0           0        0         0   \n",
       "25179                      0             0           0        0         0   \n",
       "25180                      0             0           0        0         0   \n",
       "25181                      0             0           0        0         0   \n",
       "\n",
       "       ...  Southern  Juvenile  Historical Fantasy  Figure Skating  \\\n",
       "0      ...         0         0                   0               0   \n",
       "1      ...         0         0                   0               0   \n",
       "2      ...         0         0                   0               0   \n",
       "3      ...         0         0                   0               0   \n",
       "4      ...         0         0                   0               0   \n",
       "...    ...       ...       ...                 ...             ...   \n",
       "25177  ...         0         0                   0               0   \n",
       "25178  ...         0         0                   0               0   \n",
       "25179  ...         0         0                   0               0   \n",
       "25180  ...         0         0                   0               0   \n",
       "25181  ...         0         0                   0               0   \n",
       "\n",
       "       Queer Studies  Japanese History  Students  Anthologies  \\\n",
       "0                  0                 0         0            0   \n",
       "1                  0                 0         0            0   \n",
       "2                  0                 0         0            0   \n",
       "3                  0                 0         0            0   \n",
       "4                  0                 0         0            0   \n",
       "...              ...               ...       ...          ...   \n",
       "25177              0                 0         0            0   \n",
       "25178              0                 0         0            0   \n",
       "25179              0                 0         0            0   \n",
       "25180              0                 0         0            0   \n",
       "25181              0                 0         0            0   \n",
       "\n",
       "       Biblical Fiction  Faith  \n",
       "0                     0      0  \n",
       "1                     0      0  \n",
       "2                     0      0  \n",
       "3                     0      0  \n",
       "4                     0      0  \n",
       "...                 ...    ...  \n",
       "25177                 0      0  \n",
       "25178                 0      0  \n",
       "25179                 0      0  \n",
       "25180                 0      0  \n",
       "25181                 0      0  \n",
       "\n",
       "[25182 rows x 970 columns]"
      ]
     },
     "execution_count": 22,
     "metadata": {},
     "output_type": "execute_result"
    }
   ],
   "source": [
    "genres"
   ]
  },
  {
   "cell_type": "code",
   "execution_count": 23,
   "metadata": {
    "ExecuteTime": {
     "end_time": "2021-10-18T07:42:59.450349Z",
     "start_time": "2021-10-18T07:42:59.447506Z"
    }
   },
   "outputs": [],
   "source": [
    "df.reset_index(inplace=True)"
   ]
  },
  {
   "cell_type": "code",
   "execution_count": 24,
   "metadata": {
    "ExecuteTime": {
     "end_time": "2021-10-18T07:42:59.645128Z",
     "start_time": "2021-10-18T07:42:59.452807Z"
    }
   },
   "outputs": [
    {
     "data": {
      "text/html": [
       "<div>\n",
       "<style scoped>\n",
       "    .dataframe tbody tr th:only-of-type {\n",
       "        vertical-align: middle;\n",
       "    }\n",
       "\n",
       "    .dataframe tbody tr th {\n",
       "        vertical-align: top;\n",
       "    }\n",
       "\n",
       "    .dataframe thead th {\n",
       "        text-align: right;\n",
       "    }\n",
       "</style>\n",
       "<table border=\"1\" class=\"dataframe\">\n",
       "  <thead>\n",
       "    <tr style=\"text-align: right;\">\n",
       "      <th></th>\n",
       "      <th>index</th>\n",
       "      <th>Title</th>\n",
       "      <th>Author</th>\n",
       "      <th>Description</th>\n",
       "      <th>Publisher</th>\n",
       "      <th>Year Published</th>\n",
       "      <th>Genres</th>\n",
       "      <th>Page Count</th>\n",
       "      <th>Banned Books</th>\n",
       "      <th>Skepticism</th>\n",
       "      <th>...</th>\n",
       "      <th>Southern</th>\n",
       "      <th>Juvenile</th>\n",
       "      <th>Historical Fantasy</th>\n",
       "      <th>Figure Skating</th>\n",
       "      <th>Queer Studies</th>\n",
       "      <th>Japanese History</th>\n",
       "      <th>Students</th>\n",
       "      <th>Anthologies</th>\n",
       "      <th>Biblical Fiction</th>\n",
       "      <th>Faith</th>\n",
       "    </tr>\n",
       "  </thead>\n",
       "  <tbody>\n",
       "    <tr>\n",
       "      <td>0</td>\n",
       "      <td>0</td>\n",
       "      <td>The Strange Maid</td>\n",
       "      <td>[Tessa Gratton]</td>\n",
       "      <td>Fans of Neil Gaiman, Holly Black, and Maggie S...</td>\n",
       "      <td>Random House Books for Young Readers</td>\n",
       "      <td>2014.0</td>\n",
       "      <td>[Fantasy, Young Adult, Fantasy, Mythology, Fic...</td>\n",
       "      <td>400.0</td>\n",
       "      <td>0</td>\n",
       "      <td>0</td>\n",
       "      <td>...</td>\n",
       "      <td>0</td>\n",
       "      <td>0</td>\n",
       "      <td>0</td>\n",
       "      <td>0</td>\n",
       "      <td>0</td>\n",
       "      <td>0</td>\n",
       "      <td>0</td>\n",
       "      <td>0</td>\n",
       "      <td>0</td>\n",
       "      <td>0</td>\n",
       "    </tr>\n",
       "    <tr>\n",
       "      <td>1</td>\n",
       "      <td>1</td>\n",
       "      <td>A Darker Domain</td>\n",
       "      <td>[Val McDermid]</td>\n",
       "      <td>1984, Fife. Heiress Catriona Maclennan Grant &amp;...</td>\n",
       "      <td>HarperCollins Publishers</td>\n",
       "      <td>2008.0</td>\n",
       "      <td>[Mystery, Mystery, Crime, Fiction, Cultural, S...</td>\n",
       "      <td>371.0</td>\n",
       "      <td>0</td>\n",
       "      <td>0</td>\n",
       "      <td>...</td>\n",
       "      <td>0</td>\n",
       "      <td>0</td>\n",
       "      <td>0</td>\n",
       "      <td>0</td>\n",
       "      <td>0</td>\n",
       "      <td>0</td>\n",
       "      <td>0</td>\n",
       "      <td>0</td>\n",
       "      <td>0</td>\n",
       "      <td>0</td>\n",
       "    </tr>\n",
       "    <tr>\n",
       "      <td>2</td>\n",
       "      <td>2</td>\n",
       "      <td>A Thousand Naked Strangers: A Paramedic's Wild...</td>\n",
       "      <td>[Kevin Hazzard]</td>\n",
       "      <td>A former paramedic’s visceral, poignant, and m...</td>\n",
       "      <td>Scribner</td>\n",
       "      <td>2016.0</td>\n",
       "      <td>[Nonfiction, Autobiography, Memoir, Medical, B...</td>\n",
       "      <td>261.0</td>\n",
       "      <td>0</td>\n",
       "      <td>0</td>\n",
       "      <td>...</td>\n",
       "      <td>0</td>\n",
       "      <td>0</td>\n",
       "      <td>0</td>\n",
       "      <td>0</td>\n",
       "      <td>0</td>\n",
       "      <td>0</td>\n",
       "      <td>0</td>\n",
       "      <td>0</td>\n",
       "      <td>0</td>\n",
       "      <td>0</td>\n",
       "    </tr>\n",
       "    <tr>\n",
       "      <td>3</td>\n",
       "      <td>5</td>\n",
       "      <td>Hester Roon</td>\n",
       "      <td>[Norah Lofts]</td>\n",
       "      <td>The Fleece Inn stood where the three roads joi...</td>\n",
       "      <td>Corgi</td>\n",
       "      <td>1940.0</td>\n",
       "      <td>[Historical, Historical Fiction, Historical, L...</td>\n",
       "      <td>320.0</td>\n",
       "      <td>0</td>\n",
       "      <td>0</td>\n",
       "      <td>...</td>\n",
       "      <td>0</td>\n",
       "      <td>0</td>\n",
       "      <td>0</td>\n",
       "      <td>0</td>\n",
       "      <td>0</td>\n",
       "      <td>0</td>\n",
       "      <td>0</td>\n",
       "      <td>0</td>\n",
       "      <td>0</td>\n",
       "      <td>0</td>\n",
       "    </tr>\n",
       "    <tr>\n",
       "      <td>4</td>\n",
       "      <td>6</td>\n",
       "      <td>The Trouble with Playing Cupid</td>\n",
       "      <td>[Tamara Philip]</td>\n",
       "      <td>One New Year's Eve, shy singer, December Brown...</td>\n",
       "      <td>Vanilla Heart Publishing</td>\n",
       "      <td>2014.0</td>\n",
       "      <td>[Romance, Contemporary]</td>\n",
       "      <td>176.0</td>\n",
       "      <td>0</td>\n",
       "      <td>0</td>\n",
       "      <td>...</td>\n",
       "      <td>0</td>\n",
       "      <td>0</td>\n",
       "      <td>0</td>\n",
       "      <td>0</td>\n",
       "      <td>0</td>\n",
       "      <td>0</td>\n",
       "      <td>0</td>\n",
       "      <td>0</td>\n",
       "      <td>0</td>\n",
       "      <td>0</td>\n",
       "    </tr>\n",
       "    <tr>\n",
       "      <td>...</td>\n",
       "      <td>...</td>\n",
       "      <td>...</td>\n",
       "      <td>...</td>\n",
       "      <td>...</td>\n",
       "      <td>...</td>\n",
       "      <td>...</td>\n",
       "      <td>...</td>\n",
       "      <td>...</td>\n",
       "      <td>...</td>\n",
       "      <td>...</td>\n",
       "      <td>...</td>\n",
       "      <td>...</td>\n",
       "      <td>...</td>\n",
       "      <td>...</td>\n",
       "      <td>...</td>\n",
       "      <td>...</td>\n",
       "      <td>...</td>\n",
       "      <td>...</td>\n",
       "      <td>...</td>\n",
       "      <td>...</td>\n",
       "      <td>...</td>\n",
       "    </tr>\n",
       "    <tr>\n",
       "      <td>25177</td>\n",
       "      <td>29994</td>\n",
       "      <td>The Lonely Hunter: A Biography of Carson McCul...</td>\n",
       "      <td>[Virginia Spencer Carr, Tennessee Williams]</td>\n",
       "      <td>The Lonely Hunter is widely accepted as the st...</td>\n",
       "      <td>University of Georgia Press</td>\n",
       "      <td>1975.0</td>\n",
       "      <td>[Biography, Nonfiction, History, Race, Gothic,...</td>\n",
       "      <td>680.0</td>\n",
       "      <td>0</td>\n",
       "      <td>0</td>\n",
       "      <td>...</td>\n",
       "      <td>0</td>\n",
       "      <td>0</td>\n",
       "      <td>0</td>\n",
       "      <td>0</td>\n",
       "      <td>0</td>\n",
       "      <td>0</td>\n",
       "      <td>0</td>\n",
       "      <td>0</td>\n",
       "      <td>0</td>\n",
       "      <td>0</td>\n",
       "    </tr>\n",
       "    <tr>\n",
       "      <td>25178</td>\n",
       "      <td>29995</td>\n",
       "      <td>The Twice Lost</td>\n",
       "      <td>[Sarah  Porter]</td>\n",
       "      <td>Mermaids have been sinking ships and drowning ...</td>\n",
       "      <td>Houghton Mifflin Harcourt</td>\n",
       "      <td>2013.0</td>\n",
       "      <td>[Mythology, Mermaids, Fantasy, Young Adult, Ro...</td>\n",
       "      <td>480.0</td>\n",
       "      <td>0</td>\n",
       "      <td>0</td>\n",
       "      <td>...</td>\n",
       "      <td>0</td>\n",
       "      <td>0</td>\n",
       "      <td>0</td>\n",
       "      <td>0</td>\n",
       "      <td>0</td>\n",
       "      <td>0</td>\n",
       "      <td>0</td>\n",
       "      <td>0</td>\n",
       "      <td>0</td>\n",
       "      <td>0</td>\n",
       "    </tr>\n",
       "    <tr>\n",
       "      <td>25179</td>\n",
       "      <td>29996</td>\n",
       "      <td>Headscarves and Hymens: Why the Middle East Ne...</td>\n",
       "      <td>[Mona Eltahawy]</td>\n",
       "      <td>A passionate manifesto decrying misogyny in th...</td>\n",
       "      <td>Farrar, Straus and Giroux</td>\n",
       "      <td>2015.0</td>\n",
       "      <td>[Nonfiction, Feminism, Politics, Religion, Rel...</td>\n",
       "      <td>240.0</td>\n",
       "      <td>0</td>\n",
       "      <td>0</td>\n",
       "      <td>...</td>\n",
       "      <td>0</td>\n",
       "      <td>0</td>\n",
       "      <td>0</td>\n",
       "      <td>0</td>\n",
       "      <td>0</td>\n",
       "      <td>0</td>\n",
       "      <td>0</td>\n",
       "      <td>0</td>\n",
       "      <td>0</td>\n",
       "      <td>0</td>\n",
       "    </tr>\n",
       "    <tr>\n",
       "      <td>25180</td>\n",
       "      <td>29997</td>\n",
       "      <td>The Strange Library</td>\n",
       "      <td>[Haruki Murakami, Ted Goossen, Chip Kidd]</td>\n",
       "      <td>From internationally acclaimed author Haruki M...</td>\n",
       "      <td>Knopf</td>\n",
       "      <td>2001.0</td>\n",
       "      <td>[Fiction, Fantasy, Short Stories, Magical Real...</td>\n",
       "      <td>96.0</td>\n",
       "      <td>0</td>\n",
       "      <td>0</td>\n",
       "      <td>...</td>\n",
       "      <td>0</td>\n",
       "      <td>0</td>\n",
       "      <td>0</td>\n",
       "      <td>0</td>\n",
       "      <td>0</td>\n",
       "      <td>0</td>\n",
       "      <td>0</td>\n",
       "      <td>0</td>\n",
       "      <td>0</td>\n",
       "      <td>0</td>\n",
       "    </tr>\n",
       "    <tr>\n",
       "      <td>25181</td>\n",
       "      <td>29998</td>\n",
       "      <td>Dreadnought</td>\n",
       "      <td>[Robert K. Massie]</td>\n",
       "      <td>Pulitzer Prize-winning author, Robert K. Massi...</td>\n",
       "      <td>Ballantine Books</td>\n",
       "      <td>1991.0</td>\n",
       "      <td>[History, Nonfiction, Military, Military Histo...</td>\n",
       "      <td>1040.0</td>\n",
       "      <td>0</td>\n",
       "      <td>0</td>\n",
       "      <td>...</td>\n",
       "      <td>0</td>\n",
       "      <td>0</td>\n",
       "      <td>0</td>\n",
       "      <td>0</td>\n",
       "      <td>0</td>\n",
       "      <td>0</td>\n",
       "      <td>0</td>\n",
       "      <td>0</td>\n",
       "      <td>0</td>\n",
       "      <td>0</td>\n",
       "    </tr>\n",
       "  </tbody>\n",
       "</table>\n",
       "<p>25182 rows × 978 columns</p>\n",
       "</div>"
      ],
      "text/plain": [
       "       index                                              Title  \\\n",
       "0          0                                   The Strange Maid   \n",
       "1          1                                    A Darker Domain   \n",
       "2          2  A Thousand Naked Strangers: A Paramedic's Wild...   \n",
       "3          5                                        Hester Roon   \n",
       "4          6                     The Trouble with Playing Cupid   \n",
       "...      ...                                                ...   \n",
       "25177  29994  The Lonely Hunter: A Biography of Carson McCul...   \n",
       "25178  29995                                     The Twice Lost   \n",
       "25179  29996  Headscarves and Hymens: Why the Middle East Ne...   \n",
       "25180  29997                                The Strange Library   \n",
       "25181  29998                                        Dreadnought   \n",
       "\n",
       "                                            Author  \\\n",
       "0                                  [Tessa Gratton]   \n",
       "1                                   [Val McDermid]   \n",
       "2                                  [Kevin Hazzard]   \n",
       "3                                    [Norah Lofts]   \n",
       "4                                  [Tamara Philip]   \n",
       "...                                            ...   \n",
       "25177  [Virginia Spencer Carr, Tennessee Williams]   \n",
       "25178                              [Sarah  Porter]   \n",
       "25179                              [Mona Eltahawy]   \n",
       "25180    [Haruki Murakami, Ted Goossen, Chip Kidd]   \n",
       "25181                           [Robert K. Massie]   \n",
       "\n",
       "                                             Description  \\\n",
       "0      Fans of Neil Gaiman, Holly Black, and Maggie S...   \n",
       "1      1984, Fife. Heiress Catriona Maclennan Grant &...   \n",
       "2      A former paramedic’s visceral, poignant, and m...   \n",
       "3      The Fleece Inn stood where the three roads joi...   \n",
       "4      One New Year's Eve, shy singer, December Brown...   \n",
       "...                                                  ...   \n",
       "25177  The Lonely Hunter is widely accepted as the st...   \n",
       "25178  Mermaids have been sinking ships and drowning ...   \n",
       "25179  A passionate manifesto decrying misogyny in th...   \n",
       "25180  From internationally acclaimed author Haruki M...   \n",
       "25181  Pulitzer Prize-winning author, Robert K. Massi...   \n",
       "\n",
       "                                  Publisher  Year Published  \\\n",
       "0      Random House Books for Young Readers          2014.0   \n",
       "1                  HarperCollins Publishers          2008.0   \n",
       "2                                  Scribner          2016.0   \n",
       "3                                     Corgi          1940.0   \n",
       "4                  Vanilla Heart Publishing          2014.0   \n",
       "...                                     ...             ...   \n",
       "25177           University of Georgia Press          1975.0   \n",
       "25178             Houghton Mifflin Harcourt          2013.0   \n",
       "25179             Farrar, Straus and Giroux          2015.0   \n",
       "25180                                 Knopf          2001.0   \n",
       "25181                      Ballantine Books          1991.0   \n",
       "\n",
       "                                                  Genres  Page Count  \\\n",
       "0      [Fantasy, Young Adult, Fantasy, Mythology, Fic...       400.0   \n",
       "1      [Mystery, Mystery, Crime, Fiction, Cultural, S...       371.0   \n",
       "2      [Nonfiction, Autobiography, Memoir, Medical, B...       261.0   \n",
       "3      [Historical, Historical Fiction, Historical, L...       320.0   \n",
       "4                                [Romance, Contemporary]       176.0   \n",
       "...                                                  ...         ...   \n",
       "25177  [Biography, Nonfiction, History, Race, Gothic,...       680.0   \n",
       "25178  [Mythology, Mermaids, Fantasy, Young Adult, Ro...       480.0   \n",
       "25179  [Nonfiction, Feminism, Politics, Religion, Rel...       240.0   \n",
       "25180  [Fiction, Fantasy, Short Stories, Magical Real...        96.0   \n",
       "25181  [History, Nonfiction, Military, Military Histo...      1040.0   \n",
       "\n",
       "       Banned Books  Skepticism  ...  Southern  Juvenile  Historical Fantasy  \\\n",
       "0                 0           0  ...         0         0                   0   \n",
       "1                 0           0  ...         0         0                   0   \n",
       "2                 0           0  ...         0         0                   0   \n",
       "3                 0           0  ...         0         0                   0   \n",
       "4                 0           0  ...         0         0                   0   \n",
       "...             ...         ...  ...       ...       ...                 ...   \n",
       "25177             0           0  ...         0         0                   0   \n",
       "25178             0           0  ...         0         0                   0   \n",
       "25179             0           0  ...         0         0                   0   \n",
       "25180             0           0  ...         0         0                   0   \n",
       "25181             0           0  ...         0         0                   0   \n",
       "\n",
       "       Figure Skating  Queer Studies  Japanese History  Students  Anthologies  \\\n",
       "0                   0              0                 0         0            0   \n",
       "1                   0              0                 0         0            0   \n",
       "2                   0              0                 0         0            0   \n",
       "3                   0              0                 0         0            0   \n",
       "4                   0              0                 0         0            0   \n",
       "...               ...            ...               ...       ...          ...   \n",
       "25177               0              0                 0         0            0   \n",
       "25178               0              0                 0         0            0   \n",
       "25179               0              0                 0         0            0   \n",
       "25180               0              0                 0         0            0   \n",
       "25181               0              0                 0         0            0   \n",
       "\n",
       "       Biblical Fiction  Faith  \n",
       "0                     0      0  \n",
       "1                     0      0  \n",
       "2                     0      0  \n",
       "3                     0      0  \n",
       "4                     0      0  \n",
       "...                 ...    ...  \n",
       "25177                 0      0  \n",
       "25178                 0      0  \n",
       "25179                 0      0  \n",
       "25180                 0      0  \n",
       "25181                 0      0  \n",
       "\n",
       "[25182 rows x 978 columns]"
      ]
     },
     "execution_count": 24,
     "metadata": {},
     "output_type": "execute_result"
    }
   ],
   "source": [
    "df = pd.concat([df, genres], axis=1)\n",
    "df"
   ]
  },
  {
   "cell_type": "code",
   "execution_count": 25,
   "metadata": {
    "ExecuteTime": {
     "end_time": "2021-10-18T07:43:00.191024Z",
     "start_time": "2021-10-18T07:42:59.647318Z"
    }
   },
   "outputs": [
    {
     "data": {
      "text/html": [
       "<div>\n",
       "<style scoped>\n",
       "    .dataframe tbody tr th:only-of-type {\n",
       "        vertical-align: middle;\n",
       "    }\n",
       "\n",
       "    .dataframe tbody tr th {\n",
       "        vertical-align: top;\n",
       "    }\n",
       "\n",
       "    .dataframe thead th {\n",
       "        text-align: right;\n",
       "    }\n",
       "</style>\n",
       "<table border=\"1\" class=\"dataframe\">\n",
       "  <thead>\n",
       "    <tr style=\"text-align: right;\">\n",
       "      <th></th>\n",
       "      <th>Title</th>\n",
       "      <th>Author</th>\n",
       "      <th>Description</th>\n",
       "      <th>Publisher</th>\n",
       "      <th>Year Published</th>\n",
       "      <th>Genres</th>\n",
       "      <th>Page Count</th>\n",
       "      <th>Banned Books</th>\n",
       "      <th>Skepticism</th>\n",
       "      <th>M M M</th>\n",
       "      <th>...</th>\n",
       "      <th>Southern</th>\n",
       "      <th>Juvenile</th>\n",
       "      <th>Historical Fantasy</th>\n",
       "      <th>Figure Skating</th>\n",
       "      <th>Queer Studies</th>\n",
       "      <th>Japanese History</th>\n",
       "      <th>Students</th>\n",
       "      <th>Anthologies</th>\n",
       "      <th>Biblical Fiction</th>\n",
       "      <th>Faith</th>\n",
       "    </tr>\n",
       "  </thead>\n",
       "  <tbody>\n",
       "    <tr>\n",
       "      <td>0</td>\n",
       "      <td>The Strange Maid</td>\n",
       "      <td>[Tessa Gratton]</td>\n",
       "      <td>Fans of Neil Gaiman, Holly Black, and Maggie S...</td>\n",
       "      <td>Random House Books for Young Readers</td>\n",
       "      <td>2014.0</td>\n",
       "      <td>[Fantasy, Young Adult, Fantasy, Mythology, Fic...</td>\n",
       "      <td>400.0</td>\n",
       "      <td>0</td>\n",
       "      <td>0</td>\n",
       "      <td>0</td>\n",
       "      <td>...</td>\n",
       "      <td>0</td>\n",
       "      <td>0</td>\n",
       "      <td>0</td>\n",
       "      <td>0</td>\n",
       "      <td>0</td>\n",
       "      <td>0</td>\n",
       "      <td>0</td>\n",
       "      <td>0</td>\n",
       "      <td>0</td>\n",
       "      <td>0</td>\n",
       "    </tr>\n",
       "    <tr>\n",
       "      <td>2</td>\n",
       "      <td>A Thousand Naked Strangers: A Paramedic's Wild...</td>\n",
       "      <td>[Kevin Hazzard]</td>\n",
       "      <td>A former paramedic’s visceral, poignant, and m...</td>\n",
       "      <td>Scribner</td>\n",
       "      <td>2016.0</td>\n",
       "      <td>[Nonfiction, Autobiography, Memoir, Medical, B...</td>\n",
       "      <td>261.0</td>\n",
       "      <td>0</td>\n",
       "      <td>0</td>\n",
       "      <td>0</td>\n",
       "      <td>...</td>\n",
       "      <td>0</td>\n",
       "      <td>0</td>\n",
       "      <td>0</td>\n",
       "      <td>0</td>\n",
       "      <td>0</td>\n",
       "      <td>0</td>\n",
       "      <td>0</td>\n",
       "      <td>0</td>\n",
       "      <td>0</td>\n",
       "      <td>0</td>\n",
       "    </tr>\n",
       "    <tr>\n",
       "      <td>3</td>\n",
       "      <td>Hester Roon</td>\n",
       "      <td>[Norah Lofts]</td>\n",
       "      <td>The Fleece Inn stood where the three roads joi...</td>\n",
       "      <td>Corgi</td>\n",
       "      <td>1940.0</td>\n",
       "      <td>[Historical, Historical Fiction, Historical, L...</td>\n",
       "      <td>320.0</td>\n",
       "      <td>0</td>\n",
       "      <td>0</td>\n",
       "      <td>0</td>\n",
       "      <td>...</td>\n",
       "      <td>0</td>\n",
       "      <td>0</td>\n",
       "      <td>0</td>\n",
       "      <td>0</td>\n",
       "      <td>0</td>\n",
       "      <td>0</td>\n",
       "      <td>0</td>\n",
       "      <td>0</td>\n",
       "      <td>0</td>\n",
       "      <td>0</td>\n",
       "    </tr>\n",
       "    <tr>\n",
       "      <td>4</td>\n",
       "      <td>The Trouble with Playing Cupid</td>\n",
       "      <td>[Tamara Philip]</td>\n",
       "      <td>One New Year's Eve, shy singer, December Brown...</td>\n",
       "      <td>Vanilla Heart Publishing</td>\n",
       "      <td>2014.0</td>\n",
       "      <td>[Romance, Contemporary]</td>\n",
       "      <td>176.0</td>\n",
       "      <td>0</td>\n",
       "      <td>0</td>\n",
       "      <td>0</td>\n",
       "      <td>...</td>\n",
       "      <td>0</td>\n",
       "      <td>0</td>\n",
       "      <td>0</td>\n",
       "      <td>0</td>\n",
       "      <td>0</td>\n",
       "      <td>0</td>\n",
       "      <td>0</td>\n",
       "      <td>0</td>\n",
       "      <td>0</td>\n",
       "      <td>0</td>\n",
       "    </tr>\n",
       "    <tr>\n",
       "      <td>5</td>\n",
       "      <td>Suicide Watch</td>\n",
       "      <td>[Kelley York]</td>\n",
       "      <td>18-year-old Vincent has spent his entire life ...</td>\n",
       "      <td>Kelley York</td>\n",
       "      <td>2012.0</td>\n",
       "      <td>[Romance, M M Romance, Young Adult, LGBT, Cont...</td>\n",
       "      <td>220.0</td>\n",
       "      <td>0</td>\n",
       "      <td>0</td>\n",
       "      <td>0</td>\n",
       "      <td>...</td>\n",
       "      <td>0</td>\n",
       "      <td>0</td>\n",
       "      <td>0</td>\n",
       "      <td>0</td>\n",
       "      <td>0</td>\n",
       "      <td>0</td>\n",
       "      <td>0</td>\n",
       "      <td>0</td>\n",
       "      <td>0</td>\n",
       "      <td>0</td>\n",
       "    </tr>\n",
       "    <tr>\n",
       "      <td>...</td>\n",
       "      <td>...</td>\n",
       "      <td>...</td>\n",
       "      <td>...</td>\n",
       "      <td>...</td>\n",
       "      <td>...</td>\n",
       "      <td>...</td>\n",
       "      <td>...</td>\n",
       "      <td>...</td>\n",
       "      <td>...</td>\n",
       "      <td>...</td>\n",
       "      <td>...</td>\n",
       "      <td>...</td>\n",
       "      <td>...</td>\n",
       "      <td>...</td>\n",
       "      <td>...</td>\n",
       "      <td>...</td>\n",
       "      <td>...</td>\n",
       "      <td>...</td>\n",
       "      <td>...</td>\n",
       "      <td>...</td>\n",
       "      <td>...</td>\n",
       "    </tr>\n",
       "    <tr>\n",
       "      <td>25177</td>\n",
       "      <td>The Lonely Hunter: A Biography of Carson McCul...</td>\n",
       "      <td>[Virginia Spencer Carr, Tennessee Williams]</td>\n",
       "      <td>The Lonely Hunter is widely accepted as the st...</td>\n",
       "      <td>University of Georgia Press</td>\n",
       "      <td>1975.0</td>\n",
       "      <td>[Biography, Nonfiction, History, Race, Gothic,...</td>\n",
       "      <td>680.0</td>\n",
       "      <td>0</td>\n",
       "      <td>0</td>\n",
       "      <td>0</td>\n",
       "      <td>...</td>\n",
       "      <td>0</td>\n",
       "      <td>0</td>\n",
       "      <td>0</td>\n",
       "      <td>0</td>\n",
       "      <td>0</td>\n",
       "      <td>0</td>\n",
       "      <td>0</td>\n",
       "      <td>0</td>\n",
       "      <td>0</td>\n",
       "      <td>0</td>\n",
       "    </tr>\n",
       "    <tr>\n",
       "      <td>25178</td>\n",
       "      <td>The Twice Lost</td>\n",
       "      <td>[Sarah  Porter]</td>\n",
       "      <td>Mermaids have been sinking ships and drowning ...</td>\n",
       "      <td>Houghton Mifflin Harcourt</td>\n",
       "      <td>2013.0</td>\n",
       "      <td>[Mythology, Mermaids, Fantasy, Young Adult, Ro...</td>\n",
       "      <td>480.0</td>\n",
       "      <td>0</td>\n",
       "      <td>0</td>\n",
       "      <td>0</td>\n",
       "      <td>...</td>\n",
       "      <td>0</td>\n",
       "      <td>0</td>\n",
       "      <td>0</td>\n",
       "      <td>0</td>\n",
       "      <td>0</td>\n",
       "      <td>0</td>\n",
       "      <td>0</td>\n",
       "      <td>0</td>\n",
       "      <td>0</td>\n",
       "      <td>0</td>\n",
       "    </tr>\n",
       "    <tr>\n",
       "      <td>25179</td>\n",
       "      <td>Headscarves and Hymens: Why the Middle East Ne...</td>\n",
       "      <td>[Mona Eltahawy]</td>\n",
       "      <td>A passionate manifesto decrying misogyny in th...</td>\n",
       "      <td>Farrar, Straus and Giroux</td>\n",
       "      <td>2015.0</td>\n",
       "      <td>[Nonfiction, Feminism, Politics, Religion, Rel...</td>\n",
       "      <td>240.0</td>\n",
       "      <td>0</td>\n",
       "      <td>0</td>\n",
       "      <td>0</td>\n",
       "      <td>...</td>\n",
       "      <td>0</td>\n",
       "      <td>0</td>\n",
       "      <td>0</td>\n",
       "      <td>0</td>\n",
       "      <td>0</td>\n",
       "      <td>0</td>\n",
       "      <td>0</td>\n",
       "      <td>0</td>\n",
       "      <td>0</td>\n",
       "      <td>0</td>\n",
       "    </tr>\n",
       "    <tr>\n",
       "      <td>25180</td>\n",
       "      <td>The Strange Library</td>\n",
       "      <td>[Haruki Murakami, Ted Goossen, Chip Kidd]</td>\n",
       "      <td>From internationally acclaimed author Haruki M...</td>\n",
       "      <td>Knopf</td>\n",
       "      <td>2001.0</td>\n",
       "      <td>[Fiction, Fantasy, Short Stories, Magical Real...</td>\n",
       "      <td>96.0</td>\n",
       "      <td>0</td>\n",
       "      <td>0</td>\n",
       "      <td>0</td>\n",
       "      <td>...</td>\n",
       "      <td>0</td>\n",
       "      <td>0</td>\n",
       "      <td>0</td>\n",
       "      <td>0</td>\n",
       "      <td>0</td>\n",
       "      <td>0</td>\n",
       "      <td>0</td>\n",
       "      <td>0</td>\n",
       "      <td>0</td>\n",
       "      <td>0</td>\n",
       "    </tr>\n",
       "    <tr>\n",
       "      <td>25181</td>\n",
       "      <td>Dreadnought</td>\n",
       "      <td>[Robert K. Massie]</td>\n",
       "      <td>Pulitzer Prize-winning author, Robert K. Massi...</td>\n",
       "      <td>Ballantine Books</td>\n",
       "      <td>1991.0</td>\n",
       "      <td>[History, Nonfiction, Military, Military Histo...</td>\n",
       "      <td>1040.0</td>\n",
       "      <td>0</td>\n",
       "      <td>0</td>\n",
       "      <td>0</td>\n",
       "      <td>...</td>\n",
       "      <td>0</td>\n",
       "      <td>0</td>\n",
       "      <td>0</td>\n",
       "      <td>0</td>\n",
       "      <td>0</td>\n",
       "      <td>0</td>\n",
       "      <td>0</td>\n",
       "      <td>0</td>\n",
       "      <td>0</td>\n",
       "      <td>0</td>\n",
       "    </tr>\n",
       "  </tbody>\n",
       "</table>\n",
       "<p>25181 rows × 977 columns</p>\n",
       "</div>"
      ],
      "text/plain": [
       "                                                   Title  \\\n",
       "0                                       The Strange Maid   \n",
       "2      A Thousand Naked Strangers: A Paramedic's Wild...   \n",
       "3                                            Hester Roon   \n",
       "4                         The Trouble with Playing Cupid   \n",
       "5                                          Suicide Watch   \n",
       "...                                                  ...   \n",
       "25177  The Lonely Hunter: A Biography of Carson McCul...   \n",
       "25178                                     The Twice Lost   \n",
       "25179  Headscarves and Hymens: Why the Middle East Ne...   \n",
       "25180                                The Strange Library   \n",
       "25181                                        Dreadnought   \n",
       "\n",
       "                                            Author  \\\n",
       "0                                  [Tessa Gratton]   \n",
       "2                                  [Kevin Hazzard]   \n",
       "3                                    [Norah Lofts]   \n",
       "4                                  [Tamara Philip]   \n",
       "5                                    [Kelley York]   \n",
       "...                                            ...   \n",
       "25177  [Virginia Spencer Carr, Tennessee Williams]   \n",
       "25178                              [Sarah  Porter]   \n",
       "25179                              [Mona Eltahawy]   \n",
       "25180    [Haruki Murakami, Ted Goossen, Chip Kidd]   \n",
       "25181                           [Robert K. Massie]   \n",
       "\n",
       "                                             Description  \\\n",
       "0      Fans of Neil Gaiman, Holly Black, and Maggie S...   \n",
       "2      A former paramedic’s visceral, poignant, and m...   \n",
       "3      The Fleece Inn stood where the three roads joi...   \n",
       "4      One New Year's Eve, shy singer, December Brown...   \n",
       "5      18-year-old Vincent has spent his entire life ...   \n",
       "...                                                  ...   \n",
       "25177  The Lonely Hunter is widely accepted as the st...   \n",
       "25178  Mermaids have been sinking ships and drowning ...   \n",
       "25179  A passionate manifesto decrying misogyny in th...   \n",
       "25180  From internationally acclaimed author Haruki M...   \n",
       "25181  Pulitzer Prize-winning author, Robert K. Massi...   \n",
       "\n",
       "                                  Publisher  Year Published  \\\n",
       "0      Random House Books for Young Readers          2014.0   \n",
       "2                                  Scribner          2016.0   \n",
       "3                                     Corgi          1940.0   \n",
       "4                  Vanilla Heart Publishing          2014.0   \n",
       "5                               Kelley York          2012.0   \n",
       "...                                     ...             ...   \n",
       "25177           University of Georgia Press          1975.0   \n",
       "25178             Houghton Mifflin Harcourt          2013.0   \n",
       "25179             Farrar, Straus and Giroux          2015.0   \n",
       "25180                                 Knopf          2001.0   \n",
       "25181                      Ballantine Books          1991.0   \n",
       "\n",
       "                                                  Genres  Page Count  \\\n",
       "0      [Fantasy, Young Adult, Fantasy, Mythology, Fic...       400.0   \n",
       "2      [Nonfiction, Autobiography, Memoir, Medical, B...       261.0   \n",
       "3      [Historical, Historical Fiction, Historical, L...       320.0   \n",
       "4                                [Romance, Contemporary]       176.0   \n",
       "5      [Romance, M M Romance, Young Adult, LGBT, Cont...       220.0   \n",
       "...                                                  ...         ...   \n",
       "25177  [Biography, Nonfiction, History, Race, Gothic,...       680.0   \n",
       "25178  [Mythology, Mermaids, Fantasy, Young Adult, Ro...       480.0   \n",
       "25179  [Nonfiction, Feminism, Politics, Religion, Rel...       240.0   \n",
       "25180  [Fiction, Fantasy, Short Stories, Magical Real...        96.0   \n",
       "25181  [History, Nonfiction, Military, Military Histo...      1040.0   \n",
       "\n",
       "       Banned Books  Skepticism  M M M  ...  Southern  Juvenile  \\\n",
       "0                 0           0      0  ...         0         0   \n",
       "2                 0           0      0  ...         0         0   \n",
       "3                 0           0      0  ...         0         0   \n",
       "4                 0           0      0  ...         0         0   \n",
       "5                 0           0      0  ...         0         0   \n",
       "...             ...         ...    ...  ...       ...       ...   \n",
       "25177             0           0      0  ...         0         0   \n",
       "25178             0           0      0  ...         0         0   \n",
       "25179             0           0      0  ...         0         0   \n",
       "25180             0           0      0  ...         0         0   \n",
       "25181             0           0      0  ...         0         0   \n",
       "\n",
       "       Historical Fantasy  Figure Skating  Queer Studies  Japanese History  \\\n",
       "0                       0               0              0                 0   \n",
       "2                       0               0              0                 0   \n",
       "3                       0               0              0                 0   \n",
       "4                       0               0              0                 0   \n",
       "5                       0               0              0                 0   \n",
       "...                   ...             ...            ...               ...   \n",
       "25177                   0               0              0                 0   \n",
       "25178                   0               0              0                 0   \n",
       "25179                   0               0              0                 0   \n",
       "25180                   0               0              0                 0   \n",
       "25181                   0               0              0                 0   \n",
       "\n",
       "       Students  Anthologies  Biblical Fiction  Faith  \n",
       "0             0            0                 0      0  \n",
       "2             0            0                 0      0  \n",
       "3             0            0                 0      0  \n",
       "4             0            0                 0      0  \n",
       "5             0            0                 0      0  \n",
       "...         ...          ...               ...    ...  \n",
       "25177         0            0                 0      0  \n",
       "25178         0            0                 0      0  \n",
       "25179         0            0                 0      0  \n",
       "25180         0            0                 0      0  \n",
       "25181         0            0                 0      0  \n",
       "\n",
       "[25181 rows x 977 columns]"
      ]
     },
     "execution_count": 25,
     "metadata": {},
     "output_type": "execute_result"
    }
   ],
   "source": [
    "df.drop(columns=[\"index\"], index=1, inplace=True)\n",
    "df"
   ]
  },
  {
   "cell_type": "markdown",
   "metadata": {},
   "source": [
    "#### Examine the descriptions"
   ]
  },
  {
   "cell_type": "code",
   "execution_count": 26,
   "metadata": {
    "ExecuteTime": {
     "end_time": "2021-10-18T07:43:00.198358Z",
     "start_time": "2021-10-18T07:43:00.194798Z"
    }
   },
   "outputs": [],
   "source": [
    "test = [df[\"Description\"].loc[0], df[\"Description\"].loc[2], df[\"Description\"].loc[3]]"
   ]
  },
  {
   "cell_type": "code",
   "execution_count": 27,
   "metadata": {
    "ExecuteTime": {
     "end_time": "2021-10-18T07:43:00.204620Z",
     "start_time": "2021-10-18T07:43:00.200699Z"
    }
   },
   "outputs": [
    {
     "data": {
      "text/plain": [
       "'A former paramedic’s visceral, poignant, and mordantly funny account of a decade spent on Atlanta’s mean streets saving lives and connecting with the drama and occasional beauty that lies inside catastrophe.In the aftermath of 9/11 Kevin Hazzard felt that something was missing from his life—his days were too safe, too routine. A failed salesman turned local reporter, he wa\\nA former paramedic’s visceral, poignant, and mordantly funny account of a decade spent on Atlanta’s mean streets saving lives and connecting with the drama and occasional beauty that lies inside catastrophe.In the aftermath of 9/11 Kevin Hazzard felt that something was missing from his life—his days were too safe, too routine. A failed salesman turned local reporter, he wanted to test himself, see how he might respond to pressure and danger. He signed up for emergency medical training and became, at age twenty-six, a newly minted EMT running calls in the worst sections of Atlanta. His life entered a different realm—one of blood, violence, and amazing grace.Thoroughly intimidated at first and frequently terrified, he experienced on a nightly basis the adrenaline rush of walking into chaos. But in his downtime, Kevin reflected on how people’s facades drop away when catastrophe strikes. As his hours on the job piled up, he realized he was beginning to see into the truth of things. There is no pretense five beats into a chest compression, or in an alley next to a crack den, or on a dimly lit highway where cars have collided. Eventually, what had at first seemed impossible happened: Kevin acquired mastery. And in the process he was able to discern the professional differences between his freewheeling peers, what marked each—as he termed them—as “a tourist,” “true believer,” or “killer.”Combining indelible scenes that remind us of life’s fragile beauty with laugh-out-loud moments that keep us smiling through the worst, A Thousand Naked Strangers is an absorbing read about one man’s journey of self-discovery—a trip that also teaches us about ourselves.\\n...more'"
      ]
     },
     "execution_count": 27,
     "metadata": {},
     "output_type": "execute_result"
    }
   ],
   "source": [
    "test[1]"
   ]
  },
  {
   "cell_type": "markdown",
   "metadata": {},
   "source": [
    "#### The first lines are repeated. It is the segment of text that gets displayed at first before the user clicks on \"more\". In addition, that \"\\n...more\" is displayed at the end of the text. We need to clean this up."
   ]
  },
  {
   "cell_type": "code",
   "execution_count": 28,
   "metadata": {
    "ExecuteTime": {
     "end_time": "2021-10-18T07:43:00.209390Z",
     "start_time": "2021-10-18T07:43:00.206372Z"
    }
   },
   "outputs": [
    {
     "data": {
      "text/plain": [
       "376"
      ]
     },
     "execution_count": 28,
     "metadata": {},
     "output_type": "execute_result"
    }
   ],
   "source": [
    "len(\"Fans of Neil Gaiman, Holly Black, and Maggie Stiefvater will embrace the richly drawn, Norse-influenced alternate world of the United States of Asgard, where cell phones, rock bands, and evangelical preachers coexist with dragon slaying, rune casting, and sword training in schools. Where the president runs the country alongside a council of Valkyries, gods walk the red car\\n\")"
   ]
  },
  {
   "cell_type": "code",
   "execution_count": 29,
   "metadata": {
    "ExecuteTime": {
     "end_time": "2021-10-18T07:43:00.215231Z",
     "start_time": "2021-10-18T07:43:00.210957Z"
    }
   },
   "outputs": [
    {
     "data": {
      "text/plain": [
       "376"
      ]
     },
     "execution_count": 29,
     "metadata": {},
     "output_type": "execute_result"
    }
   ],
   "source": [
    "len(\"A former paramedic’s visceral, poignant, and mordantly funny account of a decade spent on Atlanta’s mean streets saving lives and connecting with the drama and occasional beauty that lies inside catastrophe.In the aftermath of 9/11 Kevin Hazzard felt that something was missing from his life—his days were too safe, too routine. A failed salesman turned local reporter, he wa\\n\")"
   ]
  },
  {
   "cell_type": "code",
   "execution_count": 30,
   "metadata": {
    "ExecuteTime": {
     "end_time": "2021-10-18T07:43:00.219994Z",
     "start_time": "2021-10-18T07:43:00.216813Z"
    }
   },
   "outputs": [
    {
     "name": "stdout",
     "output_type": "stream",
     "text": [
      "Fans of Neil Gaiman, Holly Black, and Maggie Stiefvater will embrace the richly drawn, Norse-influenced alternate world of the United States of Asgard, where cell phones, rock bands, and evangelical preachers coexist with dragon slaying, rune casting, and sword training in schools. Where the president runs the country alongside a council of Valkyries, gods walk the red carpet with Hollywood starlets, and the U.S. military has a special battalion dedicated to eradicating Rocky Mountain trolls. Signy Valborn was seven years old when she climbed the New World Tree and met Odin Alfather, who declared that if she could solve a single riddle, he would make her one of his Valkyrie. For ten years Signy has trained in the arts of war, politics, and leadership, never dreaming that a Greater Mountain Troll might hold the answer to the riddle, but that’s exactly what Ned the Spiritless promises her. A mysterious troll hunter who talks in riddles and ancient poetry, Ned is a hard man to trust. Unfortunately, Signy is running out of time. Accompanied by an outcast berserker named Soren Bearstar, she and Ned take off across the ice sheets of Canadia to hunt the mother of trolls and claim Signy’s destiny.\n",
      "A former paramedic’s visceral, poignant, and mordantly funny account of a decade spent on Atlanta’s mean streets saving lives and connecting with the drama and occasional beauty that lies inside catastrophe.In the aftermath of 9/11 Kevin Hazzard felt that something was missing from his life—his days were too safe, too routine. A failed salesman turned local reporter, he wanted to test himself, see how he might respond to pressure and danger. He signed up for emergency medical training and became, at age twenty-six, a newly minted EMT running calls in the worst sections of Atlanta. His life entered a different realm—one of blood, violence, and amazing grace.Thoroughly intimidated at first and frequently terrified, he experienced on a nightly basis the adrenaline rush of walking into chaos. But in his downtime, Kevin reflected on how people’s facades drop away when catastrophe strikes. As his hours on the job piled up, he realized he was beginning to see into the truth of things. There is no pretense five beats into a chest compression, or in an alley next to a crack den, or on a dimly lit highway where cars have collided. Eventually, what had at first seemed impossible happened: Kevin acquired mastery. And in the process he was able to discern the professional differences between his freewheeling peers, what marked each—as he termed them—as “a tourist,” “true believer,” or “killer.”Combining indelible scenes that remind us of life’s fragile beauty with laugh-out-loud moments that keep us smiling through the worst, A Thousand Naked Strangers is an absorbing read about one man’s journey of self-discovery—a trip that also teaches us about ourselves.\n",
      "The Fleece Inn stood where the three roads joined - the roads to London, to Norwich and to the sea. Its trade was prosperous, its hospitality famous and the host was jolly and generous. To his servants he was cruel and menacing, and to Ellie Roon, the most menial servant at the Fleece, he was a figure of terror. Ellie was used to being bullied, but when her illegitimate daughter was born - in a rat-ridden attic of the Fleece - she decided that Hester must have a different kind of life. And so, Hester Roon began her eventful progress in the harsh world of 18th century England. After fleeing from the inn, and the attentions of the owner, she became involved in the London underworld. From there she found herself in a world far beyond her imaginings..\n"
     ]
    }
   ],
   "source": [
    "for t in test:\n",
    "    print(t[376:-8])"
   ]
  },
  {
   "cell_type": "markdown",
   "metadata": {},
   "source": [
    "#### This will be applied to all the descriptions:"
   ]
  },
  {
   "cell_type": "markdown",
   "metadata": {},
   "source": [
    "This proof-of-concept is NLP based, therefore I will drop the books that have no description. That is only 1% of the current data set."
   ]
  },
  {
   "cell_type": "code",
   "execution_count": 31,
   "metadata": {
    "ExecuteTime": {
     "end_time": "2021-10-18T07:43:00.228134Z",
     "start_time": "2021-10-18T07:43:00.221600Z"
    }
   },
   "outputs": [
    {
     "data": {
      "text/plain": [
       "0.013065406457249514"
      ]
     },
     "execution_count": 31,
     "metadata": {},
     "output_type": "execute_result"
    }
   ],
   "source": [
    "df[\"Description\"].isna().sum()/df.shape[0]"
   ]
  },
  {
   "cell_type": "code",
   "execution_count": 32,
   "metadata": {
    "ExecuteTime": {
     "end_time": "2021-10-18T07:43:00.355821Z",
     "start_time": "2021-10-18T07:43:00.229642Z"
    }
   },
   "outputs": [],
   "source": [
    "df.dropna(subset=[\"Description\"], inplace=True)"
   ]
  },
  {
   "cell_type": "markdown",
   "metadata": {},
   "source": [
    "### Data Preprocessing"
   ]
  },
  {
   "cell_type": "code",
   "execution_count": 74,
   "metadata": {
    "ExecuteTime": {
     "end_time": "2021-10-18T10:30:07.462392Z",
     "start_time": "2021-10-18T10:29:13.723039Z"
    }
   },
   "outputs": [],
   "source": [
    "def text_preprocessed(descriptions):\n",
    "    \n",
    "    description_processed = descriptions.apply(lambda x: x[376:-8])\n",
    "\n",
    "    ### Remove anything that is not an alphabetical character, or a space.\n",
    "    description_processed = description_processed.replace('[^a-zA-Z ]', \" \", regex=True)\n",
    "\n",
    "    ### Case unification\n",
    "    description_processed = description_processed.apply(lambda x: x.lower())\n",
    "\n",
    "    ### Stopword removal\n",
    "    stopword_list = stopwords.words(\"english\")\n",
    "    description_processed = description_processed.apply(lambda x: [word for word in x.split() if word not in stopword_list])\n",
    "\n",
    "    ### Bigrams\n",
    "    phrase_model = Phrases(list(description_processed), min_count=1, threshold=1, connector_words=ENGLISH_CONNECTOR_WORDS)\n",
    "    #df[\"Description_processed\"] = [\" \".join(phrase_model[sentence]) for sentence in df[\"Description_processed\"]]\n",
    "    description_processed = [phrase_model[sentence] for sentence in description_processed]\n",
    "\n",
    "    ### Stemming & Lemmatization\n",
    "    description_processed = [\" \".join([SnowballStemmer(\"english\").stem(WordNetLemmatizer().lemmatize(word)) for word in text]) for text in description_processed]\n",
    "    \n",
    "    return description_processed\n",
    "\n",
    "df[\"Description_processed\"] = text_preprocessed(df[\"Description\"])"
   ]
  },
  {
   "cell_type": "markdown",
   "metadata": {},
   "source": [
    "### Experiment #1: TF-IDF and Cosine Similarity"
   ]
  },
  {
   "cell_type": "code",
   "execution_count": 34,
   "metadata": {
    "ExecuteTime": {
     "end_time": "2021-10-18T07:52:15.209951Z",
     "start_time": "2021-10-18T07:51:41.795451Z"
    }
   },
   "outputs": [
    {
     "data": {
      "text/plain": [
       "array([[1.00000000e+00, 0.00000000e+00, 0.00000000e+00, ...,\n",
       "        0.00000000e+00, 0.00000000e+00, 0.00000000e+00],\n",
       "       [0.00000000e+00, 1.00000000e+00, 3.38774632e-04, ...,\n",
       "        1.22521232e-03, 0.00000000e+00, 0.00000000e+00],\n",
       "       [0.00000000e+00, 3.38774632e-04, 1.00000000e+00, ...,\n",
       "        1.33667231e-03, 0.00000000e+00, 0.00000000e+00],\n",
       "       ...,\n",
       "       [0.00000000e+00, 1.22521232e-03, 1.33667231e-03, ...,\n",
       "        1.00000000e+00, 6.49583062e-04, 0.00000000e+00],\n",
       "       [0.00000000e+00, 0.00000000e+00, 0.00000000e+00, ...,\n",
       "        6.49583062e-04, 1.00000000e+00, 0.00000000e+00],\n",
       "       [0.00000000e+00, 0.00000000e+00, 0.00000000e+00, ...,\n",
       "        0.00000000e+00, 0.00000000e+00, 1.00000000e+00]])"
      ]
     },
     "execution_count": 34,
     "metadata": {},
     "output_type": "execute_result"
    }
   ],
   "source": [
    "tf = TfidfVectorizer(analyzer=\"word\", ngram_range=(1,3), min_df=0, stop_words='english')\n",
    "tfidf_matrix = tf.fit_transform(df[\"Description_processed\"])\n",
    "cos_sim = cosine_similarity(tfidf_matrix, tfidf_matrix)\n",
    "cos_sim"
   ]
  },
  {
   "cell_type": "code",
   "execution_count": 36,
   "metadata": {
    "ExecuteTime": {
     "end_time": "2021-10-18T07:52:15.298510Z",
     "start_time": "2021-10-18T07:52:15.291683Z"
    }
   },
   "outputs": [
    {
     "data": {
      "text/plain": [
       "0                                      The Strange Maid\n",
       "2     A Thousand Naked Strangers: A Paramedic's Wild...\n",
       "3                                           Hester Roon\n",
       "4                        The Trouble with Playing Cupid\n",
       "5                                         Suicide Watch\n",
       "6                                       I´ll Walk Alone\n",
       "7                                   A Pair of Red Clogs\n",
       "8     More Women of Wonder: Science Fiction Novelett...\n",
       "9     Father Arseny, 1893-1973: Priest, Prisoner, Sp...\n",
       "10                                   The Last Sanctuary\n",
       "Name: Title, dtype: object"
      ]
     },
     "execution_count": 36,
     "metadata": {},
     "output_type": "execute_result"
    }
   ],
   "source": [
    "all_books = pd.Series(df[\"Title\"])\n",
    "all_books[:10]"
   ]
  },
  {
   "cell_type": "code",
   "execution_count": 37,
   "metadata": {
    "ExecuteTime": {
     "end_time": "2021-10-18T07:52:15.322943Z",
     "start_time": "2021-10-18T07:52:15.301454Z"
    }
   },
   "outputs": [
    {
     "data": {
      "text/plain": [
       "'Charlie and the Great Glass Elevator'"
      ]
     },
     "execution_count": 37,
     "metadata": {},
     "output_type": "execute_result"
    }
   ],
   "source": [
    "all_books.iloc[600]"
   ]
  },
  {
   "cell_type": "code",
   "execution_count": 38,
   "metadata": {
    "ExecuteTime": {
     "end_time": "2021-10-18T07:52:15.332392Z",
     "start_time": "2021-10-18T07:52:15.326287Z"
    }
   },
   "outputs": [],
   "source": [
    "def get_recommendations(book, cos_sim=cos_sim):\n",
    "    idx = all_books[all_books == book].index[0] #index of the book at question\n",
    "    scores = pd.Series(cos_sim[idx]).sort_values(ascending=False)\n",
    "    #The highest is going to be the book itself, so we exclude it\n",
    "    top_10_idx = scores.iloc[1:11].index\n",
    "    return scores[1:11], all_books.loc[top_10_idx]"
   ]
  },
  {
   "cell_type": "code",
   "execution_count": 39,
   "metadata": {
    "ExecuteTime": {
     "end_time": "2021-10-18T07:52:15.660515Z",
     "start_time": "2021-10-18T07:52:15.335038Z"
    },
    "scrolled": true
   },
   "outputs": [
    {
     "data": {
      "text/html": [
       "<div>\n",
       "<style scoped>\n",
       "    .dataframe tbody tr th:only-of-type {\n",
       "        vertical-align: middle;\n",
       "    }\n",
       "\n",
       "    .dataframe tbody tr th {\n",
       "        vertical-align: top;\n",
       "    }\n",
       "\n",
       "    .dataframe thead th {\n",
       "        text-align: right;\n",
       "    }\n",
       "</style>\n",
       "<table border=\"1\" class=\"dataframe\">\n",
       "  <thead>\n",
       "    <tr style=\"text-align: right;\">\n",
       "      <th></th>\n",
       "      <th>Title</th>\n",
       "      <th>Author</th>\n",
       "      <th>Description</th>\n",
       "      <th>Publisher</th>\n",
       "      <th>Year Published</th>\n",
       "      <th>Genres</th>\n",
       "      <th>Page Count</th>\n",
       "      <th>Banned Books</th>\n",
       "      <th>Skepticism</th>\n",
       "      <th>M M M</th>\n",
       "      <th>...</th>\n",
       "      <th>Juvenile</th>\n",
       "      <th>Historical Fantasy</th>\n",
       "      <th>Figure Skating</th>\n",
       "      <th>Queer Studies</th>\n",
       "      <th>Japanese History</th>\n",
       "      <th>Students</th>\n",
       "      <th>Anthologies</th>\n",
       "      <th>Biblical Fiction</th>\n",
       "      <th>Faith</th>\n",
       "      <th>Description_processed</th>\n",
       "    </tr>\n",
       "  </thead>\n",
       "  <tbody>\n",
       "    <tr>\n",
       "      <td>3540</td>\n",
       "      <td>Harry Potter and the Methods of Rationality</td>\n",
       "      <td>[Eliezer Yudkowsky]</td>\n",
       "      <td>Harry Potter and the Methods of Rationality is...</td>\n",
       "      <td>hpmor.com &amp; fanfiction.net</td>\n",
       "      <td>2015.0</td>\n",
       "      <td>[Fantasy, Fiction, Fan Fiction, Philosophy, Sc...</td>\n",
       "      <td>2184.0</td>\n",
       "      <td>0</td>\n",
       "      <td>0</td>\n",
       "      <td>0</td>\n",
       "      <td>...</td>\n",
       "      <td>0</td>\n",
       "      <td>0</td>\n",
       "      <td>0</td>\n",
       "      <td>0</td>\n",
       "      <td>0</td>\n",
       "      <td>0</td>\n",
       "      <td>0</td>\n",
       "      <td>0</td>\n",
       "      <td>0</td>\n",
       "      <td>harry_pott method ration work alternate_univer...</td>\n",
       "    </tr>\n",
       "    <tr>\n",
       "      <td>4037</td>\n",
       "      <td>Harry Potter and the Deathly Hallows</td>\n",
       "      <td>[J.K. Rowling]</td>\n",
       "      <td>It's no longer safe for Harry at Hogwarts, so ...</td>\n",
       "      <td>Arthur A. Levine Books</td>\n",
       "      <td>2007.0</td>\n",
       "      <td>[Fantasy, Young Adult, Fiction, Fantasy, Magic...</td>\n",
       "      <td>759.0</td>\n",
       "      <td>0</td>\n",
       "      <td>0</td>\n",
       "      <td>0</td>\n",
       "      <td>...</td>\n",
       "      <td>0</td>\n",
       "      <td>0</td>\n",
       "      <td>0</td>\n",
       "      <td>0</td>\n",
       "      <td>0</td>\n",
       "      <td>0</td>\n",
       "      <td>0</td>\n",
       "      <td>0</td>\n",
       "      <td>0</td>\n",
       "      <td>longer_saf harri hogwarts_best friend ron herm...</td>\n",
       "    </tr>\n",
       "    <tr>\n",
       "      <td>12620</td>\n",
       "      <td>Harry Potter and the Sorcerer's Stone</td>\n",
       "      <td>[J.K. Rowling]</td>\n",
       "      <td>Harry Potter's life is miserable. His parents ...</td>\n",
       "      <td>Scholastic Inc</td>\n",
       "      <td>1997.0</td>\n",
       "      <td>[Fantasy, Fiction, Young Adult, Fantasy, Magic...</td>\n",
       "      <td>309.0</td>\n",
       "      <td>0</td>\n",
       "      <td>0</td>\n",
       "      <td>0</td>\n",
       "      <td>...</td>\n",
       "      <td>0</td>\n",
       "      <td>0</td>\n",
       "      <td>0</td>\n",
       "      <td>0</td>\n",
       "      <td>0</td>\n",
       "      <td>0</td>\n",
       "      <td>0</td>\n",
       "      <td>0</td>\n",
       "      <td>0</td>\n",
       "      <td>harry_pott life_miser parents_dead stuck heart...</td>\n",
       "    </tr>\n",
       "    <tr>\n",
       "      <td>21001</td>\n",
       "      <td>Harry Potter: A History of Magic</td>\n",
       "      <td>[British Library, J.K. Rowling, Julian Harriso...</td>\n",
       "      <td>Harry Potter: A History of Magic is the offici...</td>\n",
       "      <td>Bloomsbury</td>\n",
       "      <td>2017.0</td>\n",
       "      <td>[Fantasy, Fiction, Audiobook, Young Adult, Fan...</td>\n",
       "      <td>256.0</td>\n",
       "      <td>0</td>\n",
       "      <td>0</td>\n",
       "      <td>0</td>\n",
       "      <td>...</td>\n",
       "      <td>0</td>\n",
       "      <td>0</td>\n",
       "      <td>0</td>\n",
       "      <td>0</td>\n",
       "      <td>0</td>\n",
       "      <td>0</td>\n",
       "      <td>0</td>\n",
       "      <td>0</td>\n",
       "      <td>0</td>\n",
       "      <td>harry_pott history_mag official_book exhibit l...</td>\n",
       "    </tr>\n",
       "    <tr>\n",
       "      <td>22468</td>\n",
       "      <td>Harry, a History: The True Story of a Boy Wiza...</td>\n",
       "      <td>[Melissa Anelli, J.K. Rowling]</td>\n",
       "      <td>THE HARRY POTTER BOOKS WERE JUST THE BEGINNING...</td>\n",
       "      <td>Gallery Books</td>\n",
       "      <td>2008.0</td>\n",
       "      <td>[Nonfiction, Autobiography, Memoir, Biography,...</td>\n",
       "      <td>356.0</td>\n",
       "      <td>0</td>\n",
       "      <td>0</td>\n",
       "      <td>0</td>\n",
       "      <td>...</td>\n",
       "      <td>0</td>\n",
       "      <td>0</td>\n",
       "      <td>0</td>\n",
       "      <td>0</td>\n",
       "      <td>0</td>\n",
       "      <td>0</td>\n",
       "      <td>0</td>\n",
       "      <td>0</td>\n",
       "      <td>0</td>\n",
       "      <td>harry_pott book begin stori brief span_on deca...</td>\n",
       "    </tr>\n",
       "  </tbody>\n",
       "</table>\n",
       "<p>5 rows × 978 columns</p>\n",
       "</div>"
      ],
      "text/plain": [
       "                                                   Title  \\\n",
       "3540         Harry Potter and the Methods of Rationality   \n",
       "4037                Harry Potter and the Deathly Hallows   \n",
       "12620              Harry Potter and the Sorcerer's Stone   \n",
       "21001                   Harry Potter: A History of Magic   \n",
       "22468  Harry, a History: The True Story of a Boy Wiza...   \n",
       "\n",
       "                                                  Author  \\\n",
       "3540                                 [Eliezer Yudkowsky]   \n",
       "4037                                      [J.K. Rowling]   \n",
       "12620                                     [J.K. Rowling]   \n",
       "21001  [British Library, J.K. Rowling, Julian Harriso...   \n",
       "22468                     [Melissa Anelli, J.K. Rowling]   \n",
       "\n",
       "                                             Description  \\\n",
       "3540   Harry Potter and the Methods of Rationality is...   \n",
       "4037   It's no longer safe for Harry at Hogwarts, so ...   \n",
       "12620  Harry Potter's life is miserable. His parents ...   \n",
       "21001  Harry Potter: A History of Magic is the offici...   \n",
       "22468  THE HARRY POTTER BOOKS WERE JUST THE BEGINNING...   \n",
       "\n",
       "                        Publisher  Year Published  \\\n",
       "3540   hpmor.com & fanfiction.net          2015.0   \n",
       "4037       Arthur A. Levine Books          2007.0   \n",
       "12620              Scholastic Inc          1997.0   \n",
       "21001                  Bloomsbury          2017.0   \n",
       "22468               Gallery Books          2008.0   \n",
       "\n",
       "                                                  Genres  Page Count  \\\n",
       "3540   [Fantasy, Fiction, Fan Fiction, Philosophy, Sc...      2184.0   \n",
       "4037   [Fantasy, Young Adult, Fiction, Fantasy, Magic...       759.0   \n",
       "12620  [Fantasy, Fiction, Young Adult, Fantasy, Magic...       309.0   \n",
       "21001  [Fantasy, Fiction, Audiobook, Young Adult, Fan...       256.0   \n",
       "22468  [Nonfiction, Autobiography, Memoir, Biography,...       356.0   \n",
       "\n",
       "       Banned Books  Skepticism  M M M  ...  Juvenile  Historical Fantasy  \\\n",
       "3540              0           0      0  ...         0                   0   \n",
       "4037              0           0      0  ...         0                   0   \n",
       "12620             0           0      0  ...         0                   0   \n",
       "21001             0           0      0  ...         0                   0   \n",
       "22468             0           0      0  ...         0                   0   \n",
       "\n",
       "       Figure Skating  Queer Studies  Japanese History  Students  Anthologies  \\\n",
       "3540                0              0                 0         0            0   \n",
       "4037                0              0                 0         0            0   \n",
       "12620               0              0                 0         0            0   \n",
       "21001               0              0                 0         0            0   \n",
       "22468               0              0                 0         0            0   \n",
       "\n",
       "       Biblical Fiction  Faith  \\\n",
       "3540                  0      0   \n",
       "4037                  0      0   \n",
       "12620                 0      0   \n",
       "21001                 0      0   \n",
       "22468                 0      0   \n",
       "\n",
       "                                   Description_processed  \n",
       "3540   harry_pott method ration work alternate_univer...  \n",
       "4037   longer_saf harri hogwarts_best friend ron herm...  \n",
       "12620  harry_pott life_miser parents_dead stuck heart...  \n",
       "21001  harry_pott history_mag official_book exhibit l...  \n",
       "22468  harry_pott book begin stori brief span_on deca...  \n",
       "\n",
       "[5 rows x 978 columns]"
      ]
     },
     "execution_count": 39,
     "metadata": {},
     "output_type": "execute_result"
    }
   ],
   "source": [
    "df[df[\"Title\"].str.contains(\"Harry Potter\")]"
   ]
  },
  {
   "cell_type": "code",
   "execution_count": 40,
   "metadata": {
    "ExecuteTime": {
     "end_time": "2021-10-18T07:52:15.679617Z",
     "start_time": "2021-10-18T07:52:15.662369Z"
    }
   },
   "outputs": [],
   "source": [
    "scores, recommendations = get_recommendations('Harry Potter and the Deathly Hallows')"
   ]
  },
  {
   "cell_type": "code",
   "execution_count": 41,
   "metadata": {
    "ExecuteTime": {
     "end_time": "2021-10-18T07:52:15.686823Z",
     "start_time": "2021-10-18T07:52:15.682723Z"
    }
   },
   "outputs": [
    {
     "data": {
      "text/plain": [
       "23806                              Stories Of The Prophets\n",
       "20101                                       The Iron Lance\n",
       "22243                                          Mr. Psychic\n",
       "6703     The Man Who Ate His Boots: The Tragic History ...\n",
       "6283                          The Loneliest Vampire in NYC\n",
       "22139                                              Forever\n",
       "24850                                           Futureland\n",
       "22715                                  'Til the World Ends\n",
       "19822    Zero to One: Notes on Startups, or How to Buil...\n",
       "7055                                             Possessed\n",
       "Name: Title, dtype: object"
      ]
     },
     "execution_count": 41,
     "metadata": {},
     "output_type": "execute_result"
    }
   ],
   "source": [
    "recommendations"
   ]
  },
  {
   "cell_type": "code",
   "execution_count": 194,
   "metadata": {
    "ExecuteTime": {
     "end_time": "2021-10-18T06:22:45.885857Z",
     "start_time": "2021-10-18T06:22:45.881397Z"
    }
   },
   "outputs": [
    {
     "data": {
      "text/plain": [
       "23806    0.020658\n",
       "20101    0.016718\n",
       "22243    0.016594\n",
       "6703     0.016182\n",
       "6283     0.013223\n",
       "22139    0.012986\n",
       "24850    0.012597\n",
       "22715    0.012443\n",
       "19822    0.012252\n",
       "7055     0.012045\n",
       "dtype: float64"
      ]
     },
     "execution_count": 194,
     "metadata": {},
     "output_type": "execute_result"
    }
   ],
   "source": [
    "scores"
   ]
  },
  {
   "cell_type": "markdown",
   "metadata": {},
   "source": [
    "### Experiment #2: TF-IDF and Clustering"
   ]
  },
  {
   "cell_type": "markdown",
   "metadata": {
    "ExecuteTime": {
     "end_time": "2021-10-17T12:47:07.070291Z",
     "start_time": "2021-10-17T12:37:17.287631Z"
    }
   },
   "source": [
    "##### Reducing dimensions so that it is plottable"
   ]
  },
  {
   "cell_type": "code",
   "execution_count": 161,
   "metadata": {
    "ExecuteTime": {
     "end_time": "2021-10-17T13:03:44.835807Z",
     "start_time": "2021-10-17T13:03:29.054115Z"
    }
   },
   "outputs": [],
   "source": [
    "### Initially tried PCA. However, it does not work for sparse inputs.\n",
    "#pca = PCA(2)\n",
    "#df = pca.fit_transform(tfidf_matrix)\n",
    "#svd = TruncatedSVD(n_components=3, n_iter=7, random_state=42)\n",
    "#svd_data = svd.fit_transform(tfidf_matrix)"
   ]
  },
  {
   "cell_type": "code",
   "execution_count": 195,
   "metadata": {
    "ExecuteTime": {
     "end_time": "2021-10-18T06:22:56.076973Z",
     "start_time": "2021-10-18T06:22:56.073191Z"
    }
   },
   "outputs": [],
   "source": [
    "svd_data = tfidf_matrix"
   ]
  },
  {
   "cell_type": "code",
   "execution_count": 196,
   "metadata": {
    "ExecuteTime": {
     "end_time": "2021-10-18T06:26:10.933841Z",
     "start_time": "2021-10-18T06:22:56.897508Z"
    }
   },
   "outputs": [],
   "source": [
    "kmeans = KMeans(n_clusters= 10)\n",
    "label = kmeans.fit_predict(svd_data)"
   ]
  },
  {
   "cell_type": "code",
   "execution_count": 197,
   "metadata": {
    "ExecuteTime": {
     "end_time": "2021-10-18T06:26:10.941483Z",
     "start_time": "2021-10-18T06:26:10.936348Z"
    }
   },
   "outputs": [
    {
     "data": {
      "text/plain": [
       "array([4, 9, 2, ..., 9, 6, 0], dtype=int32)"
      ]
     },
     "execution_count": 197,
     "metadata": {},
     "output_type": "execute_result"
    }
   ],
   "source": [
    "label"
   ]
  },
  {
   "cell_type": "code",
   "execution_count": 169,
   "metadata": {
    "ExecuteTime": {
     "end_time": "2021-10-17T13:08:32.900766Z",
     "start_time": "2021-10-17T13:08:32.682991Z"
    }
   },
   "outputs": [
    {
     "ename": "ValueError",
     "evalue": "setting an array element with a sequence.",
     "output_type": "error",
     "traceback": [
      "\u001b[0;31m---------------------------------------------------------------------------\u001b[0m",
      "\u001b[0;31mValueError\u001b[0m                                Traceback (most recent call last)",
      "\u001b[0;32m<ipython-input-169-39179e1d2404>\u001b[0m in \u001b[0;36m<module>\u001b[0;34m\u001b[0m\n\u001b[1;32m      6\u001b[0m \u001b[0;34m\u001b[0m\u001b[0m\n\u001b[1;32m      7\u001b[0m \u001b[0;32mfor\u001b[0m \u001b[0mi\u001b[0m \u001b[0;32min\u001b[0m \u001b[0mu_labels\u001b[0m\u001b[0;34m:\u001b[0m\u001b[0;34m\u001b[0m\u001b[0;34m\u001b[0m\u001b[0m\n\u001b[0;32m----> 8\u001b[0;31m     \u001b[0mplt\u001b[0m\u001b[0;34m.\u001b[0m\u001b[0mscatter\u001b[0m\u001b[0;34m(\u001b[0m\u001b[0msvd_data\u001b[0m\u001b[0;34m[\u001b[0m\u001b[0mlabel\u001b[0m \u001b[0;34m==\u001b[0m \u001b[0mi\u001b[0m \u001b[0;34m,\u001b[0m \u001b[0;36m0\u001b[0m\u001b[0;34m]\u001b[0m \u001b[0;34m,\u001b[0m \u001b[0msvd_data\u001b[0m\u001b[0;34m[\u001b[0m\u001b[0mlabel\u001b[0m \u001b[0;34m==\u001b[0m \u001b[0mi\u001b[0m \u001b[0;34m,\u001b[0m \u001b[0;36m1\u001b[0m\u001b[0;34m]\u001b[0m \u001b[0;34m,\u001b[0m \u001b[0mlabel\u001b[0m \u001b[0;34m=\u001b[0m \u001b[0mi\u001b[0m\u001b[0;34m)\u001b[0m\u001b[0;34m\u001b[0m\u001b[0;34m\u001b[0m\u001b[0m\n\u001b[0m\u001b[1;32m      9\u001b[0m \u001b[0mplt\u001b[0m\u001b[0;34m.\u001b[0m\u001b[0mlegend\u001b[0m\u001b[0;34m(\u001b[0m\u001b[0;34m)\u001b[0m\u001b[0;34m\u001b[0m\u001b[0;34m\u001b[0m\u001b[0m\n\u001b[1;32m     10\u001b[0m \u001b[0mplt\u001b[0m\u001b[0;34m.\u001b[0m\u001b[0mshow\u001b[0m\u001b[0;34m(\u001b[0m\u001b[0;34m)\u001b[0m\u001b[0;34m\u001b[0m\u001b[0;34m\u001b[0m\u001b[0m\n",
      "\u001b[0;32m/opt/anaconda3/lib/python3.7/site-packages/matplotlib/pyplot.py\u001b[0m in \u001b[0;36mscatter\u001b[0;34m(x, y, s, c, marker, cmap, norm, vmin, vmax, alpha, linewidths, verts, edgecolors, plotnonfinite, data, **kwargs)\u001b[0m\n\u001b[1;32m   2845\u001b[0m         \u001b[0mverts\u001b[0m\u001b[0;34m=\u001b[0m\u001b[0mverts\u001b[0m\u001b[0;34m,\u001b[0m \u001b[0medgecolors\u001b[0m\u001b[0;34m=\u001b[0m\u001b[0medgecolors\u001b[0m\u001b[0;34m,\u001b[0m\u001b[0;34m\u001b[0m\u001b[0;34m\u001b[0m\u001b[0m\n\u001b[1;32m   2846\u001b[0m         plotnonfinite=plotnonfinite, **({\"data\": data} if data is not\n\u001b[0;32m-> 2847\u001b[0;31m         None else {}), **kwargs)\n\u001b[0m\u001b[1;32m   2848\u001b[0m     \u001b[0msci\u001b[0m\u001b[0;34m(\u001b[0m\u001b[0m__ret\u001b[0m\u001b[0;34m)\u001b[0m\u001b[0;34m\u001b[0m\u001b[0;34m\u001b[0m\u001b[0m\n\u001b[1;32m   2849\u001b[0m     \u001b[0;32mreturn\u001b[0m \u001b[0m__ret\u001b[0m\u001b[0;34m\u001b[0m\u001b[0;34m\u001b[0m\u001b[0m\n",
      "\u001b[0;32m/opt/anaconda3/lib/python3.7/site-packages/matplotlib/__init__.py\u001b[0m in \u001b[0;36minner\u001b[0;34m(ax, data, *args, **kwargs)\u001b[0m\n\u001b[1;32m   1599\u001b[0m     \u001b[0;32mdef\u001b[0m \u001b[0minner\u001b[0m\u001b[0;34m(\u001b[0m\u001b[0max\u001b[0m\u001b[0;34m,\u001b[0m \u001b[0;34m*\u001b[0m\u001b[0margs\u001b[0m\u001b[0;34m,\u001b[0m \u001b[0mdata\u001b[0m\u001b[0;34m=\u001b[0m\u001b[0;32mNone\u001b[0m\u001b[0;34m,\u001b[0m \u001b[0;34m**\u001b[0m\u001b[0mkwargs\u001b[0m\u001b[0;34m)\u001b[0m\u001b[0;34m:\u001b[0m\u001b[0;34m\u001b[0m\u001b[0;34m\u001b[0m\u001b[0m\n\u001b[1;32m   1600\u001b[0m         \u001b[0;32mif\u001b[0m \u001b[0mdata\u001b[0m \u001b[0;32mis\u001b[0m \u001b[0;32mNone\u001b[0m\u001b[0;34m:\u001b[0m\u001b[0;34m\u001b[0m\u001b[0;34m\u001b[0m\u001b[0m\n\u001b[0;32m-> 1601\u001b[0;31m             \u001b[0;32mreturn\u001b[0m \u001b[0mfunc\u001b[0m\u001b[0;34m(\u001b[0m\u001b[0max\u001b[0m\u001b[0;34m,\u001b[0m \u001b[0;34m*\u001b[0m\u001b[0mmap\u001b[0m\u001b[0;34m(\u001b[0m\u001b[0msanitize_sequence\u001b[0m\u001b[0;34m,\u001b[0m \u001b[0margs\u001b[0m\u001b[0;34m)\u001b[0m\u001b[0;34m,\u001b[0m \u001b[0;34m**\u001b[0m\u001b[0mkwargs\u001b[0m\u001b[0;34m)\u001b[0m\u001b[0;34m\u001b[0m\u001b[0;34m\u001b[0m\u001b[0m\n\u001b[0m\u001b[1;32m   1602\u001b[0m \u001b[0;34m\u001b[0m\u001b[0m\n\u001b[1;32m   1603\u001b[0m         \u001b[0mbound\u001b[0m \u001b[0;34m=\u001b[0m \u001b[0mnew_sig\u001b[0m\u001b[0;34m.\u001b[0m\u001b[0mbind\u001b[0m\u001b[0;34m(\u001b[0m\u001b[0max\u001b[0m\u001b[0;34m,\u001b[0m \u001b[0;34m*\u001b[0m\u001b[0margs\u001b[0m\u001b[0;34m,\u001b[0m \u001b[0;34m**\u001b[0m\u001b[0mkwargs\u001b[0m\u001b[0;34m)\u001b[0m\u001b[0;34m\u001b[0m\u001b[0;34m\u001b[0m\u001b[0m\n",
      "\u001b[0;32m/opt/anaconda3/lib/python3.7/site-packages/matplotlib/axes/_axes.py\u001b[0m in \u001b[0;36mscatter\u001b[0;34m(self, x, y, s, c, marker, cmap, norm, vmin, vmax, alpha, linewidths, verts, edgecolors, plotnonfinite, **kwargs)\u001b[0m\n\u001b[1;32m   4496\u001b[0m                 \u001b[0moffsets\u001b[0m\u001b[0;34m=\u001b[0m\u001b[0moffsets\u001b[0m\u001b[0;34m,\u001b[0m\u001b[0;34m\u001b[0m\u001b[0;34m\u001b[0m\u001b[0m\n\u001b[1;32m   4497\u001b[0m                 \u001b[0mtransOffset\u001b[0m\u001b[0;34m=\u001b[0m\u001b[0mkwargs\u001b[0m\u001b[0;34m.\u001b[0m\u001b[0mpop\u001b[0m\u001b[0;34m(\u001b[0m\u001b[0;34m'transform'\u001b[0m\u001b[0;34m,\u001b[0m \u001b[0mself\u001b[0m\u001b[0;34m.\u001b[0m\u001b[0mtransData\u001b[0m\u001b[0;34m)\u001b[0m\u001b[0;34m,\u001b[0m\u001b[0;34m\u001b[0m\u001b[0;34m\u001b[0m\u001b[0m\n\u001b[0;32m-> 4498\u001b[0;31m                 \u001b[0malpha\u001b[0m\u001b[0;34m=\u001b[0m\u001b[0malpha\u001b[0m\u001b[0;34m\u001b[0m\u001b[0;34m\u001b[0m\u001b[0m\n\u001b[0m\u001b[1;32m   4499\u001b[0m                 )\n\u001b[1;32m   4500\u001b[0m         \u001b[0mcollection\u001b[0m\u001b[0;34m.\u001b[0m\u001b[0mset_transform\u001b[0m\u001b[0;34m(\u001b[0m\u001b[0mmtransforms\u001b[0m\u001b[0;34m.\u001b[0m\u001b[0mIdentityTransform\u001b[0m\u001b[0;34m(\u001b[0m\u001b[0;34m)\u001b[0m\u001b[0;34m)\u001b[0m\u001b[0;34m\u001b[0m\u001b[0;34m\u001b[0m\u001b[0m\n",
      "\u001b[0;32m/opt/anaconda3/lib/python3.7/site-packages/matplotlib/collections.py\u001b[0m in \u001b[0;36m__init__\u001b[0;34m(self, paths, sizes, **kwargs)\u001b[0m\n\u001b[1;32m    881\u001b[0m         \"\"\"\n\u001b[1;32m    882\u001b[0m \u001b[0;34m\u001b[0m\u001b[0m\n\u001b[0;32m--> 883\u001b[0;31m         \u001b[0mCollection\u001b[0m\u001b[0;34m.\u001b[0m\u001b[0m__init__\u001b[0m\u001b[0;34m(\u001b[0m\u001b[0mself\u001b[0m\u001b[0;34m,\u001b[0m \u001b[0;34m**\u001b[0m\u001b[0mkwargs\u001b[0m\u001b[0;34m)\u001b[0m\u001b[0;34m\u001b[0m\u001b[0;34m\u001b[0m\u001b[0m\n\u001b[0m\u001b[1;32m    884\u001b[0m         \u001b[0mself\u001b[0m\u001b[0;34m.\u001b[0m\u001b[0mset_paths\u001b[0m\u001b[0;34m(\u001b[0m\u001b[0mpaths\u001b[0m\u001b[0;34m)\u001b[0m\u001b[0;34m\u001b[0m\u001b[0;34m\u001b[0m\u001b[0m\n\u001b[1;32m    885\u001b[0m         \u001b[0mself\u001b[0m\u001b[0;34m.\u001b[0m\u001b[0mset_sizes\u001b[0m\u001b[0;34m(\u001b[0m\u001b[0msizes\u001b[0m\u001b[0;34m)\u001b[0m\u001b[0;34m\u001b[0m\u001b[0;34m\u001b[0m\u001b[0m\n",
      "\u001b[0;32m/opt/anaconda3/lib/python3.7/site-packages/matplotlib/collections.py\u001b[0m in \u001b[0;36m__init__\u001b[0;34m(self, edgecolors, facecolors, linewidths, linestyles, capstyle, joinstyle, antialiaseds, offsets, transOffset, norm, cmap, pickradius, hatch, urls, offset_position, zorder, **kwargs)\u001b[0m\n\u001b[1;32m    149\u001b[0m         \u001b[0mself\u001b[0m\u001b[0;34m.\u001b[0m\u001b[0m_uniform_offsets\u001b[0m \u001b[0;34m=\u001b[0m \u001b[0;32mNone\u001b[0m\u001b[0;34m\u001b[0m\u001b[0;34m\u001b[0m\u001b[0m\n\u001b[1;32m    150\u001b[0m         \u001b[0;32mif\u001b[0m \u001b[0moffsets\u001b[0m \u001b[0;32mis\u001b[0m \u001b[0;32mnot\u001b[0m \u001b[0;32mNone\u001b[0m\u001b[0;34m:\u001b[0m\u001b[0;34m\u001b[0m\u001b[0;34m\u001b[0m\u001b[0m\n\u001b[0;32m--> 151\u001b[0;31m             \u001b[0moffsets\u001b[0m \u001b[0;34m=\u001b[0m \u001b[0mnp\u001b[0m\u001b[0;34m.\u001b[0m\u001b[0masanyarray\u001b[0m\u001b[0;34m(\u001b[0m\u001b[0moffsets\u001b[0m\u001b[0;34m,\u001b[0m \u001b[0mfloat\u001b[0m\u001b[0;34m)\u001b[0m\u001b[0;34m\u001b[0m\u001b[0;34m\u001b[0m\u001b[0m\n\u001b[0m\u001b[1;32m    152\u001b[0m             \u001b[0;31m# Broadcast (2,) -> (1, 2) but nothing else.\u001b[0m\u001b[0;34m\u001b[0m\u001b[0;34m\u001b[0m\u001b[0;34m\u001b[0m\u001b[0m\n\u001b[1;32m    153\u001b[0m             \u001b[0;32mif\u001b[0m \u001b[0moffsets\u001b[0m\u001b[0;34m.\u001b[0m\u001b[0mshape\u001b[0m \u001b[0;34m==\u001b[0m \u001b[0;34m(\u001b[0m\u001b[0;36m2\u001b[0m\u001b[0;34m,\u001b[0m\u001b[0;34m)\u001b[0m\u001b[0;34m:\u001b[0m\u001b[0;34m\u001b[0m\u001b[0;34m\u001b[0m\u001b[0m\n",
      "\u001b[0;32m/opt/anaconda3/lib/python3.7/site-packages/numpy/core/_asarray.py\u001b[0m in \u001b[0;36masanyarray\u001b[0;34m(a, dtype, order)\u001b[0m\n\u001b[1;32m    136\u001b[0m \u001b[0;34m\u001b[0m\u001b[0m\n\u001b[1;32m    137\u001b[0m     \"\"\"\n\u001b[0;32m--> 138\u001b[0;31m     \u001b[0;32mreturn\u001b[0m \u001b[0marray\u001b[0m\u001b[0;34m(\u001b[0m\u001b[0ma\u001b[0m\u001b[0;34m,\u001b[0m \u001b[0mdtype\u001b[0m\u001b[0;34m,\u001b[0m \u001b[0mcopy\u001b[0m\u001b[0;34m=\u001b[0m\u001b[0;32mFalse\u001b[0m\u001b[0;34m,\u001b[0m \u001b[0morder\u001b[0m\u001b[0;34m=\u001b[0m\u001b[0morder\u001b[0m\u001b[0;34m,\u001b[0m \u001b[0msubok\u001b[0m\u001b[0;34m=\u001b[0m\u001b[0;32mTrue\u001b[0m\u001b[0;34m)\u001b[0m\u001b[0;34m\u001b[0m\u001b[0;34m\u001b[0m\u001b[0m\n\u001b[0m\u001b[1;32m    139\u001b[0m \u001b[0;34m\u001b[0m\u001b[0m\n\u001b[1;32m    140\u001b[0m \u001b[0;34m\u001b[0m\u001b[0m\n",
      "\u001b[0;31mValueError\u001b[0m: setting an array element with a sequence."
     ]
    },
    {
     "data": {
      "image/png": "[encoded data removed]",
      "text/plain": [
       "<Figure size 432x288 with 1 Axes>"
      ]
     },
     "metadata": {
      "needs_background": "light"
     },
     "output_type": "display_data"
    }
   ],
   "source": [
    "#Getting unique labels\n",
    " \n",
    "u_labels = np.unique(label)\n",
    " \n",
    "#plotting the results:\n",
    " \n",
    "for i in u_labels:\n",
    "    plt.scatter(svd_data[label == i , 0] , svd_data[label == i , 1] , label = i)\n",
    "plt.legend()\n",
    "plt.show()"
   ]
  },
  {
   "cell_type": "markdown",
   "metadata": {},
   "source": [
    "### Experiment #3: Sentence Transofmrers/BERT and Clustering"
   ]
  },
  {
   "cell_type": "code",
   "execution_count": 62,
   "metadata": {
    "ExecuteTime": {
     "end_time": "2021-10-18T10:07:30.847832Z",
     "start_time": "2021-10-18T09:53:53.993995Z"
    }
   },
   "outputs": [],
   "source": [
    "model = SentenceTransformer('paraphrase-MiniLM-L6-v2')\n",
    "\n",
    "#Our sentences we like to encode\n",
    "sentences = list(df[\"Description_processed\"])\n",
    "\n",
    "#Sentences are encoded by calling model.encode()\n",
    "embeddings = model.encode(sentences)\n"
   ]
  },
  {
   "cell_type": "code",
   "execution_count": 63,
   "metadata": {
    "ExecuteTime": {
     "end_time": "2021-10-18T10:07:31.018454Z",
     "start_time": "2021-10-18T10:07:30.849736Z"
    }
   },
   "outputs": [],
   "source": [
    "books_embeddings = list(zip(df[\"Title\"], df[\"Description\"], embeddings))"
   ]
  },
  {
   "cell_type": "code",
   "execution_count": 64,
   "metadata": {
    "ExecuteTime": {
     "end_time": "2021-10-18T10:07:41.597225Z",
     "start_time": "2021-10-18T10:07:31.021237Z"
    }
   },
   "outputs": [],
   "source": [
    "cos_sim_embeddings = cosine_similarity(embeddings,embeddings)"
   ]
  },
  {
   "cell_type": "code",
   "execution_count": 66,
   "metadata": {
    "ExecuteTime": {
     "end_time": "2021-10-18T10:07:59.779785Z",
     "start_time": "2021-10-18T10:07:59.767691Z"
    }
   },
   "outputs": [],
   "source": [
    "scores, recommendations = get_recommendations('Harry Potter and the Deathly Hallows', cos_sim_embeddings)"
   ]
  },
  {
   "cell_type": "code",
   "execution_count": 67,
   "metadata": {
    "ExecuteTime": {
     "end_time": "2021-10-18T10:08:00.619544Z",
     "start_time": "2021-10-18T10:08:00.613930Z"
    }
   },
   "outputs": [
    {
     "data": {
      "text/plain": [
       "19670    0.788545\n",
       "16027    0.770192\n",
       "1896     0.763471\n",
       "20293    0.763228\n",
       "11736    0.763059\n",
       "9089     0.762973\n",
       "2401     0.760832\n",
       "9913     0.758609\n",
       "12702    0.758377\n",
       "21936    0.755704\n",
       "dtype: float32"
      ]
     },
     "execution_count": 67,
     "metadata": {},
     "output_type": "execute_result"
    }
   ],
   "source": [
    "scores"
   ]
  },
  {
   "cell_type": "code",
   "execution_count": 68,
   "metadata": {
    "ExecuteTime": {
     "end_time": "2021-10-18T10:08:03.128948Z",
     "start_time": "2021-10-18T10:08:03.122924Z"
    }
   },
   "outputs": [
    {
     "data": {
      "text/plain": [
       "19670                                           Waterbound\n",
       "16027                               Keturah and Lord Death\n",
       "1896     The Ignorant Maestro: How Great Leaders Inspir...\n",
       "20293                                    Emily of New Moon\n",
       "11736                                             Headlong\n",
       "9089                                 The End of the Matter\n",
       "2401                                      Kidnapped Hearts\n",
       "9913     The Most Interesting Person in the Room: A bri...\n",
       "12702                        The Greeks and the Irrational\n",
       "21936                                             Corbenic\n",
       "Name: Title, dtype: object"
      ]
     },
     "execution_count": 68,
     "metadata": {},
     "output_type": "execute_result"
    }
   ],
   "source": [
    "recommendations"
   ]
  },
  {
   "cell_type": "markdown",
   "metadata": {},
   "source": [
    "The cosine similarity scores here are quite high. However, I looked at the book description for a few of these, and I don't see how they are similar to Harry Potter. In addition, some of them were a bit too vague. Therefore, I decided to try again with a different dataset that has the book SUMMARIES instead of the descriptions of Goodreads. "
   ]
  },
  {
   "cell_type": "code",
   "execution_count": 71,
   "metadata": {
    "ExecuteTime": {
     "end_time": "2021-10-18T10:22:25.194361Z",
     "start_time": "2021-10-18T10:22:24.798868Z"
    }
   },
   "outputs": [],
   "source": [
    "df2 = pd.read_csv(\"booksummaries.txt\", sep='\\t', names=[\"Wikipedia ID\", \"Freebase ID\", \"Book title\", \"Book author\", \"Publication date\", \"Genres\", \"Plot Summary\"])"
   ]
  },
  {
   "cell_type": "code",
   "execution_count": 75,
   "metadata": {
    "ExecuteTime": {
     "end_time": "2021-10-18T10:30:07.474674Z",
     "start_time": "2021-10-18T10:30:07.464627Z"
    }
   },
   "outputs": [
    {
     "data": {
      "text/html": [
       "<div>\n",
       "<style scoped>\n",
       "    .dataframe tbody tr th:only-of-type {\n",
       "        vertical-align: middle;\n",
       "    }\n",
       "\n",
       "    .dataframe tbody tr th {\n",
       "        vertical-align: top;\n",
       "    }\n",
       "\n",
       "    .dataframe thead th {\n",
       "        text-align: right;\n",
       "    }\n",
       "</style>\n",
       "<table border=\"1\" class=\"dataframe\">\n",
       "  <thead>\n",
       "    <tr style=\"text-align: right;\">\n",
       "      <th></th>\n",
       "      <th>Wikipedia ID</th>\n",
       "      <th>Freebase ID</th>\n",
       "      <th>Book title</th>\n",
       "      <th>Book author</th>\n",
       "      <th>Publication date</th>\n",
       "      <th>Genres</th>\n",
       "      <th>Plot Summary</th>\n",
       "    </tr>\n",
       "  </thead>\n",
       "  <tbody>\n",
       "    <tr>\n",
       "      <td>0</td>\n",
       "      <td>620</td>\n",
       "      <td>/m/0hhy</td>\n",
       "      <td>Animal Farm</td>\n",
       "      <td>George Orwell</td>\n",
       "      <td>1945-08-17</td>\n",
       "      <td>{\"/m/016lj8\": \"Roman \\u00e0 clef\", \"/m/06nbt\":...</td>\n",
       "      <td>Old Major, the old boar on the Manor Farm, ca...</td>\n",
       "    </tr>\n",
       "    <tr>\n",
       "      <td>1</td>\n",
       "      <td>843</td>\n",
       "      <td>/m/0k36</td>\n",
       "      <td>A Clockwork Orange</td>\n",
       "      <td>Anthony Burgess</td>\n",
       "      <td>1962</td>\n",
       "      <td>{\"/m/06n90\": \"Science Fiction\", \"/m/0l67h\": \"N...</td>\n",
       "      <td>Alex, a teenager living in near-future Englan...</td>\n",
       "    </tr>\n",
       "    <tr>\n",
       "      <td>2</td>\n",
       "      <td>986</td>\n",
       "      <td>/m/0ldx</td>\n",
       "      <td>The Plague</td>\n",
       "      <td>Albert Camus</td>\n",
       "      <td>1947</td>\n",
       "      <td>{\"/m/02m4t\": \"Existentialism\", \"/m/02xlf\": \"Fi...</td>\n",
       "      <td>The text of The Plague is divided into five p...</td>\n",
       "    </tr>\n",
       "    <tr>\n",
       "      <td>3</td>\n",
       "      <td>1756</td>\n",
       "      <td>/m/0sww</td>\n",
       "      <td>An Enquiry Concerning Human Understanding</td>\n",
       "      <td>David Hume</td>\n",
       "      <td>NaN</td>\n",
       "      <td>NaN</td>\n",
       "      <td>The argument of the Enquiry proceeds by a ser...</td>\n",
       "    </tr>\n",
       "    <tr>\n",
       "      <td>4</td>\n",
       "      <td>2080</td>\n",
       "      <td>/m/0wkt</td>\n",
       "      <td>A Fire Upon the Deep</td>\n",
       "      <td>Vernor Vinge</td>\n",
       "      <td>NaN</td>\n",
       "      <td>{\"/m/03lrw\": \"Hard science fiction\", \"/m/06n90...</td>\n",
       "      <td>The novel posits that space around the Milky ...</td>\n",
       "    </tr>\n",
       "  </tbody>\n",
       "</table>\n",
       "</div>"
      ],
      "text/plain": [
       "   Wikipedia ID Freebase ID                                 Book title  \\\n",
       "0           620     /m/0hhy                                Animal Farm   \n",
       "1           843     /m/0k36                         A Clockwork Orange   \n",
       "2           986     /m/0ldx                                 The Plague   \n",
       "3          1756     /m/0sww  An Enquiry Concerning Human Understanding   \n",
       "4          2080     /m/0wkt                       A Fire Upon the Deep   \n",
       "\n",
       "       Book author Publication date  \\\n",
       "0    George Orwell       1945-08-17   \n",
       "1  Anthony Burgess             1962   \n",
       "2     Albert Camus             1947   \n",
       "3       David Hume              NaN   \n",
       "4     Vernor Vinge              NaN   \n",
       "\n",
       "                                              Genres  \\\n",
       "0  {\"/m/016lj8\": \"Roman \\u00e0 clef\", \"/m/06nbt\":...   \n",
       "1  {\"/m/06n90\": \"Science Fiction\", \"/m/0l67h\": \"N...   \n",
       "2  {\"/m/02m4t\": \"Existentialism\", \"/m/02xlf\": \"Fi...   \n",
       "3                                                NaN   \n",
       "4  {\"/m/03lrw\": \"Hard science fiction\", \"/m/06n90...   \n",
       "\n",
       "                                        Plot Summary  \n",
       "0   Old Major, the old boar on the Manor Farm, ca...  \n",
       "1   Alex, a teenager living in near-future Englan...  \n",
       "2   The text of The Plague is divided into five p...  \n",
       "3   The argument of the Enquiry proceeds by a ser...  \n",
       "4   The novel posits that space around the Milky ...  "
      ]
     },
     "execution_count": 75,
     "metadata": {},
     "output_type": "execute_result"
    }
   ],
   "source": [
    "df2.head()"
   ]
  },
  {
   "cell_type": "code",
   "execution_count": 82,
   "metadata": {
    "ExecuteTime": {
     "end_time": "2021-10-18T10:41:17.028275Z",
     "start_time": "2021-10-18T10:41:17.023240Z"
    }
   },
   "outputs": [
    {
     "data": {
      "text/plain": [
       "(16559, 8)"
      ]
     },
     "execution_count": 82,
     "metadata": {},
     "output_type": "execute_result"
    }
   ],
   "source": [
    "df2.shape"
   ]
  },
  {
   "cell_type": "code",
   "execution_count": 77,
   "metadata": {
    "ExecuteTime": {
     "end_time": "2021-10-18T10:31:48.810530Z",
     "start_time": "2021-10-18T10:30:31.088630Z"
    }
   },
   "outputs": [],
   "source": [
    "df2[\"Summary_processed\"] = text_preprocessed(df2[\"Plot Summary\"])"
   ]
  },
  {
   "cell_type": "code",
   "execution_count": 79,
   "metadata": {
    "ExecuteTime": {
     "end_time": "2021-10-18T10:41:04.486393Z",
     "start_time": "2021-10-18T10:32:35.159425Z"
    }
   },
   "outputs": [],
   "source": [
    "model = SentenceTransformer('paraphrase-MiniLM-L6-v2')\n",
    "\n",
    "#Our sentences we like to encode\n",
    "sentences = list(df2[\"Summary_processed\"])\n",
    "\n",
    "#Sentences are encoded by calling model.encode()\n",
    "embeddings = model.encode(sentences)"
   ]
  },
  {
   "cell_type": "code",
   "execution_count": 83,
   "metadata": {
    "ExecuteTime": {
     "end_time": "2021-10-18T10:41:26.828152Z",
     "start_time": "2021-10-18T10:41:26.781968Z"
    }
   },
   "outputs": [],
   "source": [
    "books_embeddings = list(zip(df2[\"Book title\"], embeddings))"
   ]
  },
  {
   "cell_type": "code",
   "execution_count": 84,
   "metadata": {
    "ExecuteTime": {
     "end_time": "2021-10-18T10:41:33.994670Z",
     "start_time": "2021-10-18T10:41:30.545603Z"
    }
   },
   "outputs": [],
   "source": [
    "cos_sim_embeddings = cosine_similarity(embeddings,embeddings)"
   ]
  },
  {
   "cell_type": "code",
   "execution_count": 85,
   "metadata": {
    "ExecuteTime": {
     "end_time": "2021-10-18T10:42:42.602848Z",
     "start_time": "2021-10-18T10:42:42.595781Z"
    }
   },
   "outputs": [
    {
     "data": {
      "text/plain": [
       "0                                  Animal Farm\n",
       "1                           A Clockwork Orange\n",
       "2                                   The Plague\n",
       "3    An Enquiry Concerning Human Understanding\n",
       "4                         A Fire Upon the Deep\n",
       "5               All Quiet on the Western Front\n",
       "6                         A Wizard of Earthsea\n",
       "7                           Anyone Can Whistle\n",
       "8              Blade Runner 3: Replicant Night\n",
       "9            Blade Runner 2: The Edge of Human\n",
       "Name: Book title, dtype: object"
      ]
     },
     "execution_count": 85,
     "metadata": {},
     "output_type": "execute_result"
    }
   ],
   "source": [
    "all_books = pd.Series(df2[\"Book title\"])\n",
    "all_books[:10]"
   ]
  },
  {
   "cell_type": "code",
   "execution_count": 86,
   "metadata": {
    "ExecuteTime": {
     "end_time": "2021-10-18T10:42:47.864765Z",
     "start_time": "2021-10-18T10:42:47.852202Z"
    }
   },
   "outputs": [],
   "source": [
    "scores, recommendations = get_recommendations(\"Harry Potter and the Philosopher's Stone\", cos_sim_embeddings)"
   ]
  },
  {
   "cell_type": "code",
   "execution_count": 87,
   "metadata": {
    "ExecuteTime": {
     "end_time": "2021-10-18T10:42:58.120229Z",
     "start_time": "2021-10-18T10:42:58.115968Z"
    }
   },
   "outputs": [
    {
     "data": {
      "text/plain": [
       "480      0.799137\n",
       "948      0.755065\n",
       "12207    0.750974\n",
       "15186    0.749860\n",
       "445      0.747034\n",
       "716      0.737015\n",
       "724      0.734902\n",
       "7677     0.731284\n",
       "13090    0.717387\n",
       "4841     0.716605\n",
       "dtype: float32"
      ]
     },
     "execution_count": 87,
     "metadata": {},
     "output_type": "execute_result"
    }
   ],
   "source": [
    "scores"
   ]
  },
  {
   "cell_type": "code",
   "execution_count": null,
   "metadata": {},
   "outputs": [],
   "source": []
  },
  {
   "cell_type": "markdown",
   "metadata": {},
   "source": [
    "### Experiment #4: Restricted Boltzmann Machine"
   ]
  },
  {
   "cell_type": "code",
   "execution_count": null,
   "metadata": {},
   "outputs": [],
   "source": []
  },
  {
   "cell_type": "code",
   "execution_count": null,
   "metadata": {},
   "outputs": [],
   "source": []
  }
 ],
 "metadata": {
  "kernelspec": {
   "display_name": "Python 3",
   "language": "python",
   "name": "python3"
  },
  "language_info": {
   "codemirror_mode": {
    "name": "ipython",
    "version": 3
   },
   "file_extension": ".py",
   "mimetype": "text/x-python",
   "name": "python",
   "nbconvert_exporter": "python",
   "pygments_lexer": "ipython3",
   "version": "3.7.4"
  }
 },
 "nbformat": 4,
 "nbformat_minor": 2
}
