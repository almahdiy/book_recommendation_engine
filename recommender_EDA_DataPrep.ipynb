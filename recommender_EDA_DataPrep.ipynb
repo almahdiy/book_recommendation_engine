{
 "cells": [
  {
   "cell_type": "code",
   "execution_count": 211,
   "metadata": {
    "ExecuteTime": {
     "end_time": "2021-10-18T06:44:21.124532Z",
     "start_time": "2021-10-18T06:44:17.972645Z"
    }
   },
   "outputs": [
    {
     "name": "stdout",
     "output_type": "stream",
     "text": [
      "Requirement already satisfied: transformers in /opt/anaconda3/lib/python3.7/site-packages (4.11.3)\n",
      "Requirement already satisfied: tqdm>=4.27 in /opt/anaconda3/lib/python3.7/site-packages (from transformers) (4.36.1)\n",
      "Requirement already satisfied: numpy>=1.17 in /opt/anaconda3/lib/python3.7/site-packages (from transformers) (1.17.2)\n",
      "Requirement already satisfied: requests in /opt/anaconda3/lib/python3.7/site-packages (from transformers) (2.26.0)\n",
      "Requirement already satisfied: packaging>=20.0 in /opt/anaconda3/lib/python3.7/site-packages (from transformers) (21.0)\n",
      "Requirement already satisfied: regex!=2019.12.17 in /opt/anaconda3/lib/python3.7/site-packages (from transformers) (2020.9.27)\n",
      "Requirement already satisfied: filelock in /opt/anaconda3/lib/python3.7/site-packages (from transformers) (3.0.12)\n",
      "Requirement already satisfied: tokenizers<0.11,>=0.10.1 in /opt/anaconda3/lib/python3.7/site-packages (from transformers) (0.10.3)\n",
      "Requirement already satisfied: importlib-metadata; python_version < \"3.8\" in /opt/anaconda3/lib/python3.7/site-packages (from transformers) (0.23)\n",
      "Requirement already satisfied: pyyaml>=5.1 in /opt/anaconda3/lib/python3.7/site-packages (from transformers) (5.1.2)\n",
      "Requirement already satisfied: sacremoses in /opt/anaconda3/lib/python3.7/site-packages (from transformers) (0.0.43)\n",
      "Requirement already satisfied: huggingface-hub>=0.0.17 in /opt/anaconda3/lib/python3.7/site-packages (from transformers) (0.0.19)\n",
      "Requirement already satisfied: idna<4,>=2.5; python_version >= \"3\" in /opt/anaconda3/lib/python3.7/site-packages (from requests->transformers) (2.8)\n",
      "Requirement already satisfied: certifi>=2017.4.17 in /opt/anaconda3/lib/python3.7/site-packages (from requests->transformers) (2019.9.11)\n",
      "Requirement already satisfied: urllib3<1.27,>=1.21.1 in /opt/anaconda3/lib/python3.7/site-packages (from requests->transformers) (1.26.7)\n",
      "Requirement already satisfied: charset-normalizer~=2.0.0; python_version >= \"3\" in /opt/anaconda3/lib/python3.7/site-packages (from requests->transformers) (2.0.7)\n",
      "Requirement already satisfied: pyparsing>=2.0.2 in /opt/anaconda3/lib/python3.7/site-packages (from packaging>=20.0->transformers) (2.4.2)\n",
      "Requirement already satisfied: zipp>=0.5 in /opt/anaconda3/lib/python3.7/site-packages (from importlib-metadata; python_version < \"3.8\"->transformers) (0.6.0)\n",
      "Requirement already satisfied: joblib in /opt/anaconda3/lib/python3.7/site-packages (from sacremoses->transformers) (0.13.2)\n",
      "Requirement already satisfied: six in /opt/anaconda3/lib/python3.7/site-packages (from sacremoses->transformers) (1.12.0)\n",
      "Requirement already satisfied: click in /opt/anaconda3/lib/python3.7/site-packages (from sacremoses->transformers) (7.0)\n",
      "Requirement already satisfied: typing-extensions in /opt/anaconda3/lib/python3.7/site-packages (from huggingface-hub>=0.0.17->transformers) (3.10.0.2)\n",
      "Requirement already satisfied: more-itertools in /opt/anaconda3/lib/python3.7/site-packages (from zipp>=0.5->importlib-metadata; python_version < \"3.8\"->transformers) (7.2.0)\n"
     ]
    }
   ],
   "source": [
    "!pip install transformers"
   ]
  },
  {
   "cell_type": "code",
   "execution_count": 212,
   "metadata": {
    "ExecuteTime": {
     "end_time": "2021-10-18T06:44:31.386263Z",
     "start_time": "2021-10-18T06:44:27.565102Z"
    }
   },
   "outputs": [
    {
     "name": "stdout",
     "output_type": "stream",
     "text": [
      "Requirement already up-to-date: sentence-transformers in /opt/anaconda3/lib/python3.7/site-packages (2.1.0)\n",
      "Requirement already satisfied, skipping upgrade: scikit-learn in /opt/anaconda3/lib/python3.7/site-packages (from sentence-transformers) (0.21.3)\n",
      "Requirement already satisfied, skipping upgrade: torch>=1.6.0 in /opt/anaconda3/lib/python3.7/site-packages (from sentence-transformers) (1.6.0)\n",
      "Requirement already satisfied, skipping upgrade: torchvision in /opt/anaconda3/lib/python3.7/site-packages (from sentence-transformers) (0.10.1)\n",
      "Requirement already satisfied, skipping upgrade: tqdm in /opt/anaconda3/lib/python3.7/site-packages (from sentence-transformers) (4.36.1)\n",
      "Requirement already satisfied, skipping upgrade: tokenizers>=0.10.3 in /opt/anaconda3/lib/python3.7/site-packages (from sentence-transformers) (0.10.3)\n",
      "Requirement already satisfied, skipping upgrade: numpy in /opt/anaconda3/lib/python3.7/site-packages (from sentence-transformers) (1.17.2)\n",
      "Requirement already satisfied, skipping upgrade: nltk in /opt/anaconda3/lib/python3.7/site-packages (from sentence-transformers) (3.4.5)\n",
      "Requirement already satisfied, skipping upgrade: transformers<5.0.0,>=4.6.0 in /opt/anaconda3/lib/python3.7/site-packages (from sentence-transformers) (4.11.3)\n",
      "Requirement already satisfied, skipping upgrade: scipy in /opt/anaconda3/lib/python3.7/site-packages (from sentence-transformers) (1.4.1)\n",
      "Requirement already satisfied, skipping upgrade: sentencepiece in /opt/anaconda3/lib/python3.7/site-packages (from sentence-transformers) (0.1.91)\n",
      "Requirement already satisfied, skipping upgrade: huggingface-hub in /opt/anaconda3/lib/python3.7/site-packages (from sentence-transformers) (0.0.19)\n",
      "Requirement already satisfied, skipping upgrade: joblib>=0.11 in /opt/anaconda3/lib/python3.7/site-packages (from scikit-learn->sentence-transformers) (0.13.2)\n",
      "Requirement already satisfied, skipping upgrade: future in /opt/anaconda3/lib/python3.7/site-packages (from torch>=1.6.0->sentence-transformers) (0.17.1)\n",
      "Requirement already satisfied, skipping upgrade: pillow>=5.3.0 in /opt/anaconda3/lib/python3.7/site-packages (from torchvision->sentence-transformers) (6.2.0)\n",
      "Requirement already satisfied, skipping upgrade: six in /opt/anaconda3/lib/python3.7/site-packages (from nltk->sentence-transformers) (1.12.0)\n",
      "Requirement already satisfied, skipping upgrade: importlib-metadata; python_version < \"3.8\" in /opt/anaconda3/lib/python3.7/site-packages (from transformers<5.0.0,>=4.6.0->sentence-transformers) (0.23)\n",
      "Requirement already satisfied, skipping upgrade: pyyaml>=5.1 in /opt/anaconda3/lib/python3.7/site-packages (from transformers<5.0.0,>=4.6.0->sentence-transformers) (5.1.2)\n",
      "Requirement already satisfied, skipping upgrade: regex!=2019.12.17 in /opt/anaconda3/lib/python3.7/site-packages (from transformers<5.0.0,>=4.6.0->sentence-transformers) (2020.9.27)\n",
      "Requirement already satisfied, skipping upgrade: sacremoses in /opt/anaconda3/lib/python3.7/site-packages (from transformers<5.0.0,>=4.6.0->sentence-transformers) (0.0.43)\n",
      "Requirement already satisfied, skipping upgrade: requests in /opt/anaconda3/lib/python3.7/site-packages (from transformers<5.0.0,>=4.6.0->sentence-transformers) (2.26.0)\n",
      "Requirement already satisfied, skipping upgrade: packaging>=20.0 in /opt/anaconda3/lib/python3.7/site-packages (from transformers<5.0.0,>=4.6.0->sentence-transformers) (21.0)\n",
      "Requirement already satisfied, skipping upgrade: filelock in /opt/anaconda3/lib/python3.7/site-packages (from transformers<5.0.0,>=4.6.0->sentence-transformers) (3.0.12)\n",
      "Requirement already satisfied, skipping upgrade: typing-extensions in /opt/anaconda3/lib/python3.7/site-packages (from huggingface-hub->sentence-transformers) (3.10.0.2)\n",
      "Requirement already satisfied, skipping upgrade: zipp>=0.5 in /opt/anaconda3/lib/python3.7/site-packages (from importlib-metadata; python_version < \"3.8\"->transformers<5.0.0,>=4.6.0->sentence-transformers) (0.6.0)\n",
      "Requirement already satisfied, skipping upgrade: click in /opt/anaconda3/lib/python3.7/site-packages (from sacremoses->transformers<5.0.0,>=4.6.0->sentence-transformers) (7.0)\n",
      "Requirement already satisfied, skipping upgrade: urllib3<1.27,>=1.21.1 in /opt/anaconda3/lib/python3.7/site-packages (from requests->transformers<5.0.0,>=4.6.0->sentence-transformers) (1.26.7)\n",
      "Requirement already satisfied, skipping upgrade: charset-normalizer~=2.0.0; python_version >= \"3\" in /opt/anaconda3/lib/python3.7/site-packages (from requests->transformers<5.0.0,>=4.6.0->sentence-transformers) (2.0.7)\n",
      "Requirement already satisfied, skipping upgrade: certifi>=2017.4.17 in /opt/anaconda3/lib/python3.7/site-packages (from requests->transformers<5.0.0,>=4.6.0->sentence-transformers) (2019.9.11)\n",
      "Requirement already satisfied, skipping upgrade: idna<4,>=2.5; python_version >= \"3\" in /opt/anaconda3/lib/python3.7/site-packages (from requests->transformers<5.0.0,>=4.6.0->sentence-transformers) (2.8)\n",
      "Requirement already satisfied, skipping upgrade: pyparsing>=2.0.2 in /opt/anaconda3/lib/python3.7/site-packages (from packaging>=20.0->transformers<5.0.0,>=4.6.0->sentence-transformers) (2.4.2)\n",
      "Requirement already satisfied, skipping upgrade: more-itertools in /opt/anaconda3/lib/python3.7/site-packages (from zipp>=0.5->importlib-metadata; python_version < \"3.8\"->transformers<5.0.0,>=4.6.0->sentence-transformers) (7.2.0)\n"
     ]
    }
   ],
   "source": [
    "!pip install -U sentence-transformers"
   ]
  },
  {
   "cell_type": "code",
   "execution_count": 213,
   "metadata": {
    "ExecuteTime": {
     "end_time": "2021-10-18T06:44:35.080971Z",
     "start_time": "2021-10-18T06:44:34.821652Z"
    },
    "scrolled": true
   },
   "outputs": [
    {
     "ename": "AttributeError",
     "evalue": "'Version' object has no attribute 'major'",
     "output_type": "error",
     "traceback": [
      "\u001b[0;31m---------------------------------------------------------------------------\u001b[0m",
      "\u001b[0;31mAttributeError\u001b[0m                            Traceback (most recent call last)",
      "\u001b[0;32m<ipython-input-213-827940854a54>\u001b[0m in \u001b[0;36m<module>\u001b[0;34m\u001b[0m\n\u001b[1;32m     13\u001b[0m \u001b[0;32mfrom\u001b[0m \u001b[0msklearn\u001b[0m\u001b[0;34m.\u001b[0m\u001b[0mdecomposition\u001b[0m \u001b[0;32mimport\u001b[0m \u001b[0mTruncatedSVD\u001b[0m\u001b[0;34m\u001b[0m\u001b[0;34m\u001b[0m\u001b[0m\n\u001b[1;32m     14\u001b[0m \u001b[0;32mfrom\u001b[0m \u001b[0mnltk\u001b[0m\u001b[0;34m.\u001b[0m\u001b[0mstem\u001b[0m \u001b[0;32mimport\u001b[0m \u001b[0mWordNetLemmatizer\u001b[0m\u001b[0;34m,\u001b[0m \u001b[0mSnowballStemmer\u001b[0m\u001b[0;34m\u001b[0m\u001b[0;34m\u001b[0m\u001b[0m\n\u001b[0;32m---> 15\u001b[0;31m \u001b[0;32mfrom\u001b[0m \u001b[0msentence_transformers\u001b[0m \u001b[0;32mimport\u001b[0m \u001b[0mSentenceTransformer\u001b[0m\u001b[0;34m\u001b[0m\u001b[0;34m\u001b[0m\u001b[0m\n\u001b[0m",
      "\u001b[0;32m/opt/anaconda3/lib/python3.7/site-packages/sentence_transformers/__init__.py\u001b[0m in \u001b[0;36m<module>\u001b[0;34m\u001b[0m\n\u001b[1;32m      1\u001b[0m \u001b[0m__version__\u001b[0m \u001b[0;34m=\u001b[0m \u001b[0;34m\"2.1.0\"\u001b[0m\u001b[0;34m\u001b[0m\u001b[0;34m\u001b[0m\u001b[0m\n\u001b[1;32m      2\u001b[0m \u001b[0m__MODEL_HUB_ORGANIZATION__\u001b[0m \u001b[0;34m=\u001b[0m \u001b[0;34m'sentence-transformers'\u001b[0m\u001b[0;34m\u001b[0m\u001b[0;34m\u001b[0m\u001b[0m\n\u001b[0;32m----> 3\u001b[0;31m \u001b[0;32mfrom\u001b[0m \u001b[0;34m.\u001b[0m\u001b[0mdatasets\u001b[0m \u001b[0;32mimport\u001b[0m \u001b[0mSentencesDataset\u001b[0m\u001b[0;34m,\u001b[0m \u001b[0mParallelSentencesDataset\u001b[0m\u001b[0;34m\u001b[0m\u001b[0;34m\u001b[0m\u001b[0m\n\u001b[0m\u001b[1;32m      4\u001b[0m \u001b[0;32mfrom\u001b[0m \u001b[0;34m.\u001b[0m\u001b[0mLoggingHandler\u001b[0m \u001b[0;32mimport\u001b[0m \u001b[0mLoggingHandler\u001b[0m\u001b[0;34m\u001b[0m\u001b[0;34m\u001b[0m\u001b[0m\n\u001b[1;32m      5\u001b[0m \u001b[0;32mfrom\u001b[0m \u001b[0;34m.\u001b[0m\u001b[0mSentenceTransformer\u001b[0m \u001b[0;32mimport\u001b[0m \u001b[0mSentenceTransformer\u001b[0m\u001b[0;34m\u001b[0m\u001b[0;34m\u001b[0m\u001b[0m\n",
      "\u001b[0;32m/opt/anaconda3/lib/python3.7/site-packages/sentence_transformers/datasets/__init__.py\u001b[0m in \u001b[0;36m<module>\u001b[0;34m\u001b[0m\n\u001b[1;32m      1\u001b[0m \u001b[0;32mfrom\u001b[0m \u001b[0;34m.\u001b[0m\u001b[0mDenoisingAutoEncoderDataset\u001b[0m \u001b[0;32mimport\u001b[0m \u001b[0mDenoisingAutoEncoderDataset\u001b[0m\u001b[0;34m\u001b[0m\u001b[0;34m\u001b[0m\u001b[0m\n\u001b[1;32m      2\u001b[0m \u001b[0;32mfrom\u001b[0m \u001b[0;34m.\u001b[0m\u001b[0mNoDuplicatesDataLoader\u001b[0m \u001b[0;32mimport\u001b[0m \u001b[0mNoDuplicatesDataLoader\u001b[0m\u001b[0;34m\u001b[0m\u001b[0;34m\u001b[0m\u001b[0m\n\u001b[0;32m----> 3\u001b[0;31m \u001b[0;32mfrom\u001b[0m \u001b[0;34m.\u001b[0m\u001b[0mParallelSentencesDataset\u001b[0m \u001b[0;32mimport\u001b[0m \u001b[0mParallelSentencesDataset\u001b[0m\u001b[0;34m\u001b[0m\u001b[0;34m\u001b[0m\u001b[0m\n\u001b[0m\u001b[1;32m      4\u001b[0m \u001b[0;32mfrom\u001b[0m \u001b[0;34m.\u001b[0m\u001b[0mSentencesDataset\u001b[0m \u001b[0;32mimport\u001b[0m \u001b[0mSentencesDataset\u001b[0m\u001b[0;34m\u001b[0m\u001b[0;34m\u001b[0m\u001b[0m\n\u001b[1;32m      5\u001b[0m \u001b[0;32mfrom\u001b[0m \u001b[0;34m.\u001b[0m\u001b[0mSentenceLabelDataset\u001b[0m \u001b[0;32mimport\u001b[0m \u001b[0mSentenceLabelDataset\u001b[0m\u001b[0;34m\u001b[0m\u001b[0;34m\u001b[0m\u001b[0m\n",
      "\u001b[0;32m/opt/anaconda3/lib/python3.7/site-packages/sentence_transformers/datasets/ParallelSentencesDataset.py\u001b[0m in \u001b[0;36m<module>\u001b[0;34m\u001b[0m\n\u001b[1;32m      2\u001b[0m \u001b[0;32mimport\u001b[0m \u001b[0mlogging\u001b[0m\u001b[0;34m\u001b[0m\u001b[0;34m\u001b[0m\u001b[0m\n\u001b[1;32m      3\u001b[0m \u001b[0;32mimport\u001b[0m \u001b[0mgzip\u001b[0m\u001b[0;34m\u001b[0m\u001b[0;34m\u001b[0m\u001b[0m\n\u001b[0;32m----> 4\u001b[0;31m \u001b[0;32mfrom\u001b[0m \u001b[0;34m.\u001b[0m\u001b[0;34m.\u001b[0m \u001b[0;32mimport\u001b[0m \u001b[0mSentenceTransformer\u001b[0m\u001b[0;34m\u001b[0m\u001b[0;34m\u001b[0m\u001b[0m\n\u001b[0m\u001b[1;32m      5\u001b[0m \u001b[0;32mfrom\u001b[0m \u001b[0;34m.\u001b[0m\u001b[0;34m.\u001b[0m\u001b[0mreaders\u001b[0m \u001b[0;32mimport\u001b[0m \u001b[0mInputExample\u001b[0m\u001b[0;34m\u001b[0m\u001b[0;34m\u001b[0m\u001b[0m\n\u001b[1;32m      6\u001b[0m \u001b[0;32mfrom\u001b[0m \u001b[0mtyping\u001b[0m \u001b[0;32mimport\u001b[0m \u001b[0mList\u001b[0m\u001b[0;34m\u001b[0m\u001b[0;34m\u001b[0m\u001b[0m\n",
      "\u001b[0;32m/opt/anaconda3/lib/python3.7/site-packages/sentence_transformers/SentenceTransformer.py\u001b[0m in \u001b[0;36m<module>\u001b[0;34m\u001b[0m\n\u001b[1;32m      9\u001b[0m \u001b[0;32mimport\u001b[0m \u001b[0mnumpy\u001b[0m \u001b[0;32mas\u001b[0m \u001b[0mnp\u001b[0m\u001b[0;34m\u001b[0m\u001b[0;34m\u001b[0m\u001b[0m\n\u001b[1;32m     10\u001b[0m \u001b[0;32mfrom\u001b[0m \u001b[0mnumpy\u001b[0m \u001b[0;32mimport\u001b[0m \u001b[0mndarray\u001b[0m\u001b[0;34m\u001b[0m\u001b[0;34m\u001b[0m\u001b[0m\n\u001b[0;32m---> 11\u001b[0;31m \u001b[0;32mimport\u001b[0m \u001b[0mtransformers\u001b[0m\u001b[0;34m\u001b[0m\u001b[0;34m\u001b[0m\u001b[0m\n\u001b[0m\u001b[1;32m     12\u001b[0m \u001b[0;32mfrom\u001b[0m \u001b[0mhuggingface_hub\u001b[0m \u001b[0;32mimport\u001b[0m \u001b[0mHfApi\u001b[0m\u001b[0;34m,\u001b[0m \u001b[0mHfFolder\u001b[0m\u001b[0;34m,\u001b[0m \u001b[0mRepository\u001b[0m\u001b[0;34m,\u001b[0m \u001b[0mhf_hub_url\u001b[0m\u001b[0;34m,\u001b[0m \u001b[0mcached_download\u001b[0m\u001b[0;34m\u001b[0m\u001b[0;34m\u001b[0m\u001b[0m\n\u001b[1;32m     13\u001b[0m \u001b[0;32mimport\u001b[0m \u001b[0mtorch\u001b[0m\u001b[0;34m\u001b[0m\u001b[0;34m\u001b[0m\u001b[0m\n",
      "\u001b[0;32m/opt/anaconda3/lib/python3.7/site-packages/transformers/__init__.py\u001b[0m in \u001b[0;36m<module>\u001b[0;34m\u001b[0m\n\u001b[1;32m     41\u001b[0m \u001b[0;34m\u001b[0m\u001b[0m\n\u001b[1;32m     42\u001b[0m \u001b[0;31m# Check the dependencies satisfy the minimal versions required.\u001b[0m\u001b[0;34m\u001b[0m\u001b[0;34m\u001b[0m\u001b[0;34m\u001b[0m\u001b[0m\n\u001b[0;32m---> 43\u001b[0;31m \u001b[0;32mfrom\u001b[0m \u001b[0;34m.\u001b[0m \u001b[0;32mimport\u001b[0m \u001b[0mdependency_versions_check\u001b[0m\u001b[0;34m\u001b[0m\u001b[0;34m\u001b[0m\u001b[0m\n\u001b[0m\u001b[1;32m     44\u001b[0m from .file_utils import (\n\u001b[1;32m     45\u001b[0m     \u001b[0m_LazyModule\u001b[0m\u001b[0;34m,\u001b[0m\u001b[0;34m\u001b[0m\u001b[0;34m\u001b[0m\u001b[0m\n",
      "\u001b[0;32m/opt/anaconda3/lib/python3.7/site-packages/transformers/dependency_versions_check.py\u001b[0m in \u001b[0;36m<module>\u001b[0;34m\u001b[0m\n\u001b[1;32m     34\u001b[0m         \u001b[0;32mif\u001b[0m \u001b[0mpkg\u001b[0m \u001b[0;34m==\u001b[0m \u001b[0;34m\"tokenizers\"\u001b[0m\u001b[0;34m:\u001b[0m\u001b[0;34m\u001b[0m\u001b[0;34m\u001b[0m\u001b[0m\n\u001b[1;32m     35\u001b[0m             \u001b[0;31m# must be loaded here, or else tqdm check may fail\u001b[0m\u001b[0;34m\u001b[0m\u001b[0;34m\u001b[0m\u001b[0;34m\u001b[0m\u001b[0m\n\u001b[0;32m---> 36\u001b[0;31m             \u001b[0;32mfrom\u001b[0m \u001b[0;34m.\u001b[0m\u001b[0mfile_utils\u001b[0m \u001b[0;32mimport\u001b[0m \u001b[0mis_tokenizers_available\u001b[0m\u001b[0;34m\u001b[0m\u001b[0;34m\u001b[0m\u001b[0m\n\u001b[0m\u001b[1;32m     37\u001b[0m \u001b[0;34m\u001b[0m\u001b[0m\n\u001b[1;32m     38\u001b[0m             \u001b[0;32mif\u001b[0m \u001b[0;32mnot\u001b[0m \u001b[0mis_tokenizers_available\u001b[0m\u001b[0;34m(\u001b[0m\u001b[0;34m)\u001b[0m\u001b[0;34m:\u001b[0m\u001b[0;34m\u001b[0m\u001b[0;34m\u001b[0m\u001b[0m\n",
      "\u001b[0;32m/opt/anaconda3/lib/python3.7/site-packages/transformers/file_utils.py\u001b[0m in \u001b[0;36m<module>\u001b[0;34m\u001b[0m\n\u001b[1;32m    307\u001b[0m \u001b[0;32mif\u001b[0m \u001b[0m_torch_available\u001b[0m\u001b[0;34m:\u001b[0m\u001b[0;34m\u001b[0m\u001b[0;34m\u001b[0m\u001b[0m\n\u001b[1;32m    308\u001b[0m     \u001b[0mtorch_version\u001b[0m \u001b[0;34m=\u001b[0m \u001b[0mversion\u001b[0m\u001b[0;34m.\u001b[0m\u001b[0mparse\u001b[0m\u001b[0;34m(\u001b[0m\u001b[0mimportlib_metadata\u001b[0m\u001b[0;34m.\u001b[0m\u001b[0mversion\u001b[0m\u001b[0;34m(\u001b[0m\u001b[0;34m\"torch\"\u001b[0m\u001b[0;34m)\u001b[0m\u001b[0;34m)\u001b[0m\u001b[0;34m\u001b[0m\u001b[0;34m\u001b[0m\u001b[0m\n\u001b[0;32m--> 309\u001b[0;31m     _torch_fx_available = (torch_version.major, torch_version.minor) == (\n\u001b[0m\u001b[1;32m    310\u001b[0m         \u001b[0mTORCH_FX_REQUIRED_VERSION\u001b[0m\u001b[0;34m.\u001b[0m\u001b[0mmajor\u001b[0m\u001b[0;34m,\u001b[0m\u001b[0;34m\u001b[0m\u001b[0;34m\u001b[0m\u001b[0m\n\u001b[1;32m    311\u001b[0m         \u001b[0mTORCH_FX_REQUIRED_VERSION\u001b[0m\u001b[0;34m.\u001b[0m\u001b[0mminor\u001b[0m\u001b[0;34m,\u001b[0m\u001b[0;34m\u001b[0m\u001b[0;34m\u001b[0m\u001b[0m\n",
      "\u001b[0;31mAttributeError\u001b[0m: 'Version' object has no attribute 'major'"
     ]
    }
   ],
   "source": [
    "import pandas as pd\n",
    "import numpy as np\n",
    "from nltk.corpus import stopwords\n",
    "from nltk.util import ngrams\n",
    "from nltk.tokenize import word_tokenize\n",
    "import gensim.downloader as api\n",
    "from gensim.models.phrases import Phrases, ENGLISH_CONNECTOR_WORDS\n",
    "import gensim\n",
    "from sklearn.feature_extraction.text import TfidfVectorizer\n",
    "from sklearn.metrics.pairwise import cosine_similarity\n",
    "from sklearn.cluster import KMeans\n",
    "from sklearn.decomposition import PCA\n",
    "from sklearn.decomposition import TruncatedSVD\n",
    "from nltk.stem import WordNetLemmatizer, SnowballStemmer\n",
    "from sentence_transformers import SentenceTransformer"
   ]
  },
  {
   "cell_type": "code",
   "execution_count": 214,
   "metadata": {
    "ExecuteTime": {
     "end_time": "2021-10-18T06:48:36.964247Z",
     "start_time": "2021-10-18T06:48:36.819735Z"
    }
   },
   "outputs": [
    {
     "name": "stdout",
     "output_type": "stream",
     "text": [
      "Python 3.7.4\r\n"
     ]
    }
   ],
   "source": [
    "!python --version"
   ]
  },
  {
   "cell_type": "code",
   "execution_count": 9,
   "metadata": {
    "ExecuteTime": {
     "end_time": "2021-10-17T10:32:07.706264Z",
     "start_time": "2021-10-17T10:32:07.703717Z"
    }
   },
   "outputs": [],
   "source": [
    "#!pip install gensim==4.0.0"
   ]
  },
  {
   "cell_type": "code",
   "execution_count": 10,
   "metadata": {
    "ExecuteTime": {
     "end_time": "2021-10-17T10:32:07.713964Z",
     "start_time": "2021-10-17T10:32:07.709134Z"
    }
   },
   "outputs": [
    {
     "data": {
      "text/plain": [
       "'4.0.0'"
      ]
     },
     "execution_count": 10,
     "metadata": {},
     "output_type": "execute_result"
    }
   ],
   "source": [
    "gensim.__version__"
   ]
  },
  {
   "cell_type": "code",
   "execution_count": 11,
   "metadata": {
    "ExecuteTime": {
     "end_time": "2021-10-17T10:32:08.124121Z",
     "start_time": "2021-10-17T10:32:07.716802Z"
    }
   },
   "outputs": [],
   "source": [
    "df1 = pd.read_csv(\"data_10000.csv\")\n",
    "df2 = pd.read_csv(\"data_20000.csv\")\n",
    "df3 = pd.read_csv(\"data_30000.csv\")\n",
    "#df4 = pd.read_csv(\"data_40000.csv\")\n",
    "#df5 = pd.read_csv(\"data_50000.csv\")"
   ]
  },
  {
   "cell_type": "code",
   "execution_count": 12,
   "metadata": {
    "ExecuteTime": {
     "end_time": "2021-10-17T10:32:08.156130Z",
     "start_time": "2021-10-17T10:32:08.126541Z"
    }
   },
   "outputs": [
    {
     "data": {
      "text/html": [
       "<div>\n",
       "<style scoped>\n",
       "    .dataframe tbody tr th:only-of-type {\n",
       "        vertical-align: middle;\n",
       "    }\n",
       "\n",
       "    .dataframe tbody tr th {\n",
       "        vertical-align: top;\n",
       "    }\n",
       "\n",
       "    .dataframe thead th {\n",
       "        text-align: right;\n",
       "    }\n",
       "</style>\n",
       "<table border=\"1\" class=\"dataframe\">\n",
       "  <thead>\n",
       "    <tr style=\"text-align: right;\">\n",
       "      <th></th>\n",
       "      <th>Unnamed: 0</th>\n",
       "      <th>Title</th>\n",
       "      <th>Author</th>\n",
       "      <th>Description</th>\n",
       "      <th>Publisher</th>\n",
       "      <th>Year Published</th>\n",
       "      <th>Genres</th>\n",
       "      <th>Page Count</th>\n",
       "    </tr>\n",
       "  </thead>\n",
       "  <tbody>\n",
       "    <tr>\n",
       "      <td>0</td>\n",
       "      <td>0</td>\n",
       "      <td>The Strange Maid</td>\n",
       "      <td>['Tessa Gratton']</td>\n",
       "      <td>Fans of Neil Gaiman, Holly Black, and Maggie S...</td>\n",
       "      <td>Random House Books for Young Readers</td>\n",
       "      <td>2014.0</td>\n",
       "      <td>['Fantasy', 'Young Adult', 'Fantasy', 'Mytholo...</td>\n",
       "      <td>400.0</td>\n",
       "    </tr>\n",
       "    <tr>\n",
       "      <td>1</td>\n",
       "      <td>1</td>\n",
       "      <td>A Darker Domain</td>\n",
       "      <td>['Val McDermid']</td>\n",
       "      <td>1984, Fife. Heiress Catriona Maclennan Grant &amp;...</td>\n",
       "      <td>HarperCollins Publishers</td>\n",
       "      <td>2008.0</td>\n",
       "      <td>['Mystery', 'Mystery', 'Crime', 'Fiction', 'Cu...</td>\n",
       "      <td>371.0</td>\n",
       "    </tr>\n",
       "    <tr>\n",
       "      <td>2</td>\n",
       "      <td>2</td>\n",
       "      <td>A Thousand Naked Strangers: A Paramedic's Wild...</td>\n",
       "      <td>['Kevin Hazzard']</td>\n",
       "      <td>A former paramedic’s visceral, poignant, and m...</td>\n",
       "      <td>Scribner</td>\n",
       "      <td>2016.0</td>\n",
       "      <td>['Nonfiction', 'Autobiography', 'Memoir', 'Med...</td>\n",
       "      <td>261.0</td>\n",
       "    </tr>\n",
       "    <tr>\n",
       "      <td>3</td>\n",
       "      <td>3</td>\n",
       "      <td>Looking Back with a Smile</td>\n",
       "      <td>['Edward B. Farber']</td>\n",
       "      <td>In Looking Back with a Smile, the author recol...</td>\n",
       "      <td>NaN</td>\n",
       "      <td>2012.0</td>\n",
       "      <td>[]</td>\n",
       "      <td>NaN</td>\n",
       "    </tr>\n",
       "    <tr>\n",
       "      <td>4</td>\n",
       "      <td>4</td>\n",
       "      <td>Bargain Paradise</td>\n",
       "      <td>['Darlene Blasing']</td>\n",
       "      <td>Bargain Paradise is a humorous tale of an obse...</td>\n",
       "      <td>Argon Press</td>\n",
       "      <td>2013.0</td>\n",
       "      <td>[]</td>\n",
       "      <td>49.0</td>\n",
       "    </tr>\n",
       "  </tbody>\n",
       "</table>\n",
       "</div>"
      ],
      "text/plain": [
       "   Unnamed: 0                                              Title  \\\n",
       "0           0                                   The Strange Maid   \n",
       "1           1                                    A Darker Domain   \n",
       "2           2  A Thousand Naked Strangers: A Paramedic's Wild...   \n",
       "3           3                          Looking Back with a Smile   \n",
       "4           4                                   Bargain Paradise   \n",
       "\n",
       "                 Author                                        Description  \\\n",
       "0     ['Tessa Gratton']  Fans of Neil Gaiman, Holly Black, and Maggie S...   \n",
       "1      ['Val McDermid']  1984, Fife. Heiress Catriona Maclennan Grant &...   \n",
       "2     ['Kevin Hazzard']  A former paramedic’s visceral, poignant, and m...   \n",
       "3  ['Edward B. Farber']  In Looking Back with a Smile, the author recol...   \n",
       "4   ['Darlene Blasing']  Bargain Paradise is a humorous tale of an obse...   \n",
       "\n",
       "                              Publisher  Year Published  \\\n",
       "0  Random House Books for Young Readers          2014.0   \n",
       "1              HarperCollins Publishers          2008.0   \n",
       "2                              Scribner          2016.0   \n",
       "3                                   NaN          2012.0   \n",
       "4                           Argon Press          2013.0   \n",
       "\n",
       "                                              Genres  Page Count  \n",
       "0  ['Fantasy', 'Young Adult', 'Fantasy', 'Mytholo...       400.0  \n",
       "1  ['Mystery', 'Mystery', 'Crime', 'Fiction', 'Cu...       371.0  \n",
       "2  ['Nonfiction', 'Autobiography', 'Memoir', 'Med...       261.0  \n",
       "3                                                 []         NaN  \n",
       "4                                                 []        49.0  "
      ]
     },
     "execution_count": 12,
     "metadata": {},
     "output_type": "execute_result"
    }
   ],
   "source": [
    "df = pd.concat([df1, df2, df3], ignore_index=True)\n",
    "df.head()"
   ]
  },
  {
   "cell_type": "code",
   "execution_count": 13,
   "metadata": {
    "ExecuteTime": {
     "end_time": "2021-10-17T10:32:08.161917Z",
     "start_time": "2021-10-17T10:32:08.158058Z"
    }
   },
   "outputs": [
    {
     "data": {
      "text/plain": [
       "(30000, 8)"
      ]
     },
     "execution_count": 13,
     "metadata": {},
     "output_type": "execute_result"
    }
   ],
   "source": [
    "df.shape"
   ]
  },
  {
   "cell_type": "code",
   "execution_count": 14,
   "metadata": {
    "ExecuteTime": {
     "end_time": "2021-10-17T10:32:08.183632Z",
     "start_time": "2021-10-17T10:32:08.164464Z"
    }
   },
   "outputs": [
    {
     "data": {
      "text/plain": [
       "Unnamed: 0                                                        0\n",
       "Title                                              The Strange Maid\n",
       "Author                                            ['Tessa Gratton']\n",
       "Description       Fans of Neil Gaiman, Holly Black, and Maggie S...\n",
       "Publisher                      Random House Books for Young Readers\n",
       "Year Published                                                 2014\n",
       "Genres            ['Fantasy', 'Young Adult', 'Fantasy', 'Mytholo...\n",
       "Page Count                                                      400\n",
       "Name: 0, dtype: object"
      ]
     },
     "execution_count": 14,
     "metadata": {},
     "output_type": "execute_result"
    }
   ],
   "source": [
    "df.loc[0]"
   ]
  },
  {
   "cell_type": "code",
   "execution_count": 15,
   "metadata": {
    "ExecuteTime": {
     "end_time": "2021-10-17T10:32:08.194450Z",
     "start_time": "2021-10-17T10:32:08.187121Z"
    }
   },
   "outputs": [],
   "source": [
    "df.drop(columns=['Unnamed: 0'], inplace=True)"
   ]
  },
  {
   "cell_type": "code",
   "execution_count": 16,
   "metadata": {
    "ExecuteTime": {
     "end_time": "2021-10-17T10:32:08.306656Z",
     "start_time": "2021-10-17T10:32:08.197932Z"
    }
   },
   "outputs": [
    {
     "data": {
      "text/plain": [
       "0        [Fantasy, Young Adult, Fantasy, Mythology, Fic...\n",
       "1        [Mystery, Mystery, Crime, Fiction, Cultural, S...\n",
       "2        [Nonfiction, Autobiography, Memoir, Medical, B...\n",
       "3                                                       []\n",
       "4                                                       []\n",
       "                               ...                        \n",
       "29995    [Mythology, Mermaids, Fantasy, Young Adult, Ro...\n",
       "29996    [Nonfiction, Feminism, Politics, Religion, Rel...\n",
       "29997    [Fiction, Fantasy, Short Stories, Magical Real...\n",
       "29998    [History, Nonfiction, Military, Military Histo...\n",
       "29999                                                   []\n",
       "Name: Genres, Length: 30000, dtype: object"
      ]
     },
     "execution_count": 16,
     "metadata": {},
     "output_type": "execute_result"
    }
   ],
   "source": [
    "df[\"Genres\"].apply(lambda x: [i for i in x[1:-1].replace(\"'\", \"\").split(\", \") if len(i) != 0])"
   ]
  },
  {
   "cell_type": "markdown",
   "metadata": {},
   "source": [
    "#### The lists were saved as strings"
   ]
  },
  {
   "cell_type": "code",
   "execution_count": 17,
   "metadata": {
    "ExecuteTime": {
     "end_time": "2021-10-17T10:32:08.483141Z",
     "start_time": "2021-10-17T10:32:08.308356Z"
    }
   },
   "outputs": [],
   "source": [
    "df[\"Genres\"] = df[\"Genres\"].apply(lambda x: [i for i in x[1:-1].replace(\"'\", \"\").split(\", \") if len(i) != 0])"
   ]
  },
  {
   "cell_type": "code",
   "execution_count": 18,
   "metadata": {
    "ExecuteTime": {
     "end_time": "2021-10-17T10:32:08.492280Z",
     "start_time": "2021-10-17T10:32:08.485412Z"
    }
   },
   "outputs": [
    {
     "data": {
      "text/plain": [
       "0                                      ['Tessa Gratton']\n",
       "1                                       ['Val McDermid']\n",
       "2                                      ['Kevin Hazzard']\n",
       "3                                   ['Edward B. Farber']\n",
       "4                                    ['Darlene Blasing']\n",
       "                              ...                       \n",
       "29995                                  ['Sarah  Porter']\n",
       "29996                                  ['Mona Eltahawy']\n",
       "29997    ['Haruki Murakami', 'Ted Goossen', 'Chip Kidd']\n",
       "29998                               ['Robert K. Massie']\n",
       "29999                                  ['Elijah Powell']\n",
       "Name: Author, Length: 30000, dtype: object"
      ]
     },
     "execution_count": 18,
     "metadata": {},
     "output_type": "execute_result"
    }
   ],
   "source": [
    "df[\"Author\"]"
   ]
  },
  {
   "cell_type": "code",
   "execution_count": 19,
   "metadata": {
    "ExecuteTime": {
     "end_time": "2021-10-17T10:32:08.499528Z",
     "start_time": "2021-10-17T10:32:08.493991Z"
    }
   },
   "outputs": [
    {
     "data": {
      "text/plain": [
       "2"
      ]
     },
     "execution_count": 19,
     "metadata": {},
     "output_type": "execute_result"
    }
   ],
   "source": [
    "df[\"Author\"].isna().sum()"
   ]
  },
  {
   "cell_type": "markdown",
   "metadata": {},
   "source": [
    "#### 2 authors is insignificant in comparison to the sample size. Therefore, the rows can safely be dropped"
   ]
  },
  {
   "cell_type": "code",
   "execution_count": 20,
   "metadata": {
    "ExecuteTime": {
     "end_time": "2021-10-17T10:32:08.513237Z",
     "start_time": "2021-10-17T10:32:08.501371Z"
    }
   },
   "outputs": [],
   "source": [
    "df.dropna(subset=[\"Author\"], axis=0, inplace=True)"
   ]
  },
  {
   "cell_type": "code",
   "execution_count": 21,
   "metadata": {
    "ExecuteTime": {
     "end_time": "2021-10-17T10:32:08.553987Z",
     "start_time": "2021-10-17T10:32:08.515273Z"
    }
   },
   "outputs": [],
   "source": [
    "df[\"Author\"] = df[\"Author\"].apply(lambda x: x[1:-1].replace(\"'\", \"\").split(\", \") if x is not None else None)"
   ]
  },
  {
   "cell_type": "markdown",
   "metadata": {},
   "source": [
    "### Missing values"
   ]
  },
  {
   "cell_type": "markdown",
   "metadata": {},
   "source": [
    "If we are missing genre's information, we would have an empty list instead of NaN. We need to count them as well"
   ]
  },
  {
   "cell_type": "code",
   "execution_count": 22,
   "metadata": {
    "ExecuteTime": {
     "end_time": "2021-10-17T10:32:08.595623Z",
     "start_time": "2021-10-17T10:32:08.555996Z"
    }
   },
   "outputs": [
    {
     "data": {
      "text/html": [
       "<div>\n",
       "<style scoped>\n",
       "    .dataframe tbody tr th:only-of-type {\n",
       "        vertical-align: middle;\n",
       "    }\n",
       "\n",
       "    .dataframe tbody tr th {\n",
       "        vertical-align: top;\n",
       "    }\n",
       "\n",
       "    .dataframe thead th {\n",
       "        text-align: right;\n",
       "    }\n",
       "</style>\n",
       "<table border=\"1\" class=\"dataframe\">\n",
       "  <thead>\n",
       "    <tr style=\"text-align: right;\">\n",
       "      <th></th>\n",
       "      <th>Title</th>\n",
       "      <th>Author</th>\n",
       "      <th>Description</th>\n",
       "      <th>Publisher</th>\n",
       "      <th>Year Published</th>\n",
       "      <th>Genres</th>\n",
       "      <th>Page Count</th>\n",
       "    </tr>\n",
       "  </thead>\n",
       "  <tbody>\n",
       "    <tr>\n",
       "      <td>0</td>\n",
       "      <td>The Strange Maid</td>\n",
       "      <td>[Tessa Gratton]</td>\n",
       "      <td>Fans of Neil Gaiman, Holly Black, and Maggie S...</td>\n",
       "      <td>Random House Books for Young Readers</td>\n",
       "      <td>2014.0</td>\n",
       "      <td>[Fantasy, Young Adult, Fantasy, Mythology, Fic...</td>\n",
       "      <td>400.0</td>\n",
       "    </tr>\n",
       "    <tr>\n",
       "      <td>1</td>\n",
       "      <td>A Darker Domain</td>\n",
       "      <td>[Val McDermid]</td>\n",
       "      <td>1984, Fife. Heiress Catriona Maclennan Grant &amp;...</td>\n",
       "      <td>HarperCollins Publishers</td>\n",
       "      <td>2008.0</td>\n",
       "      <td>[Mystery, Mystery, Crime, Fiction, Cultural, S...</td>\n",
       "      <td>371.0</td>\n",
       "    </tr>\n",
       "    <tr>\n",
       "      <td>2</td>\n",
       "      <td>A Thousand Naked Strangers: A Paramedic's Wild...</td>\n",
       "      <td>[Kevin Hazzard]</td>\n",
       "      <td>A former paramedic’s visceral, poignant, and m...</td>\n",
       "      <td>Scribner</td>\n",
       "      <td>2016.0</td>\n",
       "      <td>[Nonfiction, Autobiography, Memoir, Medical, B...</td>\n",
       "      <td>261.0</td>\n",
       "    </tr>\n",
       "    <tr>\n",
       "      <td>3</td>\n",
       "      <td>Looking Back with a Smile</td>\n",
       "      <td>[Edward B. Farber]</td>\n",
       "      <td>In Looking Back with a Smile, the author recol...</td>\n",
       "      <td>NaN</td>\n",
       "      <td>2012.0</td>\n",
       "      <td>[]</td>\n",
       "      <td>NaN</td>\n",
       "    </tr>\n",
       "    <tr>\n",
       "      <td>4</td>\n",
       "      <td>Bargain Paradise</td>\n",
       "      <td>[Darlene Blasing]</td>\n",
       "      <td>Bargain Paradise is a humorous tale of an obse...</td>\n",
       "      <td>Argon Press</td>\n",
       "      <td>2013.0</td>\n",
       "      <td>[]</td>\n",
       "      <td>49.0</td>\n",
       "    </tr>\n",
       "    <tr>\n",
       "      <td>...</td>\n",
       "      <td>...</td>\n",
       "      <td>...</td>\n",
       "      <td>...</td>\n",
       "      <td>...</td>\n",
       "      <td>...</td>\n",
       "      <td>...</td>\n",
       "      <td>...</td>\n",
       "    </tr>\n",
       "    <tr>\n",
       "      <td>29995</td>\n",
       "      <td>The Twice Lost</td>\n",
       "      <td>[Sarah  Porter]</td>\n",
       "      <td>Mermaids have been sinking ships and drowning ...</td>\n",
       "      <td>Houghton Mifflin Harcourt</td>\n",
       "      <td>2013.0</td>\n",
       "      <td>[Mythology, Mermaids, Fantasy, Young Adult, Ro...</td>\n",
       "      <td>480.0</td>\n",
       "    </tr>\n",
       "    <tr>\n",
       "      <td>29996</td>\n",
       "      <td>Headscarves and Hymens: Why the Middle East Ne...</td>\n",
       "      <td>[Mona Eltahawy]</td>\n",
       "      <td>A passionate manifesto decrying misogyny in th...</td>\n",
       "      <td>Farrar, Straus and Giroux</td>\n",
       "      <td>2015.0</td>\n",
       "      <td>[Nonfiction, Feminism, Politics, Religion, Rel...</td>\n",
       "      <td>240.0</td>\n",
       "    </tr>\n",
       "    <tr>\n",
       "      <td>29997</td>\n",
       "      <td>The Strange Library</td>\n",
       "      <td>[Haruki Murakami, Ted Goossen, Chip Kidd]</td>\n",
       "      <td>From internationally acclaimed author Haruki M...</td>\n",
       "      <td>Knopf</td>\n",
       "      <td>2001.0</td>\n",
       "      <td>[Fiction, Fantasy, Short Stories, Magical Real...</td>\n",
       "      <td>96.0</td>\n",
       "    </tr>\n",
       "    <tr>\n",
       "      <td>29998</td>\n",
       "      <td>Dreadnought</td>\n",
       "      <td>[Robert K. Massie]</td>\n",
       "      <td>Pulitzer Prize-winning author, Robert K. Massi...</td>\n",
       "      <td>Ballantine Books</td>\n",
       "      <td>1991.0</td>\n",
       "      <td>[History, Nonfiction, Military, Military Histo...</td>\n",
       "      <td>1040.0</td>\n",
       "    </tr>\n",
       "    <tr>\n",
       "      <td>29999</td>\n",
       "      <td>Awkward Black Girl: District 9: Enchanted Love</td>\n",
       "      <td>[Elijah Powell]</td>\n",
       "      <td>Gina is an Awkward Girl who doesn't fit in any...</td>\n",
       "      <td>NaN</td>\n",
       "      <td>2018.0</td>\n",
       "      <td>[]</td>\n",
       "      <td>122.0</td>\n",
       "    </tr>\n",
       "  </tbody>\n",
       "</table>\n",
       "<p>29998 rows × 7 columns</p>\n",
       "</div>"
      ],
      "text/plain": [
       "                                                   Title  \\\n",
       "0                                       The Strange Maid   \n",
       "1                                        A Darker Domain   \n",
       "2      A Thousand Naked Strangers: A Paramedic's Wild...   \n",
       "3                              Looking Back with a Smile   \n",
       "4                                       Bargain Paradise   \n",
       "...                                                  ...   \n",
       "29995                                     The Twice Lost   \n",
       "29996  Headscarves and Hymens: Why the Middle East Ne...   \n",
       "29997                                The Strange Library   \n",
       "29998                                        Dreadnought   \n",
       "29999     Awkward Black Girl: District 9: Enchanted Love   \n",
       "\n",
       "                                          Author  \\\n",
       "0                                [Tessa Gratton]   \n",
       "1                                 [Val McDermid]   \n",
       "2                                [Kevin Hazzard]   \n",
       "3                             [Edward B. Farber]   \n",
       "4                              [Darlene Blasing]   \n",
       "...                                          ...   \n",
       "29995                            [Sarah  Porter]   \n",
       "29996                            [Mona Eltahawy]   \n",
       "29997  [Haruki Murakami, Ted Goossen, Chip Kidd]   \n",
       "29998                         [Robert K. Massie]   \n",
       "29999                            [Elijah Powell]   \n",
       "\n",
       "                                             Description  \\\n",
       "0      Fans of Neil Gaiman, Holly Black, and Maggie S...   \n",
       "1      1984, Fife. Heiress Catriona Maclennan Grant &...   \n",
       "2      A former paramedic’s visceral, poignant, and m...   \n",
       "3      In Looking Back with a Smile, the author recol...   \n",
       "4      Bargain Paradise is a humorous tale of an obse...   \n",
       "...                                                  ...   \n",
       "29995  Mermaids have been sinking ships and drowning ...   \n",
       "29996  A passionate manifesto decrying misogyny in th...   \n",
       "29997  From internationally acclaimed author Haruki M...   \n",
       "29998  Pulitzer Prize-winning author, Robert K. Massi...   \n",
       "29999  Gina is an Awkward Girl who doesn't fit in any...   \n",
       "\n",
       "                                  Publisher  Year Published  \\\n",
       "0      Random House Books for Young Readers          2014.0   \n",
       "1                  HarperCollins Publishers          2008.0   \n",
       "2                                  Scribner          2016.0   \n",
       "3                                       NaN          2012.0   \n",
       "4                               Argon Press          2013.0   \n",
       "...                                     ...             ...   \n",
       "29995             Houghton Mifflin Harcourt          2013.0   \n",
       "29996             Farrar, Straus and Giroux          2015.0   \n",
       "29997                                 Knopf          2001.0   \n",
       "29998                      Ballantine Books          1991.0   \n",
       "29999                                   NaN          2018.0   \n",
       "\n",
       "                                                  Genres  Page Count  \n",
       "0      [Fantasy, Young Adult, Fantasy, Mythology, Fic...       400.0  \n",
       "1      [Mystery, Mystery, Crime, Fiction, Cultural, S...       371.0  \n",
       "2      [Nonfiction, Autobiography, Memoir, Medical, B...       261.0  \n",
       "3                                                     []         NaN  \n",
       "4                                                     []        49.0  \n",
       "...                                                  ...         ...  \n",
       "29995  [Mythology, Mermaids, Fantasy, Young Adult, Ro...       480.0  \n",
       "29996  [Nonfiction, Feminism, Politics, Religion, Rel...       240.0  \n",
       "29997  [Fiction, Fantasy, Short Stories, Magical Real...        96.0  \n",
       "29998  [History, Nonfiction, Military, Military Histo...      1040.0  \n",
       "29999                                                 []       122.0  \n",
       "\n",
       "[29998 rows x 7 columns]"
      ]
     },
     "execution_count": 22,
     "metadata": {},
     "output_type": "execute_result"
    }
   ],
   "source": [
    "df = df[df[\"Author\"].apply(lambda x: True if len(x) != 0 else False)]\n",
    "df"
   ]
  },
  {
   "cell_type": "code",
   "execution_count": 23,
   "metadata": {
    "ExecuteTime": {
     "end_time": "2021-10-17T10:32:08.614730Z",
     "start_time": "2021-10-17T10:32:08.597736Z"
    }
   },
   "outputs": [],
   "source": [
    "df = df[df[\"Genres\"].apply(lambda x: True if len(x) != 0 else False)]"
   ]
  },
  {
   "cell_type": "code",
   "execution_count": 24,
   "metadata": {
    "ExecuteTime": {
     "end_time": "2021-10-17T10:32:08.637026Z",
     "start_time": "2021-10-17T10:32:08.616625Z"
    }
   },
   "outputs": [
    {
     "data": {
      "text/html": [
       "<div>\n",
       "<style scoped>\n",
       "    .dataframe tbody tr th:only-of-type {\n",
       "        vertical-align: middle;\n",
       "    }\n",
       "\n",
       "    .dataframe tbody tr th {\n",
       "        vertical-align: top;\n",
       "    }\n",
       "\n",
       "    .dataframe thead th {\n",
       "        text-align: right;\n",
       "    }\n",
       "</style>\n",
       "<table border=\"1\" class=\"dataframe\">\n",
       "  <thead>\n",
       "    <tr style=\"text-align: right;\">\n",
       "      <th></th>\n",
       "      <th>Title</th>\n",
       "      <th>Author</th>\n",
       "      <th>Description</th>\n",
       "      <th>Publisher</th>\n",
       "      <th>Year Published</th>\n",
       "      <th>Genres</th>\n",
       "      <th>Page Count</th>\n",
       "    </tr>\n",
       "  </thead>\n",
       "  <tbody>\n",
       "    <tr>\n",
       "      <td>0</td>\n",
       "      <td>The Strange Maid</td>\n",
       "      <td>[Tessa Gratton]</td>\n",
       "      <td>Fans of Neil Gaiman, Holly Black, and Maggie S...</td>\n",
       "      <td>Random House Books for Young Readers</td>\n",
       "      <td>2014.0</td>\n",
       "      <td>[Fantasy, Young Adult, Fantasy, Mythology, Fic...</td>\n",
       "      <td>400.0</td>\n",
       "    </tr>\n",
       "    <tr>\n",
       "      <td>1</td>\n",
       "      <td>A Darker Domain</td>\n",
       "      <td>[Val McDermid]</td>\n",
       "      <td>1984, Fife. Heiress Catriona Maclennan Grant &amp;...</td>\n",
       "      <td>HarperCollins Publishers</td>\n",
       "      <td>2008.0</td>\n",
       "      <td>[Mystery, Mystery, Crime, Fiction, Cultural, S...</td>\n",
       "      <td>371.0</td>\n",
       "    </tr>\n",
       "    <tr>\n",
       "      <td>2</td>\n",
       "      <td>A Thousand Naked Strangers: A Paramedic's Wild...</td>\n",
       "      <td>[Kevin Hazzard]</td>\n",
       "      <td>A former paramedic’s visceral, poignant, and m...</td>\n",
       "      <td>Scribner</td>\n",
       "      <td>2016.0</td>\n",
       "      <td>[Nonfiction, Autobiography, Memoir, Medical, B...</td>\n",
       "      <td>261.0</td>\n",
       "    </tr>\n",
       "    <tr>\n",
       "      <td>5</td>\n",
       "      <td>Hester Roon</td>\n",
       "      <td>[Norah Lofts]</td>\n",
       "      <td>The Fleece Inn stood where the three roads joi...</td>\n",
       "      <td>Corgi</td>\n",
       "      <td>1940.0</td>\n",
       "      <td>[Historical, Historical Fiction, Historical, L...</td>\n",
       "      <td>320.0</td>\n",
       "    </tr>\n",
       "    <tr>\n",
       "      <td>6</td>\n",
       "      <td>The Trouble with Playing Cupid</td>\n",
       "      <td>[Tamara Philip]</td>\n",
       "      <td>One New Year's Eve, shy singer, December Brown...</td>\n",
       "      <td>Vanilla Heart Publishing</td>\n",
       "      <td>2014.0</td>\n",
       "      <td>[Romance, Contemporary]</td>\n",
       "      <td>176.0</td>\n",
       "    </tr>\n",
       "    <tr>\n",
       "      <td>...</td>\n",
       "      <td>...</td>\n",
       "      <td>...</td>\n",
       "      <td>...</td>\n",
       "      <td>...</td>\n",
       "      <td>...</td>\n",
       "      <td>...</td>\n",
       "      <td>...</td>\n",
       "    </tr>\n",
       "    <tr>\n",
       "      <td>29994</td>\n",
       "      <td>The Lonely Hunter: A Biography of Carson McCul...</td>\n",
       "      <td>[Virginia Spencer Carr, Tennessee Williams]</td>\n",
       "      <td>The Lonely Hunter is widely accepted as the st...</td>\n",
       "      <td>University of Georgia Press</td>\n",
       "      <td>1975.0</td>\n",
       "      <td>[Biography, Nonfiction, History, Race, Gothic,...</td>\n",
       "      <td>680.0</td>\n",
       "    </tr>\n",
       "    <tr>\n",
       "      <td>29995</td>\n",
       "      <td>The Twice Lost</td>\n",
       "      <td>[Sarah  Porter]</td>\n",
       "      <td>Mermaids have been sinking ships and drowning ...</td>\n",
       "      <td>Houghton Mifflin Harcourt</td>\n",
       "      <td>2013.0</td>\n",
       "      <td>[Mythology, Mermaids, Fantasy, Young Adult, Ro...</td>\n",
       "      <td>480.0</td>\n",
       "    </tr>\n",
       "    <tr>\n",
       "      <td>29996</td>\n",
       "      <td>Headscarves and Hymens: Why the Middle East Ne...</td>\n",
       "      <td>[Mona Eltahawy]</td>\n",
       "      <td>A passionate manifesto decrying misogyny in th...</td>\n",
       "      <td>Farrar, Straus and Giroux</td>\n",
       "      <td>2015.0</td>\n",
       "      <td>[Nonfiction, Feminism, Politics, Religion, Rel...</td>\n",
       "      <td>240.0</td>\n",
       "    </tr>\n",
       "    <tr>\n",
       "      <td>29997</td>\n",
       "      <td>The Strange Library</td>\n",
       "      <td>[Haruki Murakami, Ted Goossen, Chip Kidd]</td>\n",
       "      <td>From internationally acclaimed author Haruki M...</td>\n",
       "      <td>Knopf</td>\n",
       "      <td>2001.0</td>\n",
       "      <td>[Fiction, Fantasy, Short Stories, Magical Real...</td>\n",
       "      <td>96.0</td>\n",
       "    </tr>\n",
       "    <tr>\n",
       "      <td>29998</td>\n",
       "      <td>Dreadnought</td>\n",
       "      <td>[Robert K. Massie]</td>\n",
       "      <td>Pulitzer Prize-winning author, Robert K. Massi...</td>\n",
       "      <td>Ballantine Books</td>\n",
       "      <td>1991.0</td>\n",
       "      <td>[History, Nonfiction, Military, Military Histo...</td>\n",
       "      <td>1040.0</td>\n",
       "    </tr>\n",
       "  </tbody>\n",
       "</table>\n",
       "<p>25182 rows × 7 columns</p>\n",
       "</div>"
      ],
      "text/plain": [
       "                                                   Title  \\\n",
       "0                                       The Strange Maid   \n",
       "1                                        A Darker Domain   \n",
       "2      A Thousand Naked Strangers: A Paramedic's Wild...   \n",
       "5                                            Hester Roon   \n",
       "6                         The Trouble with Playing Cupid   \n",
       "...                                                  ...   \n",
       "29994  The Lonely Hunter: A Biography of Carson McCul...   \n",
       "29995                                     The Twice Lost   \n",
       "29996  Headscarves and Hymens: Why the Middle East Ne...   \n",
       "29997                                The Strange Library   \n",
       "29998                                        Dreadnought   \n",
       "\n",
       "                                            Author  \\\n",
       "0                                  [Tessa Gratton]   \n",
       "1                                   [Val McDermid]   \n",
       "2                                  [Kevin Hazzard]   \n",
       "5                                    [Norah Lofts]   \n",
       "6                                  [Tamara Philip]   \n",
       "...                                            ...   \n",
       "29994  [Virginia Spencer Carr, Tennessee Williams]   \n",
       "29995                              [Sarah  Porter]   \n",
       "29996                              [Mona Eltahawy]   \n",
       "29997    [Haruki Murakami, Ted Goossen, Chip Kidd]   \n",
       "29998                           [Robert K. Massie]   \n",
       "\n",
       "                                             Description  \\\n",
       "0      Fans of Neil Gaiman, Holly Black, and Maggie S...   \n",
       "1      1984, Fife. Heiress Catriona Maclennan Grant &...   \n",
       "2      A former paramedic’s visceral, poignant, and m...   \n",
       "5      The Fleece Inn stood where the three roads joi...   \n",
       "6      One New Year's Eve, shy singer, December Brown...   \n",
       "...                                                  ...   \n",
       "29994  The Lonely Hunter is widely accepted as the st...   \n",
       "29995  Mermaids have been sinking ships and drowning ...   \n",
       "29996  A passionate manifesto decrying misogyny in th...   \n",
       "29997  From internationally acclaimed author Haruki M...   \n",
       "29998  Pulitzer Prize-winning author, Robert K. Massi...   \n",
       "\n",
       "                                  Publisher  Year Published  \\\n",
       "0      Random House Books for Young Readers          2014.0   \n",
       "1                  HarperCollins Publishers          2008.0   \n",
       "2                                  Scribner          2016.0   \n",
       "5                                     Corgi          1940.0   \n",
       "6                  Vanilla Heart Publishing          2014.0   \n",
       "...                                     ...             ...   \n",
       "29994           University of Georgia Press          1975.0   \n",
       "29995             Houghton Mifflin Harcourt          2013.0   \n",
       "29996             Farrar, Straus and Giroux          2015.0   \n",
       "29997                                 Knopf          2001.0   \n",
       "29998                      Ballantine Books          1991.0   \n",
       "\n",
       "                                                  Genres  Page Count  \n",
       "0      [Fantasy, Young Adult, Fantasy, Mythology, Fic...       400.0  \n",
       "1      [Mystery, Mystery, Crime, Fiction, Cultural, S...       371.0  \n",
       "2      [Nonfiction, Autobiography, Memoir, Medical, B...       261.0  \n",
       "5      [Historical, Historical Fiction, Historical, L...       320.0  \n",
       "6                                [Romance, Contemporary]       176.0  \n",
       "...                                                  ...         ...  \n",
       "29994  [Biography, Nonfiction, History, Race, Gothic,...       680.0  \n",
       "29995  [Mythology, Mermaids, Fantasy, Young Adult, Ro...       480.0  \n",
       "29996  [Nonfiction, Feminism, Politics, Religion, Rel...       240.0  \n",
       "29997  [Fiction, Fantasy, Short Stories, Magical Real...        96.0  \n",
       "29998  [History, Nonfiction, Military, Military Histo...      1040.0  \n",
       "\n",
       "[25182 rows x 7 columns]"
      ]
     },
     "execution_count": 24,
     "metadata": {},
     "output_type": "execute_result"
    }
   ],
   "source": [
    "df"
   ]
  },
  {
   "cell_type": "code",
   "execution_count": 25,
   "metadata": {
    "ExecuteTime": {
     "end_time": "2021-10-17T10:32:08.652927Z",
     "start_time": "2021-10-17T10:32:08.638814Z"
    }
   },
   "outputs": [
    {
     "data": {
      "text/plain": [
       "Title                0\n",
       "Author               0\n",
       "Description        329\n",
       "Publisher         1423\n",
       "Year Published      33\n",
       "Genres               0\n",
       "Page Count        1126\n",
       "dtype: int64"
      ]
     },
     "execution_count": 25,
     "metadata": {},
     "output_type": "execute_result"
    }
   ],
   "source": [
    "df.isna().sum()"
   ]
  },
  {
   "cell_type": "markdown",
   "metadata": {},
   "source": [
    "### Categorical Data"
   ]
  },
  {
   "cell_type": "code",
   "execution_count": 26,
   "metadata": {
    "ExecuteTime": {
     "end_time": "2021-10-17T10:32:08.913955Z",
     "start_time": "2021-10-17T10:32:08.655410Z"
    }
   },
   "outputs": [
    {
     "data": {
      "text/plain": [
       "970"
      ]
     },
     "execution_count": 26,
     "metadata": {},
     "output_type": "execute_result"
    }
   ],
   "source": [
    "genres = set()\n",
    "for l in df[\"Genres\"].values:\n",
    "    genres = genres.union(set(l))\n",
    "    \n",
    "len(genres)"
   ]
  },
  {
   "cell_type": "code",
   "execution_count": 27,
   "metadata": {
    "ExecuteTime": {
     "end_time": "2021-10-17T10:36:21.032085Z",
     "start_time": "2021-10-17T10:32:08.915892Z"
    }
   },
   "outputs": [],
   "source": [
    "genres = {genre: [] for genre in genres}\n",
    "\n",
    "for book in df.iterrows():\n",
    "    for genre in genres.keys():\n",
    "        if(genre in book[1][\"Genres\"]):\n",
    "            genres[genre].append(1)\n",
    "        else:\n",
    "            genres[genre].append(0)\n"
   ]
  },
  {
   "cell_type": "code",
   "execution_count": 28,
   "metadata": {
    "ExecuteTime": {
     "end_time": "2021-10-17T10:36:25.141043Z",
     "start_time": "2021-10-17T10:36:21.033805Z"
    }
   },
   "outputs": [],
   "source": [
    "genres = pd.DataFrame(genres)"
   ]
  },
  {
   "cell_type": "code",
   "execution_count": 29,
   "metadata": {
    "ExecuteTime": {
     "end_time": "2021-10-17T10:36:25.149496Z",
     "start_time": "2021-10-17T10:36:25.143033Z"
    }
   },
   "outputs": [
    {
     "data": {
      "text/plain": [
       "0        0\n",
       "1        0\n",
       "2        0\n",
       "3        0\n",
       "4        0\n",
       "        ..\n",
       "25177    0\n",
       "25178    0\n",
       "25179    1\n",
       "25180    0\n",
       "25181    0\n",
       "Name: Feminism, Length: 25182, dtype: int64"
      ]
     },
     "execution_count": 29,
     "metadata": {},
     "output_type": "execute_result"
    }
   ],
   "source": [
    "genres[\"Feminism\"]"
   ]
  },
  {
   "cell_type": "code",
   "execution_count": 30,
   "metadata": {
    "ExecuteTime": {
     "end_time": "2021-10-17T10:36:25.175577Z",
     "start_time": "2021-10-17T10:36:25.155333Z"
    }
   },
   "outputs": [
    {
     "data": {
      "text/html": [
       "<div>\n",
       "<style scoped>\n",
       "    .dataframe tbody tr th:only-of-type {\n",
       "        vertical-align: middle;\n",
       "    }\n",
       "\n",
       "    .dataframe tbody tr th {\n",
       "        vertical-align: top;\n",
       "    }\n",
       "\n",
       "    .dataframe thead th {\n",
       "        text-align: right;\n",
       "    }\n",
       "</style>\n",
       "<table border=\"1\" class=\"dataframe\">\n",
       "  <thead>\n",
       "    <tr style=\"text-align: right;\">\n",
       "      <th></th>\n",
       "      <th>Civil War History</th>\n",
       "      <th>International Dev...</th>\n",
       "      <th>Anime</th>\n",
       "      <th>Manga</th>\n",
       "      <th>Mathematics</th>\n",
       "      <th>Lesbian Fiction</th>\n",
       "      <th>Gods</th>\n",
       "      <th>Cross Dressing</th>\n",
       "      <th>Leadership</th>\n",
       "      <th>Finnish Literature</th>\n",
       "      <th>...</th>\n",
       "      <th>Latin American History</th>\n",
       "      <th>Crafts</th>\n",
       "      <th>Anglo Saxon</th>\n",
       "      <th>Werewolves</th>\n",
       "      <th>Military</th>\n",
       "      <th>40k</th>\n",
       "      <th>Gardening</th>\n",
       "      <th>Superman</th>\n",
       "      <th>Discipleship</th>\n",
       "      <th>Skepticism</th>\n",
       "    </tr>\n",
       "  </thead>\n",
       "  <tbody>\n",
       "    <tr>\n",
       "      <td>0</td>\n",
       "      <td>0</td>\n",
       "      <td>0</td>\n",
       "      <td>0</td>\n",
       "      <td>0</td>\n",
       "      <td>0</td>\n",
       "      <td>0</td>\n",
       "      <td>0</td>\n",
       "      <td>0</td>\n",
       "      <td>0</td>\n",
       "      <td>0</td>\n",
       "      <td>...</td>\n",
       "      <td>0</td>\n",
       "      <td>0</td>\n",
       "      <td>0</td>\n",
       "      <td>0</td>\n",
       "      <td>0</td>\n",
       "      <td>0</td>\n",
       "      <td>0</td>\n",
       "      <td>0</td>\n",
       "      <td>0</td>\n",
       "      <td>0</td>\n",
       "    </tr>\n",
       "    <tr>\n",
       "      <td>1</td>\n",
       "      <td>0</td>\n",
       "      <td>0</td>\n",
       "      <td>0</td>\n",
       "      <td>0</td>\n",
       "      <td>0</td>\n",
       "      <td>0</td>\n",
       "      <td>0</td>\n",
       "      <td>0</td>\n",
       "      <td>0</td>\n",
       "      <td>0</td>\n",
       "      <td>...</td>\n",
       "      <td>0</td>\n",
       "      <td>0</td>\n",
       "      <td>0</td>\n",
       "      <td>0</td>\n",
       "      <td>0</td>\n",
       "      <td>0</td>\n",
       "      <td>0</td>\n",
       "      <td>0</td>\n",
       "      <td>0</td>\n",
       "      <td>0</td>\n",
       "    </tr>\n",
       "    <tr>\n",
       "      <td>2</td>\n",
       "      <td>0</td>\n",
       "      <td>0</td>\n",
       "      <td>0</td>\n",
       "      <td>0</td>\n",
       "      <td>0</td>\n",
       "      <td>0</td>\n",
       "      <td>0</td>\n",
       "      <td>0</td>\n",
       "      <td>0</td>\n",
       "      <td>0</td>\n",
       "      <td>...</td>\n",
       "      <td>0</td>\n",
       "      <td>0</td>\n",
       "      <td>0</td>\n",
       "      <td>0</td>\n",
       "      <td>0</td>\n",
       "      <td>0</td>\n",
       "      <td>0</td>\n",
       "      <td>0</td>\n",
       "      <td>0</td>\n",
       "      <td>0</td>\n",
       "    </tr>\n",
       "    <tr>\n",
       "      <td>3</td>\n",
       "      <td>0</td>\n",
       "      <td>0</td>\n",
       "      <td>0</td>\n",
       "      <td>0</td>\n",
       "      <td>0</td>\n",
       "      <td>0</td>\n",
       "      <td>0</td>\n",
       "      <td>0</td>\n",
       "      <td>0</td>\n",
       "      <td>0</td>\n",
       "      <td>...</td>\n",
       "      <td>0</td>\n",
       "      <td>0</td>\n",
       "      <td>0</td>\n",
       "      <td>0</td>\n",
       "      <td>0</td>\n",
       "      <td>0</td>\n",
       "      <td>0</td>\n",
       "      <td>0</td>\n",
       "      <td>0</td>\n",
       "      <td>0</td>\n",
       "    </tr>\n",
       "    <tr>\n",
       "      <td>4</td>\n",
       "      <td>0</td>\n",
       "      <td>0</td>\n",
       "      <td>0</td>\n",
       "      <td>0</td>\n",
       "      <td>0</td>\n",
       "      <td>0</td>\n",
       "      <td>0</td>\n",
       "      <td>0</td>\n",
       "      <td>0</td>\n",
       "      <td>0</td>\n",
       "      <td>...</td>\n",
       "      <td>0</td>\n",
       "      <td>0</td>\n",
       "      <td>0</td>\n",
       "      <td>0</td>\n",
       "      <td>0</td>\n",
       "      <td>0</td>\n",
       "      <td>0</td>\n",
       "      <td>0</td>\n",
       "      <td>0</td>\n",
       "      <td>0</td>\n",
       "    </tr>\n",
       "    <tr>\n",
       "      <td>...</td>\n",
       "      <td>...</td>\n",
       "      <td>...</td>\n",
       "      <td>...</td>\n",
       "      <td>...</td>\n",
       "      <td>...</td>\n",
       "      <td>...</td>\n",
       "      <td>...</td>\n",
       "      <td>...</td>\n",
       "      <td>...</td>\n",
       "      <td>...</td>\n",
       "      <td>...</td>\n",
       "      <td>...</td>\n",
       "      <td>...</td>\n",
       "      <td>...</td>\n",
       "      <td>...</td>\n",
       "      <td>...</td>\n",
       "      <td>...</td>\n",
       "      <td>...</td>\n",
       "      <td>...</td>\n",
       "      <td>...</td>\n",
       "      <td>...</td>\n",
       "    </tr>\n",
       "    <tr>\n",
       "      <td>25177</td>\n",
       "      <td>0</td>\n",
       "      <td>0</td>\n",
       "      <td>0</td>\n",
       "      <td>0</td>\n",
       "      <td>0</td>\n",
       "      <td>0</td>\n",
       "      <td>0</td>\n",
       "      <td>0</td>\n",
       "      <td>0</td>\n",
       "      <td>0</td>\n",
       "      <td>...</td>\n",
       "      <td>0</td>\n",
       "      <td>0</td>\n",
       "      <td>0</td>\n",
       "      <td>0</td>\n",
       "      <td>0</td>\n",
       "      <td>0</td>\n",
       "      <td>0</td>\n",
       "      <td>0</td>\n",
       "      <td>0</td>\n",
       "      <td>0</td>\n",
       "    </tr>\n",
       "    <tr>\n",
       "      <td>25178</td>\n",
       "      <td>0</td>\n",
       "      <td>0</td>\n",
       "      <td>0</td>\n",
       "      <td>0</td>\n",
       "      <td>0</td>\n",
       "      <td>0</td>\n",
       "      <td>0</td>\n",
       "      <td>0</td>\n",
       "      <td>0</td>\n",
       "      <td>0</td>\n",
       "      <td>...</td>\n",
       "      <td>0</td>\n",
       "      <td>0</td>\n",
       "      <td>0</td>\n",
       "      <td>0</td>\n",
       "      <td>0</td>\n",
       "      <td>0</td>\n",
       "      <td>0</td>\n",
       "      <td>0</td>\n",
       "      <td>0</td>\n",
       "      <td>0</td>\n",
       "    </tr>\n",
       "    <tr>\n",
       "      <td>25179</td>\n",
       "      <td>0</td>\n",
       "      <td>0</td>\n",
       "      <td>0</td>\n",
       "      <td>0</td>\n",
       "      <td>0</td>\n",
       "      <td>0</td>\n",
       "      <td>0</td>\n",
       "      <td>0</td>\n",
       "      <td>0</td>\n",
       "      <td>0</td>\n",
       "      <td>...</td>\n",
       "      <td>0</td>\n",
       "      <td>0</td>\n",
       "      <td>0</td>\n",
       "      <td>0</td>\n",
       "      <td>0</td>\n",
       "      <td>0</td>\n",
       "      <td>0</td>\n",
       "      <td>0</td>\n",
       "      <td>0</td>\n",
       "      <td>0</td>\n",
       "    </tr>\n",
       "    <tr>\n",
       "      <td>25180</td>\n",
       "      <td>0</td>\n",
       "      <td>0</td>\n",
       "      <td>0</td>\n",
       "      <td>0</td>\n",
       "      <td>0</td>\n",
       "      <td>0</td>\n",
       "      <td>0</td>\n",
       "      <td>0</td>\n",
       "      <td>0</td>\n",
       "      <td>0</td>\n",
       "      <td>...</td>\n",
       "      <td>0</td>\n",
       "      <td>0</td>\n",
       "      <td>0</td>\n",
       "      <td>0</td>\n",
       "      <td>0</td>\n",
       "      <td>0</td>\n",
       "      <td>0</td>\n",
       "      <td>0</td>\n",
       "      <td>0</td>\n",
       "      <td>0</td>\n",
       "    </tr>\n",
       "    <tr>\n",
       "      <td>25181</td>\n",
       "      <td>0</td>\n",
       "      <td>0</td>\n",
       "      <td>0</td>\n",
       "      <td>0</td>\n",
       "      <td>0</td>\n",
       "      <td>0</td>\n",
       "      <td>0</td>\n",
       "      <td>0</td>\n",
       "      <td>0</td>\n",
       "      <td>0</td>\n",
       "      <td>...</td>\n",
       "      <td>0</td>\n",
       "      <td>0</td>\n",
       "      <td>0</td>\n",
       "      <td>0</td>\n",
       "      <td>1</td>\n",
       "      <td>0</td>\n",
       "      <td>0</td>\n",
       "      <td>0</td>\n",
       "      <td>0</td>\n",
       "      <td>0</td>\n",
       "    </tr>\n",
       "  </tbody>\n",
       "</table>\n",
       "<p>25182 rows × 970 columns</p>\n",
       "</div>"
      ],
      "text/plain": [
       "       Civil War History  International Dev...  Anime  Manga  Mathematics  \\\n",
       "0                      0                     0      0      0            0   \n",
       "1                      0                     0      0      0            0   \n",
       "2                      0                     0      0      0            0   \n",
       "3                      0                     0      0      0            0   \n",
       "4                      0                     0      0      0            0   \n",
       "...                  ...                   ...    ...    ...          ...   \n",
       "25177                  0                     0      0      0            0   \n",
       "25178                  0                     0      0      0            0   \n",
       "25179                  0                     0      0      0            0   \n",
       "25180                  0                     0      0      0            0   \n",
       "25181                  0                     0      0      0            0   \n",
       "\n",
       "       Lesbian Fiction  Gods  Cross Dressing  Leadership  Finnish Literature  \\\n",
       "0                    0     0               0           0                   0   \n",
       "1                    0     0               0           0                   0   \n",
       "2                    0     0               0           0                   0   \n",
       "3                    0     0               0           0                   0   \n",
       "4                    0     0               0           0                   0   \n",
       "...                ...   ...             ...         ...                 ...   \n",
       "25177                0     0               0           0                   0   \n",
       "25178                0     0               0           0                   0   \n",
       "25179                0     0               0           0                   0   \n",
       "25180                0     0               0           0                   0   \n",
       "25181                0     0               0           0                   0   \n",
       "\n",
       "       ...  Latin American History  Crafts  Anglo Saxon  Werewolves  Military  \\\n",
       "0      ...                       0       0            0           0         0   \n",
       "1      ...                       0       0            0           0         0   \n",
       "2      ...                       0       0            0           0         0   \n",
       "3      ...                       0       0            0           0         0   \n",
       "4      ...                       0       0            0           0         0   \n",
       "...    ...                     ...     ...          ...         ...       ...   \n",
       "25177  ...                       0       0            0           0         0   \n",
       "25178  ...                       0       0            0           0         0   \n",
       "25179  ...                       0       0            0           0         0   \n",
       "25180  ...                       0       0            0           0         0   \n",
       "25181  ...                       0       0            0           0         1   \n",
       "\n",
       "       40k  Gardening  Superman  Discipleship  Skepticism  \n",
       "0        0          0         0             0           0  \n",
       "1        0          0         0             0           0  \n",
       "2        0          0         0             0           0  \n",
       "3        0          0         0             0           0  \n",
       "4        0          0         0             0           0  \n",
       "...    ...        ...       ...           ...         ...  \n",
       "25177    0          0         0             0           0  \n",
       "25178    0          0         0             0           0  \n",
       "25179    0          0         0             0           0  \n",
       "25180    0          0         0             0           0  \n",
       "25181    0          0         0             0           0  \n",
       "\n",
       "[25182 rows x 970 columns]"
      ]
     },
     "execution_count": 30,
     "metadata": {},
     "output_type": "execute_result"
    }
   ],
   "source": [
    "genres"
   ]
  },
  {
   "cell_type": "code",
   "execution_count": 31,
   "metadata": {
    "ExecuteTime": {
     "end_time": "2021-10-17T10:36:25.181758Z",
     "start_time": "2021-10-17T10:36:25.178526Z"
    }
   },
   "outputs": [],
   "source": [
    "df.reset_index(inplace=True)"
   ]
  },
  {
   "cell_type": "code",
   "execution_count": 32,
   "metadata": {
    "ExecuteTime": {
     "end_time": "2021-10-17T10:36:25.318274Z",
     "start_time": "2021-10-17T10:36:25.184448Z"
    }
   },
   "outputs": [
    {
     "data": {
      "text/html": [
       "<div>\n",
       "<style scoped>\n",
       "    .dataframe tbody tr th:only-of-type {\n",
       "        vertical-align: middle;\n",
       "    }\n",
       "\n",
       "    .dataframe tbody tr th {\n",
       "        vertical-align: top;\n",
       "    }\n",
       "\n",
       "    .dataframe thead th {\n",
       "        text-align: right;\n",
       "    }\n",
       "</style>\n",
       "<table border=\"1\" class=\"dataframe\">\n",
       "  <thead>\n",
       "    <tr style=\"text-align: right;\">\n",
       "      <th></th>\n",
       "      <th>index</th>\n",
       "      <th>Title</th>\n",
       "      <th>Author</th>\n",
       "      <th>Description</th>\n",
       "      <th>Publisher</th>\n",
       "      <th>Year Published</th>\n",
       "      <th>Genres</th>\n",
       "      <th>Page Count</th>\n",
       "      <th>Civil War History</th>\n",
       "      <th>International Dev...</th>\n",
       "      <th>...</th>\n",
       "      <th>Latin American History</th>\n",
       "      <th>Crafts</th>\n",
       "      <th>Anglo Saxon</th>\n",
       "      <th>Werewolves</th>\n",
       "      <th>Military</th>\n",
       "      <th>40k</th>\n",
       "      <th>Gardening</th>\n",
       "      <th>Superman</th>\n",
       "      <th>Discipleship</th>\n",
       "      <th>Skepticism</th>\n",
       "    </tr>\n",
       "  </thead>\n",
       "  <tbody>\n",
       "    <tr>\n",
       "      <td>0</td>\n",
       "      <td>0</td>\n",
       "      <td>The Strange Maid</td>\n",
       "      <td>[Tessa Gratton]</td>\n",
       "      <td>Fans of Neil Gaiman, Holly Black, and Maggie S...</td>\n",
       "      <td>Random House Books for Young Readers</td>\n",
       "      <td>2014.0</td>\n",
       "      <td>[Fantasy, Young Adult, Fantasy, Mythology, Fic...</td>\n",
       "      <td>400.0</td>\n",
       "      <td>0</td>\n",
       "      <td>0</td>\n",
       "      <td>...</td>\n",
       "      <td>0</td>\n",
       "      <td>0</td>\n",
       "      <td>0</td>\n",
       "      <td>0</td>\n",
       "      <td>0</td>\n",
       "      <td>0</td>\n",
       "      <td>0</td>\n",
       "      <td>0</td>\n",
       "      <td>0</td>\n",
       "      <td>0</td>\n",
       "    </tr>\n",
       "    <tr>\n",
       "      <td>1</td>\n",
       "      <td>1</td>\n",
       "      <td>A Darker Domain</td>\n",
       "      <td>[Val McDermid]</td>\n",
       "      <td>1984, Fife. Heiress Catriona Maclennan Grant &amp;...</td>\n",
       "      <td>HarperCollins Publishers</td>\n",
       "      <td>2008.0</td>\n",
       "      <td>[Mystery, Mystery, Crime, Fiction, Cultural, S...</td>\n",
       "      <td>371.0</td>\n",
       "      <td>0</td>\n",
       "      <td>0</td>\n",
       "      <td>...</td>\n",
       "      <td>0</td>\n",
       "      <td>0</td>\n",
       "      <td>0</td>\n",
       "      <td>0</td>\n",
       "      <td>0</td>\n",
       "      <td>0</td>\n",
       "      <td>0</td>\n",
       "      <td>0</td>\n",
       "      <td>0</td>\n",
       "      <td>0</td>\n",
       "    </tr>\n",
       "    <tr>\n",
       "      <td>2</td>\n",
       "      <td>2</td>\n",
       "      <td>A Thousand Naked Strangers: A Paramedic's Wild...</td>\n",
       "      <td>[Kevin Hazzard]</td>\n",
       "      <td>A former paramedic’s visceral, poignant, and m...</td>\n",
       "      <td>Scribner</td>\n",
       "      <td>2016.0</td>\n",
       "      <td>[Nonfiction, Autobiography, Memoir, Medical, B...</td>\n",
       "      <td>261.0</td>\n",
       "      <td>0</td>\n",
       "      <td>0</td>\n",
       "      <td>...</td>\n",
       "      <td>0</td>\n",
       "      <td>0</td>\n",
       "      <td>0</td>\n",
       "      <td>0</td>\n",
       "      <td>0</td>\n",
       "      <td>0</td>\n",
       "      <td>0</td>\n",
       "      <td>0</td>\n",
       "      <td>0</td>\n",
       "      <td>0</td>\n",
       "    </tr>\n",
       "    <tr>\n",
       "      <td>3</td>\n",
       "      <td>5</td>\n",
       "      <td>Hester Roon</td>\n",
       "      <td>[Norah Lofts]</td>\n",
       "      <td>The Fleece Inn stood where the three roads joi...</td>\n",
       "      <td>Corgi</td>\n",
       "      <td>1940.0</td>\n",
       "      <td>[Historical, Historical Fiction, Historical, L...</td>\n",
       "      <td>320.0</td>\n",
       "      <td>0</td>\n",
       "      <td>0</td>\n",
       "      <td>...</td>\n",
       "      <td>0</td>\n",
       "      <td>0</td>\n",
       "      <td>0</td>\n",
       "      <td>0</td>\n",
       "      <td>0</td>\n",
       "      <td>0</td>\n",
       "      <td>0</td>\n",
       "      <td>0</td>\n",
       "      <td>0</td>\n",
       "      <td>0</td>\n",
       "    </tr>\n",
       "    <tr>\n",
       "      <td>4</td>\n",
       "      <td>6</td>\n",
       "      <td>The Trouble with Playing Cupid</td>\n",
       "      <td>[Tamara Philip]</td>\n",
       "      <td>One New Year's Eve, shy singer, December Brown...</td>\n",
       "      <td>Vanilla Heart Publishing</td>\n",
       "      <td>2014.0</td>\n",
       "      <td>[Romance, Contemporary]</td>\n",
       "      <td>176.0</td>\n",
       "      <td>0</td>\n",
       "      <td>0</td>\n",
       "      <td>...</td>\n",
       "      <td>0</td>\n",
       "      <td>0</td>\n",
       "      <td>0</td>\n",
       "      <td>0</td>\n",
       "      <td>0</td>\n",
       "      <td>0</td>\n",
       "      <td>0</td>\n",
       "      <td>0</td>\n",
       "      <td>0</td>\n",
       "      <td>0</td>\n",
       "    </tr>\n",
       "    <tr>\n",
       "      <td>...</td>\n",
       "      <td>...</td>\n",
       "      <td>...</td>\n",
       "      <td>...</td>\n",
       "      <td>...</td>\n",
       "      <td>...</td>\n",
       "      <td>...</td>\n",
       "      <td>...</td>\n",
       "      <td>...</td>\n",
       "      <td>...</td>\n",
       "      <td>...</td>\n",
       "      <td>...</td>\n",
       "      <td>...</td>\n",
       "      <td>...</td>\n",
       "      <td>...</td>\n",
       "      <td>...</td>\n",
       "      <td>...</td>\n",
       "      <td>...</td>\n",
       "      <td>...</td>\n",
       "      <td>...</td>\n",
       "      <td>...</td>\n",
       "      <td>...</td>\n",
       "    </tr>\n",
       "    <tr>\n",
       "      <td>25177</td>\n",
       "      <td>29994</td>\n",
       "      <td>The Lonely Hunter: A Biography of Carson McCul...</td>\n",
       "      <td>[Virginia Spencer Carr, Tennessee Williams]</td>\n",
       "      <td>The Lonely Hunter is widely accepted as the st...</td>\n",
       "      <td>University of Georgia Press</td>\n",
       "      <td>1975.0</td>\n",
       "      <td>[Biography, Nonfiction, History, Race, Gothic,...</td>\n",
       "      <td>680.0</td>\n",
       "      <td>0</td>\n",
       "      <td>0</td>\n",
       "      <td>...</td>\n",
       "      <td>0</td>\n",
       "      <td>0</td>\n",
       "      <td>0</td>\n",
       "      <td>0</td>\n",
       "      <td>0</td>\n",
       "      <td>0</td>\n",
       "      <td>0</td>\n",
       "      <td>0</td>\n",
       "      <td>0</td>\n",
       "      <td>0</td>\n",
       "    </tr>\n",
       "    <tr>\n",
       "      <td>25178</td>\n",
       "      <td>29995</td>\n",
       "      <td>The Twice Lost</td>\n",
       "      <td>[Sarah  Porter]</td>\n",
       "      <td>Mermaids have been sinking ships and drowning ...</td>\n",
       "      <td>Houghton Mifflin Harcourt</td>\n",
       "      <td>2013.0</td>\n",
       "      <td>[Mythology, Mermaids, Fantasy, Young Adult, Ro...</td>\n",
       "      <td>480.0</td>\n",
       "      <td>0</td>\n",
       "      <td>0</td>\n",
       "      <td>...</td>\n",
       "      <td>0</td>\n",
       "      <td>0</td>\n",
       "      <td>0</td>\n",
       "      <td>0</td>\n",
       "      <td>0</td>\n",
       "      <td>0</td>\n",
       "      <td>0</td>\n",
       "      <td>0</td>\n",
       "      <td>0</td>\n",
       "      <td>0</td>\n",
       "    </tr>\n",
       "    <tr>\n",
       "      <td>25179</td>\n",
       "      <td>29996</td>\n",
       "      <td>Headscarves and Hymens: Why the Middle East Ne...</td>\n",
       "      <td>[Mona Eltahawy]</td>\n",
       "      <td>A passionate manifesto decrying misogyny in th...</td>\n",
       "      <td>Farrar, Straus and Giroux</td>\n",
       "      <td>2015.0</td>\n",
       "      <td>[Nonfiction, Feminism, Politics, Religion, Rel...</td>\n",
       "      <td>240.0</td>\n",
       "      <td>0</td>\n",
       "      <td>0</td>\n",
       "      <td>...</td>\n",
       "      <td>0</td>\n",
       "      <td>0</td>\n",
       "      <td>0</td>\n",
       "      <td>0</td>\n",
       "      <td>0</td>\n",
       "      <td>0</td>\n",
       "      <td>0</td>\n",
       "      <td>0</td>\n",
       "      <td>0</td>\n",
       "      <td>0</td>\n",
       "    </tr>\n",
       "    <tr>\n",
       "      <td>25180</td>\n",
       "      <td>29997</td>\n",
       "      <td>The Strange Library</td>\n",
       "      <td>[Haruki Murakami, Ted Goossen, Chip Kidd]</td>\n",
       "      <td>From internationally acclaimed author Haruki M...</td>\n",
       "      <td>Knopf</td>\n",
       "      <td>2001.0</td>\n",
       "      <td>[Fiction, Fantasy, Short Stories, Magical Real...</td>\n",
       "      <td>96.0</td>\n",
       "      <td>0</td>\n",
       "      <td>0</td>\n",
       "      <td>...</td>\n",
       "      <td>0</td>\n",
       "      <td>0</td>\n",
       "      <td>0</td>\n",
       "      <td>0</td>\n",
       "      <td>0</td>\n",
       "      <td>0</td>\n",
       "      <td>0</td>\n",
       "      <td>0</td>\n",
       "      <td>0</td>\n",
       "      <td>0</td>\n",
       "    </tr>\n",
       "    <tr>\n",
       "      <td>25181</td>\n",
       "      <td>29998</td>\n",
       "      <td>Dreadnought</td>\n",
       "      <td>[Robert K. Massie]</td>\n",
       "      <td>Pulitzer Prize-winning author, Robert K. Massi...</td>\n",
       "      <td>Ballantine Books</td>\n",
       "      <td>1991.0</td>\n",
       "      <td>[History, Nonfiction, Military, Military Histo...</td>\n",
       "      <td>1040.0</td>\n",
       "      <td>0</td>\n",
       "      <td>0</td>\n",
       "      <td>...</td>\n",
       "      <td>0</td>\n",
       "      <td>0</td>\n",
       "      <td>0</td>\n",
       "      <td>0</td>\n",
       "      <td>1</td>\n",
       "      <td>0</td>\n",
       "      <td>0</td>\n",
       "      <td>0</td>\n",
       "      <td>0</td>\n",
       "      <td>0</td>\n",
       "    </tr>\n",
       "  </tbody>\n",
       "</table>\n",
       "<p>25182 rows × 978 columns</p>\n",
       "</div>"
      ],
      "text/plain": [
       "       index                                              Title  \\\n",
       "0          0                                   The Strange Maid   \n",
       "1          1                                    A Darker Domain   \n",
       "2          2  A Thousand Naked Strangers: A Paramedic's Wild...   \n",
       "3          5                                        Hester Roon   \n",
       "4          6                     The Trouble with Playing Cupid   \n",
       "...      ...                                                ...   \n",
       "25177  29994  The Lonely Hunter: A Biography of Carson McCul...   \n",
       "25178  29995                                     The Twice Lost   \n",
       "25179  29996  Headscarves and Hymens: Why the Middle East Ne...   \n",
       "25180  29997                                The Strange Library   \n",
       "25181  29998                                        Dreadnought   \n",
       "\n",
       "                                            Author  \\\n",
       "0                                  [Tessa Gratton]   \n",
       "1                                   [Val McDermid]   \n",
       "2                                  [Kevin Hazzard]   \n",
       "3                                    [Norah Lofts]   \n",
       "4                                  [Tamara Philip]   \n",
       "...                                            ...   \n",
       "25177  [Virginia Spencer Carr, Tennessee Williams]   \n",
       "25178                              [Sarah  Porter]   \n",
       "25179                              [Mona Eltahawy]   \n",
       "25180    [Haruki Murakami, Ted Goossen, Chip Kidd]   \n",
       "25181                           [Robert K. Massie]   \n",
       "\n",
       "                                             Description  \\\n",
       "0      Fans of Neil Gaiman, Holly Black, and Maggie S...   \n",
       "1      1984, Fife. Heiress Catriona Maclennan Grant &...   \n",
       "2      A former paramedic’s visceral, poignant, and m...   \n",
       "3      The Fleece Inn stood where the three roads joi...   \n",
       "4      One New Year's Eve, shy singer, December Brown...   \n",
       "...                                                  ...   \n",
       "25177  The Lonely Hunter is widely accepted as the st...   \n",
       "25178  Mermaids have been sinking ships and drowning ...   \n",
       "25179  A passionate manifesto decrying misogyny in th...   \n",
       "25180  From internationally acclaimed author Haruki M...   \n",
       "25181  Pulitzer Prize-winning author, Robert K. Massi...   \n",
       "\n",
       "                                  Publisher  Year Published  \\\n",
       "0      Random House Books for Young Readers          2014.0   \n",
       "1                  HarperCollins Publishers          2008.0   \n",
       "2                                  Scribner          2016.0   \n",
       "3                                     Corgi          1940.0   \n",
       "4                  Vanilla Heart Publishing          2014.0   \n",
       "...                                     ...             ...   \n",
       "25177           University of Georgia Press          1975.0   \n",
       "25178             Houghton Mifflin Harcourt          2013.0   \n",
       "25179             Farrar, Straus and Giroux          2015.0   \n",
       "25180                                 Knopf          2001.0   \n",
       "25181                      Ballantine Books          1991.0   \n",
       "\n",
       "                                                  Genres  Page Count  \\\n",
       "0      [Fantasy, Young Adult, Fantasy, Mythology, Fic...       400.0   \n",
       "1      [Mystery, Mystery, Crime, Fiction, Cultural, S...       371.0   \n",
       "2      [Nonfiction, Autobiography, Memoir, Medical, B...       261.0   \n",
       "3      [Historical, Historical Fiction, Historical, L...       320.0   \n",
       "4                                [Romance, Contemporary]       176.0   \n",
       "...                                                  ...         ...   \n",
       "25177  [Biography, Nonfiction, History, Race, Gothic,...       680.0   \n",
       "25178  [Mythology, Mermaids, Fantasy, Young Adult, Ro...       480.0   \n",
       "25179  [Nonfiction, Feminism, Politics, Religion, Rel...       240.0   \n",
       "25180  [Fiction, Fantasy, Short Stories, Magical Real...        96.0   \n",
       "25181  [History, Nonfiction, Military, Military Histo...      1040.0   \n",
       "\n",
       "       Civil War History  International Dev...  ...  Latin American History  \\\n",
       "0                      0                     0  ...                       0   \n",
       "1                      0                     0  ...                       0   \n",
       "2                      0                     0  ...                       0   \n",
       "3                      0                     0  ...                       0   \n",
       "4                      0                     0  ...                       0   \n",
       "...                  ...                   ...  ...                     ...   \n",
       "25177                  0                     0  ...                       0   \n",
       "25178                  0                     0  ...                       0   \n",
       "25179                  0                     0  ...                       0   \n",
       "25180                  0                     0  ...                       0   \n",
       "25181                  0                     0  ...                       0   \n",
       "\n",
       "       Crafts  Anglo Saxon  Werewolves  Military  40k  Gardening  Superman  \\\n",
       "0           0            0           0         0    0          0         0   \n",
       "1           0            0           0         0    0          0         0   \n",
       "2           0            0           0         0    0          0         0   \n",
       "3           0            0           0         0    0          0         0   \n",
       "4           0            0           0         0    0          0         0   \n",
       "...       ...          ...         ...       ...  ...        ...       ...   \n",
       "25177       0            0           0         0    0          0         0   \n",
       "25178       0            0           0         0    0          0         0   \n",
       "25179       0            0           0         0    0          0         0   \n",
       "25180       0            0           0         0    0          0         0   \n",
       "25181       0            0           0         1    0          0         0   \n",
       "\n",
       "       Discipleship  Skepticism  \n",
       "0                 0           0  \n",
       "1                 0           0  \n",
       "2                 0           0  \n",
       "3                 0           0  \n",
       "4                 0           0  \n",
       "...             ...         ...  \n",
       "25177             0           0  \n",
       "25178             0           0  \n",
       "25179             0           0  \n",
       "25180             0           0  \n",
       "25181             0           0  \n",
       "\n",
       "[25182 rows x 978 columns]"
      ]
     },
     "execution_count": 32,
     "metadata": {},
     "output_type": "execute_result"
    }
   ],
   "source": [
    "df = pd.concat([df, genres], axis=1)\n",
    "df"
   ]
  },
  {
   "cell_type": "code",
   "execution_count": 33,
   "metadata": {
    "ExecuteTime": {
     "end_time": "2021-10-17T10:36:25.825630Z",
     "start_time": "2021-10-17T10:36:25.320731Z"
    }
   },
   "outputs": [
    {
     "data": {
      "text/html": [
       "<div>\n",
       "<style scoped>\n",
       "    .dataframe tbody tr th:only-of-type {\n",
       "        vertical-align: middle;\n",
       "    }\n",
       "\n",
       "    .dataframe tbody tr th {\n",
       "        vertical-align: top;\n",
       "    }\n",
       "\n",
       "    .dataframe thead th {\n",
       "        text-align: right;\n",
       "    }\n",
       "</style>\n",
       "<table border=\"1\" class=\"dataframe\">\n",
       "  <thead>\n",
       "    <tr style=\"text-align: right;\">\n",
       "      <th></th>\n",
       "      <th>Title</th>\n",
       "      <th>Author</th>\n",
       "      <th>Description</th>\n",
       "      <th>Publisher</th>\n",
       "      <th>Year Published</th>\n",
       "      <th>Genres</th>\n",
       "      <th>Page Count</th>\n",
       "      <th>Civil War History</th>\n",
       "      <th>International Dev...</th>\n",
       "      <th>Anime</th>\n",
       "      <th>...</th>\n",
       "      <th>Latin American History</th>\n",
       "      <th>Crafts</th>\n",
       "      <th>Anglo Saxon</th>\n",
       "      <th>Werewolves</th>\n",
       "      <th>Military</th>\n",
       "      <th>40k</th>\n",
       "      <th>Gardening</th>\n",
       "      <th>Superman</th>\n",
       "      <th>Discipleship</th>\n",
       "      <th>Skepticism</th>\n",
       "    </tr>\n",
       "  </thead>\n",
       "  <tbody>\n",
       "    <tr>\n",
       "      <td>0</td>\n",
       "      <td>The Strange Maid</td>\n",
       "      <td>[Tessa Gratton]</td>\n",
       "      <td>Fans of Neil Gaiman, Holly Black, and Maggie S...</td>\n",
       "      <td>Random House Books for Young Readers</td>\n",
       "      <td>2014.0</td>\n",
       "      <td>[Fantasy, Young Adult, Fantasy, Mythology, Fic...</td>\n",
       "      <td>400.0</td>\n",
       "      <td>0</td>\n",
       "      <td>0</td>\n",
       "      <td>0</td>\n",
       "      <td>...</td>\n",
       "      <td>0</td>\n",
       "      <td>0</td>\n",
       "      <td>0</td>\n",
       "      <td>0</td>\n",
       "      <td>0</td>\n",
       "      <td>0</td>\n",
       "      <td>0</td>\n",
       "      <td>0</td>\n",
       "      <td>0</td>\n",
       "      <td>0</td>\n",
       "    </tr>\n",
       "    <tr>\n",
       "      <td>2</td>\n",
       "      <td>A Thousand Naked Strangers: A Paramedic's Wild...</td>\n",
       "      <td>[Kevin Hazzard]</td>\n",
       "      <td>A former paramedic’s visceral, poignant, and m...</td>\n",
       "      <td>Scribner</td>\n",
       "      <td>2016.0</td>\n",
       "      <td>[Nonfiction, Autobiography, Memoir, Medical, B...</td>\n",
       "      <td>261.0</td>\n",
       "      <td>0</td>\n",
       "      <td>0</td>\n",
       "      <td>0</td>\n",
       "      <td>...</td>\n",
       "      <td>0</td>\n",
       "      <td>0</td>\n",
       "      <td>0</td>\n",
       "      <td>0</td>\n",
       "      <td>0</td>\n",
       "      <td>0</td>\n",
       "      <td>0</td>\n",
       "      <td>0</td>\n",
       "      <td>0</td>\n",
       "      <td>0</td>\n",
       "    </tr>\n",
       "    <tr>\n",
       "      <td>3</td>\n",
       "      <td>Hester Roon</td>\n",
       "      <td>[Norah Lofts]</td>\n",
       "      <td>The Fleece Inn stood where the three roads joi...</td>\n",
       "      <td>Corgi</td>\n",
       "      <td>1940.0</td>\n",
       "      <td>[Historical, Historical Fiction, Historical, L...</td>\n",
       "      <td>320.0</td>\n",
       "      <td>0</td>\n",
       "      <td>0</td>\n",
       "      <td>0</td>\n",
       "      <td>...</td>\n",
       "      <td>0</td>\n",
       "      <td>0</td>\n",
       "      <td>0</td>\n",
       "      <td>0</td>\n",
       "      <td>0</td>\n",
       "      <td>0</td>\n",
       "      <td>0</td>\n",
       "      <td>0</td>\n",
       "      <td>0</td>\n",
       "      <td>0</td>\n",
       "    </tr>\n",
       "    <tr>\n",
       "      <td>4</td>\n",
       "      <td>The Trouble with Playing Cupid</td>\n",
       "      <td>[Tamara Philip]</td>\n",
       "      <td>One New Year's Eve, shy singer, December Brown...</td>\n",
       "      <td>Vanilla Heart Publishing</td>\n",
       "      <td>2014.0</td>\n",
       "      <td>[Romance, Contemporary]</td>\n",
       "      <td>176.0</td>\n",
       "      <td>0</td>\n",
       "      <td>0</td>\n",
       "      <td>0</td>\n",
       "      <td>...</td>\n",
       "      <td>0</td>\n",
       "      <td>0</td>\n",
       "      <td>0</td>\n",
       "      <td>0</td>\n",
       "      <td>0</td>\n",
       "      <td>0</td>\n",
       "      <td>0</td>\n",
       "      <td>0</td>\n",
       "      <td>0</td>\n",
       "      <td>0</td>\n",
       "    </tr>\n",
       "    <tr>\n",
       "      <td>5</td>\n",
       "      <td>Suicide Watch</td>\n",
       "      <td>[Kelley York]</td>\n",
       "      <td>18-year-old Vincent has spent his entire life ...</td>\n",
       "      <td>Kelley York</td>\n",
       "      <td>2012.0</td>\n",
       "      <td>[Romance, M M Romance, Young Adult, LGBT, Cont...</td>\n",
       "      <td>220.0</td>\n",
       "      <td>0</td>\n",
       "      <td>0</td>\n",
       "      <td>0</td>\n",
       "      <td>...</td>\n",
       "      <td>0</td>\n",
       "      <td>0</td>\n",
       "      <td>0</td>\n",
       "      <td>0</td>\n",
       "      <td>0</td>\n",
       "      <td>0</td>\n",
       "      <td>0</td>\n",
       "      <td>0</td>\n",
       "      <td>0</td>\n",
       "      <td>0</td>\n",
       "    </tr>\n",
       "    <tr>\n",
       "      <td>...</td>\n",
       "      <td>...</td>\n",
       "      <td>...</td>\n",
       "      <td>...</td>\n",
       "      <td>...</td>\n",
       "      <td>...</td>\n",
       "      <td>...</td>\n",
       "      <td>...</td>\n",
       "      <td>...</td>\n",
       "      <td>...</td>\n",
       "      <td>...</td>\n",
       "      <td>...</td>\n",
       "      <td>...</td>\n",
       "      <td>...</td>\n",
       "      <td>...</td>\n",
       "      <td>...</td>\n",
       "      <td>...</td>\n",
       "      <td>...</td>\n",
       "      <td>...</td>\n",
       "      <td>...</td>\n",
       "      <td>...</td>\n",
       "      <td>...</td>\n",
       "    </tr>\n",
       "    <tr>\n",
       "      <td>25177</td>\n",
       "      <td>The Lonely Hunter: A Biography of Carson McCul...</td>\n",
       "      <td>[Virginia Spencer Carr, Tennessee Williams]</td>\n",
       "      <td>The Lonely Hunter is widely accepted as the st...</td>\n",
       "      <td>University of Georgia Press</td>\n",
       "      <td>1975.0</td>\n",
       "      <td>[Biography, Nonfiction, History, Race, Gothic,...</td>\n",
       "      <td>680.0</td>\n",
       "      <td>0</td>\n",
       "      <td>0</td>\n",
       "      <td>0</td>\n",
       "      <td>...</td>\n",
       "      <td>0</td>\n",
       "      <td>0</td>\n",
       "      <td>0</td>\n",
       "      <td>0</td>\n",
       "      <td>0</td>\n",
       "      <td>0</td>\n",
       "      <td>0</td>\n",
       "      <td>0</td>\n",
       "      <td>0</td>\n",
       "      <td>0</td>\n",
       "    </tr>\n",
       "    <tr>\n",
       "      <td>25178</td>\n",
       "      <td>The Twice Lost</td>\n",
       "      <td>[Sarah  Porter]</td>\n",
       "      <td>Mermaids have been sinking ships and drowning ...</td>\n",
       "      <td>Houghton Mifflin Harcourt</td>\n",
       "      <td>2013.0</td>\n",
       "      <td>[Mythology, Mermaids, Fantasy, Young Adult, Ro...</td>\n",
       "      <td>480.0</td>\n",
       "      <td>0</td>\n",
       "      <td>0</td>\n",
       "      <td>0</td>\n",
       "      <td>...</td>\n",
       "      <td>0</td>\n",
       "      <td>0</td>\n",
       "      <td>0</td>\n",
       "      <td>0</td>\n",
       "      <td>0</td>\n",
       "      <td>0</td>\n",
       "      <td>0</td>\n",
       "      <td>0</td>\n",
       "      <td>0</td>\n",
       "      <td>0</td>\n",
       "    </tr>\n",
       "    <tr>\n",
       "      <td>25179</td>\n",
       "      <td>Headscarves and Hymens: Why the Middle East Ne...</td>\n",
       "      <td>[Mona Eltahawy]</td>\n",
       "      <td>A passionate manifesto decrying misogyny in th...</td>\n",
       "      <td>Farrar, Straus and Giroux</td>\n",
       "      <td>2015.0</td>\n",
       "      <td>[Nonfiction, Feminism, Politics, Religion, Rel...</td>\n",
       "      <td>240.0</td>\n",
       "      <td>0</td>\n",
       "      <td>0</td>\n",
       "      <td>0</td>\n",
       "      <td>...</td>\n",
       "      <td>0</td>\n",
       "      <td>0</td>\n",
       "      <td>0</td>\n",
       "      <td>0</td>\n",
       "      <td>0</td>\n",
       "      <td>0</td>\n",
       "      <td>0</td>\n",
       "      <td>0</td>\n",
       "      <td>0</td>\n",
       "      <td>0</td>\n",
       "    </tr>\n",
       "    <tr>\n",
       "      <td>25180</td>\n",
       "      <td>The Strange Library</td>\n",
       "      <td>[Haruki Murakami, Ted Goossen, Chip Kidd]</td>\n",
       "      <td>From internationally acclaimed author Haruki M...</td>\n",
       "      <td>Knopf</td>\n",
       "      <td>2001.0</td>\n",
       "      <td>[Fiction, Fantasy, Short Stories, Magical Real...</td>\n",
       "      <td>96.0</td>\n",
       "      <td>0</td>\n",
       "      <td>0</td>\n",
       "      <td>0</td>\n",
       "      <td>...</td>\n",
       "      <td>0</td>\n",
       "      <td>0</td>\n",
       "      <td>0</td>\n",
       "      <td>0</td>\n",
       "      <td>0</td>\n",
       "      <td>0</td>\n",
       "      <td>0</td>\n",
       "      <td>0</td>\n",
       "      <td>0</td>\n",
       "      <td>0</td>\n",
       "    </tr>\n",
       "    <tr>\n",
       "      <td>25181</td>\n",
       "      <td>Dreadnought</td>\n",
       "      <td>[Robert K. Massie]</td>\n",
       "      <td>Pulitzer Prize-winning author, Robert K. Massi...</td>\n",
       "      <td>Ballantine Books</td>\n",
       "      <td>1991.0</td>\n",
       "      <td>[History, Nonfiction, Military, Military Histo...</td>\n",
       "      <td>1040.0</td>\n",
       "      <td>0</td>\n",
       "      <td>0</td>\n",
       "      <td>0</td>\n",
       "      <td>...</td>\n",
       "      <td>0</td>\n",
       "      <td>0</td>\n",
       "      <td>0</td>\n",
       "      <td>0</td>\n",
       "      <td>1</td>\n",
       "      <td>0</td>\n",
       "      <td>0</td>\n",
       "      <td>0</td>\n",
       "      <td>0</td>\n",
       "      <td>0</td>\n",
       "    </tr>\n",
       "  </tbody>\n",
       "</table>\n",
       "<p>25181 rows × 977 columns</p>\n",
       "</div>"
      ],
      "text/plain": [
       "                                                   Title  \\\n",
       "0                                       The Strange Maid   \n",
       "2      A Thousand Naked Strangers: A Paramedic's Wild...   \n",
       "3                                            Hester Roon   \n",
       "4                         The Trouble with Playing Cupid   \n",
       "5                                          Suicide Watch   \n",
       "...                                                  ...   \n",
       "25177  The Lonely Hunter: A Biography of Carson McCul...   \n",
       "25178                                     The Twice Lost   \n",
       "25179  Headscarves and Hymens: Why the Middle East Ne...   \n",
       "25180                                The Strange Library   \n",
       "25181                                        Dreadnought   \n",
       "\n",
       "                                            Author  \\\n",
       "0                                  [Tessa Gratton]   \n",
       "2                                  [Kevin Hazzard]   \n",
       "3                                    [Norah Lofts]   \n",
       "4                                  [Tamara Philip]   \n",
       "5                                    [Kelley York]   \n",
       "...                                            ...   \n",
       "25177  [Virginia Spencer Carr, Tennessee Williams]   \n",
       "25178                              [Sarah  Porter]   \n",
       "25179                              [Mona Eltahawy]   \n",
       "25180    [Haruki Murakami, Ted Goossen, Chip Kidd]   \n",
       "25181                           [Robert K. Massie]   \n",
       "\n",
       "                                             Description  \\\n",
       "0      Fans of Neil Gaiman, Holly Black, and Maggie S...   \n",
       "2      A former paramedic’s visceral, poignant, and m...   \n",
       "3      The Fleece Inn stood where the three roads joi...   \n",
       "4      One New Year's Eve, shy singer, December Brown...   \n",
       "5      18-year-old Vincent has spent his entire life ...   \n",
       "...                                                  ...   \n",
       "25177  The Lonely Hunter is widely accepted as the st...   \n",
       "25178  Mermaids have been sinking ships and drowning ...   \n",
       "25179  A passionate manifesto decrying misogyny in th...   \n",
       "25180  From internationally acclaimed author Haruki M...   \n",
       "25181  Pulitzer Prize-winning author, Robert K. Massi...   \n",
       "\n",
       "                                  Publisher  Year Published  \\\n",
       "0      Random House Books for Young Readers          2014.0   \n",
       "2                                  Scribner          2016.0   \n",
       "3                                     Corgi          1940.0   \n",
       "4                  Vanilla Heart Publishing          2014.0   \n",
       "5                               Kelley York          2012.0   \n",
       "...                                     ...             ...   \n",
       "25177           University of Georgia Press          1975.0   \n",
       "25178             Houghton Mifflin Harcourt          2013.0   \n",
       "25179             Farrar, Straus and Giroux          2015.0   \n",
       "25180                                 Knopf          2001.0   \n",
       "25181                      Ballantine Books          1991.0   \n",
       "\n",
       "                                                  Genres  Page Count  \\\n",
       "0      [Fantasy, Young Adult, Fantasy, Mythology, Fic...       400.0   \n",
       "2      [Nonfiction, Autobiography, Memoir, Medical, B...       261.0   \n",
       "3      [Historical, Historical Fiction, Historical, L...       320.0   \n",
       "4                                [Romance, Contemporary]       176.0   \n",
       "5      [Romance, M M Romance, Young Adult, LGBT, Cont...       220.0   \n",
       "...                                                  ...         ...   \n",
       "25177  [Biography, Nonfiction, History, Race, Gothic,...       680.0   \n",
       "25178  [Mythology, Mermaids, Fantasy, Young Adult, Ro...       480.0   \n",
       "25179  [Nonfiction, Feminism, Politics, Religion, Rel...       240.0   \n",
       "25180  [Fiction, Fantasy, Short Stories, Magical Real...        96.0   \n",
       "25181  [History, Nonfiction, Military, Military Histo...      1040.0   \n",
       "\n",
       "       Civil War History  International Dev...  Anime  ...  \\\n",
       "0                      0                     0      0  ...   \n",
       "2                      0                     0      0  ...   \n",
       "3                      0                     0      0  ...   \n",
       "4                      0                     0      0  ...   \n",
       "5                      0                     0      0  ...   \n",
       "...                  ...                   ...    ...  ...   \n",
       "25177                  0                     0      0  ...   \n",
       "25178                  0                     0      0  ...   \n",
       "25179                  0                     0      0  ...   \n",
       "25180                  0                     0      0  ...   \n",
       "25181                  0                     0      0  ...   \n",
       "\n",
       "       Latin American History  Crafts  Anglo Saxon  Werewolves  Military  40k  \\\n",
       "0                           0       0            0           0         0    0   \n",
       "2                           0       0            0           0         0    0   \n",
       "3                           0       0            0           0         0    0   \n",
       "4                           0       0            0           0         0    0   \n",
       "5                           0       0            0           0         0    0   \n",
       "...                       ...     ...          ...         ...       ...  ...   \n",
       "25177                       0       0            0           0         0    0   \n",
       "25178                       0       0            0           0         0    0   \n",
       "25179                       0       0            0           0         0    0   \n",
       "25180                       0       0            0           0         0    0   \n",
       "25181                       0       0            0           0         1    0   \n",
       "\n",
       "       Gardening  Superman  Discipleship  Skepticism  \n",
       "0              0         0             0           0  \n",
       "2              0         0             0           0  \n",
       "3              0         0             0           0  \n",
       "4              0         0             0           0  \n",
       "5              0         0             0           0  \n",
       "...          ...       ...           ...         ...  \n",
       "25177          0         0             0           0  \n",
       "25178          0         0             0           0  \n",
       "25179          0         0             0           0  \n",
       "25180          0         0             0           0  \n",
       "25181          0         0             0           0  \n",
       "\n",
       "[25181 rows x 977 columns]"
      ]
     },
     "execution_count": 33,
     "metadata": {},
     "output_type": "execute_result"
    }
   ],
   "source": [
    "df.drop(columns=[\"index\"], index=1, inplace=True)\n",
    "df"
   ]
  },
  {
   "cell_type": "markdown",
   "metadata": {},
   "source": [
    "#### Examine the descriptions"
   ]
  },
  {
   "cell_type": "code",
   "execution_count": 34,
   "metadata": {
    "ExecuteTime": {
     "end_time": "2021-10-17T10:36:25.832305Z",
     "start_time": "2021-10-17T10:36:25.827822Z"
    }
   },
   "outputs": [],
   "source": [
    "test = [df[\"Description\"].loc[0], df[\"Description\"].loc[2], df[\"Description\"].loc[3]]"
   ]
  },
  {
   "cell_type": "code",
   "execution_count": 35,
   "metadata": {
    "ExecuteTime": {
     "end_time": "2021-10-17T10:36:25.838543Z",
     "start_time": "2021-10-17T10:36:25.834421Z"
    }
   },
   "outputs": [
    {
     "data": {
      "text/plain": [
       "'A former paramedic’s visceral, poignant, and mordantly funny account of a decade spent on Atlanta’s mean streets saving lives and connecting with the drama and occasional beauty that lies inside catastrophe.In the aftermath of 9/11 Kevin Hazzard felt that something was missing from his life—his days were too safe, too routine. A failed salesman turned local reporter, he wa\\nA former paramedic’s visceral, poignant, and mordantly funny account of a decade spent on Atlanta’s mean streets saving lives and connecting with the drama and occasional beauty that lies inside catastrophe.In the aftermath of 9/11 Kevin Hazzard felt that something was missing from his life—his days were too safe, too routine. A failed salesman turned local reporter, he wanted to test himself, see how he might respond to pressure and danger. He signed up for emergency medical training and became, at age twenty-six, a newly minted EMT running calls in the worst sections of Atlanta. His life entered a different realm—one of blood, violence, and amazing grace.Thoroughly intimidated at first and frequently terrified, he experienced on a nightly basis the adrenaline rush of walking into chaos. But in his downtime, Kevin reflected on how people’s facades drop away when catastrophe strikes. As his hours on the job piled up, he realized he was beginning to see into the truth of things. There is no pretense five beats into a chest compression, or in an alley next to a crack den, or on a dimly lit highway where cars have collided. Eventually, what had at first seemed impossible happened: Kevin acquired mastery. And in the process he was able to discern the professional differences between his freewheeling peers, what marked each—as he termed them—as “a tourist,” “true believer,” or “killer.”Combining indelible scenes that remind us of life’s fragile beauty with laugh-out-loud moments that keep us smiling through the worst, A Thousand Naked Strangers is an absorbing read about one man’s journey of self-discovery—a trip that also teaches us about ourselves.\\n...more'"
      ]
     },
     "execution_count": 35,
     "metadata": {},
     "output_type": "execute_result"
    }
   ],
   "source": [
    "test[1]"
   ]
  },
  {
   "cell_type": "markdown",
   "metadata": {},
   "source": [
    "#### The first lines are repeated. It is the segment of text that gets displayed at first before the user clicks on \"more\". In addition, that \"\\n...more\" is displayed at the end of the text. We need to clean this up."
   ]
  },
  {
   "cell_type": "code",
   "execution_count": 36,
   "metadata": {
    "ExecuteTime": {
     "end_time": "2021-10-17T10:36:25.843933Z",
     "start_time": "2021-10-17T10:36:25.840377Z"
    }
   },
   "outputs": [
    {
     "data": {
      "text/plain": [
       "376"
      ]
     },
     "execution_count": 36,
     "metadata": {},
     "output_type": "execute_result"
    }
   ],
   "source": [
    "len(\"Fans of Neil Gaiman, Holly Black, and Maggie Stiefvater will embrace the richly drawn, Norse-influenced alternate world of the United States of Asgard, where cell phones, rock bands, and evangelical preachers coexist with dragon slaying, rune casting, and sword training in schools. Where the president runs the country alongside a council of Valkyries, gods walk the red car\\n\")"
   ]
  },
  {
   "cell_type": "code",
   "execution_count": 37,
   "metadata": {
    "ExecuteTime": {
     "end_time": "2021-10-17T10:36:25.849716Z",
     "start_time": "2021-10-17T10:36:25.845636Z"
    }
   },
   "outputs": [
    {
     "data": {
      "text/plain": [
       "376"
      ]
     },
     "execution_count": 37,
     "metadata": {},
     "output_type": "execute_result"
    }
   ],
   "source": [
    "len(\"A former paramedic’s visceral, poignant, and mordantly funny account of a decade spent on Atlanta’s mean streets saving lives and connecting with the drama and occasional beauty that lies inside catastrophe.In the aftermath of 9/11 Kevin Hazzard felt that something was missing from his life—his days were too safe, too routine. A failed salesman turned local reporter, he wa\\n\")"
   ]
  },
  {
   "cell_type": "code",
   "execution_count": 38,
   "metadata": {
    "ExecuteTime": {
     "end_time": "2021-10-17T10:36:25.853943Z",
     "start_time": "2021-10-17T10:36:25.851290Z"
    }
   },
   "outputs": [
    {
     "name": "stdout",
     "output_type": "stream",
     "text": [
      "Fans of Neil Gaiman, Holly Black, and Maggie Stiefvater will embrace the richly drawn, Norse-influenced alternate world of the United States of Asgard, where cell phones, rock bands, and evangelical preachers coexist with dragon slaying, rune casting, and sword training in schools. Where the president runs the country alongside a council of Valkyries, gods walk the red carpet with Hollywood starlets, and the U.S. military has a special battalion dedicated to eradicating Rocky Mountain trolls. Signy Valborn was seven years old when she climbed the New World Tree and met Odin Alfather, who declared that if she could solve a single riddle, he would make her one of his Valkyrie. For ten years Signy has trained in the arts of war, politics, and leadership, never dreaming that a Greater Mountain Troll might hold the answer to the riddle, but that’s exactly what Ned the Spiritless promises her. A mysterious troll hunter who talks in riddles and ancient poetry, Ned is a hard man to trust. Unfortunately, Signy is running out of time. Accompanied by an outcast berserker named Soren Bearstar, she and Ned take off across the ice sheets of Canadia to hunt the mother of trolls and claim Signy’s destiny.\n",
      "A former paramedic’s visceral, poignant, and mordantly funny account of a decade spent on Atlanta’s mean streets saving lives and connecting with the drama and occasional beauty that lies inside catastrophe.In the aftermath of 9/11 Kevin Hazzard felt that something was missing from his life—his days were too safe, too routine. A failed salesman turned local reporter, he wanted to test himself, see how he might respond to pressure and danger. He signed up for emergency medical training and became, at age twenty-six, a newly minted EMT running calls in the worst sections of Atlanta. His life entered a different realm—one of blood, violence, and amazing grace.Thoroughly intimidated at first and frequently terrified, he experienced on a nightly basis the adrenaline rush of walking into chaos. But in his downtime, Kevin reflected on how people’s facades drop away when catastrophe strikes. As his hours on the job piled up, he realized he was beginning to see into the truth of things. There is no pretense five beats into a chest compression, or in an alley next to a crack den, or on a dimly lit highway where cars have collided. Eventually, what had at first seemed impossible happened: Kevin acquired mastery. And in the process he was able to discern the professional differences between his freewheeling peers, what marked each—as he termed them—as “a tourist,” “true believer,” or “killer.”Combining indelible scenes that remind us of life’s fragile beauty with laugh-out-loud moments that keep us smiling through the worst, A Thousand Naked Strangers is an absorbing read about one man’s journey of self-discovery—a trip that also teaches us about ourselves.\n",
      "The Fleece Inn stood where the three roads joined - the roads to London, to Norwich and to the sea. Its trade was prosperous, its hospitality famous and the host was jolly and generous. To his servants he was cruel and menacing, and to Ellie Roon, the most menial servant at the Fleece, he was a figure of terror. Ellie was used to being bullied, but when her illegitimate daughter was born - in a rat-ridden attic of the Fleece - she decided that Hester must have a different kind of life. And so, Hester Roon began her eventful progress in the harsh world of 18th century England. After fleeing from the inn, and the attentions of the owner, she became involved in the London underworld. From there she found herself in a world far beyond her imaginings..\n"
     ]
    }
   ],
   "source": [
    "for t in test:\n",
    "    print(t[376:-8])"
   ]
  },
  {
   "cell_type": "markdown",
   "metadata": {},
   "source": [
    "#### This will be applied to all the descriptions:"
   ]
  },
  {
   "cell_type": "markdown",
   "metadata": {},
   "source": [
    "This proof-of-concept is NLP based, therefore I will drop the books that have no description. That is only 1% of the current data set."
   ]
  },
  {
   "cell_type": "code",
   "execution_count": 39,
   "metadata": {
    "ExecuteTime": {
     "end_time": "2021-10-17T10:36:25.862723Z",
     "start_time": "2021-10-17T10:36:25.855878Z"
    }
   },
   "outputs": [
    {
     "data": {
      "text/plain": [
       "0.013065406457249514"
      ]
     },
     "execution_count": 39,
     "metadata": {},
     "output_type": "execute_result"
    }
   ],
   "source": [
    "df[\"Description\"].isna().sum()/df.shape[0]"
   ]
  },
  {
   "cell_type": "code",
   "execution_count": 40,
   "metadata": {
    "ExecuteTime": {
     "end_time": "2021-10-17T10:36:25.999765Z",
     "start_time": "2021-10-17T10:36:25.864489Z"
    }
   },
   "outputs": [],
   "source": [
    "df.dropna(subset=[\"Description\"], inplace=True)"
   ]
  },
  {
   "cell_type": "markdown",
   "metadata": {},
   "source": [
    "### Data Preprocessing"
   ]
  },
  {
   "cell_type": "code",
   "execution_count": 181,
   "metadata": {
    "ExecuteTime": {
     "end_time": "2021-10-18T06:12:56.927215Z",
     "start_time": "2021-10-18T06:12:04.232124Z"
    }
   },
   "outputs": [],
   "source": [
    "df[\"Description_processed\"] = df[\"Description\"].apply(lambda x: x[376:-8])\n",
    "\n",
    "### Remove anything that is not an alphabetical character, or a space.\n",
    "df[\"Description_processed\"] = df[\"Description_processed\"].replace('[^a-zA-Z ]', \" \", regex=True)\n",
    "\n",
    "### Case unification\n",
    "df[\"Description_processed\"] = df[\"Description_processed\"].apply(lambda x: x.lower())\n",
    "\n",
    "### Stopword removal\n",
    "stopword_list = stopwords.words(\"english\")\n",
    "df[\"Description_processed\"] = df[\"Description_processed\"].apply(lambda x: [word for word in x.split() if word not in stopword_list])\n",
    "\n",
    "### Bigrams\n",
    "phrase_model = Phrases(list(df[\"Description_processed\"]), min_count=1, threshold=1, connector_words=ENGLISH_CONNECTOR_WORDS)\n",
    "#df[\"Description_processed\"] = [\" \".join(phrase_model[sentence]) for sentence in df[\"Description_processed\"]]\n",
    "df[\"Description_processed\"] = [phrase_model[sentence] for sentence in df[\"Description_processed\"]]\n",
    "\n",
    "### Stemming & Lemmatization\n",
    "df[\"Description_processed\"] = [\" \".join([SnowballStemmer(\"english\").stem(WordNetLemmatizer().lemmatize(word)) for word in text]) for text in df[\"Description_processed\"]]\n",
    "\n"
   ]
  },
  {
   "cell_type": "code",
   "execution_count": 182,
   "metadata": {
    "ExecuteTime": {
     "end_time": "2021-10-18T06:12:56.931145Z",
     "start_time": "2021-10-18T06:12:56.929186Z"
    }
   },
   "outputs": [],
   "source": [
    "#[\" \".join([SnowballStemmer(\"english\").stem(WordNetLemmatizer().lemmatize(word)) for word in text]) for text in df[\"Description_processed\"]]\n"
   ]
  },
  {
   "cell_type": "markdown",
   "metadata": {},
   "source": [
    "### Experiment #1: TF-IDF and Cosine Similarity"
   ]
  },
  {
   "cell_type": "code",
   "execution_count": 183,
   "metadata": {
    "ExecuteTime": {
     "end_time": "2021-10-18T06:14:06.394224Z",
     "start_time": "2021-10-18T06:13:34.479387Z"
    }
   },
   "outputs": [
    {
     "data": {
      "text/plain": [
       "array([[1.00000000e+00, 0.00000000e+00, 0.00000000e+00, ...,\n",
       "        0.00000000e+00, 0.00000000e+00, 0.00000000e+00],\n",
       "       [0.00000000e+00, 1.00000000e+00, 3.38774632e-04, ...,\n",
       "        1.22521232e-03, 0.00000000e+00, 0.00000000e+00],\n",
       "       [0.00000000e+00, 3.38774632e-04, 1.00000000e+00, ...,\n",
       "        1.33667231e-03, 0.00000000e+00, 0.00000000e+00],\n",
       "       ...,\n",
       "       [0.00000000e+00, 1.22521232e-03, 1.33667231e-03, ...,\n",
       "        1.00000000e+00, 6.49583062e-04, 0.00000000e+00],\n",
       "       [0.00000000e+00, 0.00000000e+00, 0.00000000e+00, ...,\n",
       "        6.49583062e-04, 1.00000000e+00, 0.00000000e+00],\n",
       "       [0.00000000e+00, 0.00000000e+00, 0.00000000e+00, ...,\n",
       "        0.00000000e+00, 0.00000000e+00, 1.00000000e+00]])"
      ]
     },
     "execution_count": 183,
     "metadata": {},
     "output_type": "execute_result"
    }
   ],
   "source": [
    "tf = TfidfVectorizer(analyzer=\"word\", ngram_range=(1,3), min_df=0, stop_words='english')\n",
    "tfidf_matrix = tf.fit_transform(df[\"Description_processed\"])\n",
    "cos_sim = cosine_similarity(tfidf_matrix, tfidf_matrix)\n",
    "cos_sim"
   ]
  },
  {
   "cell_type": "code",
   "execution_count": 184,
   "metadata": {
    "ExecuteTime": {
     "end_time": "2021-10-18T06:20:51.214435Z",
     "start_time": "2021-10-18T06:20:51.205357Z"
    }
   },
   "outputs": [
    {
     "data": {
      "text/plain": [
       "0                                      The Strange Maid\n",
       "2     A Thousand Naked Strangers: A Paramedic's Wild...\n",
       "3                                           Hester Roon\n",
       "4                        The Trouble with Playing Cupid\n",
       "5                                         Suicide Watch\n",
       "6                                       I´ll Walk Alone\n",
       "7                                   A Pair of Red Clogs\n",
       "8     More Women of Wonder: Science Fiction Novelett...\n",
       "9     Father Arseny, 1893-1973: Priest, Prisoner, Sp...\n",
       "10                                   The Last Sanctuary\n",
       "Name: Title, dtype: object"
      ]
     },
     "execution_count": 184,
     "metadata": {},
     "output_type": "execute_result"
    }
   ],
   "source": [
    "all_books = pd.Series(df[\"Title\"])\n",
    "all_books[:10]"
   ]
  },
  {
   "cell_type": "code",
   "execution_count": 185,
   "metadata": {
    "ExecuteTime": {
     "end_time": "2021-10-18T06:20:52.665461Z",
     "start_time": "2021-10-18T06:20:52.661044Z"
    }
   },
   "outputs": [
    {
     "data": {
      "text/plain": [
       "'Charlie and the Great Glass Elevator'"
      ]
     },
     "execution_count": 185,
     "metadata": {},
     "output_type": "execute_result"
    }
   ],
   "source": [
    "all_books.iloc[600]"
   ]
  },
  {
   "cell_type": "code",
   "execution_count": 186,
   "metadata": {
    "ExecuteTime": {
     "end_time": "2021-10-18T06:20:54.925686Z",
     "start_time": "2021-10-18T06:20:54.918070Z"
    }
   },
   "outputs": [],
   "source": [
    "def get_recommendations(book, cos_sim=cos_sim):\n",
    "    idx = all_books[all_books == book].index[0] #index of the book at question\n",
    "    scores = pd.Series(cos_sim[idx]).sort_values(ascending=False)\n",
    "    #The highest is going to be the book itself, so we exclude it\n",
    "    top_10_idx = scores.iloc[1:11].index\n",
    "    return scores[1:11], all_books.loc[top_10_idx]"
   ]
  },
  {
   "cell_type": "code",
   "execution_count": 187,
   "metadata": {
    "ExecuteTime": {
     "end_time": "2021-10-18T06:21:27.039534Z",
     "start_time": "2021-10-18T06:21:27.037321Z"
    }
   },
   "outputs": [],
   "source": [
    "# df[df[\"Title\"].]"
   ]
  },
  {
   "cell_type": "code",
   "execution_count": 188,
   "metadata": {
    "ExecuteTime": {
     "end_time": "2021-10-18T06:21:29.282884Z",
     "start_time": "2021-10-18T06:21:29.215963Z"
    },
    "scrolled": true
   },
   "outputs": [
    {
     "data": {
      "text/html": [
       "<div>\n",
       "<style scoped>\n",
       "    .dataframe tbody tr th:only-of-type {\n",
       "        vertical-align: middle;\n",
       "    }\n",
       "\n",
       "    .dataframe tbody tr th {\n",
       "        vertical-align: top;\n",
       "    }\n",
       "\n",
       "    .dataframe thead th {\n",
       "        text-align: right;\n",
       "    }\n",
       "</style>\n",
       "<table border=\"1\" class=\"dataframe\">\n",
       "  <thead>\n",
       "    <tr style=\"text-align: right;\">\n",
       "      <th></th>\n",
       "      <th>Title</th>\n",
       "      <th>Author</th>\n",
       "      <th>Description</th>\n",
       "      <th>Publisher</th>\n",
       "      <th>Year Published</th>\n",
       "      <th>Genres</th>\n",
       "      <th>Page Count</th>\n",
       "      <th>Civil War History</th>\n",
       "      <th>International Dev...</th>\n",
       "      <th>Anime</th>\n",
       "      <th>...</th>\n",
       "      <th>Crafts</th>\n",
       "      <th>Anglo Saxon</th>\n",
       "      <th>Werewolves</th>\n",
       "      <th>Military</th>\n",
       "      <th>40k</th>\n",
       "      <th>Gardening</th>\n",
       "      <th>Superman</th>\n",
       "      <th>Discipleship</th>\n",
       "      <th>Skepticism</th>\n",
       "      <th>Description_processed</th>\n",
       "    </tr>\n",
       "  </thead>\n",
       "  <tbody>\n",
       "    <tr>\n",
       "      <td>3540</td>\n",
       "      <td>Harry Potter and the Methods of Rationality</td>\n",
       "      <td>[Eliezer Yudkowsky]</td>\n",
       "      <td>Harry Potter and the Methods of Rationality is...</td>\n",
       "      <td>hpmor.com &amp; fanfiction.net</td>\n",
       "      <td>2015.0</td>\n",
       "      <td>[Fantasy, Fiction, Fan Fiction, Philosophy, Sc...</td>\n",
       "      <td>2184.0</td>\n",
       "      <td>0</td>\n",
       "      <td>0</td>\n",
       "      <td>0</td>\n",
       "      <td>...</td>\n",
       "      <td>0</td>\n",
       "      <td>0</td>\n",
       "      <td>0</td>\n",
       "      <td>0</td>\n",
       "      <td>0</td>\n",
       "      <td>0</td>\n",
       "      <td>0</td>\n",
       "      <td>0</td>\n",
       "      <td>0</td>\n",
       "      <td>harry_pott method ration work alternate_univer...</td>\n",
       "    </tr>\n",
       "    <tr>\n",
       "      <td>4037</td>\n",
       "      <td>Harry Potter and the Deathly Hallows</td>\n",
       "      <td>[J.K. Rowling]</td>\n",
       "      <td>It's no longer safe for Harry at Hogwarts, so ...</td>\n",
       "      <td>Arthur A. Levine Books</td>\n",
       "      <td>2007.0</td>\n",
       "      <td>[Fantasy, Young Adult, Fiction, Fantasy, Magic...</td>\n",
       "      <td>759.0</td>\n",
       "      <td>0</td>\n",
       "      <td>0</td>\n",
       "      <td>0</td>\n",
       "      <td>...</td>\n",
       "      <td>0</td>\n",
       "      <td>0</td>\n",
       "      <td>0</td>\n",
       "      <td>0</td>\n",
       "      <td>0</td>\n",
       "      <td>0</td>\n",
       "      <td>0</td>\n",
       "      <td>0</td>\n",
       "      <td>0</td>\n",
       "      <td>longer_saf harri hogwarts_best friend ron herm...</td>\n",
       "    </tr>\n",
       "    <tr>\n",
       "      <td>12620</td>\n",
       "      <td>Harry Potter and the Sorcerer's Stone</td>\n",
       "      <td>[J.K. Rowling]</td>\n",
       "      <td>Harry Potter's life is miserable. His parents ...</td>\n",
       "      <td>Scholastic Inc</td>\n",
       "      <td>1997.0</td>\n",
       "      <td>[Fantasy, Fiction, Young Adult, Fantasy, Magic...</td>\n",
       "      <td>309.0</td>\n",
       "      <td>0</td>\n",
       "      <td>0</td>\n",
       "      <td>0</td>\n",
       "      <td>...</td>\n",
       "      <td>0</td>\n",
       "      <td>0</td>\n",
       "      <td>0</td>\n",
       "      <td>0</td>\n",
       "      <td>0</td>\n",
       "      <td>0</td>\n",
       "      <td>0</td>\n",
       "      <td>0</td>\n",
       "      <td>0</td>\n",
       "      <td>harry_pott life_miser parents_dead stuck heart...</td>\n",
       "    </tr>\n",
       "    <tr>\n",
       "      <td>21001</td>\n",
       "      <td>Harry Potter: A History of Magic</td>\n",
       "      <td>[British Library, J.K. Rowling, Julian Harriso...</td>\n",
       "      <td>Harry Potter: A History of Magic is the offici...</td>\n",
       "      <td>Bloomsbury</td>\n",
       "      <td>2017.0</td>\n",
       "      <td>[Fantasy, Fiction, Audiobook, Young Adult, Fan...</td>\n",
       "      <td>256.0</td>\n",
       "      <td>0</td>\n",
       "      <td>0</td>\n",
       "      <td>0</td>\n",
       "      <td>...</td>\n",
       "      <td>0</td>\n",
       "      <td>0</td>\n",
       "      <td>0</td>\n",
       "      <td>0</td>\n",
       "      <td>0</td>\n",
       "      <td>0</td>\n",
       "      <td>0</td>\n",
       "      <td>0</td>\n",
       "      <td>0</td>\n",
       "      <td>harry_pott history_mag official_book exhibit l...</td>\n",
       "    </tr>\n",
       "    <tr>\n",
       "      <td>22468</td>\n",
       "      <td>Harry, a History: The True Story of a Boy Wiza...</td>\n",
       "      <td>[Melissa Anelli, J.K. Rowling]</td>\n",
       "      <td>THE HARRY POTTER BOOKS WERE JUST THE BEGINNING...</td>\n",
       "      <td>Gallery Books</td>\n",
       "      <td>2008.0</td>\n",
       "      <td>[Nonfiction, Autobiography, Memoir, Biography,...</td>\n",
       "      <td>356.0</td>\n",
       "      <td>0</td>\n",
       "      <td>0</td>\n",
       "      <td>0</td>\n",
       "      <td>...</td>\n",
       "      <td>0</td>\n",
       "      <td>0</td>\n",
       "      <td>0</td>\n",
       "      <td>0</td>\n",
       "      <td>0</td>\n",
       "      <td>0</td>\n",
       "      <td>0</td>\n",
       "      <td>0</td>\n",
       "      <td>0</td>\n",
       "      <td>harry_pott book begin stori brief span_on deca...</td>\n",
       "    </tr>\n",
       "  </tbody>\n",
       "</table>\n",
       "<p>5 rows × 978 columns</p>\n",
       "</div>"
      ],
      "text/plain": [
       "                                                   Title  \\\n",
       "3540         Harry Potter and the Methods of Rationality   \n",
       "4037                Harry Potter and the Deathly Hallows   \n",
       "12620              Harry Potter and the Sorcerer's Stone   \n",
       "21001                   Harry Potter: A History of Magic   \n",
       "22468  Harry, a History: The True Story of a Boy Wiza...   \n",
       "\n",
       "                                                  Author  \\\n",
       "3540                                 [Eliezer Yudkowsky]   \n",
       "4037                                      [J.K. Rowling]   \n",
       "12620                                     [J.K. Rowling]   \n",
       "21001  [British Library, J.K. Rowling, Julian Harriso...   \n",
       "22468                     [Melissa Anelli, J.K. Rowling]   \n",
       "\n",
       "                                             Description  \\\n",
       "3540   Harry Potter and the Methods of Rationality is...   \n",
       "4037   It's no longer safe for Harry at Hogwarts, so ...   \n",
       "12620  Harry Potter's life is miserable. His parents ...   \n",
       "21001  Harry Potter: A History of Magic is the offici...   \n",
       "22468  THE HARRY POTTER BOOKS WERE JUST THE BEGINNING...   \n",
       "\n",
       "                        Publisher  Year Published  \\\n",
       "3540   hpmor.com & fanfiction.net          2015.0   \n",
       "4037       Arthur A. Levine Books          2007.0   \n",
       "12620              Scholastic Inc          1997.0   \n",
       "21001                  Bloomsbury          2017.0   \n",
       "22468               Gallery Books          2008.0   \n",
       "\n",
       "                                                  Genres  Page Count  \\\n",
       "3540   [Fantasy, Fiction, Fan Fiction, Philosophy, Sc...      2184.0   \n",
       "4037   [Fantasy, Young Adult, Fiction, Fantasy, Magic...       759.0   \n",
       "12620  [Fantasy, Fiction, Young Adult, Fantasy, Magic...       309.0   \n",
       "21001  [Fantasy, Fiction, Audiobook, Young Adult, Fan...       256.0   \n",
       "22468  [Nonfiction, Autobiography, Memoir, Biography,...       356.0   \n",
       "\n",
       "       Civil War History  International Dev...  Anime  ...  Crafts  \\\n",
       "3540                   0                     0      0  ...       0   \n",
       "4037                   0                     0      0  ...       0   \n",
       "12620                  0                     0      0  ...       0   \n",
       "21001                  0                     0      0  ...       0   \n",
       "22468                  0                     0      0  ...       0   \n",
       "\n",
       "       Anglo Saxon  Werewolves  Military  40k  Gardening  Superman  \\\n",
       "3540             0           0         0    0          0         0   \n",
       "4037             0           0         0    0          0         0   \n",
       "12620            0           0         0    0          0         0   \n",
       "21001            0           0         0    0          0         0   \n",
       "22468            0           0         0    0          0         0   \n",
       "\n",
       "       Discipleship  Skepticism  \\\n",
       "3540              0           0   \n",
       "4037              0           0   \n",
       "12620             0           0   \n",
       "21001             0           0   \n",
       "22468             0           0   \n",
       "\n",
       "                                   Description_processed  \n",
       "3540   harry_pott method ration work alternate_univer...  \n",
       "4037   longer_saf harri hogwarts_best friend ron herm...  \n",
       "12620  harry_pott life_miser parents_dead stuck heart...  \n",
       "21001  harry_pott history_mag official_book exhibit l...  \n",
       "22468  harry_pott book begin stori brief span_on deca...  \n",
       "\n",
       "[5 rows x 978 columns]"
      ]
     },
     "execution_count": 188,
     "metadata": {},
     "output_type": "execute_result"
    }
   ],
   "source": [
    "df[df[\"Title\"].str.contains(\"Harry Potter\")]"
   ]
  },
  {
   "cell_type": "code",
   "execution_count": 192,
   "metadata": {
    "ExecuteTime": {
     "end_time": "2021-10-18T06:22:34.705520Z",
     "start_time": "2021-10-18T06:22:34.697835Z"
    }
   },
   "outputs": [],
   "source": [
    "scores, recommendations = get_recommendations('Harry Potter and the Deathly Hallows')"
   ]
  },
  {
   "cell_type": "code",
   "execution_count": 193,
   "metadata": {
    "ExecuteTime": {
     "end_time": "2021-10-18T06:22:35.301619Z",
     "start_time": "2021-10-18T06:22:35.297493Z"
    }
   },
   "outputs": [
    {
     "data": {
      "text/plain": [
       "23806                              Stories Of The Prophets\n",
       "20101                                       The Iron Lance\n",
       "22243                                          Mr. Psychic\n",
       "6703     The Man Who Ate His Boots: The Tragic History ...\n",
       "6283                          The Loneliest Vampire in NYC\n",
       "22139                                              Forever\n",
       "24850                                           Futureland\n",
       "22715                                  'Til the World Ends\n",
       "19822    Zero to One: Notes on Startups, or How to Buil...\n",
       "7055                                             Possessed\n",
       "Name: Title, dtype: object"
      ]
     },
     "execution_count": 193,
     "metadata": {},
     "output_type": "execute_result"
    }
   ],
   "source": [
    "recommendations"
   ]
  },
  {
   "cell_type": "code",
   "execution_count": 194,
   "metadata": {
    "ExecuteTime": {
     "end_time": "2021-10-18T06:22:45.885857Z",
     "start_time": "2021-10-18T06:22:45.881397Z"
    }
   },
   "outputs": [
    {
     "data": {
      "text/plain": [
       "23806    0.020658\n",
       "20101    0.016718\n",
       "22243    0.016594\n",
       "6703     0.016182\n",
       "6283     0.013223\n",
       "22139    0.012986\n",
       "24850    0.012597\n",
       "22715    0.012443\n",
       "19822    0.012252\n",
       "7055     0.012045\n",
       "dtype: float64"
      ]
     },
     "execution_count": 194,
     "metadata": {},
     "output_type": "execute_result"
    }
   ],
   "source": [
    "scores"
   ]
  },
  {
   "cell_type": "markdown",
   "metadata": {},
   "source": [
    "### Experiment #2: TF-IDF and Clustering"
   ]
  },
  {
   "cell_type": "markdown",
   "metadata": {
    "ExecuteTime": {
     "end_time": "2021-10-17T12:47:07.070291Z",
     "start_time": "2021-10-17T12:37:17.287631Z"
    }
   },
   "source": [
    "##### Reducing dimensions so that it is plottable"
   ]
  },
  {
   "cell_type": "code",
   "execution_count": 161,
   "metadata": {
    "ExecuteTime": {
     "end_time": "2021-10-17T13:03:44.835807Z",
     "start_time": "2021-10-17T13:03:29.054115Z"
    }
   },
   "outputs": [],
   "source": [
    "### Initially tried PCA. However, it does not work for sparse inputs.\n",
    "#pca = PCA(2)\n",
    "#df = pca.fit_transform(tfidf_matrix)\n",
    "#svd = TruncatedSVD(n_components=3, n_iter=7, random_state=42)\n",
    "#svd_data = svd.fit_transform(tfidf_matrix)"
   ]
  },
  {
   "cell_type": "code",
   "execution_count": 195,
   "metadata": {
    "ExecuteTime": {
     "end_time": "2021-10-18T06:22:56.076973Z",
     "start_time": "2021-10-18T06:22:56.073191Z"
    }
   },
   "outputs": [],
   "source": [
    "svd_data = tfidf_matrix"
   ]
  },
  {
   "cell_type": "code",
   "execution_count": 196,
   "metadata": {
    "ExecuteTime": {
     "end_time": "2021-10-18T06:26:10.933841Z",
     "start_time": "2021-10-18T06:22:56.897508Z"
    }
   },
   "outputs": [],
   "source": [
    "kmeans = KMeans(n_clusters= 10)\n",
    "label = kmeans.fit_predict(svd_data)"
   ]
  },
  {
   "cell_type": "code",
   "execution_count": 197,
   "metadata": {
    "ExecuteTime": {
     "end_time": "2021-10-18T06:26:10.941483Z",
     "start_time": "2021-10-18T06:26:10.936348Z"
    }
   },
   "outputs": [
    {
     "data": {
      "text/plain": [
       "array([4, 9, 2, ..., 9, 6, 0], dtype=int32)"
      ]
     },
     "execution_count": 197,
     "metadata": {},
     "output_type": "execute_result"
    }
   ],
   "source": [
    "label"
   ]
  },
  {
   "cell_type": "code",
   "execution_count": 169,
   "metadata": {
    "ExecuteTime": {
     "end_time": "2021-10-17T13:08:32.900766Z",
     "start_time": "2021-10-17T13:08:32.682991Z"
    }
   },
   "outputs": [
    {
     "ename": "ValueError",
     "evalue": "setting an array element with a sequence.",
     "output_type": "error",
     "traceback": [
      "\u001b[0;31m---------------------------------------------------------------------------\u001b[0m",
      "\u001b[0;31mValueError\u001b[0m                                Traceback (most recent call last)",
      "\u001b[0;32m<ipython-input-169-39179e1d2404>\u001b[0m in \u001b[0;36m<module>\u001b[0;34m\u001b[0m\n\u001b[1;32m      6\u001b[0m \u001b[0;34m\u001b[0m\u001b[0m\n\u001b[1;32m      7\u001b[0m \u001b[0;32mfor\u001b[0m \u001b[0mi\u001b[0m \u001b[0;32min\u001b[0m \u001b[0mu_labels\u001b[0m\u001b[0;34m:\u001b[0m\u001b[0;34m\u001b[0m\u001b[0;34m\u001b[0m\u001b[0m\n\u001b[0;32m----> 8\u001b[0;31m     \u001b[0mplt\u001b[0m\u001b[0;34m.\u001b[0m\u001b[0mscatter\u001b[0m\u001b[0;34m(\u001b[0m\u001b[0msvd_data\u001b[0m\u001b[0;34m[\u001b[0m\u001b[0mlabel\u001b[0m \u001b[0;34m==\u001b[0m \u001b[0mi\u001b[0m \u001b[0;34m,\u001b[0m \u001b[0;36m0\u001b[0m\u001b[0;34m]\u001b[0m \u001b[0;34m,\u001b[0m \u001b[0msvd_data\u001b[0m\u001b[0;34m[\u001b[0m\u001b[0mlabel\u001b[0m \u001b[0;34m==\u001b[0m \u001b[0mi\u001b[0m \u001b[0;34m,\u001b[0m \u001b[0;36m1\u001b[0m\u001b[0;34m]\u001b[0m \u001b[0;34m,\u001b[0m \u001b[0mlabel\u001b[0m \u001b[0;34m=\u001b[0m \u001b[0mi\u001b[0m\u001b[0;34m)\u001b[0m\u001b[0;34m\u001b[0m\u001b[0;34m\u001b[0m\u001b[0m\n\u001b[0m\u001b[1;32m      9\u001b[0m \u001b[0mplt\u001b[0m\u001b[0;34m.\u001b[0m\u001b[0mlegend\u001b[0m\u001b[0;34m(\u001b[0m\u001b[0;34m)\u001b[0m\u001b[0;34m\u001b[0m\u001b[0;34m\u001b[0m\u001b[0m\n\u001b[1;32m     10\u001b[0m \u001b[0mplt\u001b[0m\u001b[0;34m.\u001b[0m\u001b[0mshow\u001b[0m\u001b[0;34m(\u001b[0m\u001b[0;34m)\u001b[0m\u001b[0;34m\u001b[0m\u001b[0;34m\u001b[0m\u001b[0m\n",
      "\u001b[0;32m/opt/anaconda3/lib/python3.7/site-packages/matplotlib/pyplot.py\u001b[0m in \u001b[0;36mscatter\u001b[0;34m(x, y, s, c, marker, cmap, norm, vmin, vmax, alpha, linewidths, verts, edgecolors, plotnonfinite, data, **kwargs)\u001b[0m\n\u001b[1;32m   2845\u001b[0m         \u001b[0mverts\u001b[0m\u001b[0;34m=\u001b[0m\u001b[0mverts\u001b[0m\u001b[0;34m,\u001b[0m \u001b[0medgecolors\u001b[0m\u001b[0;34m=\u001b[0m\u001b[0medgecolors\u001b[0m\u001b[0;34m,\u001b[0m\u001b[0;34m\u001b[0m\u001b[0;34m\u001b[0m\u001b[0m\n\u001b[1;32m   2846\u001b[0m         plotnonfinite=plotnonfinite, **({\"data\": data} if data is not\n\u001b[0;32m-> 2847\u001b[0;31m         None else {}), **kwargs)\n\u001b[0m\u001b[1;32m   2848\u001b[0m     \u001b[0msci\u001b[0m\u001b[0;34m(\u001b[0m\u001b[0m__ret\u001b[0m\u001b[0;34m)\u001b[0m\u001b[0;34m\u001b[0m\u001b[0;34m\u001b[0m\u001b[0m\n\u001b[1;32m   2849\u001b[0m     \u001b[0;32mreturn\u001b[0m \u001b[0m__ret\u001b[0m\u001b[0;34m\u001b[0m\u001b[0;34m\u001b[0m\u001b[0m\n",
      "\u001b[0;32m/opt/anaconda3/lib/python3.7/site-packages/matplotlib/__init__.py\u001b[0m in \u001b[0;36minner\u001b[0;34m(ax, data, *args, **kwargs)\u001b[0m\n\u001b[1;32m   1599\u001b[0m     \u001b[0;32mdef\u001b[0m \u001b[0minner\u001b[0m\u001b[0;34m(\u001b[0m\u001b[0max\u001b[0m\u001b[0;34m,\u001b[0m \u001b[0;34m*\u001b[0m\u001b[0margs\u001b[0m\u001b[0;34m,\u001b[0m \u001b[0mdata\u001b[0m\u001b[0;34m=\u001b[0m\u001b[0;32mNone\u001b[0m\u001b[0;34m,\u001b[0m \u001b[0;34m**\u001b[0m\u001b[0mkwargs\u001b[0m\u001b[0;34m)\u001b[0m\u001b[0;34m:\u001b[0m\u001b[0;34m\u001b[0m\u001b[0;34m\u001b[0m\u001b[0m\n\u001b[1;32m   1600\u001b[0m         \u001b[0;32mif\u001b[0m \u001b[0mdata\u001b[0m \u001b[0;32mis\u001b[0m \u001b[0;32mNone\u001b[0m\u001b[0;34m:\u001b[0m\u001b[0;34m\u001b[0m\u001b[0;34m\u001b[0m\u001b[0m\n\u001b[0;32m-> 1601\u001b[0;31m             \u001b[0;32mreturn\u001b[0m \u001b[0mfunc\u001b[0m\u001b[0;34m(\u001b[0m\u001b[0max\u001b[0m\u001b[0;34m,\u001b[0m \u001b[0;34m*\u001b[0m\u001b[0mmap\u001b[0m\u001b[0;34m(\u001b[0m\u001b[0msanitize_sequence\u001b[0m\u001b[0;34m,\u001b[0m \u001b[0margs\u001b[0m\u001b[0;34m)\u001b[0m\u001b[0;34m,\u001b[0m \u001b[0;34m**\u001b[0m\u001b[0mkwargs\u001b[0m\u001b[0;34m)\u001b[0m\u001b[0;34m\u001b[0m\u001b[0;34m\u001b[0m\u001b[0m\n\u001b[0m\u001b[1;32m   1602\u001b[0m \u001b[0;34m\u001b[0m\u001b[0m\n\u001b[1;32m   1603\u001b[0m         \u001b[0mbound\u001b[0m \u001b[0;34m=\u001b[0m \u001b[0mnew_sig\u001b[0m\u001b[0;34m.\u001b[0m\u001b[0mbind\u001b[0m\u001b[0;34m(\u001b[0m\u001b[0max\u001b[0m\u001b[0;34m,\u001b[0m \u001b[0;34m*\u001b[0m\u001b[0margs\u001b[0m\u001b[0;34m,\u001b[0m \u001b[0;34m**\u001b[0m\u001b[0mkwargs\u001b[0m\u001b[0;34m)\u001b[0m\u001b[0;34m\u001b[0m\u001b[0;34m\u001b[0m\u001b[0m\n",
      "\u001b[0;32m/opt/anaconda3/lib/python3.7/site-packages/matplotlib/axes/_axes.py\u001b[0m in \u001b[0;36mscatter\u001b[0;34m(self, x, y, s, c, marker, cmap, norm, vmin, vmax, alpha, linewidths, verts, edgecolors, plotnonfinite, **kwargs)\u001b[0m\n\u001b[1;32m   4496\u001b[0m                 \u001b[0moffsets\u001b[0m\u001b[0;34m=\u001b[0m\u001b[0moffsets\u001b[0m\u001b[0;34m,\u001b[0m\u001b[0;34m\u001b[0m\u001b[0;34m\u001b[0m\u001b[0m\n\u001b[1;32m   4497\u001b[0m                 \u001b[0mtransOffset\u001b[0m\u001b[0;34m=\u001b[0m\u001b[0mkwargs\u001b[0m\u001b[0;34m.\u001b[0m\u001b[0mpop\u001b[0m\u001b[0;34m(\u001b[0m\u001b[0;34m'transform'\u001b[0m\u001b[0;34m,\u001b[0m \u001b[0mself\u001b[0m\u001b[0;34m.\u001b[0m\u001b[0mtransData\u001b[0m\u001b[0;34m)\u001b[0m\u001b[0;34m,\u001b[0m\u001b[0;34m\u001b[0m\u001b[0;34m\u001b[0m\u001b[0m\n\u001b[0;32m-> 4498\u001b[0;31m                 \u001b[0malpha\u001b[0m\u001b[0;34m=\u001b[0m\u001b[0malpha\u001b[0m\u001b[0;34m\u001b[0m\u001b[0;34m\u001b[0m\u001b[0m\n\u001b[0m\u001b[1;32m   4499\u001b[0m                 )\n\u001b[1;32m   4500\u001b[0m         \u001b[0mcollection\u001b[0m\u001b[0;34m.\u001b[0m\u001b[0mset_transform\u001b[0m\u001b[0;34m(\u001b[0m\u001b[0mmtransforms\u001b[0m\u001b[0;34m.\u001b[0m\u001b[0mIdentityTransform\u001b[0m\u001b[0;34m(\u001b[0m\u001b[0;34m)\u001b[0m\u001b[0;34m)\u001b[0m\u001b[0;34m\u001b[0m\u001b[0;34m\u001b[0m\u001b[0m\n",
      "\u001b[0;32m/opt/anaconda3/lib/python3.7/site-packages/matplotlib/collections.py\u001b[0m in \u001b[0;36m__init__\u001b[0;34m(self, paths, sizes, **kwargs)\u001b[0m\n\u001b[1;32m    881\u001b[0m         \"\"\"\n\u001b[1;32m    882\u001b[0m \u001b[0;34m\u001b[0m\u001b[0m\n\u001b[0;32m--> 883\u001b[0;31m         \u001b[0mCollection\u001b[0m\u001b[0;34m.\u001b[0m\u001b[0m__init__\u001b[0m\u001b[0;34m(\u001b[0m\u001b[0mself\u001b[0m\u001b[0;34m,\u001b[0m \u001b[0;34m**\u001b[0m\u001b[0mkwargs\u001b[0m\u001b[0;34m)\u001b[0m\u001b[0;34m\u001b[0m\u001b[0;34m\u001b[0m\u001b[0m\n\u001b[0m\u001b[1;32m    884\u001b[0m         \u001b[0mself\u001b[0m\u001b[0;34m.\u001b[0m\u001b[0mset_paths\u001b[0m\u001b[0;34m(\u001b[0m\u001b[0mpaths\u001b[0m\u001b[0;34m)\u001b[0m\u001b[0;34m\u001b[0m\u001b[0;34m\u001b[0m\u001b[0m\n\u001b[1;32m    885\u001b[0m         \u001b[0mself\u001b[0m\u001b[0;34m.\u001b[0m\u001b[0mset_sizes\u001b[0m\u001b[0;34m(\u001b[0m\u001b[0msizes\u001b[0m\u001b[0;34m)\u001b[0m\u001b[0;34m\u001b[0m\u001b[0;34m\u001b[0m\u001b[0m\n",
      "\u001b[0;32m/opt/anaconda3/lib/python3.7/site-packages/matplotlib/collections.py\u001b[0m in \u001b[0;36m__init__\u001b[0;34m(self, edgecolors, facecolors, linewidths, linestyles, capstyle, joinstyle, antialiaseds, offsets, transOffset, norm, cmap, pickradius, hatch, urls, offset_position, zorder, **kwargs)\u001b[0m\n\u001b[1;32m    149\u001b[0m         \u001b[0mself\u001b[0m\u001b[0;34m.\u001b[0m\u001b[0m_uniform_offsets\u001b[0m \u001b[0;34m=\u001b[0m \u001b[0;32mNone\u001b[0m\u001b[0;34m\u001b[0m\u001b[0;34m\u001b[0m\u001b[0m\n\u001b[1;32m    150\u001b[0m         \u001b[0;32mif\u001b[0m \u001b[0moffsets\u001b[0m \u001b[0;32mis\u001b[0m \u001b[0;32mnot\u001b[0m \u001b[0;32mNone\u001b[0m\u001b[0;34m:\u001b[0m\u001b[0;34m\u001b[0m\u001b[0;34m\u001b[0m\u001b[0m\n\u001b[0;32m--> 151\u001b[0;31m             \u001b[0moffsets\u001b[0m \u001b[0;34m=\u001b[0m \u001b[0mnp\u001b[0m\u001b[0;34m.\u001b[0m\u001b[0masanyarray\u001b[0m\u001b[0;34m(\u001b[0m\u001b[0moffsets\u001b[0m\u001b[0;34m,\u001b[0m \u001b[0mfloat\u001b[0m\u001b[0;34m)\u001b[0m\u001b[0;34m\u001b[0m\u001b[0;34m\u001b[0m\u001b[0m\n\u001b[0m\u001b[1;32m    152\u001b[0m             \u001b[0;31m# Broadcast (2,) -> (1, 2) but nothing else.\u001b[0m\u001b[0;34m\u001b[0m\u001b[0;34m\u001b[0m\u001b[0;34m\u001b[0m\u001b[0m\n\u001b[1;32m    153\u001b[0m             \u001b[0;32mif\u001b[0m \u001b[0moffsets\u001b[0m\u001b[0;34m.\u001b[0m\u001b[0mshape\u001b[0m \u001b[0;34m==\u001b[0m \u001b[0;34m(\u001b[0m\u001b[0;36m2\u001b[0m\u001b[0;34m,\u001b[0m\u001b[0;34m)\u001b[0m\u001b[0;34m:\u001b[0m\u001b[0;34m\u001b[0m\u001b[0;34m\u001b[0m\u001b[0m\n",
      "\u001b[0;32m/opt/anaconda3/lib/python3.7/site-packages/numpy/core/_asarray.py\u001b[0m in \u001b[0;36masanyarray\u001b[0;34m(a, dtype, order)\u001b[0m\n\u001b[1;32m    136\u001b[0m \u001b[0;34m\u001b[0m\u001b[0m\n\u001b[1;32m    137\u001b[0m     \"\"\"\n\u001b[0;32m--> 138\u001b[0;31m     \u001b[0;32mreturn\u001b[0m \u001b[0marray\u001b[0m\u001b[0;34m(\u001b[0m\u001b[0ma\u001b[0m\u001b[0;34m,\u001b[0m \u001b[0mdtype\u001b[0m\u001b[0;34m,\u001b[0m \u001b[0mcopy\u001b[0m\u001b[0;34m=\u001b[0m\u001b[0;32mFalse\u001b[0m\u001b[0;34m,\u001b[0m \u001b[0morder\u001b[0m\u001b[0;34m=\u001b[0m\u001b[0morder\u001b[0m\u001b[0;34m,\u001b[0m \u001b[0msubok\u001b[0m\u001b[0;34m=\u001b[0m\u001b[0;32mTrue\u001b[0m\u001b[0;34m)\u001b[0m\u001b[0;34m\u001b[0m\u001b[0;34m\u001b[0m\u001b[0m\n\u001b[0m\u001b[1;32m    139\u001b[0m \u001b[0;34m\u001b[0m\u001b[0m\n\u001b[1;32m    140\u001b[0m \u001b[0;34m\u001b[0m\u001b[0m\n",
      "\u001b[0;31mValueError\u001b[0m: setting an array element with a sequence."
     ]
    },
    {
     "data": {
      "image/png": "[encoded data removed]",
      "text/plain": [
       "<Figure size 432x288 with 1 Axes>"
      ]
     },
     "metadata": {
      "needs_background": "light"
     },
     "output_type": "display_data"
    }
   ],
   "source": [
    "#Getting unique labels\n",
    " \n",
    "u_labels = np.unique(label)\n",
    " \n",
    "#plotting the results:\n",
    " \n",
    "for i in u_labels:\n",
    "    plt.scatter(svd_data[label == i , 0] , svd_data[label == i , 1] , label = i)\n",
    "plt.legend()\n",
    "plt.show()"
   ]
  },
  {
   "cell_type": "markdown",
   "metadata": {},
   "source": [
    "### Experiment #3: Sentence Transofmrers/BERT"
   ]
  },
  {
   "cell_type": "code",
   "execution_count": null,
   "metadata": {
    "ExecuteTime": {
     "end_time": "2021-10-18T06:30:16.864645Z",
     "start_time": "2021-10-18T06:30:13.381231Z"
    }
   },
   "outputs": [],
   "source": []
  },
  {
   "cell_type": "code",
   "execution_count": null,
   "metadata": {},
   "outputs": [],
   "source": []
  },
  {
   "cell_type": "code",
   "execution_count": null,
   "metadata": {},
   "outputs": [],
   "source": []
  },
  {
   "cell_type": "markdown",
   "metadata": {},
   "source": [
    "### Experiment #4: Restricted Boltzmann Machine"
   ]
  },
  {
   "cell_type": "code",
   "execution_count": null,
   "metadata": {},
   "outputs": [],
   "source": []
  },
  {
   "cell_type": "code",
   "execution_count": null,
   "metadata": {},
   "outputs": [],
   "source": []
  },
  {
   "cell_type": "code",
   "execution_count": null,
   "metadata": {},
   "outputs": [],
   "source": []
  }
 ],
 "metadata": {
  "kernelspec": {
   "display_name": "Python 3",
   "language": "python",
   "name": "python3"
  }
 },
 "nbformat": 4,
 "nbformat_minor": 2
}
