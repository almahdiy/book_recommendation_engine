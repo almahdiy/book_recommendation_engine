{
 "cells": [
  {
   "cell_type": "code",
   "execution_count": 7,
   "metadata": {
    "ExecuteTime": {
     "end_time": "2021-10-05T05:31:21.382938Z",
     "start_time": "2021-10-05T05:31:21.270166Z"
    }
   },
   "outputs": [],
   "source": [
    "from bs4 import BeautifulSoup\n",
    "import requests"
   ]
  },
  {
   "cell_type": "code",
   "execution_count": 10,
   "metadata": {
    "ExecuteTime": {
     "end_time": "2021-10-05T05:35:36.458252Z",
     "start_time": "2021-10-05T05:35:32.462931Z"
    }
   },
   "outputs": [],
   "source": [
    "response = requests.get(\"https://www.goodreads.com/book/show/50499471-how-to-argue-with-a-racist\")"
   ]
  },
  {
   "cell_type": "code",
   "execution_count": 17,
   "metadata": {
    "ExecuteTime": {
     "end_time": "2021-10-05T06:21:21.271392Z",
     "start_time": "2021-10-05T06:21:21.182372Z"
    }
   },
   "outputs": [],
   "source": [
    "soup = BeautifulSoup(response.text, \"lxml\")"
   ]
  },
  {
   "cell_type": "code",
   "execution_count": 29,
   "metadata": {
    "ExecuteTime": {
     "end_time": "2021-10-05T06:27:22.656992Z",
     "start_time": "2021-10-05T06:27:22.649544Z"
    }
   },
   "outputs": [],
   "source": [
    "title = soup.find(\"h1\", id=\"bookTitle\").text.strip()\n",
    "### TODO: Handle multiple authors\n",
    "authors = soup.find(\"div\", id=\"bookAuthors\").text.strip()"
   ]
  },
  {
   "cell_type": "code",
   "execution_count": 31,
   "metadata": {
    "ExecuteTime": {
     "end_time": "2021-10-05T06:27:43.574416Z",
     "start_time": "2021-10-05T06:27:43.569915Z"
    }
   },
   "outputs": [
    {
     "data": {
      "text/plain": [
       "['by', '', '', 'Adam Rutherford']"
      ]
     },
     "execution_count": 31,
     "metadata": {},
     "output_type": "execute_result"
    }
   ],
   "source": [
    "authors.split(\"\\n\")"
   ]
  },
  {
   "cell_type": "code",
   "execution_count": null,
   "metadata": {},
   "outputs": [],
   "source": []
  }
 ],
 "metadata": {
  "kernelspec": {
   "display_name": "Python 3",
   "language": "python",
   "name": "python3"
  },
  "language_info": {
   "codemirror_mode": {
    "name": "ipython",
    "version": 3
   },
   "file_extension": ".py",
   "mimetype": "text/x-python",
   "name": "python",
   "nbconvert_exporter": "python",
   "pygments_lexer": "ipython3",
   "version": "3.7.4"
  }
 },
 "nbformat": 4,
 "nbformat_minor": 2
}
