{
 "cells": [
  {
   "cell_type": "code",
   "execution_count": 100,
   "metadata": {
    "ExecuteTime": {
     "end_time": "2021-10-15T14:23:24.061862Z",
     "start_time": "2021-10-15T14:23:24.059040Z"
    }
   },
   "outputs": [],
   "source": [
    "import pandas as pd\n",
    "import numpy as np"
   ]
  },
  {
   "cell_type": "code",
   "execution_count": 101,
   "metadata": {
    "ExecuteTime": {
     "end_time": "2021-10-15T14:23:24.475706Z",
     "start_time": "2021-10-15T14:23:24.064345Z"
    }
   },
   "outputs": [],
   "source": [
    "df1 = pd.read_csv(\"data_10000.csv\")\n",
    "df2 = pd.read_csv(\"data_20000.csv\")\n",
    "df3 = pd.read_csv(\"data_30000.csv\")\n",
    "#df4 = pd.read_csv(\"data_40000.csv\")\n",
    "#df5 = pd.read_csv(\"data_50000.csv\")"
   ]
  },
  {
   "cell_type": "code",
   "execution_count": 102,
   "metadata": {
    "ExecuteTime": {
     "end_time": "2021-10-15T14:23:24.500130Z",
     "start_time": "2021-10-15T14:23:24.478361Z"
    }
   },
   "outputs": [
    {
     "data": {
      "text/html": [
       "<div>\n",
       "<style scoped>\n",
       "    .dataframe tbody tr th:only-of-type {\n",
       "        vertical-align: middle;\n",
       "    }\n",
       "\n",
       "    .dataframe tbody tr th {\n",
       "        vertical-align: top;\n",
       "    }\n",
       "\n",
       "    .dataframe thead th {\n",
       "        text-align: right;\n",
       "    }\n",
       "</style>\n",
       "<table border=\"1\" class=\"dataframe\">\n",
       "  <thead>\n",
       "    <tr style=\"text-align: right;\">\n",
       "      <th></th>\n",
       "      <th>Unnamed: 0</th>\n",
       "      <th>Title</th>\n",
       "      <th>Author</th>\n",
       "      <th>Description</th>\n",
       "      <th>Publisher</th>\n",
       "      <th>Year Published</th>\n",
       "      <th>Genres</th>\n",
       "      <th>Page Count</th>\n",
       "    </tr>\n",
       "  </thead>\n",
       "  <tbody>\n",
       "    <tr>\n",
       "      <td>0</td>\n",
       "      <td>0</td>\n",
       "      <td>The Strange Maid</td>\n",
       "      <td>['Tessa Gratton']</td>\n",
       "      <td>Fans of Neil Gaiman, Holly Black, and Maggie S...</td>\n",
       "      <td>Random House Books for Young Readers</td>\n",
       "      <td>2014.0</td>\n",
       "      <td>['Fantasy', 'Young Adult', 'Fantasy', 'Mytholo...</td>\n",
       "      <td>400.0</td>\n",
       "    </tr>\n",
       "    <tr>\n",
       "      <td>1</td>\n",
       "      <td>1</td>\n",
       "      <td>A Darker Domain</td>\n",
       "      <td>['Val McDermid']</td>\n",
       "      <td>1984, Fife. Heiress Catriona Maclennan Grant &amp;...</td>\n",
       "      <td>HarperCollins Publishers</td>\n",
       "      <td>2008.0</td>\n",
       "      <td>['Mystery', 'Mystery', 'Crime', 'Fiction', 'Cu...</td>\n",
       "      <td>371.0</td>\n",
       "    </tr>\n",
       "    <tr>\n",
       "      <td>2</td>\n",
       "      <td>2</td>\n",
       "      <td>A Thousand Naked Strangers: A Paramedic's Wild...</td>\n",
       "      <td>['Kevin Hazzard']</td>\n",
       "      <td>A former paramedic’s visceral, poignant, and m...</td>\n",
       "      <td>Scribner</td>\n",
       "      <td>2016.0</td>\n",
       "      <td>['Nonfiction', 'Autobiography', 'Memoir', 'Med...</td>\n",
       "      <td>261.0</td>\n",
       "    </tr>\n",
       "    <tr>\n",
       "      <td>3</td>\n",
       "      <td>3</td>\n",
       "      <td>Looking Back with a Smile</td>\n",
       "      <td>['Edward B. Farber']</td>\n",
       "      <td>In Looking Back with a Smile, the author recol...</td>\n",
       "      <td>NaN</td>\n",
       "      <td>2012.0</td>\n",
       "      <td>[]</td>\n",
       "      <td>NaN</td>\n",
       "    </tr>\n",
       "    <tr>\n",
       "      <td>4</td>\n",
       "      <td>4</td>\n",
       "      <td>Bargain Paradise</td>\n",
       "      <td>['Darlene Blasing']</td>\n",
       "      <td>Bargain Paradise is a humorous tale of an obse...</td>\n",
       "      <td>Argon Press</td>\n",
       "      <td>2013.0</td>\n",
       "      <td>[]</td>\n",
       "      <td>49.0</td>\n",
       "    </tr>\n",
       "  </tbody>\n",
       "</table>\n",
       "</div>"
      ],
      "text/plain": [
       "   Unnamed: 0                                              Title  \\\n",
       "0           0                                   The Strange Maid   \n",
       "1           1                                    A Darker Domain   \n",
       "2           2  A Thousand Naked Strangers: A Paramedic's Wild...   \n",
       "3           3                          Looking Back with a Smile   \n",
       "4           4                                   Bargain Paradise   \n",
       "\n",
       "                 Author                                        Description  \\\n",
       "0     ['Tessa Gratton']  Fans of Neil Gaiman, Holly Black, and Maggie S...   \n",
       "1      ['Val McDermid']  1984, Fife. Heiress Catriona Maclennan Grant &...   \n",
       "2     ['Kevin Hazzard']  A former paramedic’s visceral, poignant, and m...   \n",
       "3  ['Edward B. Farber']  In Looking Back with a Smile, the author recol...   \n",
       "4   ['Darlene Blasing']  Bargain Paradise is a humorous tale of an obse...   \n",
       "\n",
       "                              Publisher  Year Published  \\\n",
       "0  Random House Books for Young Readers          2014.0   \n",
       "1              HarperCollins Publishers          2008.0   \n",
       "2                              Scribner          2016.0   \n",
       "3                                   NaN          2012.0   \n",
       "4                           Argon Press          2013.0   \n",
       "\n",
       "                                              Genres  Page Count  \n",
       "0  ['Fantasy', 'Young Adult', 'Fantasy', 'Mytholo...       400.0  \n",
       "1  ['Mystery', 'Mystery', 'Crime', 'Fiction', 'Cu...       371.0  \n",
       "2  ['Nonfiction', 'Autobiography', 'Memoir', 'Med...       261.0  \n",
       "3                                                 []         NaN  \n",
       "4                                                 []        49.0  "
      ]
     },
     "execution_count": 102,
     "metadata": {},
     "output_type": "execute_result"
    }
   ],
   "source": [
    "df = pd.concat([df1, df2, df3], ignore_index=True)\n",
    "df.head()"
   ]
  },
  {
   "cell_type": "code",
   "execution_count": 103,
   "metadata": {
    "ExecuteTime": {
     "end_time": "2021-10-15T14:23:24.506849Z",
     "start_time": "2021-10-15T14:23:24.503123Z"
    }
   },
   "outputs": [
    {
     "data": {
      "text/plain": [
       "(30000, 8)"
      ]
     },
     "execution_count": 103,
     "metadata": {},
     "output_type": "execute_result"
    }
   ],
   "source": [
    "df.shape"
   ]
  },
  {
   "cell_type": "code",
   "execution_count": 104,
   "metadata": {
    "ExecuteTime": {
     "end_time": "2021-10-15T14:23:24.524915Z",
     "start_time": "2021-10-15T14:23:24.508623Z"
    }
   },
   "outputs": [
    {
     "data": {
      "text/plain": [
       "Unnamed: 0                                                        0\n",
       "Title                                              The Strange Maid\n",
       "Author                                            ['Tessa Gratton']\n",
       "Description       Fans of Neil Gaiman, Holly Black, and Maggie S...\n",
       "Publisher                      Random House Books for Young Readers\n",
       "Year Published                                                 2014\n",
       "Genres            ['Fantasy', 'Young Adult', 'Fantasy', 'Mytholo...\n",
       "Page Count                                                      400\n",
       "Name: 0, dtype: object"
      ]
     },
     "execution_count": 104,
     "metadata": {},
     "output_type": "execute_result"
    }
   ],
   "source": [
    "df.loc[0]"
   ]
  },
  {
   "cell_type": "code",
   "execution_count": 105,
   "metadata": {
    "ExecuteTime": {
     "end_time": "2021-10-15T14:23:24.532306Z",
     "start_time": "2021-10-15T14:23:24.526688Z"
    }
   },
   "outputs": [],
   "source": [
    "df.drop(columns=['Unnamed: 0'], inplace=True)"
   ]
  },
  {
   "cell_type": "code",
   "execution_count": 106,
   "metadata": {
    "ExecuteTime": {
     "end_time": "2021-10-15T14:23:24.652566Z",
     "start_time": "2021-10-15T14:23:24.535104Z"
    }
   },
   "outputs": [
    {
     "data": {
      "text/plain": [
       "0        [Fantasy, Young Adult, Fantasy, Mythology, Fic...\n",
       "1        [Mystery, Mystery, Crime, Fiction, Cultural, S...\n",
       "2        [Nonfiction, Autobiography, Memoir, Medical, B...\n",
       "3                                                       []\n",
       "4                                                       []\n",
       "                               ...                        \n",
       "29995    [Mythology, Mermaids, Fantasy, Young Adult, Ro...\n",
       "29996    [Nonfiction, Feminism, Politics, Religion, Rel...\n",
       "29997    [Fiction, Fantasy, Short Stories, Magical Real...\n",
       "29998    [History, Nonfiction, Military, Military Histo...\n",
       "29999                                                   []\n",
       "Name: Genres, Length: 30000, dtype: object"
      ]
     },
     "execution_count": 106,
     "metadata": {},
     "output_type": "execute_result"
    }
   ],
   "source": [
    "df[\"Genres\"].apply(lambda x: [i for i in x[1:-1].replace(\"'\", \"\").split(\", \") if len(i) != 0])"
   ]
  },
  {
   "cell_type": "markdown",
   "metadata": {},
   "source": [
    "#### The lists were saved as strings"
   ]
  },
  {
   "cell_type": "code",
   "execution_count": 107,
   "metadata": {
    "ExecuteTime": {
     "end_time": "2021-10-15T14:23:24.775389Z",
     "start_time": "2021-10-15T14:23:24.654444Z"
    }
   },
   "outputs": [],
   "source": [
    "df[\"Genres\"] = df[\"Genres\"].apply(lambda x: [i for i in x[1:-1].replace(\"'\", \"\").split(\", \") if len(i) != 0])"
   ]
  },
  {
   "cell_type": "code",
   "execution_count": 108,
   "metadata": {
    "ExecuteTime": {
     "end_time": "2021-10-15T14:23:24.782229Z",
     "start_time": "2021-10-15T14:23:24.777160Z"
    }
   },
   "outputs": [
    {
     "data": {
      "text/plain": [
       "0                                      ['Tessa Gratton']\n",
       "1                                       ['Val McDermid']\n",
       "2                                      ['Kevin Hazzard']\n",
       "3                                   ['Edward B. Farber']\n",
       "4                                    ['Darlene Blasing']\n",
       "                              ...                       \n",
       "29995                                  ['Sarah  Porter']\n",
       "29996                                  ['Mona Eltahawy']\n",
       "29997    ['Haruki Murakami', 'Ted Goossen', 'Chip Kidd']\n",
       "29998                               ['Robert K. Massie']\n",
       "29999                                  ['Elijah Powell']\n",
       "Name: Author, Length: 30000, dtype: object"
      ]
     },
     "execution_count": 108,
     "metadata": {},
     "output_type": "execute_result"
    }
   ],
   "source": [
    "df[\"Author\"]"
   ]
  },
  {
   "cell_type": "code",
   "execution_count": 109,
   "metadata": {
    "ExecuteTime": {
     "end_time": "2021-10-15T14:23:24.788752Z",
     "start_time": "2021-10-15T14:23:24.783884Z"
    }
   },
   "outputs": [
    {
     "data": {
      "text/plain": [
       "2"
      ]
     },
     "execution_count": 109,
     "metadata": {},
     "output_type": "execute_result"
    }
   ],
   "source": [
    "df[\"Author\"].isna().sum()"
   ]
  },
  {
   "cell_type": "markdown",
   "metadata": {},
   "source": [
    "#### 2 authors is insignificant in comparison to the sample size. Therefore, the rows can safely be dropped"
   ]
  },
  {
   "cell_type": "code",
   "execution_count": 111,
   "metadata": {
    "ExecuteTime": {
     "end_time": "2021-10-15T14:23:26.387658Z",
     "start_time": "2021-10-15T14:23:26.374095Z"
    }
   },
   "outputs": [],
   "source": [
    "df.dropna(subset=[\"Author\"], axis=0, inplace=True)"
   ]
  },
  {
   "cell_type": "code",
   "execution_count": 112,
   "metadata": {
    "ExecuteTime": {
     "end_time": "2021-10-15T14:23:27.393343Z",
     "start_time": "2021-10-15T14:23:26.901355Z"
    }
   },
   "outputs": [],
   "source": [
    "df[\"Author\"] = df[\"Author\"].apply(lambda x: x[1:-1].replace(\"'\", \"\").split(\", \") if x is not None else None)"
   ]
  },
  {
   "cell_type": "markdown",
   "metadata": {},
   "source": [
    "### Missing values"
   ]
  },
  {
   "cell_type": "markdown",
   "metadata": {},
   "source": [
    "If we are missing genre's information, we would have an empty list instead of NaN. We need to count them as well"
   ]
  },
  {
   "cell_type": "code",
   "execution_count": 113,
   "metadata": {
    "ExecuteTime": {
     "end_time": "2021-10-15T14:23:29.253990Z",
     "start_time": "2021-10-15T14:23:29.189471Z"
    }
   },
   "outputs": [
    {
     "data": {
      "text/html": [
       "<div>\n",
       "<style scoped>\n",
       "    .dataframe tbody tr th:only-of-type {\n",
       "        vertical-align: middle;\n",
       "    }\n",
       "\n",
       "    .dataframe tbody tr th {\n",
       "        vertical-align: top;\n",
       "    }\n",
       "\n",
       "    .dataframe thead th {\n",
       "        text-align: right;\n",
       "    }\n",
       "</style>\n",
       "<table border=\"1\" class=\"dataframe\">\n",
       "  <thead>\n",
       "    <tr style=\"text-align: right;\">\n",
       "      <th></th>\n",
       "      <th>Title</th>\n",
       "      <th>Author</th>\n",
       "      <th>Description</th>\n",
       "      <th>Publisher</th>\n",
       "      <th>Year Published</th>\n",
       "      <th>Genres</th>\n",
       "      <th>Page Count</th>\n",
       "    </tr>\n",
       "  </thead>\n",
       "  <tbody>\n",
       "    <tr>\n",
       "      <td>0</td>\n",
       "      <td>The Strange Maid</td>\n",
       "      <td>[Tessa Gratton]</td>\n",
       "      <td>Fans of Neil Gaiman, Holly Black, and Maggie S...</td>\n",
       "      <td>Random House Books for Young Readers</td>\n",
       "      <td>2014.0</td>\n",
       "      <td>[Fantasy, Young Adult, Fantasy, Mythology, Fic...</td>\n",
       "      <td>400.0</td>\n",
       "    </tr>\n",
       "    <tr>\n",
       "      <td>1</td>\n",
       "      <td>A Darker Domain</td>\n",
       "      <td>[Val McDermid]</td>\n",
       "      <td>1984, Fife. Heiress Catriona Maclennan Grant &amp;...</td>\n",
       "      <td>HarperCollins Publishers</td>\n",
       "      <td>2008.0</td>\n",
       "      <td>[Mystery, Mystery, Crime, Fiction, Cultural, S...</td>\n",
       "      <td>371.0</td>\n",
       "    </tr>\n",
       "    <tr>\n",
       "      <td>2</td>\n",
       "      <td>A Thousand Naked Strangers: A Paramedic's Wild...</td>\n",
       "      <td>[Kevin Hazzard]</td>\n",
       "      <td>A former paramedic’s visceral, poignant, and m...</td>\n",
       "      <td>Scribner</td>\n",
       "      <td>2016.0</td>\n",
       "      <td>[Nonfiction, Autobiography, Memoir, Medical, B...</td>\n",
       "      <td>261.0</td>\n",
       "    </tr>\n",
       "    <tr>\n",
       "      <td>3</td>\n",
       "      <td>Looking Back with a Smile</td>\n",
       "      <td>[Edward B. Farber]</td>\n",
       "      <td>In Looking Back with a Smile, the author recol...</td>\n",
       "      <td>NaN</td>\n",
       "      <td>2012.0</td>\n",
       "      <td>[]</td>\n",
       "      <td>NaN</td>\n",
       "    </tr>\n",
       "    <tr>\n",
       "      <td>4</td>\n",
       "      <td>Bargain Paradise</td>\n",
       "      <td>[Darlene Blasing]</td>\n",
       "      <td>Bargain Paradise is a humorous tale of an obse...</td>\n",
       "      <td>Argon Press</td>\n",
       "      <td>2013.0</td>\n",
       "      <td>[]</td>\n",
       "      <td>49.0</td>\n",
       "    </tr>\n",
       "    <tr>\n",
       "      <td>...</td>\n",
       "      <td>...</td>\n",
       "      <td>...</td>\n",
       "      <td>...</td>\n",
       "      <td>...</td>\n",
       "      <td>...</td>\n",
       "      <td>...</td>\n",
       "      <td>...</td>\n",
       "    </tr>\n",
       "    <tr>\n",
       "      <td>29995</td>\n",
       "      <td>The Twice Lost</td>\n",
       "      <td>[Sarah  Porter]</td>\n",
       "      <td>Mermaids have been sinking ships and drowning ...</td>\n",
       "      <td>Houghton Mifflin Harcourt</td>\n",
       "      <td>2013.0</td>\n",
       "      <td>[Mythology, Mermaids, Fantasy, Young Adult, Ro...</td>\n",
       "      <td>480.0</td>\n",
       "    </tr>\n",
       "    <tr>\n",
       "      <td>29996</td>\n",
       "      <td>Headscarves and Hymens: Why the Middle East Ne...</td>\n",
       "      <td>[Mona Eltahawy]</td>\n",
       "      <td>A passionate manifesto decrying misogyny in th...</td>\n",
       "      <td>Farrar, Straus and Giroux</td>\n",
       "      <td>2015.0</td>\n",
       "      <td>[Nonfiction, Feminism, Politics, Religion, Rel...</td>\n",
       "      <td>240.0</td>\n",
       "    </tr>\n",
       "    <tr>\n",
       "      <td>29997</td>\n",
       "      <td>The Strange Library</td>\n",
       "      <td>[Haruki Murakami, Ted Goossen, Chip Kidd]</td>\n",
       "      <td>From internationally acclaimed author Haruki M...</td>\n",
       "      <td>Knopf</td>\n",
       "      <td>2001.0</td>\n",
       "      <td>[Fiction, Fantasy, Short Stories, Magical Real...</td>\n",
       "      <td>96.0</td>\n",
       "    </tr>\n",
       "    <tr>\n",
       "      <td>29998</td>\n",
       "      <td>Dreadnought</td>\n",
       "      <td>[Robert K. Massie]</td>\n",
       "      <td>Pulitzer Prize-winning author, Robert K. Massi...</td>\n",
       "      <td>Ballantine Books</td>\n",
       "      <td>1991.0</td>\n",
       "      <td>[History, Nonfiction, Military, Military Histo...</td>\n",
       "      <td>1040.0</td>\n",
       "    </tr>\n",
       "    <tr>\n",
       "      <td>29999</td>\n",
       "      <td>Awkward Black Girl: District 9: Enchanted Love</td>\n",
       "      <td>[Elijah Powell]</td>\n",
       "      <td>Gina is an Awkward Girl who doesn't fit in any...</td>\n",
       "      <td>NaN</td>\n",
       "      <td>2018.0</td>\n",
       "      <td>[]</td>\n",
       "      <td>122.0</td>\n",
       "    </tr>\n",
       "  </tbody>\n",
       "</table>\n",
       "<p>29998 rows × 7 columns</p>\n",
       "</div>"
      ],
      "text/plain": [
       "                                                   Title  \\\n",
       "0                                       The Strange Maid   \n",
       "1                                        A Darker Domain   \n",
       "2      A Thousand Naked Strangers: A Paramedic's Wild...   \n",
       "3                              Looking Back with a Smile   \n",
       "4                                       Bargain Paradise   \n",
       "...                                                  ...   \n",
       "29995                                     The Twice Lost   \n",
       "29996  Headscarves and Hymens: Why the Middle East Ne...   \n",
       "29997                                The Strange Library   \n",
       "29998                                        Dreadnought   \n",
       "29999     Awkward Black Girl: District 9: Enchanted Love   \n",
       "\n",
       "                                          Author  \\\n",
       "0                                [Tessa Gratton]   \n",
       "1                                 [Val McDermid]   \n",
       "2                                [Kevin Hazzard]   \n",
       "3                             [Edward B. Farber]   \n",
       "4                              [Darlene Blasing]   \n",
       "...                                          ...   \n",
       "29995                            [Sarah  Porter]   \n",
       "29996                            [Mona Eltahawy]   \n",
       "29997  [Haruki Murakami, Ted Goossen, Chip Kidd]   \n",
       "29998                         [Robert K. Massie]   \n",
       "29999                            [Elijah Powell]   \n",
       "\n",
       "                                             Description  \\\n",
       "0      Fans of Neil Gaiman, Holly Black, and Maggie S...   \n",
       "1      1984, Fife. Heiress Catriona Maclennan Grant &...   \n",
       "2      A former paramedic’s visceral, poignant, and m...   \n",
       "3      In Looking Back with a Smile, the author recol...   \n",
       "4      Bargain Paradise is a humorous tale of an obse...   \n",
       "...                                                  ...   \n",
       "29995  Mermaids have been sinking ships and drowning ...   \n",
       "29996  A passionate manifesto decrying misogyny in th...   \n",
       "29997  From internationally acclaimed author Haruki M...   \n",
       "29998  Pulitzer Prize-winning author, Robert K. Massi...   \n",
       "29999  Gina is an Awkward Girl who doesn't fit in any...   \n",
       "\n",
       "                                  Publisher  Year Published  \\\n",
       "0      Random House Books for Young Readers          2014.0   \n",
       "1                  HarperCollins Publishers          2008.0   \n",
       "2                                  Scribner          2016.0   \n",
       "3                                       NaN          2012.0   \n",
       "4                               Argon Press          2013.0   \n",
       "...                                     ...             ...   \n",
       "29995             Houghton Mifflin Harcourt          2013.0   \n",
       "29996             Farrar, Straus and Giroux          2015.0   \n",
       "29997                                 Knopf          2001.0   \n",
       "29998                      Ballantine Books          1991.0   \n",
       "29999                                   NaN          2018.0   \n",
       "\n",
       "                                                  Genres  Page Count  \n",
       "0      [Fantasy, Young Adult, Fantasy, Mythology, Fic...       400.0  \n",
       "1      [Mystery, Mystery, Crime, Fiction, Cultural, S...       371.0  \n",
       "2      [Nonfiction, Autobiography, Memoir, Medical, B...       261.0  \n",
       "3                                                     []         NaN  \n",
       "4                                                     []        49.0  \n",
       "...                                                  ...         ...  \n",
       "29995  [Mythology, Mermaids, Fantasy, Young Adult, Ro...       480.0  \n",
       "29996  [Nonfiction, Feminism, Politics, Religion, Rel...       240.0  \n",
       "29997  [Fiction, Fantasy, Short Stories, Magical Real...        96.0  \n",
       "29998  [History, Nonfiction, Military, Military Histo...      1040.0  \n",
       "29999                                                 []       122.0  \n",
       "\n",
       "[29998 rows x 7 columns]"
      ]
     },
     "execution_count": 113,
     "metadata": {},
     "output_type": "execute_result"
    }
   ],
   "source": [
    "df = df[df[\"Author\"].apply(lambda x: True if len(x) != 0 else False)]\n",
    "df"
   ]
  },
  {
   "cell_type": "code",
   "execution_count": 114,
   "metadata": {
    "ExecuteTime": {
     "end_time": "2021-10-15T14:23:36.318387Z",
     "start_time": "2021-10-15T14:23:36.306144Z"
    }
   },
   "outputs": [],
   "source": [
    "df = df[df[\"Genres\"].apply(lambda x: True if len(x) != 0 else False)]"
   ]
  },
  {
   "cell_type": "code",
   "execution_count": 115,
   "metadata": {
    "ExecuteTime": {
     "end_time": "2021-10-15T14:23:38.408555Z",
     "start_time": "2021-10-15T14:23:38.389346Z"
    }
   },
   "outputs": [
    {
     "data": {
      "text/html": [
       "<div>\n",
       "<style scoped>\n",
       "    .dataframe tbody tr th:only-of-type {\n",
       "        vertical-align: middle;\n",
       "    }\n",
       "\n",
       "    .dataframe tbody tr th {\n",
       "        vertical-align: top;\n",
       "    }\n",
       "\n",
       "    .dataframe thead th {\n",
       "        text-align: right;\n",
       "    }\n",
       "</style>\n",
       "<table border=\"1\" class=\"dataframe\">\n",
       "  <thead>\n",
       "    <tr style=\"text-align: right;\">\n",
       "      <th></th>\n",
       "      <th>Title</th>\n",
       "      <th>Author</th>\n",
       "      <th>Description</th>\n",
       "      <th>Publisher</th>\n",
       "      <th>Year Published</th>\n",
       "      <th>Genres</th>\n",
       "      <th>Page Count</th>\n",
       "    </tr>\n",
       "  </thead>\n",
       "  <tbody>\n",
       "    <tr>\n",
       "      <td>0</td>\n",
       "      <td>The Strange Maid</td>\n",
       "      <td>[Tessa Gratton]</td>\n",
       "      <td>Fans of Neil Gaiman, Holly Black, and Maggie S...</td>\n",
       "      <td>Random House Books for Young Readers</td>\n",
       "      <td>2014.0</td>\n",
       "      <td>[Fantasy, Young Adult, Fantasy, Mythology, Fic...</td>\n",
       "      <td>400.0</td>\n",
       "    </tr>\n",
       "    <tr>\n",
       "      <td>1</td>\n",
       "      <td>A Darker Domain</td>\n",
       "      <td>[Val McDermid]</td>\n",
       "      <td>1984, Fife. Heiress Catriona Maclennan Grant &amp;...</td>\n",
       "      <td>HarperCollins Publishers</td>\n",
       "      <td>2008.0</td>\n",
       "      <td>[Mystery, Mystery, Crime, Fiction, Cultural, S...</td>\n",
       "      <td>371.0</td>\n",
       "    </tr>\n",
       "    <tr>\n",
       "      <td>2</td>\n",
       "      <td>A Thousand Naked Strangers: A Paramedic's Wild...</td>\n",
       "      <td>[Kevin Hazzard]</td>\n",
       "      <td>A former paramedic’s visceral, poignant, and m...</td>\n",
       "      <td>Scribner</td>\n",
       "      <td>2016.0</td>\n",
       "      <td>[Nonfiction, Autobiography, Memoir, Medical, B...</td>\n",
       "      <td>261.0</td>\n",
       "    </tr>\n",
       "    <tr>\n",
       "      <td>5</td>\n",
       "      <td>Hester Roon</td>\n",
       "      <td>[Norah Lofts]</td>\n",
       "      <td>The Fleece Inn stood where the three roads joi...</td>\n",
       "      <td>Corgi</td>\n",
       "      <td>1940.0</td>\n",
       "      <td>[Historical, Historical Fiction, Historical, L...</td>\n",
       "      <td>320.0</td>\n",
       "    </tr>\n",
       "    <tr>\n",
       "      <td>6</td>\n",
       "      <td>The Trouble with Playing Cupid</td>\n",
       "      <td>[Tamara Philip]</td>\n",
       "      <td>One New Year's Eve, shy singer, December Brown...</td>\n",
       "      <td>Vanilla Heart Publishing</td>\n",
       "      <td>2014.0</td>\n",
       "      <td>[Romance, Contemporary]</td>\n",
       "      <td>176.0</td>\n",
       "    </tr>\n",
       "    <tr>\n",
       "      <td>...</td>\n",
       "      <td>...</td>\n",
       "      <td>...</td>\n",
       "      <td>...</td>\n",
       "      <td>...</td>\n",
       "      <td>...</td>\n",
       "      <td>...</td>\n",
       "      <td>...</td>\n",
       "    </tr>\n",
       "    <tr>\n",
       "      <td>29994</td>\n",
       "      <td>The Lonely Hunter: A Biography of Carson McCul...</td>\n",
       "      <td>[Virginia Spencer Carr, Tennessee Williams]</td>\n",
       "      <td>The Lonely Hunter is widely accepted as the st...</td>\n",
       "      <td>University of Georgia Press</td>\n",
       "      <td>1975.0</td>\n",
       "      <td>[Biography, Nonfiction, History, Race, Gothic,...</td>\n",
       "      <td>680.0</td>\n",
       "    </tr>\n",
       "    <tr>\n",
       "      <td>29995</td>\n",
       "      <td>The Twice Lost</td>\n",
       "      <td>[Sarah  Porter]</td>\n",
       "      <td>Mermaids have been sinking ships and drowning ...</td>\n",
       "      <td>Houghton Mifflin Harcourt</td>\n",
       "      <td>2013.0</td>\n",
       "      <td>[Mythology, Mermaids, Fantasy, Young Adult, Ro...</td>\n",
       "      <td>480.0</td>\n",
       "    </tr>\n",
       "    <tr>\n",
       "      <td>29996</td>\n",
       "      <td>Headscarves and Hymens: Why the Middle East Ne...</td>\n",
       "      <td>[Mona Eltahawy]</td>\n",
       "      <td>A passionate manifesto decrying misogyny in th...</td>\n",
       "      <td>Farrar, Straus and Giroux</td>\n",
       "      <td>2015.0</td>\n",
       "      <td>[Nonfiction, Feminism, Politics, Religion, Rel...</td>\n",
       "      <td>240.0</td>\n",
       "    </tr>\n",
       "    <tr>\n",
       "      <td>29997</td>\n",
       "      <td>The Strange Library</td>\n",
       "      <td>[Haruki Murakami, Ted Goossen, Chip Kidd]</td>\n",
       "      <td>From internationally acclaimed author Haruki M...</td>\n",
       "      <td>Knopf</td>\n",
       "      <td>2001.0</td>\n",
       "      <td>[Fiction, Fantasy, Short Stories, Magical Real...</td>\n",
       "      <td>96.0</td>\n",
       "    </tr>\n",
       "    <tr>\n",
       "      <td>29998</td>\n",
       "      <td>Dreadnought</td>\n",
       "      <td>[Robert K. Massie]</td>\n",
       "      <td>Pulitzer Prize-winning author, Robert K. Massi...</td>\n",
       "      <td>Ballantine Books</td>\n",
       "      <td>1991.0</td>\n",
       "      <td>[History, Nonfiction, Military, Military Histo...</td>\n",
       "      <td>1040.0</td>\n",
       "    </tr>\n",
       "  </tbody>\n",
       "</table>\n",
       "<p>25182 rows × 7 columns</p>\n",
       "</div>"
      ],
      "text/plain": [
       "                                                   Title  \\\n",
       "0                                       The Strange Maid   \n",
       "1                                        A Darker Domain   \n",
       "2      A Thousand Naked Strangers: A Paramedic's Wild...   \n",
       "5                                            Hester Roon   \n",
       "6                         The Trouble with Playing Cupid   \n",
       "...                                                  ...   \n",
       "29994  The Lonely Hunter: A Biography of Carson McCul...   \n",
       "29995                                     The Twice Lost   \n",
       "29996  Headscarves and Hymens: Why the Middle East Ne...   \n",
       "29997                                The Strange Library   \n",
       "29998                                        Dreadnought   \n",
       "\n",
       "                                            Author  \\\n",
       "0                                  [Tessa Gratton]   \n",
       "1                                   [Val McDermid]   \n",
       "2                                  [Kevin Hazzard]   \n",
       "5                                    [Norah Lofts]   \n",
       "6                                  [Tamara Philip]   \n",
       "...                                            ...   \n",
       "29994  [Virginia Spencer Carr, Tennessee Williams]   \n",
       "29995                              [Sarah  Porter]   \n",
       "29996                              [Mona Eltahawy]   \n",
       "29997    [Haruki Murakami, Ted Goossen, Chip Kidd]   \n",
       "29998                           [Robert K. Massie]   \n",
       "\n",
       "                                             Description  \\\n",
       "0      Fans of Neil Gaiman, Holly Black, and Maggie S...   \n",
       "1      1984, Fife. Heiress Catriona Maclennan Grant &...   \n",
       "2      A former paramedic’s visceral, poignant, and m...   \n",
       "5      The Fleece Inn stood where the three roads joi...   \n",
       "6      One New Year's Eve, shy singer, December Brown...   \n",
       "...                                                  ...   \n",
       "29994  The Lonely Hunter is widely accepted as the st...   \n",
       "29995  Mermaids have been sinking ships and drowning ...   \n",
       "29996  A passionate manifesto decrying misogyny in th...   \n",
       "29997  From internationally acclaimed author Haruki M...   \n",
       "29998  Pulitzer Prize-winning author, Robert K. Massi...   \n",
       "\n",
       "                                  Publisher  Year Published  \\\n",
       "0      Random House Books for Young Readers          2014.0   \n",
       "1                  HarperCollins Publishers          2008.0   \n",
       "2                                  Scribner          2016.0   \n",
       "5                                     Corgi          1940.0   \n",
       "6                  Vanilla Heart Publishing          2014.0   \n",
       "...                                     ...             ...   \n",
       "29994           University of Georgia Press          1975.0   \n",
       "29995             Houghton Mifflin Harcourt          2013.0   \n",
       "29996             Farrar, Straus and Giroux          2015.0   \n",
       "29997                                 Knopf          2001.0   \n",
       "29998                      Ballantine Books          1991.0   \n",
       "\n",
       "                                                  Genres  Page Count  \n",
       "0      [Fantasy, Young Adult, Fantasy, Mythology, Fic...       400.0  \n",
       "1      [Mystery, Mystery, Crime, Fiction, Cultural, S...       371.0  \n",
       "2      [Nonfiction, Autobiography, Memoir, Medical, B...       261.0  \n",
       "5      [Historical, Historical Fiction, Historical, L...       320.0  \n",
       "6                                [Romance, Contemporary]       176.0  \n",
       "...                                                  ...         ...  \n",
       "29994  [Biography, Nonfiction, History, Race, Gothic,...       680.0  \n",
       "29995  [Mythology, Mermaids, Fantasy, Young Adult, Ro...       480.0  \n",
       "29996  [Nonfiction, Feminism, Politics, Religion, Rel...       240.0  \n",
       "29997  [Fiction, Fantasy, Short Stories, Magical Real...        96.0  \n",
       "29998  [History, Nonfiction, Military, Military Histo...      1040.0  \n",
       "\n",
       "[25182 rows x 7 columns]"
      ]
     },
     "execution_count": 115,
     "metadata": {},
     "output_type": "execute_result"
    }
   ],
   "source": [
    "df"
   ]
  },
  {
   "cell_type": "code",
   "execution_count": 116,
   "metadata": {
    "ExecuteTime": {
     "end_time": "2021-10-15T14:23:56.117680Z",
     "start_time": "2021-10-15T14:23:56.084117Z"
    }
   },
   "outputs": [
    {
     "data": {
      "text/plain": [
       "Title                0\n",
       "Author               0\n",
       "Description        329\n",
       "Publisher         1423\n",
       "Year Published      33\n",
       "Genres               0\n",
       "Page Count        1126\n",
       "dtype: int64"
      ]
     },
     "execution_count": 116,
     "metadata": {},
     "output_type": "execute_result"
    }
   ],
   "source": [
    "df.isna().sum()"
   ]
  },
  {
   "cell_type": "markdown",
   "metadata": {},
   "source": [
    "### Categorical Data"
   ]
  },
  {
   "cell_type": "code",
   "execution_count": 127,
   "metadata": {
    "ExecuteTime": {
     "end_time": "2021-10-15T15:42:46.859362Z",
     "start_time": "2021-10-15T15:42:46.602001Z"
    }
   },
   "outputs": [
    {
     "data": {
      "text/plain": [
       "970"
      ]
     },
     "execution_count": 127,
     "metadata": {},
     "output_type": "execute_result"
    }
   ],
   "source": [
    "genres = set()\n",
    "for l in df[\"Genres\"].values:\n",
    "    genres = genres.union(set(l))\n",
    "    \n",
    "len(genres)"
   ]
  },
  {
   "cell_type": "code",
   "execution_count": null,
   "metadata": {
    "ExecuteTime": {
     "start_time": "2021-10-15T15:44:21.728Z"
    }
   },
   "outputs": [],
   "source": [
    "genres = {genre: [] for genre in genres}\n",
    "\n",
    "for book in df.iterrows():\n",
    "    for genre in genres.keys():\n",
    "        if(genre in book[1][\"Genres\"]):\n",
    "            genres[genre].append(1)\n",
    "        else:\n",
    "            genres[genre].append(0)\n"
   ]
  },
  {
   "cell_type": "code",
   "execution_count": null,
   "metadata": {
    "ExecuteTime": {
     "start_time": "2021-10-15T15:44:22.086Z"
    }
   },
   "outputs": [],
   "source": [
    "pd.DataFrame(genres)"
   ]
  },
  {
   "cell_type": "code",
   "execution_count": 128,
   "metadata": {
    "ExecuteTime": {
     "end_time": "2021-10-15T15:43:54.089335Z",
     "start_time": "2021-10-15T15:43:54.058330Z"
    }
   },
   "outputs": [
    {
     "data": {
      "text/html": [
       "<div>\n",
       "<style scoped>\n",
       "    .dataframe tbody tr th:only-of-type {\n",
       "        vertical-align: middle;\n",
       "    }\n",
       "\n",
       "    .dataframe tbody tr th {\n",
       "        vertical-align: top;\n",
       "    }\n",
       "\n",
       "    .dataframe thead th {\n",
       "        text-align: right;\n",
       "    }\n",
       "</style>\n",
       "<table border=\"1\" class=\"dataframe\">\n",
       "  <thead>\n",
       "    <tr style=\"text-align: right;\">\n",
       "      <th></th>\n",
       "      <th>Title</th>\n",
       "      <th>Author</th>\n",
       "      <th>Description</th>\n",
       "      <th>Publisher</th>\n",
       "      <th>Year Published</th>\n",
       "      <th>Genres</th>\n",
       "      <th>Page Count</th>\n",
       "      <th>0</th>\n",
       "    </tr>\n",
       "  </thead>\n",
       "  <tbody>\n",
       "    <tr>\n",
       "      <td>0</td>\n",
       "      <td>The Strange Maid</td>\n",
       "      <td>[Tessa Gratton]</td>\n",
       "      <td>Fans of Neil Gaiman, Holly Black, and Maggie S...</td>\n",
       "      <td>Random House Books for Young Readers</td>\n",
       "      <td>2014.0</td>\n",
       "      <td>[Fantasy, Young Adult, Fantasy, Mythology, Fic...</td>\n",
       "      <td>400.0</td>\n",
       "      <td>Emotion</td>\n",
       "    </tr>\n",
       "    <tr>\n",
       "      <td>1</td>\n",
       "      <td>A Darker Domain</td>\n",
       "      <td>[Val McDermid]</td>\n",
       "      <td>1984, Fife. Heiress Catriona Maclennan Grant &amp;...</td>\n",
       "      <td>HarperCollins Publishers</td>\n",
       "      <td>2008.0</td>\n",
       "      <td>[Mystery, Mystery, Crime, Fiction, Cultural, S...</td>\n",
       "      <td>371.0</td>\n",
       "      <td>Economic Development</td>\n",
       "    </tr>\n",
       "    <tr>\n",
       "      <td>2</td>\n",
       "      <td>A Thousand Naked Strangers: A Paramedic's Wild...</td>\n",
       "      <td>[Kevin Hazzard]</td>\n",
       "      <td>A former paramedic’s visceral, poignant, and m...</td>\n",
       "      <td>Scribner</td>\n",
       "      <td>2016.0</td>\n",
       "      <td>[Nonfiction, Autobiography, Memoir, Medical, B...</td>\n",
       "      <td>261.0</td>\n",
       "      <td>Feminism</td>\n",
       "    </tr>\n",
       "    <tr>\n",
       "      <td>3</td>\n",
       "      <td>NaN</td>\n",
       "      <td>NaN</td>\n",
       "      <td>NaN</td>\n",
       "      <td>NaN</td>\n",
       "      <td>NaN</td>\n",
       "      <td>NaN</td>\n",
       "      <td>NaN</td>\n",
       "      <td>Book Club</td>\n",
       "    </tr>\n",
       "    <tr>\n",
       "      <td>4</td>\n",
       "      <td>NaN</td>\n",
       "      <td>NaN</td>\n",
       "      <td>NaN</td>\n",
       "      <td>NaN</td>\n",
       "      <td>NaN</td>\n",
       "      <td>NaN</td>\n",
       "      <td>NaN</td>\n",
       "      <td>Academia</td>\n",
       "    </tr>\n",
       "    <tr>\n",
       "      <td>...</td>\n",
       "      <td>...</td>\n",
       "      <td>...</td>\n",
       "      <td>...</td>\n",
       "      <td>...</td>\n",
       "      <td>...</td>\n",
       "      <td>...</td>\n",
       "      <td>...</td>\n",
       "      <td>...</td>\n",
       "    </tr>\n",
       "    <tr>\n",
       "      <td>29994</td>\n",
       "      <td>The Lonely Hunter: A Biography of Carson McCul...</td>\n",
       "      <td>[Virginia Spencer Carr, Tennessee Williams]</td>\n",
       "      <td>The Lonely Hunter is widely accepted as the st...</td>\n",
       "      <td>University of Georgia Press</td>\n",
       "      <td>1975.0</td>\n",
       "      <td>[Biography, Nonfiction, History, Race, Gothic,...</td>\n",
       "      <td>680.0</td>\n",
       "      <td>NaN</td>\n",
       "    </tr>\n",
       "    <tr>\n",
       "      <td>29995</td>\n",
       "      <td>The Twice Lost</td>\n",
       "      <td>[Sarah  Porter]</td>\n",
       "      <td>Mermaids have been sinking ships and drowning ...</td>\n",
       "      <td>Houghton Mifflin Harcourt</td>\n",
       "      <td>2013.0</td>\n",
       "      <td>[Mythology, Mermaids, Fantasy, Young Adult, Ro...</td>\n",
       "      <td>480.0</td>\n",
       "      <td>NaN</td>\n",
       "    </tr>\n",
       "    <tr>\n",
       "      <td>29996</td>\n",
       "      <td>Headscarves and Hymens: Why the Middle East Ne...</td>\n",
       "      <td>[Mona Eltahawy]</td>\n",
       "      <td>A passionate manifesto decrying misogyny in th...</td>\n",
       "      <td>Farrar, Straus and Giroux</td>\n",
       "      <td>2015.0</td>\n",
       "      <td>[Nonfiction, Feminism, Politics, Religion, Rel...</td>\n",
       "      <td>240.0</td>\n",
       "      <td>NaN</td>\n",
       "    </tr>\n",
       "    <tr>\n",
       "      <td>29997</td>\n",
       "      <td>The Strange Library</td>\n",
       "      <td>[Haruki Murakami, Ted Goossen, Chip Kidd]</td>\n",
       "      <td>From internationally acclaimed author Haruki M...</td>\n",
       "      <td>Knopf</td>\n",
       "      <td>2001.0</td>\n",
       "      <td>[Fiction, Fantasy, Short Stories, Magical Real...</td>\n",
       "      <td>96.0</td>\n",
       "      <td>NaN</td>\n",
       "    </tr>\n",
       "    <tr>\n",
       "      <td>29998</td>\n",
       "      <td>Dreadnought</td>\n",
       "      <td>[Robert K. Massie]</td>\n",
       "      <td>Pulitzer Prize-winning author, Robert K. Massi...</td>\n",
       "      <td>Ballantine Books</td>\n",
       "      <td>1991.0</td>\n",
       "      <td>[History, Nonfiction, Military, Military Histo...</td>\n",
       "      <td>1040.0</td>\n",
       "      <td>NaN</td>\n",
       "    </tr>\n",
       "  </tbody>\n",
       "</table>\n",
       "<p>25335 rows × 8 columns</p>\n",
       "</div>"
      ],
      "text/plain": [
       "                                                   Title  \\\n",
       "0                                       The Strange Maid   \n",
       "1                                        A Darker Domain   \n",
       "2      A Thousand Naked Strangers: A Paramedic's Wild...   \n",
       "3                                                    NaN   \n",
       "4                                                    NaN   \n",
       "...                                                  ...   \n",
       "29994  The Lonely Hunter: A Biography of Carson McCul...   \n",
       "29995                                     The Twice Lost   \n",
       "29996  Headscarves and Hymens: Why the Middle East Ne...   \n",
       "29997                                The Strange Library   \n",
       "29998                                        Dreadnought   \n",
       "\n",
       "                                            Author  \\\n",
       "0                                  [Tessa Gratton]   \n",
       "1                                   [Val McDermid]   \n",
       "2                                  [Kevin Hazzard]   \n",
       "3                                              NaN   \n",
       "4                                              NaN   \n",
       "...                                            ...   \n",
       "29994  [Virginia Spencer Carr, Tennessee Williams]   \n",
       "29995                              [Sarah  Porter]   \n",
       "29996                              [Mona Eltahawy]   \n",
       "29997    [Haruki Murakami, Ted Goossen, Chip Kidd]   \n",
       "29998                           [Robert K. Massie]   \n",
       "\n",
       "                                             Description  \\\n",
       "0      Fans of Neil Gaiman, Holly Black, and Maggie S...   \n",
       "1      1984, Fife. Heiress Catriona Maclennan Grant &...   \n",
       "2      A former paramedic’s visceral, poignant, and m...   \n",
       "3                                                    NaN   \n",
       "4                                                    NaN   \n",
       "...                                                  ...   \n",
       "29994  The Lonely Hunter is widely accepted as the st...   \n",
       "29995  Mermaids have been sinking ships and drowning ...   \n",
       "29996  A passionate manifesto decrying misogyny in th...   \n",
       "29997  From internationally acclaimed author Haruki M...   \n",
       "29998  Pulitzer Prize-winning author, Robert K. Massi...   \n",
       "\n",
       "                                  Publisher  Year Published  \\\n",
       "0      Random House Books for Young Readers          2014.0   \n",
       "1                  HarperCollins Publishers          2008.0   \n",
       "2                                  Scribner          2016.0   \n",
       "3                                       NaN             NaN   \n",
       "4                                       NaN             NaN   \n",
       "...                                     ...             ...   \n",
       "29994           University of Georgia Press          1975.0   \n",
       "29995             Houghton Mifflin Harcourt          2013.0   \n",
       "29996             Farrar, Straus and Giroux          2015.0   \n",
       "29997                                 Knopf          2001.0   \n",
       "29998                      Ballantine Books          1991.0   \n",
       "\n",
       "                                                  Genres  Page Count  \\\n",
       "0      [Fantasy, Young Adult, Fantasy, Mythology, Fic...       400.0   \n",
       "1      [Mystery, Mystery, Crime, Fiction, Cultural, S...       371.0   \n",
       "2      [Nonfiction, Autobiography, Memoir, Medical, B...       261.0   \n",
       "3                                                    NaN         NaN   \n",
       "4                                                    NaN         NaN   \n",
       "...                                                  ...         ...   \n",
       "29994  [Biography, Nonfiction, History, Race, Gothic,...       680.0   \n",
       "29995  [Mythology, Mermaids, Fantasy, Young Adult, Ro...       480.0   \n",
       "29996  [Nonfiction, Feminism, Politics, Religion, Rel...       240.0   \n",
       "29997  [Fiction, Fantasy, Short Stories, Magical Real...        96.0   \n",
       "29998  [History, Nonfiction, Military, Military Histo...      1040.0   \n",
       "\n",
       "                          0  \n",
       "0                   Emotion  \n",
       "1      Economic Development  \n",
       "2                  Feminism  \n",
       "3                 Book Club  \n",
       "4                  Academia  \n",
       "...                     ...  \n",
       "29994                   NaN  \n",
       "29995                   NaN  \n",
       "29996                   NaN  \n",
       "29997                   NaN  \n",
       "29998                   NaN  \n",
       "\n",
       "[25335 rows x 8 columns]"
      ]
     },
     "execution_count": 128,
     "metadata": {},
     "output_type": "execute_result"
    }
   ],
   "source": [
    "pd.concat([df, ], axis=1)"
   ]
  },
  {
   "cell_type": "code",
   "execution_count": null,
   "metadata": {},
   "outputs": [],
   "source": []
  }
 ],
 "metadata": {
  "kernelspec": {
   "display_name": "Python 3",
   "language": "python",
   "name": "python3"
  },
  "language_info": {
   "codemirror_mode": {
    "name": "ipython",
    "version": 3
   },
   "file_extension": ".py",
   "mimetype": "text/x-python",
   "name": "python",
   "nbconvert_exporter": "python",
   "pygments_lexer": "ipython3",
   "version": "3.7.4"
  }
 },
 "nbformat": 4,
 "nbformat_minor": 2
}
